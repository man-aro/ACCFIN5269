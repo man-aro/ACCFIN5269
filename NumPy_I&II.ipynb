{
 "cells": [
  {
   "cell_type": "markdown",
   "metadata": {},
   "source": [
    "# Session 2: Introduction to NumPy \n",
    "\n",
    "NumPy is a Numerical Computing Python Library used for conducting mathematical operations of large, multidimensional arrays. \n",
    "\n",
    "    - Arrays and Operations are vectorised: No explicit Looping or Indexing is required, making it readable and similar to standard mathematical notation. \n",
    "\n",
    "    - Arrays can be created in any dimensioms: Allows for mathematical, and statistical operations, that are frequently used in scientific computing. \n",
    "\n",
    "    - Operations are performed much faster and more efficiently using NumPy: Less Memory and Storage space is occupied. \n",
    "\n",
    "NumPy is designed to work seamlessly with other scientific computing libraries in Python,  allowing for a wider range of advanced computations and data visualisation.\n",
    "\n",
    "Applications of NumPy: Data Analysis and Manipulation, Scientific Computing and Simulations, Machine Learning and AI, etc.\n",
    "\n",
    "For more information: https://numpy.org/doc/stable/user/index.html\t\n",
    "\n",
    "\n"
   ]
  },
  {
   "cell_type": "code",
   "execution_count": 6,
   "metadata": {},
   "outputs": [],
   "source": [
    "\n",
    "#pip install numpy\n",
    "import numpy as np\n"
   ]
  },
  {
   "cell_type": "markdown",
   "metadata": {},
   "source": [
    "## Basic Array Operations\n",
    "\n",
    "Array is a contrainer that stores more than one item.\n",
    "\n",
    "    - Very similar to Lists, however, arrays behave very differently when part of NumPy. \n",
    "\n",
    "\n",
    "Vectorised Operations are supported by NumPy arrays, but NOT by Lists. \n",
    "\n",
    "    - NumPy arrays makes calculations highly efficient.\n",
    "\n",
    "\n",
    "Arrays are not mutuable, and can only comprise of ONE type of element.\n",
    "\n",
    "Suggestion: Use lists for mutable operations, convert them to NumPy arrays for calculations. \n"
   ]
  },
  {
   "cell_type": "markdown",
   "metadata": {},
   "source": [
    "### Creating Arrays\n"
   ]
  },
  {
   "cell_type": "markdown",
   "metadata": {},
   "source": [
    "#### Step I: Create a List\n",
    "In the example below, two lists (A and B) are created."
   ]
  },
  {
   "cell_type": "code",
   "execution_count": 7,
   "metadata": {},
   "outputs": [
    {
     "name": "stdout",
     "output_type": "stream",
     "text": [
      "A = [4, 5, 6]\n",
      "B = [1, 2, 3]\n"
     ]
    }
   ],
   "source": [
    "A = [4, 5, 6]\n",
    "B = [1, 2, 3]\n",
    "print(f'A = {A}\\nB = {B}')"
   ]
  },
  {
   "cell_type": "markdown",
   "metadata": {},
   "source": [
    "Lists do not support vectorised operations, placing the '+' operator would join them, rather than conducting an additive operation."
   ]
  },
  {
   "cell_type": "code",
   "execution_count": 8,
   "metadata": {},
   "outputs": [
    {
     "name": "stdout",
     "output_type": "stream",
     "text": [
      "C = [4, 5, 6, 1, 2, 3]\n"
     ]
    }
   ],
   "source": [
    "C = A + B\n",
    "print (f'C = {C}')"
   ]
  },
  {
   "cell_type": "markdown",
   "metadata": {},
   "source": [
    "#### Step 2: Call the 'array' function from Numpy using np.array()"
   ]
  },
  {
   "cell_type": "markdown",
   "metadata": {},
   "source": [
    "Convert both Lists into Arrays"
   ]
  },
  {
   "cell_type": "code",
   "execution_count": 9,
   "metadata": {},
   "outputs": [
    {
     "name": "stdout",
     "output_type": "stream",
     "text": [
      "Array_A = [4 5 6]\n",
      "Array_B = [1 2 3]\n"
     ]
    }
   ],
   "source": [
    "Array_A = np.array(A)  #call 'array' function from numpy \n",
    "Array_B = np.array(B)\n",
    "\n",
    "print(f'Array_A = {Array_A}\\nArray_B = {Array_B}')"
   ]
  },
  {
   "cell_type": "markdown",
   "metadata": {},
   "source": [
    "#### Step 3: Conduct Operation of Choice"
   ]
  },
  {
   "cell_type": "markdown",
   "metadata": {},
   "source": [
    "Operation: Addition "
   ]
  },
  {
   "cell_type": "code",
   "execution_count": 10,
   "metadata": {},
   "outputs": [
    {
     "name": "stdout",
     "output_type": "stream",
     "text": [
      "Add = [5 7 9]\n"
     ]
    }
   ],
   "source": [
    "Add = Array_A + Array_B\n",
    "\n",
    "print(f'Add = {Add}')"
   ]
  },
  {
   "cell_type": "markdown",
   "metadata": {},
   "source": [
    "Operation: Subtraction"
   ]
  },
  {
   "cell_type": "code",
   "execution_count": 11,
   "metadata": {},
   "outputs": [
    {
     "name": "stdout",
     "output_type": "stream",
     "text": [
      "Subtract = [3 3 3]\n"
     ]
    }
   ],
   "source": [
    "Subtract = Array_A - Array_B \n",
    "print(f'Subtract = {Subtract}')"
   ]
  },
  {
   "cell_type": "markdown",
   "metadata": {},
   "source": [
    "Operation: Multiplication"
   ]
  },
  {
   "cell_type": "code",
   "execution_count": 12,
   "metadata": {},
   "outputs": [
    {
     "name": "stdout",
     "output_type": "stream",
     "text": [
      "Multiply = [ 4 10 18]\n"
     ]
    }
   ],
   "source": [
    "Multiply = Array_A * Array_B\n",
    "print(f'Multiply = {Multiply}')"
   ]
  },
  {
   "cell_type": "markdown",
   "metadata": {},
   "source": [
    "Operation: Division"
   ]
  },
  {
   "cell_type": "code",
   "execution_count": 13,
   "metadata": {},
   "outputs": [
    {
     "name": "stdout",
     "output_type": "stream",
     "text": [
      "Divide = [4.  2.5 2. ]\n"
     ]
    }
   ],
   "source": [
    "Divide = Array_A / Array_B\n",
    "print(f'Divide = {Divide}')"
   ]
  },
  {
   "cell_type": "markdown",
   "metadata": {},
   "source": [
    "Operation: Floor Division"
   ]
  },
  {
   "cell_type": "code",
   "execution_count": 14,
   "metadata": {},
   "outputs": [
    {
     "name": "stdout",
     "output_type": "stream",
     "text": [
      "Floor_Div = [4 2 2]\n"
     ]
    }
   ],
   "source": [
    "Floor_Div = Array_A//Array_B\n",
    "print(f'Floor_Div = {Floor_Div}')"
   ]
  },
  {
   "cell_type": "markdown",
   "metadata": {},
   "source": [
    "Operation: Modulo"
   ]
  },
  {
   "cell_type": "code",
   "execution_count": 15,
   "metadata": {},
   "outputs": [
    {
     "name": "stdout",
     "output_type": "stream",
     "text": [
      "Modulo = [0 1 0]\n"
     ]
    }
   ],
   "source": [
    "Modulo = Array_A % Array_B\n",
    "print(f'Modulo = {Modulo}')"
   ]
  },
  {
   "cell_type": "markdown",
   "metadata": {},
   "source": [
    "Operation: Power"
   ]
  },
  {
   "cell_type": "code",
   "execution_count": 16,
   "metadata": {},
   "outputs": [
    {
     "name": "stdout",
     "output_type": "stream",
     "text": [
      "Power = [  4  25 216]\n"
     ]
    }
   ],
   "source": [
    "Power = Array_A ** Array_B\n",
    "print(f'Power = {Power}')"
   ]
  },
  {
   "cell_type": "markdown",
   "metadata": {},
   "source": [
    "## Indexing and Slicing Arrays"
   ]
  },
  {
   "cell_type": "markdown",
   "metadata": {},
   "source": [
    "Create an Array using the arange function: Similar to  np.array(range(n)), for n being an integer."
   ]
  },
  {
   "cell_type": "code",
   "execution_count": 17,
   "metadata": {},
   "outputs": [
    {
     "name": "stdout",
     "output_type": "stream",
     "text": [
      "Array = [ 0  1  2  3  4  5  6  7  8  9 10 11 12 13 14 15 16 17 18 19 20 21 22 23\n",
      " 24 25 26 27 28 29 30 31 32 33 34 35 36 37 38 39 40 41 42 43 44 45 46 47\n",
      " 48 49 50 51 52 53 54 55 56 57 58 59 60 61 62 63 64 65 66 67 68 69 70 71\n",
      " 72 73 74 75 76 77 78 79 80 81 82 83 84 85 86 87 88 89 90 91 92 93 94 95\n",
      " 96 97 98 99]\n"
     ]
    }
   ],
   "source": [
    "Array = np.arange(0,100)\n",
    "print(f'Array = {Array}')"
   ]
  },
  {
   "cell_type": "markdown",
   "metadata": {},
   "source": [
    "Elements corresponding with index 1 to 10."
   ]
  },
  {
   "cell_type": "code",
   "execution_count": 18,
   "metadata": {},
   "outputs": [
    {
     "data": {
      "text/plain": [
       "array([1, 2, 3, 4, 5, 6, 7, 8, 9])"
      ]
     },
     "execution_count": 18,
     "metadata": {},
     "output_type": "execute_result"
    }
   ],
   "source": [
    "Array[1:10]"
   ]
  },
  {
   "cell_type": "markdown",
   "metadata": {},
   "source": [
    "Elements corresponding with index 1 to 50, at increments of 10."
   ]
  },
  {
   "cell_type": "code",
   "execution_count": 19,
   "metadata": {},
   "outputs": [
    {
     "data": {
      "text/plain": [
       "array([ 1, 11, 21, 31, 41])"
      ]
     },
     "execution_count": 19,
     "metadata": {},
     "output_type": "execute_result"
    }
   ],
   "source": [
    "Array[1:50:10]"
   ]
  },
  {
   "cell_type": "markdown",
   "metadata": {},
   "source": [
    "Addition (or any basic operation) with Slicing: Make sure both arrays have the same dimensions (check using .shape)."
   ]
  },
  {
   "cell_type": "code",
   "execution_count": 20,
   "metadata": {},
   "outputs": [
    {
     "name": "stdout",
     "output_type": "stream",
     "text": [
      " Array_1 = [ 1  2  3  4  5  6  7  8  9 10 11 12 13 14 15 16 17 18 19 20 21 22 23 24\n",
      " 25 26 27 28 29 30 31 32 33 34 35 36 37 38 39], Shape = (39,)\n",
      "\n",
      " Array_2  = [41 42 43 44 45 46 47 48 49 50 51 52 53 54 55 56 57 58 59 60 61 62 63 64\n",
      " 65 66 67 68 69 70 71 72 73 74 75 76 77 78 79], Shape = (39,)\n"
     ]
    }
   ],
   "source": [
    "Array_1 = Array[1:40]\n",
    "Array_2 = Array[41:80]\n",
    "\n",
    "Shape_1 = Array_1.shape\n",
    "Shape_2 = Array_2.shape\n",
    "\n",
    "print(f' Array_1 = {Array_1}, Shape = {Shape_1}\\n\\n Array_2  = {Array_2}, Shape = {Shape_2}')"
   ]
  },
  {
   "cell_type": "code",
   "execution_count": 21,
   "metadata": {},
   "outputs": [
    {
     "name": "stdout",
     "output_type": "stream",
     "text": [
      " Array_sum = [ 42  44  46  48  50  52  54  56  58  60  62  64  66  68  70  72  74  76\n",
      "  78  80  82  84  86  88  90  92  94  96  98 100 102 104 106 108 110 112\n",
      " 114 116 118], Shape = (39,)\n"
     ]
    }
   ],
   "source": [
    "Array_sum = Array_1 + Array_2\n",
    "Array_sum_shape = Array_sum.shape\n",
    "\n",
    "print(f' Array_sum = {Array_sum}, Shape = {Array_sum_shape}')"
   ]
  },
  {
   "cell_type": "markdown",
   "metadata": {},
   "source": [
    "## Creating a Matrix (2D-Array)"
   ]
  },
  {
   "cell_type": "markdown",
   "metadata": {},
   "source": [
    "#### Step I: Define each row as a List.\n",
    "The current example aims to create a 3 x 6 Matrix."
   ]
  },
  {
   "cell_type": "code",
   "execution_count": 22,
   "metadata": {},
   "outputs": [
    {
     "name": "stdout",
     "output_type": "stream",
     "text": [
      " row_1 = [2, 4, 5, 4, 3, 2]\n",
      " row_2 = [4, 6, 7, 8, 7, 3]\n",
      " row_3 = [8, 3, 2, 1, 4, 7]\n"
     ]
    }
   ],
   "source": [
    "row_1 = [2, 4, 5, 4, 3, 2]\n",
    "row_2 = [4, 6, 7, 8, 7, 3]\n",
    "row_3 = [8, 3, 2, 1, 4, 7 ]\n",
    "\n",
    "print(f' row_1 = {row_1}\\n row_2 = {row_2}\\n row_3 = {row_3}')"
   ]
  },
  {
   "cell_type": "markdown",
   "metadata": {},
   "source": [
    "#### Step 2: Create an Array"
   ]
  },
  {
   "cell_type": "code",
   "execution_count": 23,
   "metadata": {},
   "outputs": [
    {
     "name": "stdout",
     "output_type": "stream",
     "text": [
      " Matrix_1 = [[2 4 5 4 3 2]\n",
      " [4 6 7 8 7 3]\n",
      " [8 3 2 1 4 7]], Shape = (3, 6)\n"
     ]
    }
   ],
   "source": [
    "Matrix_1 = np.array([row_1, row_2, row_3])\n",
    "Matrix_1_Shape = Matrix_1.shape\n",
    "\n",
    "print(f' Matrix_1 = {Matrix_1}, Shape = {Matrix_1_Shape}')"
   ]
  },
  {
   "cell_type": "markdown",
   "metadata": {},
   "source": [
    "## Basic Matrix Operations"
   ]
  },
  {
   "cell_type": "markdown",
   "metadata": {},
   "source": [
    "Create another 3 x 6 matrix"
   ]
  },
  {
   "cell_type": "code",
   "execution_count": 24,
   "metadata": {},
   "outputs": [
    {
     "name": "stdout",
     "output_type": "stream",
     "text": [
      " Matrix_2 = [[1 2 4 2 5 8]\n",
      " [3 5 7 6 9 8]\n",
      " [4 6 7 7 8 7]], Shape = (3, 6)\n"
     ]
    }
   ],
   "source": [
    "Matrix_2 = np.array([[1, 2, 4, 2, 5, 8], [3, 5, 7, 6, 9, 8], [4, 6, 7, 7, 8,7]])\n",
    "Matrix_2_Shape = Matrix_2.shape \n",
    "\n",
    "\n",
    "print(f' Matrix_2 = {Matrix_2}, Shape = {Matrix_2_Shape}')"
   ]
  },
  {
   "cell_type": "markdown",
   "metadata": {},
   "source": [
    "Operation: Addition"
   ]
  },
  {
   "cell_type": "code",
   "execution_count": 25,
   "metadata": {},
   "outputs": [
    {
     "name": "stdout",
     "output_type": "stream",
     "text": [
      " Add_Matrix = [[ 3  6  9  6  8 10]\n",
      " [ 7 11 14 14 16 11]\n",
      " [12  9  9  8 12 14]]\n"
     ]
    }
   ],
   "source": [
    "Add_Matrix = Matrix_1 + Matrix_2\n",
    "print(f' Add_Matrix = {Add_Matrix}')"
   ]
  },
  {
   "cell_type": "markdown",
   "metadata": {},
   "source": [
    "Operation: Subtraction"
   ]
  },
  {
   "cell_type": "code",
   "execution_count": 26,
   "metadata": {},
   "outputs": [
    {
     "name": "stdout",
     "output_type": "stream",
     "text": [
      " Subtract_Matrix = [[ 1  2  1  2 -2 -6]\n",
      " [ 1  1  0  2 -2 -5]\n",
      " [ 4 -3 -5 -6 -4  0]]\n"
     ]
    }
   ],
   "source": [
    "Subtract_Matrix = Matrix_1 - Matrix_2\n",
    "print(f' Subtract_Matrix = {Subtract_Matrix}')"
   ]
  },
  {
   "cell_type": "markdown",
   "metadata": {},
   "source": [
    "Operation: Multiplication (Element by Element)"
   ]
  },
  {
   "cell_type": "code",
   "execution_count": 27,
   "metadata": {},
   "outputs": [
    {
     "name": "stdout",
     "output_type": "stream",
     "text": [
      " Multiplication_Matrix = [[ 2  8 20  8 15 16]\n",
      " [12 30 49 48 63 24]\n",
      " [32 18 14  7 32 49]]\n"
     ]
    }
   ],
   "source": [
    "Multiplication_Matrix = Matrix_1 * Matrix_2 \n",
    "print(f' Multiplication_Matrix = {Multiplication_Matrix}')"
   ]
  },
  {
   "cell_type": "markdown",
   "metadata": {},
   "source": [
    "Operation: Division (Elemnet by Element)"
   ]
  },
  {
   "cell_type": "code",
   "execution_count": 28,
   "metadata": {},
   "outputs": [
    {
     "name": "stdout",
     "output_type": "stream",
     "text": [
      " Division_Matrix = [[2.         2.         1.25       2.         0.6        0.25      ]\n",
      " [1.33333333 1.2        1.         1.33333333 0.77777778 0.375     ]\n",
      " [2.         0.5        0.28571429 0.14285714 0.5        1.        ]]\n"
     ]
    }
   ],
   "source": [
    "Division_Matrix = Matrix_1/Matrix_2\n",
    "print(f' Division_Matrix = {Division_Matrix}')"
   ]
  },
  {
   "cell_type": "markdown",
   "metadata": {},
   "source": [
    "Operation: Matrix Multiplication \n",
    "Ensure the dimensions of the matrices are valid for multiplication.\n",
    "\n",
    "Step I: Transpose Matrix_2 to Matrix_2T\n",
    "\n",
    "Step II: Matrix_1 (3 x 6) x Matrix_2T (6 x 3)"
   ]
  },
  {
   "cell_type": "code",
   "execution_count": 29,
   "metadata": {},
   "outputs": [
    {
     "name": "stdout",
     "output_type": "stream",
     "text": [
      "Matrix_2_Transpose = [[1 3 4]\n",
      " [2 5 6]\n",
      " [4 7 7]\n",
      " [2 6 7]\n",
      " [5 9 8]\n",
      " [8 8 7]]\n",
      "\n",
      "Mat_Mul = [[ 69 128 133]\n",
      " [119 226 234]\n",
      " [100 151 152]]\n"
     ]
    }
   ],
   "source": [
    "Matrix_2T = np.transpose(Matrix_2)\n",
    "Mat_Mul = np.matmul(Matrix_1, Matrix_2T)\n",
    "\n",
    "print(f'Matrix_2_Transpose = {Matrix_2T}\\n\\nMat_Mul = {Mat_Mul}')"
   ]
  },
  {
   "cell_type": "markdown",
   "metadata": {},
   "source": [
    "## Slicing and Indexing Matrices"
   ]
  },
  {
   "cell_type": "markdown",
   "metadata": {},
   "source": [
    "All elements in the first row (index = 0) of Matrix_1"
   ]
  },
  {
   "cell_type": "code",
   "execution_count": 30,
   "metadata": {},
   "outputs": [
    {
     "data": {
      "text/plain": [
       "array([2, 4, 5, 4, 3, 2])"
      ]
     },
     "execution_count": 30,
     "metadata": {},
     "output_type": "execute_result"
    }
   ],
   "source": [
    "Matrix_1[0]"
   ]
  },
  {
   "cell_type": "markdown",
   "metadata": {},
   "source": [
    "All elements in all the row, corresponding to the first column (index = 0)"
   ]
  },
  {
   "cell_type": "code",
   "execution_count": 31,
   "metadata": {},
   "outputs": [
    {
     "data": {
      "text/plain": [
       "array([2, 4, 8])"
      ]
     },
     "execution_count": 31,
     "metadata": {},
     "output_type": "execute_result"
    }
   ],
   "source": [
    "Matrix_1[:,0]"
   ]
  },
  {
   "cell_type": "markdown",
   "metadata": {},
   "source": [
    "Element corresponding to row index 1, and column index 2"
   ]
  },
  {
   "cell_type": "code",
   "execution_count": 32,
   "metadata": {},
   "outputs": [
    {
     "data": {
      "text/plain": [
       "7"
      ]
     },
     "execution_count": 32,
     "metadata": {},
     "output_type": "execute_result"
    }
   ],
   "source": [
    "Matrix_1[1, 2]"
   ]
  },
  {
   "cell_type": "markdown",
   "metadata": {},
   "source": [
    "Element indexed at 2, within row indexed at 1"
   ]
  },
  {
   "cell_type": "code",
   "execution_count": 33,
   "metadata": {},
   "outputs": [
    {
     "data": {
      "text/plain": [
       "7"
      ]
     },
     "execution_count": 33,
     "metadata": {},
     "output_type": "execute_result"
    }
   ],
   "source": [
    "Matrix_1[1][2]"
   ]
  },
  {
   "cell_type": "markdown",
   "metadata": {},
   "source": [
    "Element within rows at index 0 to 2 (excluding 2), and columns 4 to 6 (excluding 6)"
   ]
  },
  {
   "cell_type": "code",
   "execution_count": 34,
   "metadata": {},
   "outputs": [
    {
     "data": {
      "text/plain": [
       "array([[3, 2],\n",
       "       [7, 3]])"
      ]
     },
     "execution_count": 34,
     "metadata": {},
     "output_type": "execute_result"
    }
   ],
   "source": [
    "Matrix_1[0:2, 4:6]"
   ]
  },
  {
   "cell_type": "markdown",
   "metadata": {},
   "source": [
    "From Matrix_1, includes only variables that are greater than 4"
   ]
  },
  {
   "cell_type": "code",
   "execution_count": 35,
   "metadata": {},
   "outputs": [
    {
     "data": {
      "text/plain": [
       "array([5, 6, 7, 8, 7, 8, 7])"
      ]
     },
     "execution_count": 35,
     "metadata": {},
     "output_type": "execute_result"
    }
   ],
   "source": [
    "Matrix_1[Matrix_1>4]"
   ]
  },
  {
   "cell_type": "markdown",
   "metadata": {},
   "source": [
    "From Matrix_1, includes only variables that are greater than 3, and less than equal to 6"
   ]
  },
  {
   "cell_type": "code",
   "execution_count": 36,
   "metadata": {},
   "outputs": [
    {
     "data": {
      "text/plain": [
       "array([4, 5, 4, 4, 6, 4])"
      ]
     },
     "execution_count": 36,
     "metadata": {},
     "output_type": "execute_result"
    }
   ],
   "source": [
    "Matrix_1[(Matrix_1 > 3) & (Matrix_1 <= 6)] "
   ]
  },
  {
   "cell_type": "markdown",
   "metadata": {},
   "source": [
    "## Linear Algebra"
   ]
  },
  {
   "cell_type": "markdown",
   "metadata": {},
   "source": [
    "#### np.linalg(): Designed to allow efficient implementation of basic linear algebra algorithms."
   ]
  },
  {
   "cell_type": "markdown",
   "metadata": {},
   "source": [
    "Create two (3 x 3) Matrices: Matrix_A and Matrix_B"
   ]
  },
  {
   "cell_type": "code",
   "execution_count": 37,
   "metadata": {},
   "outputs": [],
   "source": [
    "Matrix_1 = np.array([[2, 4, 5], [4, 6, 7], [8, 3, 2]]) \n",
    "Matrix_2 = np.array([[1, 2, 4], [3, 5, 7], [4, 6, 7]]) "
   ]
  },
  {
   "cell_type": "markdown",
   "metadata": {},
   "source": [
    "Operation: Transpose"
   ]
  },
  {
   "cell_type": "code",
   "execution_count": 38,
   "metadata": {},
   "outputs": [
    {
     "name": "stdout",
     "output_type": "stream",
     "text": [
      " Matrix_1T = [[2 4 8]\n",
      " [4 6 3]\n",
      " [5 7 2]]\n"
     ]
    }
   ],
   "source": [
    "Matrix_1T = np.transpose(Matrix_1)\n",
    "print(f' Matrix_1T = {Matrix_1T}')"
   ]
  },
  {
   "cell_type": "markdown",
   "metadata": {},
   "source": [
    "Operation: Eigenvalue(s) and Eigenvector"
   ]
  },
  {
   "cell_type": "code",
   "execution_count": 39,
   "metadata": {},
   "outputs": [
    {
     "name": "stdout",
     "output_type": "stream",
     "text": [
      " Eigen_Value = [13.57659974 -3.69616603  0.11956629], Eigen_Vector = [[-0.46949956 -0.42217514  0.16395894]\n",
      " [-0.7200105  -0.40964917 -0.79946267]\n",
      " [-0.5110333   0.80867528  0.57790735]]\n"
     ]
    }
   ],
   "source": [
    "Eigen_Value, Eigen_Vector = np.linalg.eig(Matrix_1)\n",
    "print(f' Eigen_Value = {Eigen_Value}, Eigen_Vector = {Eigen_Vector}')"
   ]
  },
  {
   "cell_type": "markdown",
   "metadata": {},
   "source": [
    "Operation: Rank"
   ]
  },
  {
   "cell_type": "code",
   "execution_count": 40,
   "metadata": {},
   "outputs": [
    {
     "name": "stdout",
     "output_type": "stream",
     "text": [
      " Rank  = 3\n"
     ]
    }
   ],
   "source": [
    "Rank = np.linalg.matrix_rank(Matrix_1) \n",
    "print(f' Rank  = {Rank}')"
   ]
  },
  {
   "cell_type": "markdown",
   "metadata": {},
   "source": [
    "Operation: Trace (sum of diagonal)"
   ]
  },
  {
   "cell_type": "code",
   "execution_count": 41,
   "metadata": {},
   "outputs": [
    {
     "name": "stdout",
     "output_type": "stream",
     "text": [
      " Trace = 10\n"
     ]
    }
   ],
   "source": [
    "Trace = np.trace(Matrix_1)\n",
    "print(f' Trace = {Trace}')"
   ]
  },
  {
   "cell_type": "markdown",
   "metadata": {},
   "source": [
    "Operation: Determinant"
   ]
  },
  {
   "cell_type": "code",
   "execution_count": 42,
   "metadata": {},
   "outputs": [
    {
     "name": "stdout",
     "output_type": "stream",
     "text": [
      " Det = -6.000000000000011\n"
     ]
    }
   ],
   "source": [
    "Det = np.linalg.det(Matrix_1)\n",
    "print(f' Det = {Det}')"
   ]
  },
  {
   "cell_type": "markdown",
   "metadata": {},
   "source": [
    "Operation: Inverse"
   ]
  },
  {
   "cell_type": "code",
   "execution_count": 43,
   "metadata": {},
   "outputs": [
    {
     "name": "stdout",
     "output_type": "stream",
     "text": [
      " Inv = [[ 1.5        -1.16666667  0.33333333]\n",
      " [-8.          6.         -1.        ]\n",
      " [ 6.         -4.33333333  0.66666667]]\n"
     ]
    }
   ],
   "source": [
    "Inv = np.linalg.inv(Matrix_1)\n",
    "print (f' Inv = {Inv}')"
   ]
  },
  {
   "cell_type": "markdown",
   "metadata": {},
   "source": [
    "Operation: Identity Matrix (Checking Inverse Output)"
   ]
  },
  {
   "cell_type": "code",
   "execution_count": 44,
   "metadata": {},
   "outputs": [
    {
     "name": "stdout",
     "output_type": "stream",
     "text": [
      " Iden_Matrix_1 = [[ 1.00000000e+00  2.66453526e-15 -2.22044605e-16]\n",
      " [-3.55271368e-15  1.00000000e+00 -2.22044605e-16]\n",
      " [ 0.00000000e+00 -1.77635684e-15  1.00000000e+00]]\n"
     ]
    }
   ],
   "source": [
    "Iden_Matrix_1 = np.matmul(Matrix_1, Inv)\n",
    "print(f' Iden_Matrix_1 = {Iden_Matrix_1}')"
   ]
  },
  {
   "cell_type": "markdown",
   "metadata": {},
   "source": [
    "Solve for A * X = B, where A = Matrix_1, B = Matrix_2, hence X = B * Inverse (A) "
   ]
  },
  {
   "cell_type": "code",
   "execution_count": 45,
   "metadata": {},
   "outputs": [
    {
     "name": "stdout",
     "output_type": "stream",
     "text": [
      " Solve = [[-0.66666667 -0.83333333  0.16666667]\n",
      " [ 6.          8.          3.        ]\n",
      " [-4.33333333 -5.66666667 -1.66666667]]\n"
     ]
    }
   ],
   "source": [
    "Solve = np.linalg.solve(Matrix_1, Matrix_2)\n",
    "print(f' Solve = {Solve}')"
   ]
  },
  {
   "cell_type": "markdown",
   "metadata": {},
   "source": [
    "Use Solve to obtain Matrix_2, from previous solution and Matrix_1"
   ]
  },
  {
   "cell_type": "code",
   "execution_count": 46,
   "metadata": {},
   "outputs": [
    {
     "name": "stdout",
     "output_type": "stream",
     "text": [
      " Matrix_2_Solve = [[1. 2. 4.]\n",
      " [3. 5. 7.]\n",
      " [4. 6. 7.]]\n"
     ]
    }
   ],
   "source": [
    "Matrix_2_Solve = np.matmul(Matrix_1, Solve)\n",
    "print(f' Matrix_2_Solve = {Matrix_2_Solve}')"
   ]
  },
  {
   "cell_type": "markdown",
   "metadata": {},
   "source": [
    "Operation: Inner Product "
   ]
  },
  {
   "cell_type": "code",
   "execution_count": 47,
   "metadata": {},
   "outputs": [
    {
     "name": "stdout",
     "output_type": "stream",
     "text": [
      " Inner_Product = [[ 30  61  67]\n",
      " [ 44  91 101]\n",
      " [ 22  53  64]]\n"
     ]
    }
   ],
   "source": [
    "Inner_Product = np.inner(Matrix_1, Matrix_2)\n",
    "print(f' Inner_Product = {Inner_Product}')"
   ]
  },
  {
   "cell_type": "markdown",
   "metadata": {},
   "source": [
    "Operation: Outer Product"
   ]
  },
  {
   "cell_type": "code",
   "execution_count": 48,
   "metadata": {},
   "outputs": [
    {
     "name": "stdout",
     "output_type": "stream",
     "text": [
      " Outer_Product = [[ 2  4  8  6 10 14  8 12 14]\n",
      " [ 4  8 16 12 20 28 16 24 28]\n",
      " [ 5 10 20 15 25 35 20 30 35]\n",
      " [ 4  8 16 12 20 28 16 24 28]\n",
      " [ 6 12 24 18 30 42 24 36 42]\n",
      " [ 7 14 28 21 35 49 28 42 49]\n",
      " [ 8 16 32 24 40 56 32 48 56]\n",
      " [ 3  6 12  9 15 21 12 18 21]\n",
      " [ 2  4  8  6 10 14  8 12 14]]\n"
     ]
    }
   ],
   "source": [
    "Outer_Product = np.outer(Matrix_1, Matrix_2)\n",
    "print(f' Outer_Product = {Outer_Product}')"
   ]
  },
  {
   "cell_type": "markdown",
   "metadata": {},
   "source": [
    "## Special Matrices"
   ]
  },
  {
   "cell_type": "markdown",
   "metadata": {},
   "source": [
    "Matrix of Ones: np.ones()"
   ]
  },
  {
   "cell_type": "code",
   "execution_count": 49,
   "metadata": {},
   "outputs": [
    {
     "name": "stdout",
     "output_type": "stream",
     "text": [
      "[[1. 1. 1. 1. 1.]\n",
      " [1. 1. 1. 1. 1.]\n",
      " [1. 1. 1. 1. 1.]\n",
      " [1. 1. 1. 1. 1.]]\n"
     ]
    }
   ],
   "source": [
    "ones = np.ones([4,5]) \n",
    "print(ones)"
   ]
  },
  {
   "cell_type": "markdown",
   "metadata": {},
   "source": [
    "Matrix of Zeros: np.zeros()"
   ]
  },
  {
   "cell_type": "code",
   "execution_count": 50,
   "metadata": {},
   "outputs": [
    {
     "name": "stdout",
     "output_type": "stream",
     "text": [
      "[[0. 0. 0. 0. 0.]\n",
      " [0. 0. 0. 0. 0.]\n",
      " [0. 0. 0. 0. 0.]\n",
      " [0. 0. 0. 0. 0.]\n",
      " [0. 0. 0. 0. 0.]\n",
      " [0. 0. 0. 0. 0.]]\n"
     ]
    }
   ],
   "source": [
    "zeros = np.zeros([6, 5]) \n",
    "print(zeros)"
   ]
  },
  {
   "cell_type": "markdown",
   "metadata": {},
   "source": [
    "Identity Matrix: np.eye()"
   ]
  },
  {
   "cell_type": "code",
   "execution_count": 51,
   "metadata": {},
   "outputs": [
    {
     "name": "stdout",
     "output_type": "stream",
     "text": [
      "[[1. 0. 0. 0. 0. 0. 0. 0. 0. 0.]\n",
      " [0. 1. 0. 0. 0. 0. 0. 0. 0. 0.]\n",
      " [0. 0. 1. 0. 0. 0. 0. 0. 0. 0.]\n",
      " [0. 0. 0. 1. 0. 0. 0. 0. 0. 0.]\n",
      " [0. 0. 0. 0. 1. 0. 0. 0. 0. 0.]\n",
      " [0. 0. 0. 0. 0. 1. 0. 0. 0. 0.]\n",
      " [0. 0. 0. 0. 0. 0. 1. 0. 0. 0.]\n",
      " [0. 0. 0. 0. 0. 0. 0. 1. 0. 0.]\n",
      " [0. 0. 0. 0. 0. 0. 0. 0. 1. 0.]\n",
      " [0. 0. 0. 0. 0. 0. 0. 0. 0. 1.]]\n"
     ]
    }
   ],
   "source": [
    "eye = np.eye(10)\n",
    "print(eye)"
   ]
  },
  {
   "cell_type": "markdown",
   "metadata": {},
   "source": [
    "### Generating a Matrix of Random Values\n",
    "\n",
    "For more information for generating random variables, using other distributions: https://numpy.org/doc/stable/reference/random/index.html"
   ]
  },
  {
   "cell_type": "markdown",
   "metadata": {},
   "source": [
    "Matrix with random sample from a uniform distribution over [0, 1)."
   ]
  },
  {
   "cell_type": "code",
   "execution_count": 52,
   "metadata": {},
   "outputs": [
    {
     "name": "stdout",
     "output_type": "stream",
     "text": [
      "[[0.28402367 0.41810236]\n",
      " [0.56368763 0.8056928 ]\n",
      " [0.97200017 0.61184876]]\n"
     ]
    }
   ],
   "source": [
    "rand = np.random.rand(3, 2)\n",
    "print(rand)"
   ]
  },
  {
   "cell_type": "markdown",
   "metadata": {},
   "source": [
    "Convert Matrix to List of Lists: Each row is converted into a seperate list."
   ]
  },
  {
   "cell_type": "code",
   "execution_count": 53,
   "metadata": {},
   "outputs": [
    {
     "name": "stdout",
     "output_type": "stream",
     "text": [
      "[[0.284023669661308, 0.4181023573916549], [0.5636876334162807, 0.805692800073761], [0.9720001667247051, 0.6118487568566215]]\n"
     ]
    }
   ],
   "source": [
    "rand_list = rand.tolist()\n",
    "print(rand_list) "
   ]
  },
  {
   "cell_type": "markdown",
   "metadata": {},
   "source": [
    "Matrix with random interger sample from a uniform distribution over [2, 10)"
   ]
  },
  {
   "cell_type": "code",
   "execution_count": 54,
   "metadata": {},
   "outputs": [
    {
     "name": "stdout",
     "output_type": "stream",
     "text": [
      "[[7 3 2]\n",
      " [8 8 6]]\n"
     ]
    }
   ],
   "source": [
    "rand_int = np.random.randint(2, 10, size = (2, 3))\n",
    "print(rand_int)"
   ]
  },
  {
   "cell_type": "markdown",
   "metadata": {},
   "source": [
    "Matrix of random variables following normal distribution, with mean 0, and std = 1. "
   ]
  },
  {
   "cell_type": "code",
   "execution_count": 55,
   "metadata": {},
   "outputs": [
    {
     "name": "stdout",
     "output_type": "stream",
     "text": [
      "[[ 1.35159812  0.38342195 -0.45268038  0.94364923 -0.42208241 -0.72982609\n",
      "  -0.88403279 -0.68185602 -2.0337128   0.37130416]\n",
      " [-0.377188    1.68979135  0.89220175 -0.33817804 -0.90864275  0.15145464\n",
      "   0.40024571  0.80389122 -0.29935574 -1.01642145]\n",
      " [-0.84143808  1.69322717  0.64239622  0.18608698 -2.71301504 -2.43941826\n",
      "   0.02073793 -1.68752445 -1.37541414 -0.44999115]\n",
      " [ 0.65458475  1.00580528  0.62906274  0.21789659 -1.39899398  0.0945999\n",
      "  -1.09968018 -1.60204221  1.72658764 -1.08292483]\n",
      " [ 0.20301971  0.96154237 -0.09845143 -1.17999689  2.37062726  0.01109736\n",
      "   0.08291529 -2.41858093 -1.39149606 -0.88431724]\n",
      " [-0.14426998  1.48133161  2.01659079  0.18858843  0.57617017 -0.62100688\n",
      "  -1.55262802 -1.14674081  0.37094792  0.66910004]\n",
      " [ 0.26150034 -2.10357724 -1.4319521  -0.35861613 -0.00759823 -0.54294032\n",
      "  -1.00911057 -0.47794997 -1.17420848 -2.18556661]\n",
      " [-0.43785407  0.10232386  0.68233921  0.61396268 -0.86296698  0.10539961\n",
      "  -0.22115821  1.36449219 -0.31261904 -0.57518939]\n",
      " [ 0.32952802 -0.21902147  1.58385214 -0.88312571 -0.96372418  0.02263968\n",
      "   1.19975654  0.33866788  0.42158721  1.01337178]\n",
      " [ 1.21117815 -0.31908885  0.93352074  0.2487405  -0.8570566   1.97963433\n",
      "  -2.49978997 -0.71205963 -0.83169797  1.5081335 ]]\n"
     ]
    }
   ],
   "source": [
    "rand_norm = np.random.normal(0, 1, size  = (10, 10))\n",
    "print(rand_norm)"
   ]
  },
  {
   "cell_type": "markdown",
   "metadata": {},
   "source": [
    "Using np.random.standard_normal() function: no need to define mean and std (by default considered as 0 and 1)."
   ]
  },
  {
   "cell_type": "code",
   "execution_count": 56,
   "metadata": {},
   "outputs": [
    {
     "name": "stdout",
     "output_type": "stream",
     "text": [
      "[[-0.89610235  1.89124303  0.52895465  0.37497222  1.39896074  0.66015958\n",
      "  -1.23966588  0.65837566 -0.51437418  1.30463473]\n",
      " [ 0.80888025 -1.7823724   0.37642591 -0.42864293  0.42774589 -0.49838759\n",
      "  -0.48713581  0.60350892 -0.66343049 -0.55812871]\n",
      " [ 0.22316022  0.37124064  0.2027595  -0.21333142  1.45141688 -0.85747165\n",
      "   0.37832405  0.08584784 -0.02312869  2.64120121]\n",
      " [ 1.16717545 -1.12287627 -0.15137227 -2.10309178 -0.3229612  -2.64855221\n",
      "  -0.11470757  0.95260929  0.07193338  1.14302705]\n",
      " [-1.39126371 -0.8987791   0.02431583  1.3435666   0.36534044  1.66946437\n",
      "   0.03344819 -1.48851965 -0.39895822  0.1145084 ]\n",
      " [-0.00698014  0.68514102 -0.79887768 -1.72688668  1.2409174   0.91511393\n",
      "   0.06128653 -0.63620412  0.61813246  0.52834146]\n",
      " [-0.19970835  0.18126589 -2.38076928 -0.3801994  -1.33776657  1.82935186\n",
      "   1.15952098  0.82565595  1.05744057 -0.86380386]\n",
      " [ 0.78803976 -0.49430473 -0.89326998 -0.03988117 -0.69045275  0.06491399\n",
      "  -0.58687749  0.43438685  1.05596394  0.05039105]\n",
      " [ 1.05491146 -1.06570712  0.27272541  0.07891833 -1.86244927 -0.47203157\n",
      "   0.50386443 -1.93710389  1.69677033  3.34124445]\n",
      " [-0.52108684 -1.8418162  -1.20266975  0.22419622 -0.69081454 -0.30336882\n",
      "   1.46187271  0.49613385 -0.2283111   0.16721769]]\n"
     ]
    }
   ],
   "source": [
    "rand_std_norm = np.random.standard_normal(size = (10, 10))\n",
    "print(rand_std_norm)"
   ]
  },
  {
   "cell_type": "markdown",
   "metadata": {},
   "source": [
    "## Statistical Operations"
   ]
  },
  {
   "cell_type": "markdown",
   "metadata": {},
   "source": [
    "Note: To ensure reproducable results, ensure the seed is set, such that the generation of random elememts is consistent."
   ]
  },
  {
   "cell_type": "code",
   "execution_count": 57,
   "metadata": {},
   "outputs": [],
   "source": [
    "np.random.seed(1) \n",
    "rand_1 = np.random.normal(0,1, size = (50, 10)) #50 x 10 matrix.\n"
   ]
  },
  {
   "cell_type": "markdown",
   "metadata": {},
   "source": [
    "Mean and Standard Deviation of all matrix elements."
   ]
  },
  {
   "cell_type": "code",
   "execution_count": 58,
   "metadata": {},
   "outputs": [
    {
     "name": "stdout",
     "output_type": "stream",
     "text": [
      "0.053436894256306586 0.98840825928265\n"
     ]
    }
   ],
   "source": [
    "Mean_rand_1 = rand_1.mean()\n",
    "Std_rand_1 = rand_1.std()\n",
    "print(Mean_rand_1, Std_rand_1)  #As numbers approach infinity, mean tends to 0, and std tends to 1."
   ]
  },
  {
   "cell_type": "markdown",
   "metadata": {},
   "source": [
    "Linear Equation\n",
    "\n",
    "Recall, NumPy allows for vectorised operations: constant 'b' is multiplied to all components of the matrix, and 'a' is added to the product."
   ]
  },
  {
   "cell_type": "code",
   "execution_count": 59,
   "metadata": {},
   "outputs": [
    {
     "name": "stdout",
     "output_type": "stream",
     "text": [
      "[[ 7.18520877e+00 -6.41147448e-01 -3.48601133e-01 -2.25539018e+00\n",
      "   4.52892670e+00 -6.55538544e+00  7.60684117e+00 -1.16422415e+00\n",
      "   2.61663684e+00  6.27203686e-01]\n",
      " [ 6.61737778e+00 -5.71049248e+00  3.71539786e-01  1.55809759e-01\n",
      "   5.46819305e+00 -2.34961944e+00  8.96501274e-01 -1.57250446e+00\n",
      "   1.64774811e+00  3.53985325e+00]\n",
      " [-2.35216712e+00  5.50653298e+00  4.65556752e+00  3.25873019e+00\n",
      "   4.65299582e+00 -8.93047507e-01  1.06988421e+00 -1.77519302e+00\n",
      "   5.62391721e-01  3.35624413e+00]\n",
      " [-9.20812631e-01  1.11362656e-01 -9.05104450e-01 -1.45821975e+00\n",
      "  -8.49361458e-01  1.45567390e+00 -2.41058622e+00  2.32045494e+00\n",
      "   7.30930762e+00  4.09715456e+00]\n",
      " [ 8.28575567e-01 -1.60670137e+00 -1.11505403e+00  7.42359110e+00\n",
      "   1.67782714e+00 -7.29484763e-01  2.16820420e+00  8.85089298e+00\n",
      "   1.92055633e+00  3.66021088e+00]\n",
      " [ 2.55059612e+00  2.67125537e-01 -2.49881369e+00  2.77300472e-01\n",
      "   7.68870183e-01  3.55318117e+00  4.43644195e+00  4.75885728e+00\n",
      "   2.49955564e+00  4.59799407e+00]\n",
      " [-1.14039279e+00  5.88503854e+00  3.29525437e+00  4.56675077e-01\n",
      "   3.20981351e+00  1.23549900e+00  5.46070286e+00  6.81935886e+00\n",
      "   9.14951392e+00 -3.38773717e+00]\n",
      " [-3.55439832e+00 -2.65630520e-01  2.06012974e+00  4.56659122e+00\n",
      "   2.60472232e+00 -5.57770426e+00  4.28285956e-01  4.39791125e+00\n",
      "   2.30533157e+00  4.16703913e+00]\n",
      " [ 7.21851501e-01  7.97346759e-01  2.15296487e+00  2.93518077e+00\n",
      "   2.19404902e+00  1.91653026e+00 -8.47318002e-01  2.82147325e+00\n",
      "   1.92637445e+00  5.45319368e+00]\n",
      " [ 5.69621258e+00  2.14804746e+00  1.86502675e-01 -7.35556426e-01\n",
      "   2.98223024e+00  1.77069024e+00  2.96512136e-01  1.65258900e+00\n",
      "  -6.70002954e-01  3.94311212e+00]\n",
      " [-6.49499768e-02  5.78577697e+00  2.91222075e+00  3.57752483e+00\n",
      "  -2.33219146e+00  2.09283852e+00  4.09194758e+00 -1.83795211e+00\n",
      "   5.68235229e-01  1.61415091e+00]\n",
      " [-3.30591062e+00  2.60305787e+00  4.46156227e+00 -1.50830579e+00\n",
      "   2.72691093e+00 -3.09299194e+00  1.36456572e+00 -4.15520324e+00\n",
      "   5.42496198e+00  2.93115188e+00]\n",
      " [ 1.41384065e+00 -1.21306567e+00  5.95814576e+00  8.38485612e+00\n",
      "  -5.00293653e+00  5.82657411e+00  7.19677764e+00  2.68304094e+00\n",
      "  -2.69743811e+00  4.52170861e+00]\n",
      " [ 8.66778943e-01 -6.13722197e-01 -2.80520347e+00  3.42688124e+00\n",
      "   4.27482403e+00 -6.82357554e-01  3.32201718e+00 -2.50519486e+00\n",
      "   4.30651361e+00  1.66298554e+00]\n",
      " [ 8.47005798e-01  1.14388945e+00  4.54110155e+00  4.12644074e+00\n",
      "   3.35312864e+00  1.98195423e+00  1.77237395e+00  3.66433092e+00\n",
      "   2.31373096e+00  3.88892992e+00]\n",
      " [ 4.14591293e-01 -7.02193217e+00  5.13588611e+00  9.15442876e+00\n",
      "   3.04477555e+00  1.14945668e+00  1.02244340e+00  1.08331034e+00\n",
      "   1.56093293e+00 -2.42706555e+00]\n",
      " [-3.09830603e-01 -1.98959390e+00  2.37079706e+00  4.61755967e-01\n",
      "   3.23323963e+00  8.88538941e-01  4.95217316e+00  2.24736865e+00\n",
      "   9.16744905e+00 -5.13726323e+00]\n",
      " [-7.64208409e-01  4.65520412e+00  1.03491400e+01  6.29778278e-01\n",
      "   1.65284148e+00  7.07900151e-01  6.16009989e+00  4.94422478e-01\n",
      "   3.88024444e+00  3.80694404e-01]\n",
      " [-2.95395564e+00  2.59741702e+00  3.26114685e+00  6.02629059e+00\n",
      "   1.11343541e+00 -6.60767223e-01  3.46966384e+00  2.34257982e+00\n",
      "   2.48232777e+00  1.24410554e+00]\n",
      " [ 5.56118499e+00  2.79322451e+00  8.16630548e+00  5.38869844e+00\n",
      "   3.80667429e+00 -4.19603419e+00  3.60811748e+00  2.97098771e+00\n",
      "   4.33833085e+00  5.15554733e+00]\n",
      " [ 9.69263287e-02  4.38401966e+00 -4.68069009e-01  8.34207326e+00\n",
      "  -3.16183083e+00 -4.66240996e+00 -4.27752443e+00 -1.61694454e+00\n",
      "  -2.41690389e+00  8.34627616e+00]\n",
      " [ 3.57251757e-01 -3.19936526e+00  5.40034042e+00 -5.52833786e-01\n",
      "  -2.82898682e+00  4.56543625e+00  3.68176762e+00 -2.23483903e-02\n",
      "   6.42639000e+00  1.95185553e+00]\n",
      " [ 7.15932360e+00  3.25959309e+00  6.95581939e+00  1.88290944e+00\n",
      "  -2.76910539e+00  1.00727903e+01 -4.10209588e-01  8.04067480e-01\n",
      "  -9.51394767e-01  7.88119429e-01]\n",
      " [ 2.34934304e+00  2.20640563e+00  3.81357101e+00  7.77255373e+00\n",
      "   1.07837400e+00 -2.81592257e+00 -2.63811344e+00 -8.30140814e-01\n",
      "  -4.35968533e+00  4.38760439e+00]\n",
      " [-2.43747473e-01  4.11552576e-01  1.49337981e+00 -3.38817149e+00\n",
      "  -1.51460726e+00  3.86149034e+00  3.66488696e+00 -5.11017575e-02\n",
      "   7.83687220e+00 -3.07004423e+00]\n",
      " [ 2.92544764e-01  6.92060899e-01 -8.27579750e+00  8.28135085e+00\n",
      "   2.78216205e+00 -2.15606284e+00  8.67910705e+00  3.54981700e+00\n",
      "   3.00334149e+00 -6.24494394e-01]\n",
      " [ 1.87177953e+00 -3.83988111e+00  4.28259133e+00  1.89465884e-01\n",
      "   1.96916869e+00  5.70719202e+00  2.49661839e+00  2.41863606e+00\n",
      "   2.46774757e+00 -1.06645061e+00]\n",
      " [ 4.42601652e+00  6.90175689e+00  4.15581981e+00  4.59718085e+00\n",
      "  -1.57048532e+00 -1.53725528e+00 -3.54306609e+00  5.81288575e+00\n",
      "   6.10370463e-01  6.39945380e+00]\n",
      " [-1.23669089e+00 -3.12814399e-02  1.83398781e+00  4.72507524e+00\n",
      "   1.71262569e+00  2.23893664e+00  1.55784649e+00  2.12015702e+00\n",
      "  -2.40764506e+00  1.78324485e+00]\n",
      " [ 8.46973523e-01  1.30111432e+00  3.22317795e+00 -8.82373494e-01\n",
      "   1.20422190e+00  4.59233410e-01  2.96055702e+00  4.24669728e+00\n",
      "  -1.84398842e+00  3.55068651e+00]\n",
      " [ 8.73024162e+00 -3.64904924e+00 -1.40560163e+00 -1.58202160e+00\n",
      "   5.23157975e-01  7.17997180e+00  1.54673437e+00 -9.31427584e-01\n",
      "   3.67631227e+00 -5.99315859e-01]\n",
      " [ 5.43194257e+00  2.56843464e+00  6.36072789e+00 -8.14704851e-01\n",
      "   1.21079999e+01  4.38604619e+00  3.79103053e+00  1.32084043e+00\n",
      "  -1.03958992e+00 -1.53719037e+00]\n",
      " [ 1.02407936e+00 -1.29044425e+00  2.48936499e+00 -1.39134101e+00\n",
      "   3.67378945e+00  4.84642596e+00 -9.70441776e-01  5.67440124e+00\n",
      "   6.67203225e-01  5.54350760e+00]\n",
      " [ 3.03358222e+00  5.42814913e+00 -1.98956928e+00  1.12622105e+00\n",
      "   6.58000241e+00 -6.63128967e-01 -5.63020429e+00 -5.29906214e+00\n",
      "  -7.27254228e+00 -5.89957373e+00]\n",
      " [ 5.92629288e-02  5.97484829e+00 -4.78024783e-02  2.63234574e+00\n",
      "   1.11502978e+00  1.52992131e+00  9.11304061e-01  8.90368795e-01\n",
      "   3.11407435e+00 -2.61593935e+00]\n",
      " [ 5.03544512e+00  4.72006277e+00  8.17299307e-01  4.31887698e+00\n",
      "  -9.54705492e-01 -3.80280584e-01  2.04692348e+00  8.34226412e-01\n",
      "  -7.05831144e-02 -8.53568136e-01]\n",
      " [-4.51231526e-01  4.78709060e+00 -5.30163192e+00  2.73373028e+00\n",
      "   6.72470669e-01  4.04734725e+00  3.30275765e+00 -8.23887064e+00\n",
      "   3.54626314e+00  2.63495985e+00]\n",
      " [ 1.57651993e+00 -1.40358357e-01  4.48648428e+00  5.43974160e-02\n",
      "   7.92151169e+00  3.47533999e+00  8.98239824e+00 -1.24936899e+00\n",
      "  -4.64573974e+00  4.00176359e+00]\n",
      " [ 4.48446422e+00  1.62376034e+00 -3.88577636e+00 -6.76331465e-02\n",
      "   3.66294937e+00  8.55382860e-01  1.09405185e+00  8.85893610e-01\n",
      "  -1.76870129e+00 -3.65571141e-01]\n",
      " [-3.49294397e+00  7.68785982e+00 -1.63805063e-01  3.17163564e+00\n",
      "  -2.07660081e+00  4.28084884e+00 -5.05606342e+00  4.72215291e+00\n",
      "   1.37621226e+00  8.88711769e+00]\n",
      " [-3.07286925e+00  1.76733168e+00  2.78531135e+00  5.81514717e+00\n",
      "   2.00006351e-02  1.80262542e+00 -5.99863355e+00 -1.40559102e+00\n",
      "   3.08065583e+00  5.36461014e+00]\n",
      " [ 5.13923058e-01  8.69724433e+00  7.66087229e+00  1.28771628e+00\n",
      "  -6.94726050e+00 -4.72148232e+00 -1.22250589e+00  5.40544388e+00\n",
      "   2.58595301e+00 -5.82986736e+00]\n",
      " [ 6.99319599e-01  7.14676481e+00  1.88183594e-01 -1.12489366e+00\n",
      "   8.69118436e+00  1.68693338e+00 -1.77049846e-01  2.72558506e+00\n",
      "   1.56007654e+00 -1.99797382e-03]\n",
      " [ 5.72959715e+00  5.40495631e+00  4.44301545e+00  1.13989474e+00\n",
      "   5.51415132e+00  1.32604097e+00  3.13325144e+00  5.11790404e+00\n",
      "   4.33095526e+00  7.76414139e+00]\n",
      " [ 3.07949406e+00 -4.39420995e+00 -2.56059537e+00  6.22537387e+00\n",
      "   3.40508905e-01  2.85288701e+00 -1.48009480e+00  5.00308498e+00\n",
      "   1.53087129e-01  6.60337884e+00]\n",
      " [-3.62819073e-01  5.41346689e+00  3.86038637e+00 -1.02837167e+00\n",
      "   5.34648716e+00 -1.65572072e+00 -1.37863516e+00  4.02598952e+00\n",
      "  -6.88697005e-01 -5.78450735e-01]\n",
      " [ 2.96347518e-01 -2.00059216e+00  5.15748043e+00  3.62980144e+00\n",
      "   1.25734956e+00  1.12062776e+00  3.07554429e+00  7.67867285e+00\n",
      "   4.54839431e+00 -2.79599970e-01]\n",
      " [ 4.22096722e+00  1.08430090e+00  8.03506357e-01  8.03264981e+00\n",
      "   3.37173581e-02 -1.77147203e-01 -5.33236851e+00 -3.40815201e+00\n",
      "   3.07893029e+00 -9.32223154e-01]\n",
      " [ 3.30394831e+00 -2.40204868e+00 -1.18558439e+00  3.86099747e+00\n",
      "   6.61312333e+00  3.57365480e+00  5.69240795e+00  7.46607960e+00\n",
      "   5.14031204e+00 -1.71454013e+00]\n",
      " [ 1.13129351e+00  3.70568485e+00  4.80358455e-02  3.08181113e+00\n",
      "  -4.02704700e+00 -1.40019793e+00  3.35107911e+00 -6.32980279e+00\n",
      "  -2.37699376e+00  1.43798589e+00]]\n"
     ]
    }
   ],
   "source": [
    "a = 1.5\n",
    "b = 3.5\n",
    "Y = a + b*rand_1 \n",
    "\n",
    "print(Y)"
   ]
  },
  {
   "cell_type": "markdown",
   "metadata": {},
   "source": [
    "Mean "
   ]
  },
  {
   "cell_type": "code",
   "execution_count": 60,
   "metadata": {},
   "outputs": [
    {
     "name": "stdout",
     "output_type": "stream",
     "text": [
      "Entire Mean = 1.687029129897073, Column Mean = [1.48453766 1.58901932 1.94361221 2.5272385  1.80156651 0.95081938\n",
      " 1.5583801  1.508348   1.75946777 1.74730184], Row Mean = [ 1.16000688  0.90644066  1.80419389  0.87498692  2.3078618   2.12111087\n",
      "  3.09837262  1.11322781  2.00716466  1.72703371  1.64076012  0.7449799\n",
      "  2.70715035  1.12535225  2.76328861  1.31168273  1.58846347  2.81461168\n",
      "  1.8922244   3.75930369  0.45656127  1.57795073  2.67919129  1.09639896\n",
      "  0.90005097  1.62240294  1.64968677  2.62526774  1.22962563  1.50663\n",
      "  1.34890021  3.2575537   2.02665448 -1.05861259  1.35634134  1.55136967\n",
      "  0.77328854  2.4462948   0.65188203  1.93364139  1.01585884  0.74300368\n",
      "  2.13941059  4.39039081  1.58229147  1.29536356  2.4484026   0.74041811\n",
      "  3.03483503 -0.13781511]\n"
     ]
    }
   ],
   "source": [
    "Y_mean = Y.mean() \n",
    "Y_column_mean = Y.mean(axis = 0) \n",
    "Y_row_mean = Y.mean(axis = 1)\n",
    "\n",
    "print(f'Entire Mean = {Y_mean}, Column Mean = {Y_column_mean}, Row Mean = {Y_row_mean}')"
   ]
  },
  {
   "cell_type": "markdown",
   "metadata": {},
   "source": [
    "Standard Deviation"
   ]
  },
  {
   "cell_type": "code",
   "execution_count": 61,
   "metadata": {},
   "outputs": [
    {
     "name": "stdout",
     "output_type": "stream",
     "text": [
      "Entire Std = 3.459428907489275, Column Std = [2.97346553 3.60089504 3.5645046  3.2725246  3.54712098 3.30214777\n",
      " 3.56644699 3.61255573 3.37389471 3.5183858 ], Row Std = [4.16814493 3.49698944 2.71885264 2.83546094 3.31407852 2.25479654\n",
      " 3.66530979 3.24820904 1.5727083  1.96609679 2.46389482 3.29374845\n",
      " 4.26241521 2.55811606 1.24638478 4.04466578 3.68656798 3.27355138\n",
      " 2.31367464 3.04097666 4.63791475 3.20068897 3.91789615 3.58220131\n",
      " 3.27595251 4.70148274 2.5528363  3.59453155 1.89591747 1.88006466\n",
      " 3.80494356 3.95613694 2.66597573 4.73178455 2.14441169 2.22628309\n",
      " 4.09707343 3.968158   2.30204102 4.42013037 3.5113932  5.22185296\n",
      " 3.0882317  1.93751875 3.58011632 2.80824138 2.7557629  3.59319067\n",
      " 3.3898275  3.18611929]\n"
     ]
    }
   ],
   "source": [
    "Y_std = Y.std()\n",
    "Y_column_std = Y.std(axis = 0)\n",
    "Y_row_std = Y.std(axis = 1)\n",
    "print(f'Entire Std = {Y_std}, Column Std = {Y_column_std}, Row Std = {Y_row_std}')"
   ]
  },
  {
   "cell_type": "markdown",
   "metadata": {},
   "source": [
    "Minimum and Maximum Value"
   ]
  },
  {
   "cell_type": "code",
   "execution_count": 62,
   "metadata": {},
   "outputs": [
    {
     "name": "stdout",
     "output_type": "stream",
     "text": [
      "Entire Min = -8.27579750051289, Column Min = [-3.55439832 -7.02193217 -8.2757975  -3.38817149 -6.9472605  -6.55538544\n",
      " -5.99863355 -8.23887064 -7.27254228 -5.89957373], Row Min = [-6.55538544 -5.71049248 -2.35216712 -2.41058622 -1.60670137 -2.49881369\n",
      " -3.38773717 -5.57770426 -0.847318   -0.73555643 -2.33219146 -4.15520324\n",
      " -5.00293653 -2.80520347  0.8470058  -7.02193217 -5.13726323 -0.76420841\n",
      " -2.95395564 -4.19603419 -4.66240996 -3.19936526 -2.76910539 -4.35968533\n",
      " -3.38817149 -8.2757975  -3.83988111 -3.54306609 -2.40764506 -1.84398842\n",
      " -3.64904924 -1.53719037 -1.39134101 -7.27254228 -2.61593935 -0.95470549\n",
      " -8.23887064 -4.64573974 -3.88577636 -5.05606342 -5.99863355 -6.9472605\n",
      " -1.12489366  1.13989474 -4.39420995 -1.65572072 -2.00059216 -5.33236851\n",
      " -2.40204868 -6.32980279]\n",
      "\n",
      " Entire Max = 12.107999893302107, Column Max = [ 8.73024162  8.69724433 10.34913997  9.15442876 12.10799989 10.07279027\n",
      "  8.98239824  8.85089298  9.16744905  8.88711769], Row Max = [ 7.60684117  6.61737778  5.50653298  7.30930762  8.85089298  4.75885728\n",
      "  9.14951392  4.56659122  5.45319368  5.69621258  5.78577697  5.42496198\n",
      "  8.38485612  4.30651361  4.54110155  9.15442876  9.16744905 10.34913997\n",
      "  6.02629059  8.16630548  8.34627616  6.42639    10.07279027  7.77255373\n",
      "  7.8368722   8.67910705  5.70719202  6.90175689  4.72507524  4.24669728\n",
      "  8.73024162 12.10799989  5.67440124  6.58000241  5.97484829  5.03544512\n",
      "  4.7870906   8.98239824  4.48446422  8.88711769  5.81514717  8.69724433\n",
      "  8.69118436  7.76414139  6.60337884  5.41346689  7.67867285  8.03264981\n",
      "  7.4660796   3.70568485]\n"
     ]
    }
   ],
   "source": [
    "Y_min = Y.min()\n",
    "Y_column_min = Y.min(axis = 0)\n",
    "Y_row_min = Y.min(axis = 1)\n",
    "\n",
    "Y_max = Y.max()\n",
    "Y_column_max = Y.max(axis = 0)\n",
    "Y_row_max = Y.max(axis = 1)\n",
    "\n",
    "print(f'Entire Min = {Y_min}, Column Min = {Y_column_min}, Row Min = {Y_row_min}\\n\\n Entire Max = {Y_max}, Column Max = {Y_column_max}, Row Max = {Y_row_max}')\n",
    "#\\n - next line."
   ]
  },
  {
   "cell_type": "markdown",
   "metadata": {},
   "source": [
    "50th Percentile (median)"
   ]
  },
  {
   "cell_type": "code",
   "execution_count": 63,
   "metadata": {},
   "outputs": [
    {
     "name": "stdout",
     "output_type": "stream",
     "text": [
      "Entire P50 = 1.6357542265981126, Column P50 = [0.83777454 1.46243733 2.26188097 2.68303801 1.69522641 1.19247784\n",
      " 1.66511022 1.88637301 2.11585301 1.7231152 ], Row P50 = [ 0.13930128  0.63402053  2.1643072  -0.3689994   1.79919174  2.52507588\n",
      "  3.25253394  2.18273066  2.03966966  1.71163962  1.85349471  1.98381179\n",
      "  3.60237477  1.26488224  2.8334298   1.11638351  1.5679538   1.18037081\n",
      "  2.4124538   4.07250257 -1.04250678  1.15455364  1.34348846  1.64238981\n",
      "  0.18022541  1.73711147  2.19390237  4.29091816  1.74793527  1.25266811\n",
      " -0.03807894  3.17973259  1.75672218 -1.32634913  1.01316692  0.82576286\n",
      "  2.68434506  2.52592996  0.87063823  2.27392395  1.78497855  0.90081967\n",
      "  1.12969807  4.78045975  1.59669796 -0.4706349   2.16644693  0.41861186\n",
      "  3.71732614  0.58966468]\n"
     ]
    }
   ],
   "source": [
    "Y_P50 = np.percentile(Y, 50)\n",
    "Y_column_P50 = np.percentile(Y,50, axis = 0)\n",
    "Y_row_P50 = np.percentile(Y, 50, axis = 1)\n",
    "print(f'Entire P50 = {Y_P50}, Column P50 = {Y_column_P50}, Row P50 = {Y_row_P50}')"
   ]
  },
  {
   "cell_type": "markdown",
   "metadata": {},
   "source": [
    "Percentile: 1%, 5%, 10%, 25%, 50%, 75%, 90%, 95%, 99%"
   ]
  },
  {
   "cell_type": "code",
   "execution_count": 64,
   "metadata": {},
   "outputs": [
    {
     "name": "stdout",
     "output_type": "stream",
     "text": [
      "Entire % = [-6.55930419 -4.2001087  -2.61815676 -0.66135766  1.63575423  4.09324932\n",
      "  5.89234926  7.66176232  9.14956307], Column % = [[-3.52428569 -6.37932673 -6.81845637 -2.83310864 -5.99454175 -6.07632166\n",
      "  -5.81810321 -7.30342739 -5.98540904 -5.86541761]\n",
      " [-3.20104201 -4.14476197 -3.39951856 -1.54884949 -3.63769972 -4.69489976\n",
      "  -5.20803122 -4.78432563 -3.61167408 -4.3499765 ]\n",
      " [-2.41234597 -3.24433366 -2.50499186 -1.39802888 -2.77509353 -3.20329616\n",
      "  -3.61651192 -2.59549058 -2.40857095 -2.66134984]\n",
      " [-0.29330982 -0.63429114 -0.30240212 -0.03712551  0.02342982 -0.85215682\n",
      "  -0.7380409  -1.10602501 -0.52014799 -0.61819976]\n",
      " [ 0.83777454  1.46243733  2.26188097  2.68303801  1.69522641  1.19247784\n",
      "   1.66511022  1.88637301  2.11585301  1.7231152 ]\n",
      " [ 3.24783474  4.7038481   4.45692556  4.58953344  3.67107943  3.31972675\n",
      "   3.65069459  4.19152034  3.64379998  4.14956799]\n",
      " [ 5.69955104  5.89401952  5.99840397  7.79856334  5.62073643  4.59353522\n",
      "   5.73917714  5.68824969  5.52510478  5.62910222]\n",
      " [ 6.91544798  7.03651125  7.34359849  8.31474818  7.33273693  5.77285217\n",
      "   7.42231258  7.17505527  7.59946814  7.24179824]\n",
      " [ 7.97317553  8.20264592  9.27955107  8.77733817 10.43376028  8.65530922\n",
      "   8.83378555  8.27650512  9.15866084  8.62210534]], Row % = [[-6.16838587e+00 -5.40801391e+00 -2.30023945e+00 -2.32487324e+00\n",
      "  -1.56245311e+00 -2.24987916e+00 -3.18547618e+00 -5.39560672e+00\n",
      "  -7.06092747e-01 -7.29656614e-01 -2.28770992e+00 -4.07876691e+00\n",
      "  -4.79544167e+00 -2.77820270e+00  8.73725327e-01 -6.60839418e+00\n",
      "  -4.85397299e+00 -6.61167156e-01 -2.74756869e+00 -3.56700091e+00\n",
      "  -4.62777026e+00 -3.16603120e+00 -2.60551143e+00 -4.22074668e+00\n",
      "  -3.35954003e+00 -7.72502138e+00 -3.59027236e+00 -3.36553382e+00\n",
      "  -2.30225919e+00 -1.75744308e+00 -3.46301675e+00 -1.49240633e+00\n",
      "  -1.38226030e+00 -7.14897511e+00 -2.38480703e+00 -9.45603130e-01\n",
      "  -7.97451915e+00 -4.34006637e+00 -3.69523960e+00 -4.91538267e+00\n",
      "  -5.73531477e+00 -6.84669512e+00 -1.03958772e+00  1.15664790e+00\n",
      "  -4.22918464e+00 -1.63078302e+00 -1.84570287e+00 -5.15918902e+00\n",
      "  -2.34017291e+00 -6.12255477e+00]\n",
      " [-4.62038757e+00 -4.19809961e+00 -2.09252878e+00 -1.98202131e+00\n",
      "  -1.38546007e+00 -1.25414104e+00 -2.37643220e+00 -4.66721658e+00\n",
      "  -1.41191726e-01 -7.06057364e-01 -2.10978375e+00 -3.77302156e+00\n",
      "  -3.96546224e+00 -2.67019960e+00  9.80603440e-01 -4.95424219e+00\n",
      "  -3.72081203e+00 -2.49002143e-01 -1.92202085e+00 -1.05086778e+00\n",
      "  -4.48921147e+00 -3.03269496e+00 -1.95113561e+00 -3.66499209e+00\n",
      "  -3.24501422e+00 -5.52191690e+00 -2.59183738e+00 -2.65540474e+00\n",
      "  -1.88071568e+00 -1.41126170e+00 -2.71888680e+00 -1.31327017e+00\n",
      "  -1.34593747e+00 -6.65470643e+00 -1.46027776e+00 -9.09193682e-01\n",
      "  -6.91711321e+00 -3.11737290e+00 -2.93309258e+00 -4.35265967e+00\n",
      "  -4.68203962e+00 -6.44443359e+00 -6.98363944e-01  1.22366054e+00\n",
      "  -3.56908339e+00 -1.53103222e+00 -1.22614568e+00 -4.46647108e+00\n",
      "  -2.09266984e+00 -5.29356268e+00]\n",
      " [-2.68538970e+00 -2.68570674e+00 -1.83289043e+00 -1.55345639e+00\n",
      "  -1.16421876e+00 -9.46838576e-03 -1.36512723e+00 -3.75672891e+00\n",
      "   5.64934551e-01 -6.76558301e-01 -1.88737604e+00 -3.39083988e+00\n",
      "  -2.92798795e+00 -2.53519572e+00  1.11420108e+00 -2.88655221e+00\n",
      "  -2.30436083e+00  2.66204123e-01 -8.90086065e-01  2.09429864e+00\n",
      "  -4.31601298e+00 -2.86602466e+00 -1.13316583e+00 -2.97029885e+00\n",
      "  -3.10185695e+00 -2.76803630e+00 -1.34379366e+00 -1.76774339e+00\n",
      "  -1.35378631e+00 -9.78534986e-01 -1.78872436e+00 -1.08934996e+00\n",
      "  -1.30053393e+00 -6.03687058e+00 -3.04616165e-01 -8.63681871e-01\n",
      "  -5.59535579e+00 -1.58900606e+00 -1.98040880e+00 -3.64925592e+00\n",
      "  -3.36544568e+00 -5.94160667e+00 -2.71834227e-01  1.30742635e+00\n",
      "  -2.74395683e+00 -1.40634372e+00 -4.51699189e-01 -3.60057366e+00\n",
      "  -1.78329099e+00 -4.25732258e+00]\n",
      " [-1.03345498e+00 -1.14042591e+00 -5.29187700e-01 -9.16885586e-01\n",
      "  -3.39969681e-01  4.00192899e-01  6.51381059e-01 -9.21514013e-02\n",
      "   1.07714263e+00  2.14005040e-01  9.33463247e-02 -2.69682040e+00\n",
      "  -5.56339087e-01 -6.65198715e-01  1.82476902e+00  5.66554319e-01\n",
      "  -1.16933960e-01  5.28261428e-01  1.14610294e+00  3.13027015e+00\n",
      "  -2.97559910e+00 -4.20212437e-01 -1.10627334e-01 -2.18612029e+00\n",
      "  -1.19689232e+00 -3.95234604e-01  6.10044297e-01 -1.00034884e+00\n",
      "   3.66000541e-01  5.56168438e-01 -1.28705812e+00 -2.80818530e-01\n",
      "  -5.61030526e-01 -5.54741875e+00  2.67039395e-01 -3.02856216e-01\n",
      "  -1.70305978e-01 -9.16694137e-02 -2.91086643e-01 -1.59840187e+00\n",
      "  -1.04919311e+00 -3.84673821e+00  4.55474182e-02  3.43267739e+00\n",
      "  -1.07179932e+00 -9.43453003e-01  5.02417580e-01 -7.43454166e-01\n",
      "  -6.32012176e-02 -2.13279480e+00]\n",
      " [ 1.39301276e-01  6.34020530e-01  2.16430720e+00 -3.68999401e-01\n",
      "   1.79919174e+00  2.52507588e+00  3.25253394e+00  2.18273066e+00\n",
      "   2.03966966e+00  1.71163962e+00  1.85349471e+00  1.98381179e+00\n",
      "   3.60237477e+00  1.26488224e+00  2.83342980e+00  1.11638351e+00\n",
      "   1.56795380e+00  1.18037081e+00  2.41245380e+00  4.07250257e+00\n",
      "  -1.04250678e+00  1.15455364e+00  1.34348846e+00  1.64238981e+00\n",
      "   1.80225409e-01  1.73711147e+00  2.19390237e+00  4.29091816e+00\n",
      "   1.74793527e+00  1.25266811e+00 -3.80789421e-02  3.17973259e+00\n",
      "   1.75672218e+00 -1.32634913e+00  1.01316692e+00  8.25762860e-01\n",
      "   2.68434506e+00  2.52592996e+00  8.70638235e-01  2.27392395e+00\n",
      "   1.78497855e+00  9.00819669e-01  1.12969807e+00  4.78045975e+00\n",
      "   1.59669796e+00 -4.70634904e-01  2.16644693e+00  4.18611857e-01\n",
      "   3.71732614e+00  5.89664676e-01]\n",
      " [ 4.05085424e+00  3.06682696e+00  4.32880790e+00  2.10425968e+00\n",
      "   3.28720921e+00  4.21562675e+00  5.77895462e+00  3.77645993e+00\n",
      "   2.66461719e+00  2.77368454e+00  3.41119881e+00  2.88009164e+00\n",
      "   5.92525284e+00  3.40066522e+00  3.83278017e+00  2.67381490e+00\n",
      "   3.01762899e+00  4.46146420e+00  3.09521439e+00  5.33041067e+00\n",
      "   3.31224633e+00  4.34451909e+00  6.03176282e+00  3.44751402e+00\n",
      "   3.12201017e+00  3.41319812e+00  2.48940068e+00  5.50895952e+00\n",
      "   2.04861472e+00  3.15752271e+00  3.14391779e+00  5.17046847e+00\n",
      "   4.55326684e+00  2.55674192e+00  2.35673963e+00  3.75088861e+00\n",
      "   3.48538676e+00  4.36530411e+00  1.49133322e+00  4.61182689e+00\n",
      "   3.00681971e+00  4.70057116e+00  2.46592214e+00  5.48685257e+00\n",
      "   4.52218725e+00  3.98458873e+00  4.31874609e+00  2.58027294e+00\n",
      "   5.55438397e+00  2.67085482e+00]\n",
      " [ 7.22737201e+00  5.58311152e+00  4.74066407e+00  4.41836987e+00\n",
      "   7.56632129e+00  4.61408040e+00  7.05237436e+00  4.41477925e+00\n",
      "   3.18698206e+00  4.11842217e+00  4.26133052e+00  4.55790224e+00\n",
      "   7.31558548e+00  4.27799299e+00  4.16790682e+00  5.53774037e+00\n",
      "   5.37370075e+00  6.57900390e+00  3.72532651e+00  5.82169704e+00\n",
      "   8.34249355e+00  5.50294538e+00  7.45067026e+00  4.72609932e+00\n",
      "   4.25902853e+00  8.32112647e+00  4.42505140e+00  6.44968411e+00\n",
      "   2.48755050e+00  3.62028759e+00  7.33499878e+00  6.93545509e+00\n",
      "   5.55659696e+00  5.54333445e+00  3.40015174e+00  4.75160100e+00\n",
      "   4.12132159e+00  8.02760035e+00  3.74510085e+00  7.80778561e+00\n",
      "   5.40966385e+00  7.76450950e+00  7.30120677e+00  5.93305157e+00\n",
      "   6.26317436e+00  5.35318514e+00  5.40959968e+00  4.60213548e+00\n",
      "   6.69841896e+00  3.38653968e+00]\n",
      " [ 7.41710659e+00  6.10024465e+00  5.12359853e+00  5.86383874e+00\n",
      "   8.20860713e+00  4.68646884e+00  8.10094414e+00  4.49068524e+00\n",
      "   4.32008787e+00  4.90731737e+00  5.02355374e+00  4.99143211e+00\n",
      "   7.85022080e+00  4.29225330e+00  4.35450419e+00  7.34608457e+00\n",
      "   7.27057490e+00  8.46407194e+00  4.87580855e+00  6.99400126e+00\n",
      "   8.34438486e+00  5.96466769e+00  8.76173027e+00  6.24932653e+00\n",
      "   6.04795036e+00  8.50011676e+00  5.06612171e+00  6.67572050e+00\n",
      "   3.60631287e+00  3.93349243e+00  8.03262020e+00  9.52172749e+00\n",
      "   5.61549910e+00  6.06166843e+00  4.68750002e+00  4.89352306e+00\n",
      "   4.45420610e+00  8.50499929e+00  4.11478253e+00  8.34745165e+00\n",
      "   5.61240551e+00  8.23087691e+00  7.99619556e+00  6.84859648e+00\n",
      "   6.43327660e+00  5.38332601e+00  6.54413626e+00  6.31739265e+00\n",
      "   7.08224928e+00  3.54611227e+00]\n",
      " [ 7.56889426e+00  6.51395115e+00  5.42994609e+00  7.02021384e+00\n",
      "   8.72243581e+00  4.74437960e+00  8.93979997e+00  4.55141003e+00\n",
      "   5.22657252e+00  5.53843354e+00  5.63333232e+00  5.33825600e+00\n",
      "   8.27792906e+00  4.30366155e+00  4.50378208e+00  8.79275993e+00\n",
      "   8.78807422e+00  9.97212637e+00  5.79619418e+00  7.93184464e+00\n",
      "   8.34589790e+00  6.33404554e+00  9.81057827e+00  7.46790829e+00\n",
      "   7.47908783e+00  8.64330899e+00  5.57897796e+00  6.85654961e+00\n",
      "   4.50132277e+00  4.18405631e+00  8.59071734e+00  1.15907454e+01\n",
      "   5.66262081e+00  6.47633562e+00  5.71737864e+00  5.00706071e+00\n",
      "   4.72051370e+00  8.88691845e+00  4.41052788e+00  8.77918448e+00\n",
      "   5.77459884e+00  8.60397085e+00  8.55218660e+00  7.58103241e+00\n",
      "   6.56935839e+00  5.40743871e+00  7.45176553e+00  7.68959838e+00\n",
      "   7.38931354e+00  3.67377033e+00]]\n"
     ]
    }
   ],
   "source": [
    "Percentile_List = [1, 5, 10, 25, 50, 75, 90, 95, 99]\n",
    "Y_Percentile = np.percentile(Y, Percentile_List) #Percentile values returned in accordance with Percentile_List index. \n",
    "Y_column_Percentile = np.percentile(Y, Percentile_List, axis = 0) \n",
    "Y_row_Percentile = np.percentile(Y, Percentile_List, axis = 1) \n",
    "\n",
    "\n",
    "print(f'Entire % = {Y_Percentile}, Column % = {Y_column_Percentile}, Row % = {Y_row_Percentile}')"
   ]
  },
  {
   "cell_type": "markdown",
   "metadata": {},
   "source": [
    "## Concating and Stacking Operations"
   ]
  },
  {
   "cell_type": "markdown",
   "metadata": {},
   "source": [
    "Create three different arrays (50 x 1) of random values."
   ]
  },
  {
   "cell_type": "code",
   "execution_count": 65,
   "metadata": {},
   "outputs": [],
   "source": [
    "np.random.seed(1) \n",
    "rand_1 = np.random.normal(0,1, size = (50, 1))\n",
    "rand_2 = np.random.normal(0,1, size = (50, 1))\n",
    "rand_3 = np.random.normal(0,1, size = (50, 1))"
   ]
  },
  {
   "cell_type": "markdown",
   "metadata": {},
   "source": [
    "### Concatenate"
   ]
  },
  {
   "cell_type": "markdown",
   "metadata": {},
   "source": [
    "Concatenated to the same column (default axis = 0): Output = 150 x 1 array."
   ]
  },
  {
   "cell_type": "code",
   "execution_count": 66,
   "metadata": {},
   "outputs": [
    {
     "name": "stdout",
     "output_type": "stream",
     "text": [
      "[[ 1.62434536]\n",
      " [-0.61175641]\n",
      " [-0.52817175]\n",
      " [-1.07296862]\n",
      " [ 0.86540763]\n",
      " [-2.3015387 ]\n",
      " [ 1.74481176]\n",
      " [-0.7612069 ]\n",
      " [ 0.3190391 ]\n",
      " [-0.24937038]\n",
      " [ 1.46210794]\n",
      " [-2.06014071]\n",
      " [-0.3224172 ]\n",
      " [-0.38405435]\n",
      " [ 1.13376944]\n",
      " [-1.09989127]\n",
      " [-0.17242821]\n",
      " [-0.87785842]\n",
      " [ 0.04221375]\n",
      " [ 0.58281521]\n",
      " [-1.10061918]\n",
      " [ 1.14472371]\n",
      " [ 0.90159072]\n",
      " [ 0.50249434]\n",
      " [ 0.90085595]\n",
      " [-0.68372786]\n",
      " [-0.12289023]\n",
      " [-0.93576943]\n",
      " [-0.26788808]\n",
      " [ 0.53035547]\n",
      " [-0.69166075]\n",
      " [-0.39675353]\n",
      " [-0.6871727 ]\n",
      " [-0.84520564]\n",
      " [-0.67124613]\n",
      " [-0.0126646 ]\n",
      " [-1.11731035]\n",
      " [ 0.2344157 ]\n",
      " [ 1.65980218]\n",
      " [ 0.74204416]\n",
      " [-0.19183555]\n",
      " [-0.88762896]\n",
      " [-0.74715829]\n",
      " [ 1.6924546 ]\n",
      " [ 0.05080775]\n",
      " [-0.63699565]\n",
      " [ 0.19091548]\n",
      " [ 2.10025514]\n",
      " [ 0.12015895]\n",
      " [ 0.61720311]\n",
      " [ 0.30017032]\n",
      " [-0.35224985]\n",
      " [-1.1425182 ]\n",
      " [-0.34934272]\n",
      " [-0.20889423]\n",
      " [ 0.58662319]\n",
      " [ 0.83898341]\n",
      " [ 0.93110208]\n",
      " [ 0.28558733]\n",
      " [ 0.88514116]\n",
      " [-0.75439794]\n",
      " [ 1.25286816]\n",
      " [ 0.51292982]\n",
      " [-0.29809284]\n",
      " [ 0.48851815]\n",
      " [-0.07557171]\n",
      " [ 1.13162939]\n",
      " [ 1.51981682]\n",
      " [ 2.18557541]\n",
      " [-1.39649634]\n",
      " [-1.44411381]\n",
      " [-0.50446586]\n",
      " [ 0.16003707]\n",
      " [ 0.87616892]\n",
      " [ 0.31563495]\n",
      " [-2.02220122]\n",
      " [-0.30620401]\n",
      " [ 0.82797464]\n",
      " [ 0.23009474]\n",
      " [ 0.76201118]\n",
      " [-0.22232814]\n",
      " [-0.20075807]\n",
      " [ 0.18656139]\n",
      " [ 0.41005165]\n",
      " [ 0.19829972]\n",
      " [ 0.11900865]\n",
      " [-0.67066229]\n",
      " [ 0.37756379]\n",
      " [ 0.12182127]\n",
      " [ 1.12948391]\n",
      " [ 1.19891788]\n",
      " [ 0.18515642]\n",
      " [-0.37528495]\n",
      " [-0.63873041]\n",
      " [ 0.42349435]\n",
      " [ 0.07734007]\n",
      " [-0.34385368]\n",
      " [ 0.04359686]\n",
      " [-0.62000084]\n",
      " [ 0.69803203]\n",
      " [-0.44712856]\n",
      " [ 1.2245077 ]\n",
      " [ 0.40349164]\n",
      " [ 0.59357852]\n",
      " [-1.09491185]\n",
      " [ 0.16938243]\n",
      " [ 0.74055645]\n",
      " [-0.9537006 ]\n",
      " [-0.26621851]\n",
      " [ 0.03261455]\n",
      " [-1.37311732]\n",
      " [ 0.31515939]\n",
      " [ 0.84616065]\n",
      " [-0.85951594]\n",
      " [ 0.35054598]\n",
      " [-1.31228341]\n",
      " [-0.03869551]\n",
      " [-1.61577235]\n",
      " [ 1.12141771]\n",
      " [ 0.40890054]\n",
      " [-0.02461696]\n",
      " [-0.77516162]\n",
      " [ 1.27375593]\n",
      " [ 1.96710175]\n",
      " [-1.85798186]\n",
      " [ 1.23616403]\n",
      " [ 1.62765075]\n",
      " [ 0.3380117 ]\n",
      " [-1.19926803]\n",
      " [ 0.86334532]\n",
      " [-0.1809203 ]\n",
      " [-0.60392063]\n",
      " [-1.23005814]\n",
      " [ 0.5505375 ]\n",
      " [ 0.79280687]\n",
      " [-0.62353073]\n",
      " [ 0.52057634]\n",
      " [-1.14434139]\n",
      " [ 0.80186103]\n",
      " [ 0.0465673 ]\n",
      " [-0.18656977]\n",
      " [-0.10174587]\n",
      " [ 0.86888616]\n",
      " [ 0.75041164]\n",
      " [ 0.52946532]\n",
      " [ 0.13770121]\n",
      " [ 0.07782113]\n",
      " [ 0.61838026]\n",
      " [ 0.23249456]\n",
      " [ 0.68255141]]\n"
     ]
    }
   ],
   "source": [
    "concat_column = np.concatenate((rand_1, rand_2, rand_3))\n",
    "print(concat_column)"
   ]
  },
  {
   "cell_type": "markdown",
   "metadata": {},
   "source": [
    "Concatenated to the same rows: Output = 50 x 3 matrix."
   ]
  },
  {
   "cell_type": "code",
   "execution_count": 67,
   "metadata": {},
   "outputs": [
    {
     "name": "stdout",
     "output_type": "stream",
     "text": [
      "[[ 1.62434536  0.30017032 -0.44712856]\n",
      " [-0.61175641 -0.35224985  1.2245077 ]\n",
      " [-0.52817175 -1.1425182   0.40349164]\n",
      " [-1.07296862 -0.34934272  0.59357852]\n",
      " [ 0.86540763 -0.20889423 -1.09491185]\n",
      " [-2.3015387   0.58662319  0.16938243]\n",
      " [ 1.74481176  0.83898341  0.74055645]\n",
      " [-0.7612069   0.93110208 -0.9537006 ]\n",
      " [ 0.3190391   0.28558733 -0.26621851]\n",
      " [-0.24937038  0.88514116  0.03261455]\n",
      " [ 1.46210794 -0.75439794 -1.37311732]\n",
      " [-2.06014071  1.25286816  0.31515939]\n",
      " [-0.3224172   0.51292982  0.84616065]\n",
      " [-0.38405435 -0.29809284 -0.85951594]\n",
      " [ 1.13376944  0.48851815  0.35054598]\n",
      " [-1.09989127 -0.07557171 -1.31228341]\n",
      " [-0.17242821  1.13162939 -0.03869551]\n",
      " [-0.87785842  1.51981682 -1.61577235]\n",
      " [ 0.04221375  2.18557541  1.12141771]\n",
      " [ 0.58281521 -1.39649634  0.40890054]\n",
      " [-1.10061918 -1.44411381 -0.02461696]\n",
      " [ 1.14472371 -0.50446586 -0.77516162]\n",
      " [ 0.90159072  0.16003707  1.27375593]\n",
      " [ 0.50249434  0.87616892  1.96710175]\n",
      " [ 0.90085595  0.31563495 -1.85798186]\n",
      " [-0.68372786 -2.02220122  1.23616403]\n",
      " [-0.12289023 -0.30620401  1.62765075]\n",
      " [-0.93576943  0.82797464  0.3380117 ]\n",
      " [-0.26788808  0.23009474 -1.19926803]\n",
      " [ 0.53035547  0.76201118  0.86334532]\n",
      " [-0.69166075 -0.22232814 -0.1809203 ]\n",
      " [-0.39675353 -0.20075807 -0.60392063]\n",
      " [-0.6871727   0.18656139 -1.23005814]\n",
      " [-0.84520564  0.41005165  0.5505375 ]\n",
      " [-0.67124613  0.19829972  0.79280687]\n",
      " [-0.0126646   0.11900865 -0.62353073]\n",
      " [-1.11731035 -0.67066229  0.52057634]\n",
      " [ 0.2344157   0.37756379 -1.14434139]\n",
      " [ 1.65980218  0.12182127  0.80186103]\n",
      " [ 0.74204416  1.12948391  0.0465673 ]\n",
      " [-0.19183555  1.19891788 -0.18656977]\n",
      " [-0.88762896  0.18515642 -0.10174587]\n",
      " [-0.74715829 -0.37528495  0.86888616]\n",
      " [ 1.6924546  -0.63873041  0.75041164]\n",
      " [ 0.05080775  0.42349435  0.52946532]\n",
      " [-0.63699565  0.07734007  0.13770121]\n",
      " [ 0.19091548 -0.34385368  0.07782113]\n",
      " [ 2.10025514  0.04359686  0.61838026]\n",
      " [ 0.12015895 -0.62000084  0.23249456]\n",
      " [ 0.61720311  0.69803203  0.68255141]]\n"
     ]
    }
   ],
   "source": [
    "concat_row = np.concatenate((rand_1, rand_2, rand_3), axis = 1) \n",
    "print(concat_row)"
   ]
  },
  {
   "cell_type": "markdown",
   "metadata": {},
   "source": [
    "## Stacking\n",
    "\n",
    "Similar to concatanating, but without the need to define the axis."
   ]
  },
  {
   "cell_type": "markdown",
   "metadata": {},
   "source": [
    "Vertical Stacking: Stack a Column (similar to np.concatenate, with axis =0)."
   ]
  },
  {
   "cell_type": "code",
   "execution_count": 68,
   "metadata": {},
   "outputs": [
    {
     "name": "stdout",
     "output_type": "stream",
     "text": [
      "[[ 1.62434536]\n",
      " [-0.61175641]\n",
      " [-0.52817175]\n",
      " [-1.07296862]\n",
      " [ 0.86540763]\n",
      " [-2.3015387 ]\n",
      " [ 1.74481176]\n",
      " [-0.7612069 ]\n",
      " [ 0.3190391 ]\n",
      " [-0.24937038]\n",
      " [ 1.46210794]\n",
      " [-2.06014071]\n",
      " [-0.3224172 ]\n",
      " [-0.38405435]\n",
      " [ 1.13376944]\n",
      " [-1.09989127]\n",
      " [-0.17242821]\n",
      " [-0.87785842]\n",
      " [ 0.04221375]\n",
      " [ 0.58281521]\n",
      " [-1.10061918]\n",
      " [ 1.14472371]\n",
      " [ 0.90159072]\n",
      " [ 0.50249434]\n",
      " [ 0.90085595]\n",
      " [-0.68372786]\n",
      " [-0.12289023]\n",
      " [-0.93576943]\n",
      " [-0.26788808]\n",
      " [ 0.53035547]\n",
      " [-0.69166075]\n",
      " [-0.39675353]\n",
      " [-0.6871727 ]\n",
      " [-0.84520564]\n",
      " [-0.67124613]\n",
      " [-0.0126646 ]\n",
      " [-1.11731035]\n",
      " [ 0.2344157 ]\n",
      " [ 1.65980218]\n",
      " [ 0.74204416]\n",
      " [-0.19183555]\n",
      " [-0.88762896]\n",
      " [-0.74715829]\n",
      " [ 1.6924546 ]\n",
      " [ 0.05080775]\n",
      " [-0.63699565]\n",
      " [ 0.19091548]\n",
      " [ 2.10025514]\n",
      " [ 0.12015895]\n",
      " [ 0.61720311]\n",
      " [ 0.30017032]\n",
      " [-0.35224985]\n",
      " [-1.1425182 ]\n",
      " [-0.34934272]\n",
      " [-0.20889423]\n",
      " [ 0.58662319]\n",
      " [ 0.83898341]\n",
      " [ 0.93110208]\n",
      " [ 0.28558733]\n",
      " [ 0.88514116]\n",
      " [-0.75439794]\n",
      " [ 1.25286816]\n",
      " [ 0.51292982]\n",
      " [-0.29809284]\n",
      " [ 0.48851815]\n",
      " [-0.07557171]\n",
      " [ 1.13162939]\n",
      " [ 1.51981682]\n",
      " [ 2.18557541]\n",
      " [-1.39649634]\n",
      " [-1.44411381]\n",
      " [-0.50446586]\n",
      " [ 0.16003707]\n",
      " [ 0.87616892]\n",
      " [ 0.31563495]\n",
      " [-2.02220122]\n",
      " [-0.30620401]\n",
      " [ 0.82797464]\n",
      " [ 0.23009474]\n",
      " [ 0.76201118]\n",
      " [-0.22232814]\n",
      " [-0.20075807]\n",
      " [ 0.18656139]\n",
      " [ 0.41005165]\n",
      " [ 0.19829972]\n",
      " [ 0.11900865]\n",
      " [-0.67066229]\n",
      " [ 0.37756379]\n",
      " [ 0.12182127]\n",
      " [ 1.12948391]\n",
      " [ 1.19891788]\n",
      " [ 0.18515642]\n",
      " [-0.37528495]\n",
      " [-0.63873041]\n",
      " [ 0.42349435]\n",
      " [ 0.07734007]\n",
      " [-0.34385368]\n",
      " [ 0.04359686]\n",
      " [-0.62000084]\n",
      " [ 0.69803203]\n",
      " [-0.44712856]\n",
      " [ 1.2245077 ]\n",
      " [ 0.40349164]\n",
      " [ 0.59357852]\n",
      " [-1.09491185]\n",
      " [ 0.16938243]\n",
      " [ 0.74055645]\n",
      " [-0.9537006 ]\n",
      " [-0.26621851]\n",
      " [ 0.03261455]\n",
      " [-1.37311732]\n",
      " [ 0.31515939]\n",
      " [ 0.84616065]\n",
      " [-0.85951594]\n",
      " [ 0.35054598]\n",
      " [-1.31228341]\n",
      " [-0.03869551]\n",
      " [-1.61577235]\n",
      " [ 1.12141771]\n",
      " [ 0.40890054]\n",
      " [-0.02461696]\n",
      " [-0.77516162]\n",
      " [ 1.27375593]\n",
      " [ 1.96710175]\n",
      " [-1.85798186]\n",
      " [ 1.23616403]\n",
      " [ 1.62765075]\n",
      " [ 0.3380117 ]\n",
      " [-1.19926803]\n",
      " [ 0.86334532]\n",
      " [-0.1809203 ]\n",
      " [-0.60392063]\n",
      " [-1.23005814]\n",
      " [ 0.5505375 ]\n",
      " [ 0.79280687]\n",
      " [-0.62353073]\n",
      " [ 0.52057634]\n",
      " [-1.14434139]\n",
      " [ 0.80186103]\n",
      " [ 0.0465673 ]\n",
      " [-0.18656977]\n",
      " [-0.10174587]\n",
      " [ 0.86888616]\n",
      " [ 0.75041164]\n",
      " [ 0.52946532]\n",
      " [ 0.13770121]\n",
      " [ 0.07782113]\n",
      " [ 0.61838026]\n",
      " [ 0.23249456]\n",
      " [ 0.68255141]]\n"
     ]
    }
   ],
   "source": [
    "V_Stack = np.vstack((rand_1, rand_2, rand_3))\n",
    "print(V_Stack)"
   ]
  },
  {
   "cell_type": "markdown",
   "metadata": {},
   "source": [
    "Horizontal Stacking: Stack Rowwise (similar to np.concatenate, with axis=1)."
   ]
  },
  {
   "cell_type": "code",
   "execution_count": 69,
   "metadata": {},
   "outputs": [
    {
     "name": "stdout",
     "output_type": "stream",
     "text": [
      "[[ 1.62434536  0.30017032 -0.44712856]\n",
      " [-0.61175641 -0.35224985  1.2245077 ]\n",
      " [-0.52817175 -1.1425182   0.40349164]\n",
      " [-1.07296862 -0.34934272  0.59357852]\n",
      " [ 0.86540763 -0.20889423 -1.09491185]\n",
      " [-2.3015387   0.58662319  0.16938243]\n",
      " [ 1.74481176  0.83898341  0.74055645]\n",
      " [-0.7612069   0.93110208 -0.9537006 ]\n",
      " [ 0.3190391   0.28558733 -0.26621851]\n",
      " [-0.24937038  0.88514116  0.03261455]\n",
      " [ 1.46210794 -0.75439794 -1.37311732]\n",
      " [-2.06014071  1.25286816  0.31515939]\n",
      " [-0.3224172   0.51292982  0.84616065]\n",
      " [-0.38405435 -0.29809284 -0.85951594]\n",
      " [ 1.13376944  0.48851815  0.35054598]\n",
      " [-1.09989127 -0.07557171 -1.31228341]\n",
      " [-0.17242821  1.13162939 -0.03869551]\n",
      " [-0.87785842  1.51981682 -1.61577235]\n",
      " [ 0.04221375  2.18557541  1.12141771]\n",
      " [ 0.58281521 -1.39649634  0.40890054]\n",
      " [-1.10061918 -1.44411381 -0.02461696]\n",
      " [ 1.14472371 -0.50446586 -0.77516162]\n",
      " [ 0.90159072  0.16003707  1.27375593]\n",
      " [ 0.50249434  0.87616892  1.96710175]\n",
      " [ 0.90085595  0.31563495 -1.85798186]\n",
      " [-0.68372786 -2.02220122  1.23616403]\n",
      " [-0.12289023 -0.30620401  1.62765075]\n",
      " [-0.93576943  0.82797464  0.3380117 ]\n",
      " [-0.26788808  0.23009474 -1.19926803]\n",
      " [ 0.53035547  0.76201118  0.86334532]\n",
      " [-0.69166075 -0.22232814 -0.1809203 ]\n",
      " [-0.39675353 -0.20075807 -0.60392063]\n",
      " [-0.6871727   0.18656139 -1.23005814]\n",
      " [-0.84520564  0.41005165  0.5505375 ]\n",
      " [-0.67124613  0.19829972  0.79280687]\n",
      " [-0.0126646   0.11900865 -0.62353073]\n",
      " [-1.11731035 -0.67066229  0.52057634]\n",
      " [ 0.2344157   0.37756379 -1.14434139]\n",
      " [ 1.65980218  0.12182127  0.80186103]\n",
      " [ 0.74204416  1.12948391  0.0465673 ]\n",
      " [-0.19183555  1.19891788 -0.18656977]\n",
      " [-0.88762896  0.18515642 -0.10174587]\n",
      " [-0.74715829 -0.37528495  0.86888616]\n",
      " [ 1.6924546  -0.63873041  0.75041164]\n",
      " [ 0.05080775  0.42349435  0.52946532]\n",
      " [-0.63699565  0.07734007  0.13770121]\n",
      " [ 0.19091548 -0.34385368  0.07782113]\n",
      " [ 2.10025514  0.04359686  0.61838026]\n",
      " [ 0.12015895 -0.62000084  0.23249456]\n",
      " [ 0.61720311  0.69803203  0.68255141]]\n"
     ]
    }
   ],
   "source": [
    "H_Stack = np.hstack((rand_1, rand_2, rand_3))\n",
    "print(H_Stack)"
   ]
  },
  {
   "cell_type": "markdown",
   "metadata": {},
   "source": [
    "### Reshaping"
   ]
  },
  {
   "cell_type": "markdown",
   "metadata": {},
   "source": [
    "Reshape V_Stack to a 50 x 3 matrix (after 50 rows, values are placed in a new column). "
   ]
  },
  {
   "cell_type": "code",
   "execution_count": 70,
   "metadata": {},
   "outputs": [
    {
     "name": "stdout",
     "output_type": "stream",
     "text": [
      "[[ 1.62434536 -0.61175641 -0.52817175]\n",
      " [-1.07296862  0.86540763 -2.3015387 ]\n",
      " [ 1.74481176 -0.7612069   0.3190391 ]\n",
      " [-0.24937038  1.46210794 -2.06014071]\n",
      " [-0.3224172  -0.38405435  1.13376944]\n",
      " [-1.09989127 -0.17242821 -0.87785842]\n",
      " [ 0.04221375  0.58281521 -1.10061918]\n",
      " [ 1.14472371  0.90159072  0.50249434]\n",
      " [ 0.90085595 -0.68372786 -0.12289023]\n",
      " [-0.93576943 -0.26788808  0.53035547]\n",
      " [-0.69166075 -0.39675353 -0.6871727 ]\n",
      " [-0.84520564 -0.67124613 -0.0126646 ]\n",
      " [-1.11731035  0.2344157   1.65980218]\n",
      " [ 0.74204416 -0.19183555 -0.88762896]\n",
      " [-0.74715829  1.6924546   0.05080775]\n",
      " [-0.63699565  0.19091548  2.10025514]\n",
      " [ 0.12015895  0.61720311  0.30017032]\n",
      " [-0.35224985 -1.1425182  -0.34934272]\n",
      " [-0.20889423  0.58662319  0.83898341]\n",
      " [ 0.93110208  0.28558733  0.88514116]\n",
      " [-0.75439794  1.25286816  0.51292982]\n",
      " [-0.29809284  0.48851815 -0.07557171]\n",
      " [ 1.13162939  1.51981682  2.18557541]\n",
      " [-1.39649634 -1.44411381 -0.50446586]\n",
      " [ 0.16003707  0.87616892  0.31563495]\n",
      " [-2.02220122 -0.30620401  0.82797464]\n",
      " [ 0.23009474  0.76201118 -0.22232814]\n",
      " [-0.20075807  0.18656139  0.41005165]\n",
      " [ 0.19829972  0.11900865 -0.67066229]\n",
      " [ 0.37756379  0.12182127  1.12948391]\n",
      " [ 1.19891788  0.18515642 -0.37528495]\n",
      " [-0.63873041  0.42349435  0.07734007]\n",
      " [-0.34385368  0.04359686 -0.62000084]\n",
      " [ 0.69803203 -0.44712856  1.2245077 ]\n",
      " [ 0.40349164  0.59357852 -1.09491185]\n",
      " [ 0.16938243  0.74055645 -0.9537006 ]\n",
      " [-0.26621851  0.03261455 -1.37311732]\n",
      " [ 0.31515939  0.84616065 -0.85951594]\n",
      " [ 0.35054598 -1.31228341 -0.03869551]\n",
      " [-1.61577235  1.12141771  0.40890054]\n",
      " [-0.02461696 -0.77516162  1.27375593]\n",
      " [ 1.96710175 -1.85798186  1.23616403]\n",
      " [ 1.62765075  0.3380117  -1.19926803]\n",
      " [ 0.86334532 -0.1809203  -0.60392063]\n",
      " [-1.23005814  0.5505375   0.79280687]\n",
      " [-0.62353073  0.52057634 -1.14434139]\n",
      " [ 0.80186103  0.0465673  -0.18656977]\n",
      " [-0.10174587  0.86888616  0.75041164]\n",
      " [ 0.52946532  0.13770121  0.07782113]\n",
      " [ 0.61838026  0.23249456  0.68255141]]\n"
     ]
    }
   ],
   "source": [
    "V_Stack_Reshape = V_Stack.reshape(50, 3)\n",
    "print(V_Stack_Reshape)"
   ]
  },
  {
   "cell_type": "markdown",
   "metadata": {},
   "source": [
    "Reshape H_Stack to a 150 x 1 matrix (within 1 column, values are placed in a new row). "
   ]
  },
  {
   "cell_type": "code",
   "execution_count": 71,
   "metadata": {},
   "outputs": [
    {
     "name": "stdout",
     "output_type": "stream",
     "text": [
      "[[ 1.62434536]\n",
      " [ 0.30017032]\n",
      " [-0.44712856]\n",
      " [-0.61175641]\n",
      " [-0.35224985]\n",
      " [ 1.2245077 ]\n",
      " [-0.52817175]\n",
      " [-1.1425182 ]\n",
      " [ 0.40349164]\n",
      " [-1.07296862]\n",
      " [-0.34934272]\n",
      " [ 0.59357852]\n",
      " [ 0.86540763]\n",
      " [-0.20889423]\n",
      " [-1.09491185]\n",
      " [-2.3015387 ]\n",
      " [ 0.58662319]\n",
      " [ 0.16938243]\n",
      " [ 1.74481176]\n",
      " [ 0.83898341]\n",
      " [ 0.74055645]\n",
      " [-0.7612069 ]\n",
      " [ 0.93110208]\n",
      " [-0.9537006 ]\n",
      " [ 0.3190391 ]\n",
      " [ 0.28558733]\n",
      " [-0.26621851]\n",
      " [-0.24937038]\n",
      " [ 0.88514116]\n",
      " [ 0.03261455]\n",
      " [ 1.46210794]\n",
      " [-0.75439794]\n",
      " [-1.37311732]\n",
      " [-2.06014071]\n",
      " [ 1.25286816]\n",
      " [ 0.31515939]\n",
      " [-0.3224172 ]\n",
      " [ 0.51292982]\n",
      " [ 0.84616065]\n",
      " [-0.38405435]\n",
      " [-0.29809284]\n",
      " [-0.85951594]\n",
      " [ 1.13376944]\n",
      " [ 0.48851815]\n",
      " [ 0.35054598]\n",
      " [-1.09989127]\n",
      " [-0.07557171]\n",
      " [-1.31228341]\n",
      " [-0.17242821]\n",
      " [ 1.13162939]\n",
      " [-0.03869551]\n",
      " [-0.87785842]\n",
      " [ 1.51981682]\n",
      " [-1.61577235]\n",
      " [ 0.04221375]\n",
      " [ 2.18557541]\n",
      " [ 1.12141771]\n",
      " [ 0.58281521]\n",
      " [-1.39649634]\n",
      " [ 0.40890054]\n",
      " [-1.10061918]\n",
      " [-1.44411381]\n",
      " [-0.02461696]\n",
      " [ 1.14472371]\n",
      " [-0.50446586]\n",
      " [-0.77516162]\n",
      " [ 0.90159072]\n",
      " [ 0.16003707]\n",
      " [ 1.27375593]\n",
      " [ 0.50249434]\n",
      " [ 0.87616892]\n",
      " [ 1.96710175]\n",
      " [ 0.90085595]\n",
      " [ 0.31563495]\n",
      " [-1.85798186]\n",
      " [-0.68372786]\n",
      " [-2.02220122]\n",
      " [ 1.23616403]\n",
      " [-0.12289023]\n",
      " [-0.30620401]\n",
      " [ 1.62765075]\n",
      " [-0.93576943]\n",
      " [ 0.82797464]\n",
      " [ 0.3380117 ]\n",
      " [-0.26788808]\n",
      " [ 0.23009474]\n",
      " [-1.19926803]\n",
      " [ 0.53035547]\n",
      " [ 0.76201118]\n",
      " [ 0.86334532]\n",
      " [-0.69166075]\n",
      " [-0.22232814]\n",
      " [-0.1809203 ]\n",
      " [-0.39675353]\n",
      " [-0.20075807]\n",
      " [-0.60392063]\n",
      " [-0.6871727 ]\n",
      " [ 0.18656139]\n",
      " [-1.23005814]\n",
      " [-0.84520564]\n",
      " [ 0.41005165]\n",
      " [ 0.5505375 ]\n",
      " [-0.67124613]\n",
      " [ 0.19829972]\n",
      " [ 0.79280687]\n",
      " [-0.0126646 ]\n",
      " [ 0.11900865]\n",
      " [-0.62353073]\n",
      " [-1.11731035]\n",
      " [-0.67066229]\n",
      " [ 0.52057634]\n",
      " [ 0.2344157 ]\n",
      " [ 0.37756379]\n",
      " [-1.14434139]\n",
      " [ 1.65980218]\n",
      " [ 0.12182127]\n",
      " [ 0.80186103]\n",
      " [ 0.74204416]\n",
      " [ 1.12948391]\n",
      " [ 0.0465673 ]\n",
      " [-0.19183555]\n",
      " [ 1.19891788]\n",
      " [-0.18656977]\n",
      " [-0.88762896]\n",
      " [ 0.18515642]\n",
      " [-0.10174587]\n",
      " [-0.74715829]\n",
      " [-0.37528495]\n",
      " [ 0.86888616]\n",
      " [ 1.6924546 ]\n",
      " [-0.63873041]\n",
      " [ 0.75041164]\n",
      " [ 0.05080775]\n",
      " [ 0.42349435]\n",
      " [ 0.52946532]\n",
      " [-0.63699565]\n",
      " [ 0.07734007]\n",
      " [ 0.13770121]\n",
      " [ 0.19091548]\n",
      " [-0.34385368]\n",
      " [ 0.07782113]\n",
      " [ 2.10025514]\n",
      " [ 0.04359686]\n",
      " [ 0.61838026]\n",
      " [ 0.12015895]\n",
      " [-0.62000084]\n",
      " [ 0.23249456]\n",
      " [ 0.61720311]\n",
      " [ 0.69803203]\n",
      " [ 0.68255141]]\n"
     ]
    }
   ],
   "source": [
    "H_Stack_Reshape = H_Stack.reshape(150, 1) \n",
    "print(H_Stack_Reshape)"
   ]
  },
  {
   "cell_type": "markdown",
   "metadata": {},
   "source": [
    "#Reshaping V_Stack (H_Stack) does not give the same output as H_Stack (V_Stack), even though both have similar dimensions. "
   ]
  },
  {
   "cell_type": "markdown",
   "metadata": {},
   "source": [
    "### Splitting"
   ]
  },
  {
   "cell_type": "markdown",
   "metadata": {},
   "source": [
    "Split Rowwise: Each row is converted to an array."
   ]
  },
  {
   "cell_type": "code",
   "execution_count": 72,
   "metadata": {},
   "outputs": [
    {
     "name": "stdout",
     "output_type": "stream",
     "text": [
      "[array([[ 1.62434536],\n",
      "       [-0.61175641],\n",
      "       [-0.52817175]]), array([[-1.07296862],\n",
      "       [ 0.86540763],\n",
      "       [-2.3015387 ]]), array([[ 1.74481176],\n",
      "       [-0.7612069 ],\n",
      "       [ 0.3190391 ]]), array([[-0.24937038],\n",
      "       [ 1.46210794],\n",
      "       [-2.06014071]]), array([[-0.3224172 ],\n",
      "       [-0.38405435],\n",
      "       [ 1.13376944]]), array([[-1.09989127],\n",
      "       [-0.17242821],\n",
      "       [-0.87785842]]), array([[ 0.04221375],\n",
      "       [ 0.58281521],\n",
      "       [-1.10061918]]), array([[1.14472371],\n",
      "       [0.90159072],\n",
      "       [0.50249434]]), array([[ 0.90085595],\n",
      "       [-0.68372786],\n",
      "       [-0.12289023]]), array([[-0.93576943],\n",
      "       [-0.26788808],\n",
      "       [ 0.53035547]]), array([[-0.69166075],\n",
      "       [-0.39675353],\n",
      "       [-0.6871727 ]]), array([[-0.84520564],\n",
      "       [-0.67124613],\n",
      "       [-0.0126646 ]]), array([[-1.11731035],\n",
      "       [ 0.2344157 ],\n",
      "       [ 1.65980218]]), array([[ 0.74204416],\n",
      "       [-0.19183555],\n",
      "       [-0.88762896]]), array([[-0.74715829],\n",
      "       [ 1.6924546 ],\n",
      "       [ 0.05080775]]), array([[-0.63699565],\n",
      "       [ 0.19091548],\n",
      "       [ 2.10025514]]), array([[0.12015895],\n",
      "       [0.61720311],\n",
      "       [0.30017032]]), array([[-0.35224985],\n",
      "       [-1.1425182 ],\n",
      "       [-0.34934272]]), array([[-0.20889423],\n",
      "       [ 0.58662319],\n",
      "       [ 0.83898341]]), array([[0.93110208],\n",
      "       [0.28558733],\n",
      "       [0.88514116]]), array([[-0.75439794],\n",
      "       [ 1.25286816],\n",
      "       [ 0.51292982]]), array([[-0.29809284],\n",
      "       [ 0.48851815],\n",
      "       [-0.07557171]]), array([[1.13162939],\n",
      "       [1.51981682],\n",
      "       [2.18557541]]), array([[-1.39649634],\n",
      "       [-1.44411381],\n",
      "       [-0.50446586]]), array([[0.16003707],\n",
      "       [0.87616892],\n",
      "       [0.31563495]]), array([[-2.02220122],\n",
      "       [-0.30620401],\n",
      "       [ 0.82797464]]), array([[ 0.23009474],\n",
      "       [ 0.76201118],\n",
      "       [-0.22232814]]), array([[-0.20075807],\n",
      "       [ 0.18656139],\n",
      "       [ 0.41005165]]), array([[ 0.19829972],\n",
      "       [ 0.11900865],\n",
      "       [-0.67066229]]), array([[0.37756379],\n",
      "       [0.12182127],\n",
      "       [1.12948391]]), array([[ 1.19891788],\n",
      "       [ 0.18515642],\n",
      "       [-0.37528495]]), array([[-0.63873041],\n",
      "       [ 0.42349435],\n",
      "       [ 0.07734007]]), array([[-0.34385368],\n",
      "       [ 0.04359686],\n",
      "       [-0.62000084]]), array([[ 0.69803203],\n",
      "       [-0.44712856],\n",
      "       [ 1.2245077 ]]), array([[ 0.40349164],\n",
      "       [ 0.59357852],\n",
      "       [-1.09491185]]), array([[ 0.16938243],\n",
      "       [ 0.74055645],\n",
      "       [-0.9537006 ]]), array([[-0.26621851],\n",
      "       [ 0.03261455],\n",
      "       [-1.37311732]]), array([[ 0.31515939],\n",
      "       [ 0.84616065],\n",
      "       [-0.85951594]]), array([[ 0.35054598],\n",
      "       [-1.31228341],\n",
      "       [-0.03869551]]), array([[-1.61577235],\n",
      "       [ 1.12141771],\n",
      "       [ 0.40890054]]), array([[-0.02461696],\n",
      "       [-0.77516162],\n",
      "       [ 1.27375593]]), array([[ 1.96710175],\n",
      "       [-1.85798186],\n",
      "       [ 1.23616403]]), array([[ 1.62765075],\n",
      "       [ 0.3380117 ],\n",
      "       [-1.19926803]]), array([[ 0.86334532],\n",
      "       [-0.1809203 ],\n",
      "       [-0.60392063]]), array([[-1.23005814],\n",
      "       [ 0.5505375 ],\n",
      "       [ 0.79280687]]), array([[-0.62353073],\n",
      "       [ 0.52057634],\n",
      "       [-1.14434139]]), array([[ 0.80186103],\n",
      "       [ 0.0465673 ],\n",
      "       [-0.18656977]]), array([[-0.10174587],\n",
      "       [ 0.86888616],\n",
      "       [ 0.75041164]]), array([[0.52946532],\n",
      "       [0.13770121],\n",
      "       [0.07782113]]), array([[0.61838026],\n",
      "       [0.23249456],\n",
      "       [0.68255141]])]\n"
     ]
    }
   ],
   "source": [
    "V_Split = np.vsplit(V_Stack, 50)\n",
    "print(V_Split)"
   ]
  },
  {
   "cell_type": "markdown",
   "metadata": {},
   "source": [
    "Split Columnwise: Each column is converted to an array. "
   ]
  },
  {
   "cell_type": "code",
   "execution_count": 73,
   "metadata": {},
   "outputs": [
    {
     "name": "stdout",
     "output_type": "stream",
     "text": [
      "[array([[ 1.62434536],\n",
      "       [-0.61175641],\n",
      "       [-0.52817175],\n",
      "       [-1.07296862],\n",
      "       [ 0.86540763],\n",
      "       [-2.3015387 ],\n",
      "       [ 1.74481176],\n",
      "       [-0.7612069 ],\n",
      "       [ 0.3190391 ],\n",
      "       [-0.24937038],\n",
      "       [ 1.46210794],\n",
      "       [-2.06014071],\n",
      "       [-0.3224172 ],\n",
      "       [-0.38405435],\n",
      "       [ 1.13376944],\n",
      "       [-1.09989127],\n",
      "       [-0.17242821],\n",
      "       [-0.87785842],\n",
      "       [ 0.04221375],\n",
      "       [ 0.58281521],\n",
      "       [-1.10061918],\n",
      "       [ 1.14472371],\n",
      "       [ 0.90159072],\n",
      "       [ 0.50249434],\n",
      "       [ 0.90085595],\n",
      "       [-0.68372786],\n",
      "       [-0.12289023],\n",
      "       [-0.93576943],\n",
      "       [-0.26788808],\n",
      "       [ 0.53035547],\n",
      "       [-0.69166075],\n",
      "       [-0.39675353],\n",
      "       [-0.6871727 ],\n",
      "       [-0.84520564],\n",
      "       [-0.67124613],\n",
      "       [-0.0126646 ],\n",
      "       [-1.11731035],\n",
      "       [ 0.2344157 ],\n",
      "       [ 1.65980218],\n",
      "       [ 0.74204416],\n",
      "       [-0.19183555],\n",
      "       [-0.88762896],\n",
      "       [-0.74715829],\n",
      "       [ 1.6924546 ],\n",
      "       [ 0.05080775],\n",
      "       [-0.63699565],\n",
      "       [ 0.19091548],\n",
      "       [ 2.10025514],\n",
      "       [ 0.12015895],\n",
      "       [ 0.61720311]]), array([[ 0.30017032],\n",
      "       [-0.35224985],\n",
      "       [-1.1425182 ],\n",
      "       [-0.34934272],\n",
      "       [-0.20889423],\n",
      "       [ 0.58662319],\n",
      "       [ 0.83898341],\n",
      "       [ 0.93110208],\n",
      "       [ 0.28558733],\n",
      "       [ 0.88514116],\n",
      "       [-0.75439794],\n",
      "       [ 1.25286816],\n",
      "       [ 0.51292982],\n",
      "       [-0.29809284],\n",
      "       [ 0.48851815],\n",
      "       [-0.07557171],\n",
      "       [ 1.13162939],\n",
      "       [ 1.51981682],\n",
      "       [ 2.18557541],\n",
      "       [-1.39649634],\n",
      "       [-1.44411381],\n",
      "       [-0.50446586],\n",
      "       [ 0.16003707],\n",
      "       [ 0.87616892],\n",
      "       [ 0.31563495],\n",
      "       [-2.02220122],\n",
      "       [-0.30620401],\n",
      "       [ 0.82797464],\n",
      "       [ 0.23009474],\n",
      "       [ 0.76201118],\n",
      "       [-0.22232814],\n",
      "       [-0.20075807],\n",
      "       [ 0.18656139],\n",
      "       [ 0.41005165],\n",
      "       [ 0.19829972],\n",
      "       [ 0.11900865],\n",
      "       [-0.67066229],\n",
      "       [ 0.37756379],\n",
      "       [ 0.12182127],\n",
      "       [ 1.12948391],\n",
      "       [ 1.19891788],\n",
      "       [ 0.18515642],\n",
      "       [-0.37528495],\n",
      "       [-0.63873041],\n",
      "       [ 0.42349435],\n",
      "       [ 0.07734007],\n",
      "       [-0.34385368],\n",
      "       [ 0.04359686],\n",
      "       [-0.62000084],\n",
      "       [ 0.69803203]]), array([[-0.44712856],\n",
      "       [ 1.2245077 ],\n",
      "       [ 0.40349164],\n",
      "       [ 0.59357852],\n",
      "       [-1.09491185],\n",
      "       [ 0.16938243],\n",
      "       [ 0.74055645],\n",
      "       [-0.9537006 ],\n",
      "       [-0.26621851],\n",
      "       [ 0.03261455],\n",
      "       [-1.37311732],\n",
      "       [ 0.31515939],\n",
      "       [ 0.84616065],\n",
      "       [-0.85951594],\n",
      "       [ 0.35054598],\n",
      "       [-1.31228341],\n",
      "       [-0.03869551],\n",
      "       [-1.61577235],\n",
      "       [ 1.12141771],\n",
      "       [ 0.40890054],\n",
      "       [-0.02461696],\n",
      "       [-0.77516162],\n",
      "       [ 1.27375593],\n",
      "       [ 1.96710175],\n",
      "       [-1.85798186],\n",
      "       [ 1.23616403],\n",
      "       [ 1.62765075],\n",
      "       [ 0.3380117 ],\n",
      "       [-1.19926803],\n",
      "       [ 0.86334532],\n",
      "       [-0.1809203 ],\n",
      "       [-0.60392063],\n",
      "       [-1.23005814],\n",
      "       [ 0.5505375 ],\n",
      "       [ 0.79280687],\n",
      "       [-0.62353073],\n",
      "       [ 0.52057634],\n",
      "       [-1.14434139],\n",
      "       [ 0.80186103],\n",
      "       [ 0.0465673 ],\n",
      "       [-0.18656977],\n",
      "       [-0.10174587],\n",
      "       [ 0.86888616],\n",
      "       [ 0.75041164],\n",
      "       [ 0.52946532],\n",
      "       [ 0.13770121],\n",
      "       [ 0.07782113],\n",
      "       [ 0.61838026],\n",
      "       [ 0.23249456],\n",
      "       [ 0.68255141]])]\n"
     ]
    }
   ],
   "source": [
    "H_Split = np.hsplit(H_Stack, 3)\n",
    "print(H_Split)"
   ]
  },
  {
   "cell_type": "markdown",
   "metadata": {},
   "source": [
    "## Operations"
   ]
  },
  {
   "cell_type": "markdown",
   "metadata": {},
   "source": [
    "Creating a 50 x 10 matrix of random numbers."
   ]
  },
  {
   "cell_type": "code",
   "execution_count": 74,
   "metadata": {},
   "outputs": [],
   "source": [
    "np.random.seed(1)\n",
    "rand  = np.random.normal(0,1, size = (50, 10))"
   ]
  },
  {
   "cell_type": "markdown",
   "metadata": {},
   "source": [
    "### np.repeat() - Create a new matrix by repeating each row/column."
   ]
  },
  {
   "cell_type": "markdown",
   "metadata": {},
   "source": [
    "Repeat each row: Repeated rows are saved after the original."
   ]
  },
  {
   "cell_type": "code",
   "execution_count": 75,
   "metadata": {},
   "outputs": [
    {
     "name": "stdout",
     "output_type": "stream",
     "text": [
      "[[ 1.62434536e+00 -6.11756414e-01 -5.28171752e-01 -1.07296862e+00\n",
      "   8.65407629e-01 -2.30153870e+00  1.74481176e+00 -7.61206901e-01\n",
      "   3.19039096e-01 -2.49370375e-01]\n",
      " [ 1.62434536e+00 -6.11756414e-01 -5.28171752e-01 -1.07296862e+00\n",
      "   8.65407629e-01 -2.30153870e+00  1.74481176e+00 -7.61206901e-01\n",
      "   3.19039096e-01 -2.49370375e-01]\n",
      " [ 1.46210794e+00 -2.06014071e+00 -3.22417204e-01 -3.84054355e-01\n",
      "   1.13376944e+00 -1.09989127e+00 -1.72428208e-01 -8.77858418e-01\n",
      "   4.22137467e-02  5.82815214e-01]\n",
      " [ 1.46210794e+00 -2.06014071e+00 -3.22417204e-01 -3.84054355e-01\n",
      "   1.13376944e+00 -1.09989127e+00 -1.72428208e-01 -8.77858418e-01\n",
      "   4.22137467e-02  5.82815214e-01]\n",
      " [-1.10061918e+00  1.14472371e+00  9.01590721e-01  5.02494339e-01\n",
      "   9.00855949e-01 -6.83727859e-01 -1.22890226e-01 -9.35769434e-01\n",
      "  -2.67888080e-01  5.30355467e-01]\n",
      " [-1.10061918e+00  1.14472371e+00  9.01590721e-01  5.02494339e-01\n",
      "   9.00855949e-01 -6.83727859e-01 -1.22890226e-01 -9.35769434e-01\n",
      "  -2.67888080e-01  5.30355467e-01]\n",
      " [-6.91660752e-01 -3.96753527e-01 -6.87172700e-01 -8.45205641e-01\n",
      "  -6.71246131e-01 -1.26645989e-02 -1.11731035e+00  2.34415698e-01\n",
      "   1.65980218e+00  7.42044161e-01]\n",
      " [-6.91660752e-01 -3.96753527e-01 -6.87172700e-01 -8.45205641e-01\n",
      "  -6.71246131e-01 -1.26645989e-02 -1.11731035e+00  2.34415698e-01\n",
      "   1.65980218e+00  7.42044161e-01]\n",
      " [-1.91835552e-01 -8.87628964e-01 -7.47158294e-01  1.69245460e+00\n",
      "   5.08077548e-02 -6.36995647e-01  1.90915485e-01  2.10025514e+00\n",
      "   1.20158952e-01  6.17203110e-01]\n",
      " [-1.91835552e-01 -8.87628964e-01 -7.47158294e-01  1.69245460e+00\n",
      "   5.08077548e-02 -6.36995647e-01  1.90915485e-01  2.10025514e+00\n",
      "   1.20158952e-01  6.17203110e-01]\n",
      " [ 3.00170320e-01 -3.52249846e-01 -1.14251820e+00 -3.49342722e-01\n",
      "  -2.08894233e-01  5.86623191e-01  8.38983414e-01  9.31102081e-01\n",
      "   2.85587325e-01  8.85141164e-01]\n",
      " [ 3.00170320e-01 -3.52249846e-01 -1.14251820e+00 -3.49342722e-01\n",
      "  -2.08894233e-01  5.86623191e-01  8.38983414e-01  9.31102081e-01\n",
      "   2.85587325e-01  8.85141164e-01]\n",
      " [-7.54397941e-01  1.25286816e+00  5.12929820e-01 -2.98092835e-01\n",
      "   4.88518147e-01 -7.55717130e-02  1.13162939e+00  1.51981682e+00\n",
      "   2.18557541e+00 -1.39649634e+00]\n",
      " [-7.54397941e-01  1.25286816e+00  5.12929820e-01 -2.98092835e-01\n",
      "   4.88518147e-01 -7.55717130e-02  1.13162939e+00  1.51981682e+00\n",
      "   2.18557541e+00 -1.39649634e+00]\n",
      " [-1.44411381e+00 -5.04465863e-01  1.60037069e-01  8.76168921e-01\n",
      "   3.15634947e-01 -2.02220122e+00 -3.06204013e-01  8.27974643e-01\n",
      "   2.30094735e-01  7.62011180e-01]\n",
      " [-1.44411381e+00 -5.04465863e-01  1.60037069e-01  8.76168921e-01\n",
      "   3.15634947e-01 -2.02220122e+00 -3.06204013e-01  8.27974643e-01\n",
      "   2.30094735e-01  7.62011180e-01]\n",
      " [-2.22328143e-01 -2.00758069e-01  1.86561391e-01  4.10051647e-01\n",
      "   1.98299720e-01  1.19008646e-01 -6.70662286e-01  3.77563786e-01\n",
      "   1.21821271e-01  1.12948391e+00]\n",
      " [-2.22328143e-01 -2.00758069e-01  1.86561391e-01  4.10051647e-01\n",
      "   1.98299720e-01  1.19008646e-01 -6.70662286e-01  3.77563786e-01\n",
      "   1.21821271e-01  1.12948391e+00]\n",
      " [ 1.19891788e+00  1.85156417e-01 -3.75284950e-01 -6.38730407e-01\n",
      "   4.23494354e-01  7.73400683e-02 -3.43853676e-01  4.35968568e-02\n",
      "  -6.20000844e-01  6.98032034e-01]\n",
      " [ 1.19891788e+00  1.85156417e-01 -3.75284950e-01 -6.38730407e-01\n",
      "   4.23494354e-01  7.73400683e-02 -3.43853676e-01  4.35968568e-02\n",
      "  -6.20000844e-01  6.98032034e-01]\n",
      " [-4.47128565e-01  1.22450770e+00  4.03491642e-01  5.93578523e-01\n",
      "  -1.09491185e+00  1.69382433e-01  7.40556451e-01 -9.53700602e-01\n",
      "  -2.66218506e-01  3.26145467e-02]\n",
      " [-4.47128565e-01  1.22450770e+00  4.03491642e-01  5.93578523e-01\n",
      "  -1.09491185e+00  1.69382433e-01  7.40556451e-01 -9.53700602e-01\n",
      "  -2.66218506e-01  3.26145467e-02]\n",
      " [-1.37311732e+00  3.15159392e-01  8.46160648e-01 -8.59515941e-01\n",
      "   3.50545979e-01 -1.31228341e+00 -3.86955093e-02 -1.61577235e+00\n",
      "   1.12141771e+00  4.08900538e-01]\n",
      " [-1.37311732e+00  3.15159392e-01  8.46160648e-01 -8.59515941e-01\n",
      "   3.50545979e-01 -1.31228341e+00 -3.86955093e-02 -1.61577235e+00\n",
      "   1.12141771e+00  4.08900538e-01]\n",
      " [-2.46169559e-02 -7.75161619e-01  1.27375593e+00  1.96710175e+00\n",
      "  -1.85798186e+00  1.23616403e+00  1.62765075e+00  3.38011697e-01\n",
      "  -1.19926803e+00  8.63345318e-01]\n",
      " [-2.46169559e-02 -7.75161619e-01  1.27375593e+00  1.96710175e+00\n",
      "  -1.85798186e+00  1.23616403e+00  1.62765075e+00  3.38011697e-01\n",
      "  -1.19926803e+00  8.63345318e-01]\n",
      " [-1.80920302e-01 -6.03920628e-01 -1.23005814e+00  5.50537496e-01\n",
      "   7.92806866e-01 -6.23530730e-01  5.20576337e-01 -1.14434139e+00\n",
      "   8.01861032e-01  4.65672984e-02]\n",
      " [-1.80920302e-01 -6.03920628e-01 -1.23005814e+00  5.50537496e-01\n",
      "   7.92806866e-01 -6.23530730e-01  5.20576337e-01 -1.14434139e+00\n",
      "   8.01861032e-01  4.65672984e-02]\n",
      " [-1.86569772e-01 -1.01745873e-01  8.68886157e-01  7.50411640e-01\n",
      "   5.29465324e-01  1.37701210e-01  7.78211279e-02  6.18380262e-01\n",
      "   2.32494559e-01  6.82551407e-01]\n",
      " [-1.86569772e-01 -1.01745873e-01  8.68886157e-01  7.50411640e-01\n",
      "   5.29465324e-01  1.37701210e-01  7.78211279e-02  6.18380262e-01\n",
      "   2.32494559e-01  6.82551407e-01]\n",
      " [-3.10116774e-01 -2.43483776e+00  1.03882460e+00  2.18697965e+00\n",
      "   4.41364444e-01 -1.00155233e-01 -1.36444744e-01 -1.19054188e-01\n",
      "   1.74094083e-02 -1.12201873e+00]\n",
      " [-3.10116774e-01 -2.43483776e+00  1.03882460e+00  2.18697965e+00\n",
      "   4.41364444e-01 -1.00155233e-01 -1.36444744e-01 -1.19054188e-01\n",
      "   1.74094083e-02 -1.12201873e+00]\n",
      " [-5.17094458e-01 -9.97026828e-01  2.48799161e-01 -2.96641152e-01\n",
      "   4.95211324e-01 -1.74703160e-01  9.86335188e-01  2.13533901e-01\n",
      "   2.19069973e+00 -1.89636092e+00]\n",
      " [-5.17094458e-01 -9.97026828e-01  2.48799161e-01 -2.96641152e-01\n",
      "   4.95211324e-01 -1.74703160e-01  9.86335188e-01  2.13533901e-01\n",
      "   2.19069973e+00 -1.89636092e+00]\n",
      " [-6.46916688e-01  9.01486892e-01  2.52832571e+00 -2.48634778e-01\n",
      "   4.36689932e-02 -2.26314243e-01  1.33145711e+00 -2.87307863e-01\n",
      "   6.80069840e-01 -3.19801599e-01]\n",
      " [-6.46916688e-01  9.01486892e-01  2.52832571e+00 -2.48634778e-01\n",
      "   4.36689932e-02 -2.26314243e-01  1.33145711e+00 -2.87307863e-01\n",
      "   6.80069840e-01 -3.19801599e-01]\n",
      " [-1.27255876e+00  3.13547720e-01  5.03184813e-01  1.29322588e+00\n",
      "  -1.10447026e-01 -6.17362064e-01  5.62761097e-01  2.40737092e-01\n",
      "   2.80665077e-01 -7.31127037e-02]\n",
      " [-1.27255876e+00  3.13547720e-01  5.03184813e-01  1.29322588e+00\n",
      "  -1.10447026e-01 -6.17362064e-01  5.62761097e-01  2.40737092e-01\n",
      "   2.80665077e-01 -7.31127037e-02]\n",
      " [ 1.16033857e+00  3.69492716e-01  1.90465871e+00  1.11105670e+00\n",
      "   6.59049796e-01 -1.62743834e+00  6.02319280e-01  4.20282204e-01\n",
      "   8.10951673e-01  1.04444209e+00]\n",
      " [ 1.16033857e+00  3.69492716e-01  1.90465871e+00  1.11105670e+00\n",
      "   6.59049796e-01 -1.62743834e+00  6.02319280e-01  4.20282204e-01\n",
      "   8.10951673e-01  1.04444209e+00]\n",
      " [-4.00878192e-01  8.24005618e-01 -5.62305431e-01  1.95487808e+00\n",
      "  -1.33195167e+00 -1.76068856e+00 -1.65072127e+00 -8.90555584e-01\n",
      "  -1.11911540e+00  1.95607890e+00]\n",
      " [-4.00878192e-01  8.24005618e-01 -5.62305431e-01  1.95487808e+00\n",
      "  -1.33195167e+00 -1.76068856e+00 -1.65072127e+00 -8.90555584e-01\n",
      "  -1.11911540e+00  1.95607890e+00]\n",
      " [-3.26499498e-01 -1.34267579e+00  1.11438298e+00 -5.86523939e-01\n",
      "  -1.23685338e+00  8.75838928e-01  6.23362177e-01 -4.34956683e-01\n",
      "   1.40754000e+00  1.29101580e-01]\n",
      " [-3.26499498e-01 -1.34267579e+00  1.11438298e+00 -5.86523939e-01\n",
      "  -1.23685338e+00  8.75838928e-01  6.23362177e-01 -4.34956683e-01\n",
      "   1.40754000e+00  1.29101580e-01]\n",
      " [ 1.61694960e+00  5.02740882e-01  1.55880554e+00  1.09402696e-01\n",
      "  -1.21974440e+00  2.44936865e+00 -5.45774168e-01 -1.98837863e-01\n",
      "  -7.00398505e-01 -2.03394449e-01]\n",
      " [ 1.61694960e+00  5.02740882e-01  1.55880554e+00  1.09402696e-01\n",
      "  -1.21974440e+00  2.44936865e+00 -5.45774168e-01 -1.98837863e-01\n",
      "  -7.00398505e-01 -2.03394449e-01]\n",
      " [ 2.42669441e-01  2.01830179e-01  6.61020288e-01  1.79215821e+00\n",
      "  -1.20464572e-01 -1.23312074e+00 -1.18231813e+00 -6.65754518e-01\n",
      "  -1.67419581e+00  8.25029824e-01]\n",
      " [ 2.42669441e-01  2.01830179e-01  6.61020288e-01  1.79215821e+00\n",
      "  -1.20464572e-01 -1.23312074e+00 -1.18231813e+00 -6.65754518e-01\n",
      "  -1.67419581e+00  8.25029824e-01]\n",
      " [-4.98213564e-01 -3.10984978e-01 -1.89148284e-03 -1.39662042e+00\n",
      "  -8.61316361e-01  6.74711526e-01  6.18539131e-01 -4.43171931e-01\n",
      "   1.81053491e+00 -1.30572692e+00]\n",
      " [-4.98213564e-01 -3.10984978e-01 -1.89148284e-03 -1.39662042e+00\n",
      "  -8.61316361e-01  6.74711526e-01  6.18539131e-01 -4.43171931e-01\n",
      "   1.81053491e+00 -1.30572692e+00]\n",
      " [-3.44987210e-01 -2.30839743e-01 -2.79308500e+00  1.93752881e+00\n",
      "   3.66332015e-01 -1.04458938e+00  2.05117344e+00  5.85662000e-01\n",
      "   4.29526140e-01 -6.06998398e-01]\n",
      " [-3.44987210e-01 -2.30839743e-01 -2.79308500e+00  1.93752881e+00\n",
      "   3.66332015e-01 -1.04458938e+00  2.05117344e+00  5.85662000e-01\n",
      "   4.29526140e-01 -6.06998398e-01]\n",
      " [ 1.06222724e-01 -1.52568032e+00  7.95026094e-01 -3.74438319e-01\n",
      "   1.34048197e-01  1.20205486e+00  2.84748111e-01  2.62467445e-01\n",
      "   2.76499305e-01 -7.33271604e-01]\n",
      " [ 1.06222724e-01 -1.52568032e+00  7.95026094e-01 -3.74438319e-01\n",
      "   1.34048197e-01  1.20205486e+00  2.84748111e-01  2.62467445e-01\n",
      "   2.76499305e-01 -7.33271604e-01]\n",
      " [ 8.36004719e-01  1.54335911e+00  7.58805660e-01  8.84908814e-01\n",
      "  -8.77281519e-01 -8.67787223e-01 -1.44087602e+00  1.23225307e+00\n",
      "  -2.54179868e-01  1.39984394e+00]\n",
      " [ 8.36004719e-01  1.54335911e+00  7.58805660e-01  8.84908814e-01\n",
      "  -8.77281519e-01 -8.67787223e-01 -1.44087602e+00  1.23225307e+00\n",
      "  -2.54179868e-01  1.39984394e+00]\n",
      " [-7.81911683e-01 -4.37508983e-01  9.54250872e-02  9.21450069e-01\n",
      "   6.07501958e-02  2.11124755e-01  1.65275673e-02  1.77187720e-01\n",
      "  -1.11647002e+00  8.09271010e-02]\n",
      " [-7.81911683e-01 -4.37508983e-01  9.54250872e-02  9.21450069e-01\n",
      "   6.07501958e-02  2.11124755e-01  1.65275673e-02  1.77187720e-01\n",
      "  -1.11647002e+00  8.09271010e-02]\n",
      " [-1.86578994e-01 -5.68244809e-02  4.92336556e-01 -6.80678141e-01\n",
      "  -8.45080274e-02 -2.97361883e-01  4.17302005e-01  7.84770651e-01\n",
      "  -9.55425262e-01  5.85910431e-01]\n",
      " [-1.86578994e-01 -5.68244809e-02  4.92336556e-01 -6.80678141e-01\n",
      "  -8.45080274e-02 -2.97361883e-01  4.17302005e-01  7.84770651e-01\n",
      "  -9.55425262e-01  5.85910431e-01]\n",
      " [ 2.06578332e+00 -1.47115693e+00 -8.30171895e-01 -8.80577600e-01\n",
      "  -2.79097722e-01  1.62284909e+00  1.33526763e-02 -6.94693595e-01\n",
      "   6.21803504e-01 -5.99804531e-01]\n",
      " [ 2.06578332e+00 -1.47115693e+00 -8.30171895e-01 -8.80577600e-01\n",
      "  -2.79097722e-01  1.62284909e+00  1.33526763e-02 -6.94693595e-01\n",
      "   6.21803504e-01 -5.99804531e-01]\n",
      " [ 1.12341216e+00  3.05267040e-01  1.38877940e+00 -6.61344243e-01\n",
      "   3.03085711e+00  8.24584625e-01  6.54580153e-01 -5.11884476e-02\n",
      "  -7.25597119e-01 -8.67768678e-01]\n",
      " [ 1.12341216e+00  3.05267040e-01  1.38877940e+00 -6.61344243e-01\n",
      "   3.03085711e+00  8.24584625e-01  6.54580153e-01 -5.11884476e-02\n",
      "  -7.25597119e-01 -8.67768678e-01]\n",
      " [-1.35977326e-01 -7.97269785e-01  2.82675712e-01 -8.26097432e-01\n",
      "   6.21082701e-01  9.56121704e-01 -7.05840507e-01  1.19268607e+00\n",
      "  -2.37941936e-01  1.15528789e+00]\n",
      " [-1.35977326e-01 -7.97269785e-01  2.82675712e-01 -8.26097432e-01\n",
      "   6.21082701e-01  9.56121704e-01 -7.05840507e-01  1.19268607e+00\n",
      "  -2.37941936e-01  1.15528789e+00]\n",
      " [ 4.38166347e-01  1.12232832e+00 -9.97019796e-01 -1.06793987e-01\n",
      "   1.45142926e+00 -6.18036848e-01 -2.03720123e+00 -1.94258918e+00\n",
      "  -2.50644065e+00 -2.11416392e+00]\n",
      " [ 4.38166347e-01  1.12232832e+00 -9.97019796e-01 -1.06793987e-01\n",
      "   1.45142926e+00 -6.18036848e-01 -2.03720123e+00 -1.94258918e+00\n",
      "  -2.50644065e+00 -2.11416392e+00]\n",
      " [-4.11639163e-01  1.27852808e+00 -4.42229280e-01  3.23527354e-01\n",
      "  -1.09991490e-01  8.54894544e-03 -1.68198840e-01 -1.74180344e-01\n",
      "   4.61164100e-01 -1.17598267e+00]\n",
      " [-4.11639163e-01  1.27852808e+00 -4.42229280e-01  3.23527354e-01\n",
      "  -1.09991490e-01  8.54894544e-03 -1.68198840e-01 -1.74180344e-01\n",
      "   4.61164100e-01 -1.17598267e+00]\n",
      " [ 1.01012718e+00  9.20017933e-01 -1.95057341e-01  8.05393424e-01\n",
      "  -7.01344426e-01 -5.37223024e-01  1.56263850e-01 -1.90221025e-01\n",
      "  -4.48738033e-01 -6.72448039e-01]\n",
      " [ 1.01012718e+00  9.20017933e-01 -1.95057341e-01  8.05393424e-01\n",
      "  -7.01344426e-01 -5.37223024e-01  1.56263850e-01 -1.90221025e-01\n",
      "  -4.48738033e-01 -6.72448039e-01]\n",
      " [-5.57494722e-01  9.39168744e-01 -1.94332341e+00  3.52494364e-01\n",
      "  -2.36436952e-01  7.27813500e-01  5.15073614e-01 -2.78253447e+00\n",
      "   5.84646610e-01  3.24274243e-01]\n",
      " [-5.57494722e-01  9.39168744e-01 -1.94332341e+00  3.52494364e-01\n",
      "  -2.36436952e-01  7.27813500e-01  5.15073614e-01 -2.78253447e+00\n",
      "   5.84646610e-01  3.24274243e-01]\n",
      " [ 2.18628366e-02 -4.68673816e-01  8.53281222e-01 -4.13029310e-01\n",
      "   1.83471763e+00  5.64382855e-01  2.13782807e+00 -7.85533997e-01\n",
      "  -1.75592564e+00  7.14789597e-01]\n",
      " [ 2.18628366e-02 -4.68673816e-01  8.53281222e-01 -4.13029310e-01\n",
      "   1.83471763e+00  5.64382855e-01  2.13782807e+00 -7.85533997e-01\n",
      "  -1.75592564e+00  7.14789597e-01]\n",
      " [ 8.52704062e-01  3.53600971e-02 -1.53879325e+00 -4.47895185e-01\n",
      "   6.17985534e-01 -1.84176326e-01 -1.15985185e-01 -1.75458969e-01\n",
      "  -9.33914656e-01 -5.33020326e-01]\n",
      " [ 8.52704062e-01  3.53600971e-02 -1.53879325e+00 -4.47895185e-01\n",
      "   6.17985534e-01 -1.84176326e-01 -1.15985185e-01 -1.75458969e-01\n",
      "  -9.33914656e-01 -5.33020326e-01]\n",
      " [-1.42655542e+00  1.76795995e+00 -4.75372875e-01  4.77610182e-01\n",
      "  -1.02188594e+00  7.94528240e-01 -1.87316098e+00  9.20615118e-01\n",
      "  -3.53679249e-02  2.11060505e+00]\n",
      " [-1.42655542e+00  1.76795995e+00 -4.75372875e-01  4.77610182e-01\n",
      "  -1.02188594e+00  7.94528240e-01 -1.87316098e+00  9.20615118e-01\n",
      "  -3.53679249e-02  2.11060505e+00]\n",
      " [-1.30653407e+00  7.63804802e-02  3.67231814e-01  1.23289919e+00\n",
      "  -4.22856961e-01  8.64644065e-02 -2.14246673e+00 -8.30168864e-01\n",
      "   4.51615951e-01  1.10417433e+00]\n",
      " [-1.30653407e+00  7.63804802e-02  3.67231814e-01  1.23289919e+00\n",
      "  -4.22856961e-01  8.64644065e-02 -2.14246673e+00 -8.30168864e-01\n",
      "   4.51615951e-01  1.10417433e+00]\n",
      " [-2.81736269e-01  2.05635552e+00  1.76024923e+00 -6.06524918e-02\n",
      "  -2.41350300e+00 -1.77756638e+00 -7.77858827e-01  1.11584111e+00\n",
      "   3.10272288e-01 -2.09424782e+00]\n",
      " [-2.81736269e-01  2.05635552e+00  1.76024923e+00 -6.06524918e-02\n",
      "  -2.41350300e+00 -1.77756638e+00 -7.77858827e-01  1.11584111e+00\n",
      "   3.10272288e-01 -2.09424782e+00]\n",
      " [-2.28765829e-01  1.61336137e+00 -3.74804687e-01 -7.49969617e-01\n",
      "   2.05462410e+00  5.34095368e-02 -4.79157099e-01  3.50167159e-01\n",
      "   1.71647264e-02 -4.29142278e-01]\n",
      " [-2.28765829e-01  1.61336137e+00 -3.74804687e-01 -7.49969617e-01\n",
      "   2.05462410e+00  5.34095368e-02 -4.79157099e-01  3.50167159e-01\n",
      "   1.71647264e-02 -4.29142278e-01]\n",
      " [ 1.20845633e+00  1.11570180e+00  8.40861558e-01 -1.02887218e-01\n",
      "   1.14690038e+00 -4.97025792e-02  4.66643267e-01  1.03368687e+00\n",
      "   8.08844360e-01  1.78975468e+00]\n",
      " [ 1.20845633e+00  1.11570180e+00  8.40861558e-01 -1.02887218e-01\n",
      "   1.14690038e+00 -4.97025792e-02  4.66643267e-01  1.03368687e+00\n",
      "   8.08844360e-01  1.78975468e+00]\n",
      " [ 4.51284016e-01 -1.68405999e+00 -1.16017010e+00  1.35010682e+00\n",
      "  -3.31283170e-01  3.86539145e-01 -8.51455657e-01  1.00088142e+00\n",
      "  -3.84832249e-01  1.45810824e+00]\n",
      " [ 4.51284016e-01 -1.68405999e+00 -1.16017010e+00  1.35010682e+00\n",
      "  -3.31283170e-01  3.86539145e-01 -8.51455657e-01  1.00088142e+00\n",
      "  -3.84832249e-01  1.45810824e+00]\n",
      " [-5.32234021e-01  1.11813340e+00  6.74396105e-01 -7.22391905e-01\n",
      "   1.09899633e+00 -9.01634490e-01 -8.22467189e-01  7.21711292e-01\n",
      "  -6.25342001e-01 -5.93843067e-01]\n",
      " [-5.32234021e-01  1.11813340e+00  6.74396105e-01 -7.22391905e-01\n",
      "   1.09899633e+00 -9.01634490e-01 -8.22467189e-01  7.21711292e-01\n",
      "  -6.25342001e-01 -5.93843067e-01]\n",
      " [-3.43900709e-01 -1.00016919e+00  1.04499441e+00  6.08514698e-01\n",
      "  -6.93286967e-02 -1.08392067e-01  4.50155513e-01  1.76533510e+00\n",
      "   8.70969803e-01 -5.08457134e-01]\n",
      " [-3.43900709e-01 -1.00016919e+00  1.04499441e+00  6.08514698e-01\n",
      "  -6.93286967e-02 -1.08392067e-01  4.50155513e-01  1.76533510e+00\n",
      "   8.70969803e-01 -5.08457134e-01]\n",
      " [ 7.77419205e-01 -1.18771172e-01 -1.98998184e-01  1.86647138e+00\n",
      "  -4.18937898e-01 -4.79184915e-01 -1.95210529e+00 -1.40232915e+00\n",
      "   4.51122939e-01 -6.94920901e-01]\n",
      " [ 7.77419205e-01 -1.18771172e-01 -1.98998184e-01  1.86647138e+00\n",
      "  -4.18937898e-01 -4.79184915e-01 -1.95210529e+00 -1.40232915e+00\n",
      "   4.51122939e-01 -6.94920901e-01]\n",
      " [ 5.15413802e-01 -1.11487105e+00 -7.67309826e-01  6.74570707e-01\n",
      "   1.46089238e+00  5.92472801e-01  1.19783084e+00  1.70459417e+00\n",
      "   1.04008915e+00 -9.18440038e-01]\n",
      " [ 5.15413802e-01 -1.11487105e+00 -7.67309826e-01  6.74570707e-01\n",
      "   1.46089238e+00  5.92472801e-01  1.19783084e+00  1.70459417e+00\n",
      "   1.04008915e+00 -9.18440038e-01]\n",
      " [-1.05344713e-01  6.30195671e-01 -4.14846901e-01  4.51946037e-01\n",
      "  -1.57915629e+00 -8.28627979e-01  5.28879746e-01 -2.23708651e+00\n",
      "  -1.10771250e+00 -1.77183179e-02]\n",
      " [-1.05344713e-01  6.30195671e-01 -4.14846901e-01  4.51946037e-01\n",
      "  -1.57915629e+00 -8.28627979e-01  5.28879746e-01 -2.23708651e+00\n",
      "  -1.10771250e+00 -1.77183179e-02]]\n"
     ]
    }
   ],
   "source": [
    "repeat_rand_row = np.repeat(rand, 2, axis = 0)\n",
    "print(repeat_rand_row)"
   ]
  },
  {
   "cell_type": "markdown",
   "metadata": {},
   "source": [
    "Repeat each column: Repeated columns are saved after the original."
   ]
  },
  {
   "cell_type": "code",
   "execution_count": 76,
   "metadata": {},
   "outputs": [
    {
     "name": "stdout",
     "output_type": "stream",
     "text": [
      "[[ 1.62434536e+00  1.62434536e+00 -6.11756414e-01 -6.11756414e-01\n",
      "  -5.28171752e-01 -5.28171752e-01 -1.07296862e+00 -1.07296862e+00\n",
      "   8.65407629e-01  8.65407629e-01 -2.30153870e+00 -2.30153870e+00\n",
      "   1.74481176e+00  1.74481176e+00 -7.61206901e-01 -7.61206901e-01\n",
      "   3.19039096e-01  3.19039096e-01 -2.49370375e-01 -2.49370375e-01]\n",
      " [ 1.46210794e+00  1.46210794e+00 -2.06014071e+00 -2.06014071e+00\n",
      "  -3.22417204e-01 -3.22417204e-01 -3.84054355e-01 -3.84054355e-01\n",
      "   1.13376944e+00  1.13376944e+00 -1.09989127e+00 -1.09989127e+00\n",
      "  -1.72428208e-01 -1.72428208e-01 -8.77858418e-01 -8.77858418e-01\n",
      "   4.22137467e-02  4.22137467e-02  5.82815214e-01  5.82815214e-01]\n",
      " [-1.10061918e+00 -1.10061918e+00  1.14472371e+00  1.14472371e+00\n",
      "   9.01590721e-01  9.01590721e-01  5.02494339e-01  5.02494339e-01\n",
      "   9.00855949e-01  9.00855949e-01 -6.83727859e-01 -6.83727859e-01\n",
      "  -1.22890226e-01 -1.22890226e-01 -9.35769434e-01 -9.35769434e-01\n",
      "  -2.67888080e-01 -2.67888080e-01  5.30355467e-01  5.30355467e-01]\n",
      " [-6.91660752e-01 -6.91660752e-01 -3.96753527e-01 -3.96753527e-01\n",
      "  -6.87172700e-01 -6.87172700e-01 -8.45205641e-01 -8.45205641e-01\n",
      "  -6.71246131e-01 -6.71246131e-01 -1.26645989e-02 -1.26645989e-02\n",
      "  -1.11731035e+00 -1.11731035e+00  2.34415698e-01  2.34415698e-01\n",
      "   1.65980218e+00  1.65980218e+00  7.42044161e-01  7.42044161e-01]\n",
      " [-1.91835552e-01 -1.91835552e-01 -8.87628964e-01 -8.87628964e-01\n",
      "  -7.47158294e-01 -7.47158294e-01  1.69245460e+00  1.69245460e+00\n",
      "   5.08077548e-02  5.08077548e-02 -6.36995647e-01 -6.36995647e-01\n",
      "   1.90915485e-01  1.90915485e-01  2.10025514e+00  2.10025514e+00\n",
      "   1.20158952e-01  1.20158952e-01  6.17203110e-01  6.17203110e-01]\n",
      " [ 3.00170320e-01  3.00170320e-01 -3.52249846e-01 -3.52249846e-01\n",
      "  -1.14251820e+00 -1.14251820e+00 -3.49342722e-01 -3.49342722e-01\n",
      "  -2.08894233e-01 -2.08894233e-01  5.86623191e-01  5.86623191e-01\n",
      "   8.38983414e-01  8.38983414e-01  9.31102081e-01  9.31102081e-01\n",
      "   2.85587325e-01  2.85587325e-01  8.85141164e-01  8.85141164e-01]\n",
      " [-7.54397941e-01 -7.54397941e-01  1.25286816e+00  1.25286816e+00\n",
      "   5.12929820e-01  5.12929820e-01 -2.98092835e-01 -2.98092835e-01\n",
      "   4.88518147e-01  4.88518147e-01 -7.55717130e-02 -7.55717130e-02\n",
      "   1.13162939e+00  1.13162939e+00  1.51981682e+00  1.51981682e+00\n",
      "   2.18557541e+00  2.18557541e+00 -1.39649634e+00 -1.39649634e+00]\n",
      " [-1.44411381e+00 -1.44411381e+00 -5.04465863e-01 -5.04465863e-01\n",
      "   1.60037069e-01  1.60037069e-01  8.76168921e-01  8.76168921e-01\n",
      "   3.15634947e-01  3.15634947e-01 -2.02220122e+00 -2.02220122e+00\n",
      "  -3.06204013e-01 -3.06204013e-01  8.27974643e-01  8.27974643e-01\n",
      "   2.30094735e-01  2.30094735e-01  7.62011180e-01  7.62011180e-01]\n",
      " [-2.22328143e-01 -2.22328143e-01 -2.00758069e-01 -2.00758069e-01\n",
      "   1.86561391e-01  1.86561391e-01  4.10051647e-01  4.10051647e-01\n",
      "   1.98299720e-01  1.98299720e-01  1.19008646e-01  1.19008646e-01\n",
      "  -6.70662286e-01 -6.70662286e-01  3.77563786e-01  3.77563786e-01\n",
      "   1.21821271e-01  1.21821271e-01  1.12948391e+00  1.12948391e+00]\n",
      " [ 1.19891788e+00  1.19891788e+00  1.85156417e-01  1.85156417e-01\n",
      "  -3.75284950e-01 -3.75284950e-01 -6.38730407e-01 -6.38730407e-01\n",
      "   4.23494354e-01  4.23494354e-01  7.73400683e-02  7.73400683e-02\n",
      "  -3.43853676e-01 -3.43853676e-01  4.35968568e-02  4.35968568e-02\n",
      "  -6.20000844e-01 -6.20000844e-01  6.98032034e-01  6.98032034e-01]\n",
      " [-4.47128565e-01 -4.47128565e-01  1.22450770e+00  1.22450770e+00\n",
      "   4.03491642e-01  4.03491642e-01  5.93578523e-01  5.93578523e-01\n",
      "  -1.09491185e+00 -1.09491185e+00  1.69382433e-01  1.69382433e-01\n",
      "   7.40556451e-01  7.40556451e-01 -9.53700602e-01 -9.53700602e-01\n",
      "  -2.66218506e-01 -2.66218506e-01  3.26145467e-02  3.26145467e-02]\n",
      " [-1.37311732e+00 -1.37311732e+00  3.15159392e-01  3.15159392e-01\n",
      "   8.46160648e-01  8.46160648e-01 -8.59515941e-01 -8.59515941e-01\n",
      "   3.50545979e-01  3.50545979e-01 -1.31228341e+00 -1.31228341e+00\n",
      "  -3.86955093e-02 -3.86955093e-02 -1.61577235e+00 -1.61577235e+00\n",
      "   1.12141771e+00  1.12141771e+00  4.08900538e-01  4.08900538e-01]\n",
      " [-2.46169559e-02 -2.46169559e-02 -7.75161619e-01 -7.75161619e-01\n",
      "   1.27375593e+00  1.27375593e+00  1.96710175e+00  1.96710175e+00\n",
      "  -1.85798186e+00 -1.85798186e+00  1.23616403e+00  1.23616403e+00\n",
      "   1.62765075e+00  1.62765075e+00  3.38011697e-01  3.38011697e-01\n",
      "  -1.19926803e+00 -1.19926803e+00  8.63345318e-01  8.63345318e-01]\n",
      " [-1.80920302e-01 -1.80920302e-01 -6.03920628e-01 -6.03920628e-01\n",
      "  -1.23005814e+00 -1.23005814e+00  5.50537496e-01  5.50537496e-01\n",
      "   7.92806866e-01  7.92806866e-01 -6.23530730e-01 -6.23530730e-01\n",
      "   5.20576337e-01  5.20576337e-01 -1.14434139e+00 -1.14434139e+00\n",
      "   8.01861032e-01  8.01861032e-01  4.65672984e-02  4.65672984e-02]\n",
      " [-1.86569772e-01 -1.86569772e-01 -1.01745873e-01 -1.01745873e-01\n",
      "   8.68886157e-01  8.68886157e-01  7.50411640e-01  7.50411640e-01\n",
      "   5.29465324e-01  5.29465324e-01  1.37701210e-01  1.37701210e-01\n",
      "   7.78211279e-02  7.78211279e-02  6.18380262e-01  6.18380262e-01\n",
      "   2.32494559e-01  2.32494559e-01  6.82551407e-01  6.82551407e-01]\n",
      " [-3.10116774e-01 -3.10116774e-01 -2.43483776e+00 -2.43483776e+00\n",
      "   1.03882460e+00  1.03882460e+00  2.18697965e+00  2.18697965e+00\n",
      "   4.41364444e-01  4.41364444e-01 -1.00155233e-01 -1.00155233e-01\n",
      "  -1.36444744e-01 -1.36444744e-01 -1.19054188e-01 -1.19054188e-01\n",
      "   1.74094083e-02  1.74094083e-02 -1.12201873e+00 -1.12201873e+00]\n",
      " [-5.17094458e-01 -5.17094458e-01 -9.97026828e-01 -9.97026828e-01\n",
      "   2.48799161e-01  2.48799161e-01 -2.96641152e-01 -2.96641152e-01\n",
      "   4.95211324e-01  4.95211324e-01 -1.74703160e-01 -1.74703160e-01\n",
      "   9.86335188e-01  9.86335188e-01  2.13533901e-01  2.13533901e-01\n",
      "   2.19069973e+00  2.19069973e+00 -1.89636092e+00 -1.89636092e+00]\n",
      " [-6.46916688e-01 -6.46916688e-01  9.01486892e-01  9.01486892e-01\n",
      "   2.52832571e+00  2.52832571e+00 -2.48634778e-01 -2.48634778e-01\n",
      "   4.36689932e-02  4.36689932e-02 -2.26314243e-01 -2.26314243e-01\n",
      "   1.33145711e+00  1.33145711e+00 -2.87307863e-01 -2.87307863e-01\n",
      "   6.80069840e-01  6.80069840e-01 -3.19801599e-01 -3.19801599e-01]\n",
      " [-1.27255876e+00 -1.27255876e+00  3.13547720e-01  3.13547720e-01\n",
      "   5.03184813e-01  5.03184813e-01  1.29322588e+00  1.29322588e+00\n",
      "  -1.10447026e-01 -1.10447026e-01 -6.17362064e-01 -6.17362064e-01\n",
      "   5.62761097e-01  5.62761097e-01  2.40737092e-01  2.40737092e-01\n",
      "   2.80665077e-01  2.80665077e-01 -7.31127037e-02 -7.31127037e-02]\n",
      " [ 1.16033857e+00  1.16033857e+00  3.69492716e-01  3.69492716e-01\n",
      "   1.90465871e+00  1.90465871e+00  1.11105670e+00  1.11105670e+00\n",
      "   6.59049796e-01  6.59049796e-01 -1.62743834e+00 -1.62743834e+00\n",
      "   6.02319280e-01  6.02319280e-01  4.20282204e-01  4.20282204e-01\n",
      "   8.10951673e-01  8.10951673e-01  1.04444209e+00  1.04444209e+00]\n",
      " [-4.00878192e-01 -4.00878192e-01  8.24005618e-01  8.24005618e-01\n",
      "  -5.62305431e-01 -5.62305431e-01  1.95487808e+00  1.95487808e+00\n",
      "  -1.33195167e+00 -1.33195167e+00 -1.76068856e+00 -1.76068856e+00\n",
      "  -1.65072127e+00 -1.65072127e+00 -8.90555584e-01 -8.90555584e-01\n",
      "  -1.11911540e+00 -1.11911540e+00  1.95607890e+00  1.95607890e+00]\n",
      " [-3.26499498e-01 -3.26499498e-01 -1.34267579e+00 -1.34267579e+00\n",
      "   1.11438298e+00  1.11438298e+00 -5.86523939e-01 -5.86523939e-01\n",
      "  -1.23685338e+00 -1.23685338e+00  8.75838928e-01  8.75838928e-01\n",
      "   6.23362177e-01  6.23362177e-01 -4.34956683e-01 -4.34956683e-01\n",
      "   1.40754000e+00  1.40754000e+00  1.29101580e-01  1.29101580e-01]\n",
      " [ 1.61694960e+00  1.61694960e+00  5.02740882e-01  5.02740882e-01\n",
      "   1.55880554e+00  1.55880554e+00  1.09402696e-01  1.09402696e-01\n",
      "  -1.21974440e+00 -1.21974440e+00  2.44936865e+00  2.44936865e+00\n",
      "  -5.45774168e-01 -5.45774168e-01 -1.98837863e-01 -1.98837863e-01\n",
      "  -7.00398505e-01 -7.00398505e-01 -2.03394449e-01 -2.03394449e-01]\n",
      " [ 2.42669441e-01  2.42669441e-01  2.01830179e-01  2.01830179e-01\n",
      "   6.61020288e-01  6.61020288e-01  1.79215821e+00  1.79215821e+00\n",
      "  -1.20464572e-01 -1.20464572e-01 -1.23312074e+00 -1.23312074e+00\n",
      "  -1.18231813e+00 -1.18231813e+00 -6.65754518e-01 -6.65754518e-01\n",
      "  -1.67419581e+00 -1.67419581e+00  8.25029824e-01  8.25029824e-01]\n",
      " [-4.98213564e-01 -4.98213564e-01 -3.10984978e-01 -3.10984978e-01\n",
      "  -1.89148284e-03 -1.89148284e-03 -1.39662042e+00 -1.39662042e+00\n",
      "  -8.61316361e-01 -8.61316361e-01  6.74711526e-01  6.74711526e-01\n",
      "   6.18539131e-01  6.18539131e-01 -4.43171931e-01 -4.43171931e-01\n",
      "   1.81053491e+00  1.81053491e+00 -1.30572692e+00 -1.30572692e+00]\n",
      " [-3.44987210e-01 -3.44987210e-01 -2.30839743e-01 -2.30839743e-01\n",
      "  -2.79308500e+00 -2.79308500e+00  1.93752881e+00  1.93752881e+00\n",
      "   3.66332015e-01  3.66332015e-01 -1.04458938e+00 -1.04458938e+00\n",
      "   2.05117344e+00  2.05117344e+00  5.85662000e-01  5.85662000e-01\n",
      "   4.29526140e-01  4.29526140e-01 -6.06998398e-01 -6.06998398e-01]\n",
      " [ 1.06222724e-01  1.06222724e-01 -1.52568032e+00 -1.52568032e+00\n",
      "   7.95026094e-01  7.95026094e-01 -3.74438319e-01 -3.74438319e-01\n",
      "   1.34048197e-01  1.34048197e-01  1.20205486e+00  1.20205486e+00\n",
      "   2.84748111e-01  2.84748111e-01  2.62467445e-01  2.62467445e-01\n",
      "   2.76499305e-01  2.76499305e-01 -7.33271604e-01 -7.33271604e-01]\n",
      " [ 8.36004719e-01  8.36004719e-01  1.54335911e+00  1.54335911e+00\n",
      "   7.58805660e-01  7.58805660e-01  8.84908814e-01  8.84908814e-01\n",
      "  -8.77281519e-01 -8.77281519e-01 -8.67787223e-01 -8.67787223e-01\n",
      "  -1.44087602e+00 -1.44087602e+00  1.23225307e+00  1.23225307e+00\n",
      "  -2.54179868e-01 -2.54179868e-01  1.39984394e+00  1.39984394e+00]\n",
      " [-7.81911683e-01 -7.81911683e-01 -4.37508983e-01 -4.37508983e-01\n",
      "   9.54250872e-02  9.54250872e-02  9.21450069e-01  9.21450069e-01\n",
      "   6.07501958e-02  6.07501958e-02  2.11124755e-01  2.11124755e-01\n",
      "   1.65275673e-02  1.65275673e-02  1.77187720e-01  1.77187720e-01\n",
      "  -1.11647002e+00 -1.11647002e+00  8.09271010e-02  8.09271010e-02]\n",
      " [-1.86578994e-01 -1.86578994e-01 -5.68244809e-02 -5.68244809e-02\n",
      "   4.92336556e-01  4.92336556e-01 -6.80678141e-01 -6.80678141e-01\n",
      "  -8.45080274e-02 -8.45080274e-02 -2.97361883e-01 -2.97361883e-01\n",
      "   4.17302005e-01  4.17302005e-01  7.84770651e-01  7.84770651e-01\n",
      "  -9.55425262e-01 -9.55425262e-01  5.85910431e-01  5.85910431e-01]\n",
      " [ 2.06578332e+00  2.06578332e+00 -1.47115693e+00 -1.47115693e+00\n",
      "  -8.30171895e-01 -8.30171895e-01 -8.80577600e-01 -8.80577600e-01\n",
      "  -2.79097722e-01 -2.79097722e-01  1.62284909e+00  1.62284909e+00\n",
      "   1.33526763e-02  1.33526763e-02 -6.94693595e-01 -6.94693595e-01\n",
      "   6.21803504e-01  6.21803504e-01 -5.99804531e-01 -5.99804531e-01]\n",
      " [ 1.12341216e+00  1.12341216e+00  3.05267040e-01  3.05267040e-01\n",
      "   1.38877940e+00  1.38877940e+00 -6.61344243e-01 -6.61344243e-01\n",
      "   3.03085711e+00  3.03085711e+00  8.24584625e-01  8.24584625e-01\n",
      "   6.54580153e-01  6.54580153e-01 -5.11884476e-02 -5.11884476e-02\n",
      "  -7.25597119e-01 -7.25597119e-01 -8.67768678e-01 -8.67768678e-01]\n",
      " [-1.35977326e-01 -1.35977326e-01 -7.97269785e-01 -7.97269785e-01\n",
      "   2.82675712e-01  2.82675712e-01 -8.26097432e-01 -8.26097432e-01\n",
      "   6.21082701e-01  6.21082701e-01  9.56121704e-01  9.56121704e-01\n",
      "  -7.05840507e-01 -7.05840507e-01  1.19268607e+00  1.19268607e+00\n",
      "  -2.37941936e-01 -2.37941936e-01  1.15528789e+00  1.15528789e+00]\n",
      " [ 4.38166347e-01  4.38166347e-01  1.12232832e+00  1.12232832e+00\n",
      "  -9.97019796e-01 -9.97019796e-01 -1.06793987e-01 -1.06793987e-01\n",
      "   1.45142926e+00  1.45142926e+00 -6.18036848e-01 -6.18036848e-01\n",
      "  -2.03720123e+00 -2.03720123e+00 -1.94258918e+00 -1.94258918e+00\n",
      "  -2.50644065e+00 -2.50644065e+00 -2.11416392e+00 -2.11416392e+00]\n",
      " [-4.11639163e-01 -4.11639163e-01  1.27852808e+00  1.27852808e+00\n",
      "  -4.42229280e-01 -4.42229280e-01  3.23527354e-01  3.23527354e-01\n",
      "  -1.09991490e-01 -1.09991490e-01  8.54894544e-03  8.54894544e-03\n",
      "  -1.68198840e-01 -1.68198840e-01 -1.74180344e-01 -1.74180344e-01\n",
      "   4.61164100e-01  4.61164100e-01 -1.17598267e+00 -1.17598267e+00]\n",
      " [ 1.01012718e+00  1.01012718e+00  9.20017933e-01  9.20017933e-01\n",
      "  -1.95057341e-01 -1.95057341e-01  8.05393424e-01  8.05393424e-01\n",
      "  -7.01344426e-01 -7.01344426e-01 -5.37223024e-01 -5.37223024e-01\n",
      "   1.56263850e-01  1.56263850e-01 -1.90221025e-01 -1.90221025e-01\n",
      "  -4.48738033e-01 -4.48738033e-01 -6.72448039e-01 -6.72448039e-01]\n",
      " [-5.57494722e-01 -5.57494722e-01  9.39168744e-01  9.39168744e-01\n",
      "  -1.94332341e+00 -1.94332341e+00  3.52494364e-01  3.52494364e-01\n",
      "  -2.36436952e-01 -2.36436952e-01  7.27813500e-01  7.27813500e-01\n",
      "   5.15073614e-01  5.15073614e-01 -2.78253447e+00 -2.78253447e+00\n",
      "   5.84646610e-01  5.84646610e-01  3.24274243e-01  3.24274243e-01]\n",
      " [ 2.18628366e-02  2.18628366e-02 -4.68673816e-01 -4.68673816e-01\n",
      "   8.53281222e-01  8.53281222e-01 -4.13029310e-01 -4.13029310e-01\n",
      "   1.83471763e+00  1.83471763e+00  5.64382855e-01  5.64382855e-01\n",
      "   2.13782807e+00  2.13782807e+00 -7.85533997e-01 -7.85533997e-01\n",
      "  -1.75592564e+00 -1.75592564e+00  7.14789597e-01  7.14789597e-01]\n",
      " [ 8.52704062e-01  8.52704062e-01  3.53600971e-02  3.53600971e-02\n",
      "  -1.53879325e+00 -1.53879325e+00 -4.47895185e-01 -4.47895185e-01\n",
      "   6.17985534e-01  6.17985534e-01 -1.84176326e-01 -1.84176326e-01\n",
      "  -1.15985185e-01 -1.15985185e-01 -1.75458969e-01 -1.75458969e-01\n",
      "  -9.33914656e-01 -9.33914656e-01 -5.33020326e-01 -5.33020326e-01]\n",
      " [-1.42655542e+00 -1.42655542e+00  1.76795995e+00  1.76795995e+00\n",
      "  -4.75372875e-01 -4.75372875e-01  4.77610182e-01  4.77610182e-01\n",
      "  -1.02188594e+00 -1.02188594e+00  7.94528240e-01  7.94528240e-01\n",
      "  -1.87316098e+00 -1.87316098e+00  9.20615118e-01  9.20615118e-01\n",
      "  -3.53679249e-02 -3.53679249e-02  2.11060505e+00  2.11060505e+00]\n",
      " [-1.30653407e+00 -1.30653407e+00  7.63804802e-02  7.63804802e-02\n",
      "   3.67231814e-01  3.67231814e-01  1.23289919e+00  1.23289919e+00\n",
      "  -4.22856961e-01 -4.22856961e-01  8.64644065e-02  8.64644065e-02\n",
      "  -2.14246673e+00 -2.14246673e+00 -8.30168864e-01 -8.30168864e-01\n",
      "   4.51615951e-01  4.51615951e-01  1.10417433e+00  1.10417433e+00]\n",
      " [-2.81736269e-01 -2.81736269e-01  2.05635552e+00  2.05635552e+00\n",
      "   1.76024923e+00  1.76024923e+00 -6.06524918e-02 -6.06524918e-02\n",
      "  -2.41350300e+00 -2.41350300e+00 -1.77756638e+00 -1.77756638e+00\n",
      "  -7.77858827e-01 -7.77858827e-01  1.11584111e+00  1.11584111e+00\n",
      "   3.10272288e-01  3.10272288e-01 -2.09424782e+00 -2.09424782e+00]\n",
      " [-2.28765829e-01 -2.28765829e-01  1.61336137e+00  1.61336137e+00\n",
      "  -3.74804687e-01 -3.74804687e-01 -7.49969617e-01 -7.49969617e-01\n",
      "   2.05462410e+00  2.05462410e+00  5.34095368e-02  5.34095368e-02\n",
      "  -4.79157099e-01 -4.79157099e-01  3.50167159e-01  3.50167159e-01\n",
      "   1.71647264e-02  1.71647264e-02 -4.29142278e-01 -4.29142278e-01]\n",
      " [ 1.20845633e+00  1.20845633e+00  1.11570180e+00  1.11570180e+00\n",
      "   8.40861558e-01  8.40861558e-01 -1.02887218e-01 -1.02887218e-01\n",
      "   1.14690038e+00  1.14690038e+00 -4.97025792e-02 -4.97025792e-02\n",
      "   4.66643267e-01  4.66643267e-01  1.03368687e+00  1.03368687e+00\n",
      "   8.08844360e-01  8.08844360e-01  1.78975468e+00  1.78975468e+00]\n",
      " [ 4.51284016e-01  4.51284016e-01 -1.68405999e+00 -1.68405999e+00\n",
      "  -1.16017010e+00 -1.16017010e+00  1.35010682e+00  1.35010682e+00\n",
      "  -3.31283170e-01 -3.31283170e-01  3.86539145e-01  3.86539145e-01\n",
      "  -8.51455657e-01 -8.51455657e-01  1.00088142e+00  1.00088142e+00\n",
      "  -3.84832249e-01 -3.84832249e-01  1.45810824e+00  1.45810824e+00]\n",
      " [-5.32234021e-01 -5.32234021e-01  1.11813340e+00  1.11813340e+00\n",
      "   6.74396105e-01  6.74396105e-01 -7.22391905e-01 -7.22391905e-01\n",
      "   1.09899633e+00  1.09899633e+00 -9.01634490e-01 -9.01634490e-01\n",
      "  -8.22467189e-01 -8.22467189e-01  7.21711292e-01  7.21711292e-01\n",
      "  -6.25342001e-01 -6.25342001e-01 -5.93843067e-01 -5.93843067e-01]\n",
      " [-3.43900709e-01 -3.43900709e-01 -1.00016919e+00 -1.00016919e+00\n",
      "   1.04499441e+00  1.04499441e+00  6.08514698e-01  6.08514698e-01\n",
      "  -6.93286967e-02 -6.93286967e-02 -1.08392067e-01 -1.08392067e-01\n",
      "   4.50155513e-01  4.50155513e-01  1.76533510e+00  1.76533510e+00\n",
      "   8.70969803e-01  8.70969803e-01 -5.08457134e-01 -5.08457134e-01]\n",
      " [ 7.77419205e-01  7.77419205e-01 -1.18771172e-01 -1.18771172e-01\n",
      "  -1.98998184e-01 -1.98998184e-01  1.86647138e+00  1.86647138e+00\n",
      "  -4.18937898e-01 -4.18937898e-01 -4.79184915e-01 -4.79184915e-01\n",
      "  -1.95210529e+00 -1.95210529e+00 -1.40232915e+00 -1.40232915e+00\n",
      "   4.51122939e-01  4.51122939e-01 -6.94920901e-01 -6.94920901e-01]\n",
      " [ 5.15413802e-01  5.15413802e-01 -1.11487105e+00 -1.11487105e+00\n",
      "  -7.67309826e-01 -7.67309826e-01  6.74570707e-01  6.74570707e-01\n",
      "   1.46089238e+00  1.46089238e+00  5.92472801e-01  5.92472801e-01\n",
      "   1.19783084e+00  1.19783084e+00  1.70459417e+00  1.70459417e+00\n",
      "   1.04008915e+00  1.04008915e+00 -9.18440038e-01 -9.18440038e-01]\n",
      " [-1.05344713e-01 -1.05344713e-01  6.30195671e-01  6.30195671e-01\n",
      "  -4.14846901e-01 -4.14846901e-01  4.51946037e-01  4.51946037e-01\n",
      "  -1.57915629e+00 -1.57915629e+00 -8.28627979e-01 -8.28627979e-01\n",
      "   5.28879746e-01  5.28879746e-01 -2.23708651e+00 -2.23708651e+00\n",
      "  -1.10771250e+00 -1.10771250e+00 -1.77183179e-02 -1.77183179e-02]]\n"
     ]
    }
   ],
   "source": [
    "repeat_rand_column = np.repeat(rand, 2, axis = 1)\n",
    "print(repeat_rand_column)"
   ]
  },
  {
   "cell_type": "markdown",
   "metadata": {},
   "source": [
    "### np.insert() - insert rows and columns within a matrix"
   ]
  },
  {
   "cell_type": "markdown",
   "metadata": {},
   "source": [
    "Inserting a row of 5s after the first row.  "
   ]
  },
  {
   "cell_type": "code",
   "execution_count": 77,
   "metadata": {},
   "outputs": [
    {
     "name": "stdout",
     "output_type": "stream",
     "text": [
      "[[ 1.62434536e+00 -6.11756414e-01 -5.28171752e-01 -1.07296862e+00\n",
      "   8.65407629e-01 -2.30153870e+00  1.74481176e+00 -7.61206901e-01\n",
      "   3.19039096e-01 -2.49370375e-01]\n",
      " [ 5.00000000e+00  5.00000000e+00  5.00000000e+00  5.00000000e+00\n",
      "   5.00000000e+00  5.00000000e+00  5.00000000e+00  5.00000000e+00\n",
      "   5.00000000e+00  5.00000000e+00]\n",
      " [ 1.46210794e+00 -2.06014071e+00 -3.22417204e-01 -3.84054355e-01\n",
      "   1.13376944e+00 -1.09989127e+00 -1.72428208e-01 -8.77858418e-01\n",
      "   4.22137467e-02  5.82815214e-01]\n",
      " [-1.10061918e+00  1.14472371e+00  9.01590721e-01  5.02494339e-01\n",
      "   9.00855949e-01 -6.83727859e-01 -1.22890226e-01 -9.35769434e-01\n",
      "  -2.67888080e-01  5.30355467e-01]\n",
      " [-6.91660752e-01 -3.96753527e-01 -6.87172700e-01 -8.45205641e-01\n",
      "  -6.71246131e-01 -1.26645989e-02 -1.11731035e+00  2.34415698e-01\n",
      "   1.65980218e+00  7.42044161e-01]\n",
      " [-1.91835552e-01 -8.87628964e-01 -7.47158294e-01  1.69245460e+00\n",
      "   5.08077548e-02 -6.36995647e-01  1.90915485e-01  2.10025514e+00\n",
      "   1.20158952e-01  6.17203110e-01]\n",
      " [ 3.00170320e-01 -3.52249846e-01 -1.14251820e+00 -3.49342722e-01\n",
      "  -2.08894233e-01  5.86623191e-01  8.38983414e-01  9.31102081e-01\n",
      "   2.85587325e-01  8.85141164e-01]\n",
      " [-7.54397941e-01  1.25286816e+00  5.12929820e-01 -2.98092835e-01\n",
      "   4.88518147e-01 -7.55717130e-02  1.13162939e+00  1.51981682e+00\n",
      "   2.18557541e+00 -1.39649634e+00]\n",
      " [-1.44411381e+00 -5.04465863e-01  1.60037069e-01  8.76168921e-01\n",
      "   3.15634947e-01 -2.02220122e+00 -3.06204013e-01  8.27974643e-01\n",
      "   2.30094735e-01  7.62011180e-01]\n",
      " [-2.22328143e-01 -2.00758069e-01  1.86561391e-01  4.10051647e-01\n",
      "   1.98299720e-01  1.19008646e-01 -6.70662286e-01  3.77563786e-01\n",
      "   1.21821271e-01  1.12948391e+00]\n",
      " [ 1.19891788e+00  1.85156417e-01 -3.75284950e-01 -6.38730407e-01\n",
      "   4.23494354e-01  7.73400683e-02 -3.43853676e-01  4.35968568e-02\n",
      "  -6.20000844e-01  6.98032034e-01]\n",
      " [-4.47128565e-01  1.22450770e+00  4.03491642e-01  5.93578523e-01\n",
      "  -1.09491185e+00  1.69382433e-01  7.40556451e-01 -9.53700602e-01\n",
      "  -2.66218506e-01  3.26145467e-02]\n",
      " [-1.37311732e+00  3.15159392e-01  8.46160648e-01 -8.59515941e-01\n",
      "   3.50545979e-01 -1.31228341e+00 -3.86955093e-02 -1.61577235e+00\n",
      "   1.12141771e+00  4.08900538e-01]\n",
      " [-2.46169559e-02 -7.75161619e-01  1.27375593e+00  1.96710175e+00\n",
      "  -1.85798186e+00  1.23616403e+00  1.62765075e+00  3.38011697e-01\n",
      "  -1.19926803e+00  8.63345318e-01]\n",
      " [-1.80920302e-01 -6.03920628e-01 -1.23005814e+00  5.50537496e-01\n",
      "   7.92806866e-01 -6.23530730e-01  5.20576337e-01 -1.14434139e+00\n",
      "   8.01861032e-01  4.65672984e-02]\n",
      " [-1.86569772e-01 -1.01745873e-01  8.68886157e-01  7.50411640e-01\n",
      "   5.29465324e-01  1.37701210e-01  7.78211279e-02  6.18380262e-01\n",
      "   2.32494559e-01  6.82551407e-01]\n",
      " [-3.10116774e-01 -2.43483776e+00  1.03882460e+00  2.18697965e+00\n",
      "   4.41364444e-01 -1.00155233e-01 -1.36444744e-01 -1.19054188e-01\n",
      "   1.74094083e-02 -1.12201873e+00]\n",
      " [-5.17094458e-01 -9.97026828e-01  2.48799161e-01 -2.96641152e-01\n",
      "   4.95211324e-01 -1.74703160e-01  9.86335188e-01  2.13533901e-01\n",
      "   2.19069973e+00 -1.89636092e+00]\n",
      " [-6.46916688e-01  9.01486892e-01  2.52832571e+00 -2.48634778e-01\n",
      "   4.36689932e-02 -2.26314243e-01  1.33145711e+00 -2.87307863e-01\n",
      "   6.80069840e-01 -3.19801599e-01]\n",
      " [-1.27255876e+00  3.13547720e-01  5.03184813e-01  1.29322588e+00\n",
      "  -1.10447026e-01 -6.17362064e-01  5.62761097e-01  2.40737092e-01\n",
      "   2.80665077e-01 -7.31127037e-02]\n",
      " [ 1.16033857e+00  3.69492716e-01  1.90465871e+00  1.11105670e+00\n",
      "   6.59049796e-01 -1.62743834e+00  6.02319280e-01  4.20282204e-01\n",
      "   8.10951673e-01  1.04444209e+00]\n",
      " [-4.00878192e-01  8.24005618e-01 -5.62305431e-01  1.95487808e+00\n",
      "  -1.33195167e+00 -1.76068856e+00 -1.65072127e+00 -8.90555584e-01\n",
      "  -1.11911540e+00  1.95607890e+00]\n",
      " [-3.26499498e-01 -1.34267579e+00  1.11438298e+00 -5.86523939e-01\n",
      "  -1.23685338e+00  8.75838928e-01  6.23362177e-01 -4.34956683e-01\n",
      "   1.40754000e+00  1.29101580e-01]\n",
      " [ 1.61694960e+00  5.02740882e-01  1.55880554e+00  1.09402696e-01\n",
      "  -1.21974440e+00  2.44936865e+00 -5.45774168e-01 -1.98837863e-01\n",
      "  -7.00398505e-01 -2.03394449e-01]\n",
      " [ 2.42669441e-01  2.01830179e-01  6.61020288e-01  1.79215821e+00\n",
      "  -1.20464572e-01 -1.23312074e+00 -1.18231813e+00 -6.65754518e-01\n",
      "  -1.67419581e+00  8.25029824e-01]\n",
      " [-4.98213564e-01 -3.10984978e-01 -1.89148284e-03 -1.39662042e+00\n",
      "  -8.61316361e-01  6.74711526e-01  6.18539131e-01 -4.43171931e-01\n",
      "   1.81053491e+00 -1.30572692e+00]\n",
      " [-3.44987210e-01 -2.30839743e-01 -2.79308500e+00  1.93752881e+00\n",
      "   3.66332015e-01 -1.04458938e+00  2.05117344e+00  5.85662000e-01\n",
      "   4.29526140e-01 -6.06998398e-01]\n",
      " [ 1.06222724e-01 -1.52568032e+00  7.95026094e-01 -3.74438319e-01\n",
      "   1.34048197e-01  1.20205486e+00  2.84748111e-01  2.62467445e-01\n",
      "   2.76499305e-01 -7.33271604e-01]\n",
      " [ 8.36004719e-01  1.54335911e+00  7.58805660e-01  8.84908814e-01\n",
      "  -8.77281519e-01 -8.67787223e-01 -1.44087602e+00  1.23225307e+00\n",
      "  -2.54179868e-01  1.39984394e+00]\n",
      " [-7.81911683e-01 -4.37508983e-01  9.54250872e-02  9.21450069e-01\n",
      "   6.07501958e-02  2.11124755e-01  1.65275673e-02  1.77187720e-01\n",
      "  -1.11647002e+00  8.09271010e-02]\n",
      " [-1.86578994e-01 -5.68244809e-02  4.92336556e-01 -6.80678141e-01\n",
      "  -8.45080274e-02 -2.97361883e-01  4.17302005e-01  7.84770651e-01\n",
      "  -9.55425262e-01  5.85910431e-01]\n",
      " [ 2.06578332e+00 -1.47115693e+00 -8.30171895e-01 -8.80577600e-01\n",
      "  -2.79097722e-01  1.62284909e+00  1.33526763e-02 -6.94693595e-01\n",
      "   6.21803504e-01 -5.99804531e-01]\n",
      " [ 1.12341216e+00  3.05267040e-01  1.38877940e+00 -6.61344243e-01\n",
      "   3.03085711e+00  8.24584625e-01  6.54580153e-01 -5.11884476e-02\n",
      "  -7.25597119e-01 -8.67768678e-01]\n",
      " [-1.35977326e-01 -7.97269785e-01  2.82675712e-01 -8.26097432e-01\n",
      "   6.21082701e-01  9.56121704e-01 -7.05840507e-01  1.19268607e+00\n",
      "  -2.37941936e-01  1.15528789e+00]\n",
      " [ 4.38166347e-01  1.12232832e+00 -9.97019796e-01 -1.06793987e-01\n",
      "   1.45142926e+00 -6.18036848e-01 -2.03720123e+00 -1.94258918e+00\n",
      "  -2.50644065e+00 -2.11416392e+00]\n",
      " [-4.11639163e-01  1.27852808e+00 -4.42229280e-01  3.23527354e-01\n",
      "  -1.09991490e-01  8.54894544e-03 -1.68198840e-01 -1.74180344e-01\n",
      "   4.61164100e-01 -1.17598267e+00]\n",
      " [ 1.01012718e+00  9.20017933e-01 -1.95057341e-01  8.05393424e-01\n",
      "  -7.01344426e-01 -5.37223024e-01  1.56263850e-01 -1.90221025e-01\n",
      "  -4.48738033e-01 -6.72448039e-01]\n",
      " [-5.57494722e-01  9.39168744e-01 -1.94332341e+00  3.52494364e-01\n",
      "  -2.36436952e-01  7.27813500e-01  5.15073614e-01 -2.78253447e+00\n",
      "   5.84646610e-01  3.24274243e-01]\n",
      " [ 2.18628366e-02 -4.68673816e-01  8.53281222e-01 -4.13029310e-01\n",
      "   1.83471763e+00  5.64382855e-01  2.13782807e+00 -7.85533997e-01\n",
      "  -1.75592564e+00  7.14789597e-01]\n",
      " [ 8.52704062e-01  3.53600971e-02 -1.53879325e+00 -4.47895185e-01\n",
      "   6.17985534e-01 -1.84176326e-01 -1.15985185e-01 -1.75458969e-01\n",
      "  -9.33914656e-01 -5.33020326e-01]\n",
      " [-1.42655542e+00  1.76795995e+00 -4.75372875e-01  4.77610182e-01\n",
      "  -1.02188594e+00  7.94528240e-01 -1.87316098e+00  9.20615118e-01\n",
      "  -3.53679249e-02  2.11060505e+00]\n",
      " [-1.30653407e+00  7.63804802e-02  3.67231814e-01  1.23289919e+00\n",
      "  -4.22856961e-01  8.64644065e-02 -2.14246673e+00 -8.30168864e-01\n",
      "   4.51615951e-01  1.10417433e+00]\n",
      " [-2.81736269e-01  2.05635552e+00  1.76024923e+00 -6.06524918e-02\n",
      "  -2.41350300e+00 -1.77756638e+00 -7.77858827e-01  1.11584111e+00\n",
      "   3.10272288e-01 -2.09424782e+00]\n",
      " [-2.28765829e-01  1.61336137e+00 -3.74804687e-01 -7.49969617e-01\n",
      "   2.05462410e+00  5.34095368e-02 -4.79157099e-01  3.50167159e-01\n",
      "   1.71647264e-02 -4.29142278e-01]\n",
      " [ 1.20845633e+00  1.11570180e+00  8.40861558e-01 -1.02887218e-01\n",
      "   1.14690038e+00 -4.97025792e-02  4.66643267e-01  1.03368687e+00\n",
      "   8.08844360e-01  1.78975468e+00]\n",
      " [ 4.51284016e-01 -1.68405999e+00 -1.16017010e+00  1.35010682e+00\n",
      "  -3.31283170e-01  3.86539145e-01 -8.51455657e-01  1.00088142e+00\n",
      "  -3.84832249e-01  1.45810824e+00]\n",
      " [-5.32234021e-01  1.11813340e+00  6.74396105e-01 -7.22391905e-01\n",
      "   1.09899633e+00 -9.01634490e-01 -8.22467189e-01  7.21711292e-01\n",
      "  -6.25342001e-01 -5.93843067e-01]\n",
      " [-3.43900709e-01 -1.00016919e+00  1.04499441e+00  6.08514698e-01\n",
      "  -6.93286967e-02 -1.08392067e-01  4.50155513e-01  1.76533510e+00\n",
      "   8.70969803e-01 -5.08457134e-01]\n",
      " [ 7.77419205e-01 -1.18771172e-01 -1.98998184e-01  1.86647138e+00\n",
      "  -4.18937898e-01 -4.79184915e-01 -1.95210529e+00 -1.40232915e+00\n",
      "   4.51122939e-01 -6.94920901e-01]\n",
      " [ 5.15413802e-01 -1.11487105e+00 -7.67309826e-01  6.74570707e-01\n",
      "   1.46089238e+00  5.92472801e-01  1.19783084e+00  1.70459417e+00\n",
      "   1.04008915e+00 -9.18440038e-01]\n",
      " [-1.05344713e-01  6.30195671e-01 -4.14846901e-01  4.51946037e-01\n",
      "  -1.57915629e+00 -8.28627979e-01  5.28879746e-01 -2.23708651e+00\n",
      "  -1.10771250e+00 -1.77183179e-02]]\n"
     ]
    }
   ],
   "source": [
    "rand_insert_row = np.insert(rand, 1, 5, axis = 0)\n",
    "print(rand_insert_row)"
   ]
  },
  {
   "cell_type": "markdown",
   "metadata": {},
   "source": [
    "Inserting a column of 5s after the first column."
   ]
  },
  {
   "cell_type": "code",
   "execution_count": 78,
   "metadata": {},
   "outputs": [
    {
     "name": "stdout",
     "output_type": "stream",
     "text": [
      "[[ 1.62434536e+00  5.00000000e+00 -6.11756414e-01 -5.28171752e-01\n",
      "  -1.07296862e+00  8.65407629e-01 -2.30153870e+00  1.74481176e+00\n",
      "  -7.61206901e-01  3.19039096e-01 -2.49370375e-01]\n",
      " [ 1.46210794e+00  5.00000000e+00 -2.06014071e+00 -3.22417204e-01\n",
      "  -3.84054355e-01  1.13376944e+00 -1.09989127e+00 -1.72428208e-01\n",
      "  -8.77858418e-01  4.22137467e-02  5.82815214e-01]\n",
      " [-1.10061918e+00  5.00000000e+00  1.14472371e+00  9.01590721e-01\n",
      "   5.02494339e-01  9.00855949e-01 -6.83727859e-01 -1.22890226e-01\n",
      "  -9.35769434e-01 -2.67888080e-01  5.30355467e-01]\n",
      " [-6.91660752e-01  5.00000000e+00 -3.96753527e-01 -6.87172700e-01\n",
      "  -8.45205641e-01 -6.71246131e-01 -1.26645989e-02 -1.11731035e+00\n",
      "   2.34415698e-01  1.65980218e+00  7.42044161e-01]\n",
      " [-1.91835552e-01  5.00000000e+00 -8.87628964e-01 -7.47158294e-01\n",
      "   1.69245460e+00  5.08077548e-02 -6.36995647e-01  1.90915485e-01\n",
      "   2.10025514e+00  1.20158952e-01  6.17203110e-01]\n",
      " [ 3.00170320e-01  5.00000000e+00 -3.52249846e-01 -1.14251820e+00\n",
      "  -3.49342722e-01 -2.08894233e-01  5.86623191e-01  8.38983414e-01\n",
      "   9.31102081e-01  2.85587325e-01  8.85141164e-01]\n",
      " [-7.54397941e-01  5.00000000e+00  1.25286816e+00  5.12929820e-01\n",
      "  -2.98092835e-01  4.88518147e-01 -7.55717130e-02  1.13162939e+00\n",
      "   1.51981682e+00  2.18557541e+00 -1.39649634e+00]\n",
      " [-1.44411381e+00  5.00000000e+00 -5.04465863e-01  1.60037069e-01\n",
      "   8.76168921e-01  3.15634947e-01 -2.02220122e+00 -3.06204013e-01\n",
      "   8.27974643e-01  2.30094735e-01  7.62011180e-01]\n",
      " [-2.22328143e-01  5.00000000e+00 -2.00758069e-01  1.86561391e-01\n",
      "   4.10051647e-01  1.98299720e-01  1.19008646e-01 -6.70662286e-01\n",
      "   3.77563786e-01  1.21821271e-01  1.12948391e+00]\n",
      " [ 1.19891788e+00  5.00000000e+00  1.85156417e-01 -3.75284950e-01\n",
      "  -6.38730407e-01  4.23494354e-01  7.73400683e-02 -3.43853676e-01\n",
      "   4.35968568e-02 -6.20000844e-01  6.98032034e-01]\n",
      " [-4.47128565e-01  5.00000000e+00  1.22450770e+00  4.03491642e-01\n",
      "   5.93578523e-01 -1.09491185e+00  1.69382433e-01  7.40556451e-01\n",
      "  -9.53700602e-01 -2.66218506e-01  3.26145467e-02]\n",
      " [-1.37311732e+00  5.00000000e+00  3.15159392e-01  8.46160648e-01\n",
      "  -8.59515941e-01  3.50545979e-01 -1.31228341e+00 -3.86955093e-02\n",
      "  -1.61577235e+00  1.12141771e+00  4.08900538e-01]\n",
      " [-2.46169559e-02  5.00000000e+00 -7.75161619e-01  1.27375593e+00\n",
      "   1.96710175e+00 -1.85798186e+00  1.23616403e+00  1.62765075e+00\n",
      "   3.38011697e-01 -1.19926803e+00  8.63345318e-01]\n",
      " [-1.80920302e-01  5.00000000e+00 -6.03920628e-01 -1.23005814e+00\n",
      "   5.50537496e-01  7.92806866e-01 -6.23530730e-01  5.20576337e-01\n",
      "  -1.14434139e+00  8.01861032e-01  4.65672984e-02]\n",
      " [-1.86569772e-01  5.00000000e+00 -1.01745873e-01  8.68886157e-01\n",
      "   7.50411640e-01  5.29465324e-01  1.37701210e-01  7.78211279e-02\n",
      "   6.18380262e-01  2.32494559e-01  6.82551407e-01]\n",
      " [-3.10116774e-01  5.00000000e+00 -2.43483776e+00  1.03882460e+00\n",
      "   2.18697965e+00  4.41364444e-01 -1.00155233e-01 -1.36444744e-01\n",
      "  -1.19054188e-01  1.74094083e-02 -1.12201873e+00]\n",
      " [-5.17094458e-01  5.00000000e+00 -9.97026828e-01  2.48799161e-01\n",
      "  -2.96641152e-01  4.95211324e-01 -1.74703160e-01  9.86335188e-01\n",
      "   2.13533901e-01  2.19069973e+00 -1.89636092e+00]\n",
      " [-6.46916688e-01  5.00000000e+00  9.01486892e-01  2.52832571e+00\n",
      "  -2.48634778e-01  4.36689932e-02 -2.26314243e-01  1.33145711e+00\n",
      "  -2.87307863e-01  6.80069840e-01 -3.19801599e-01]\n",
      " [-1.27255876e+00  5.00000000e+00  3.13547720e-01  5.03184813e-01\n",
      "   1.29322588e+00 -1.10447026e-01 -6.17362064e-01  5.62761097e-01\n",
      "   2.40737092e-01  2.80665077e-01 -7.31127037e-02]\n",
      " [ 1.16033857e+00  5.00000000e+00  3.69492716e-01  1.90465871e+00\n",
      "   1.11105670e+00  6.59049796e-01 -1.62743834e+00  6.02319280e-01\n",
      "   4.20282204e-01  8.10951673e-01  1.04444209e+00]\n",
      " [-4.00878192e-01  5.00000000e+00  8.24005618e-01 -5.62305431e-01\n",
      "   1.95487808e+00 -1.33195167e+00 -1.76068856e+00 -1.65072127e+00\n",
      "  -8.90555584e-01 -1.11911540e+00  1.95607890e+00]\n",
      " [-3.26499498e-01  5.00000000e+00 -1.34267579e+00  1.11438298e+00\n",
      "  -5.86523939e-01 -1.23685338e+00  8.75838928e-01  6.23362177e-01\n",
      "  -4.34956683e-01  1.40754000e+00  1.29101580e-01]\n",
      " [ 1.61694960e+00  5.00000000e+00  5.02740882e-01  1.55880554e+00\n",
      "   1.09402696e-01 -1.21974440e+00  2.44936865e+00 -5.45774168e-01\n",
      "  -1.98837863e-01 -7.00398505e-01 -2.03394449e-01]\n",
      " [ 2.42669441e-01  5.00000000e+00  2.01830179e-01  6.61020288e-01\n",
      "   1.79215821e+00 -1.20464572e-01 -1.23312074e+00 -1.18231813e+00\n",
      "  -6.65754518e-01 -1.67419581e+00  8.25029824e-01]\n",
      " [-4.98213564e-01  5.00000000e+00 -3.10984978e-01 -1.89148284e-03\n",
      "  -1.39662042e+00 -8.61316361e-01  6.74711526e-01  6.18539131e-01\n",
      "  -4.43171931e-01  1.81053491e+00 -1.30572692e+00]\n",
      " [-3.44987210e-01  5.00000000e+00 -2.30839743e-01 -2.79308500e+00\n",
      "   1.93752881e+00  3.66332015e-01 -1.04458938e+00  2.05117344e+00\n",
      "   5.85662000e-01  4.29526140e-01 -6.06998398e-01]\n",
      " [ 1.06222724e-01  5.00000000e+00 -1.52568032e+00  7.95026094e-01\n",
      "  -3.74438319e-01  1.34048197e-01  1.20205486e+00  2.84748111e-01\n",
      "   2.62467445e-01  2.76499305e-01 -7.33271604e-01]\n",
      " [ 8.36004719e-01  5.00000000e+00  1.54335911e+00  7.58805660e-01\n",
      "   8.84908814e-01 -8.77281519e-01 -8.67787223e-01 -1.44087602e+00\n",
      "   1.23225307e+00 -2.54179868e-01  1.39984394e+00]\n",
      " [-7.81911683e-01  5.00000000e+00 -4.37508983e-01  9.54250872e-02\n",
      "   9.21450069e-01  6.07501958e-02  2.11124755e-01  1.65275673e-02\n",
      "   1.77187720e-01 -1.11647002e+00  8.09271010e-02]\n",
      " [-1.86578994e-01  5.00000000e+00 -5.68244809e-02  4.92336556e-01\n",
      "  -6.80678141e-01 -8.45080274e-02 -2.97361883e-01  4.17302005e-01\n",
      "   7.84770651e-01 -9.55425262e-01  5.85910431e-01]\n",
      " [ 2.06578332e+00  5.00000000e+00 -1.47115693e+00 -8.30171895e-01\n",
      "  -8.80577600e-01 -2.79097722e-01  1.62284909e+00  1.33526763e-02\n",
      "  -6.94693595e-01  6.21803504e-01 -5.99804531e-01]\n",
      " [ 1.12341216e+00  5.00000000e+00  3.05267040e-01  1.38877940e+00\n",
      "  -6.61344243e-01  3.03085711e+00  8.24584625e-01  6.54580153e-01\n",
      "  -5.11884476e-02 -7.25597119e-01 -8.67768678e-01]\n",
      " [-1.35977326e-01  5.00000000e+00 -7.97269785e-01  2.82675712e-01\n",
      "  -8.26097432e-01  6.21082701e-01  9.56121704e-01 -7.05840507e-01\n",
      "   1.19268607e+00 -2.37941936e-01  1.15528789e+00]\n",
      " [ 4.38166347e-01  5.00000000e+00  1.12232832e+00 -9.97019796e-01\n",
      "  -1.06793987e-01  1.45142926e+00 -6.18036848e-01 -2.03720123e+00\n",
      "  -1.94258918e+00 -2.50644065e+00 -2.11416392e+00]\n",
      " [-4.11639163e-01  5.00000000e+00  1.27852808e+00 -4.42229280e-01\n",
      "   3.23527354e-01 -1.09991490e-01  8.54894544e-03 -1.68198840e-01\n",
      "  -1.74180344e-01  4.61164100e-01 -1.17598267e+00]\n",
      " [ 1.01012718e+00  5.00000000e+00  9.20017933e-01 -1.95057341e-01\n",
      "   8.05393424e-01 -7.01344426e-01 -5.37223024e-01  1.56263850e-01\n",
      "  -1.90221025e-01 -4.48738033e-01 -6.72448039e-01]\n",
      " [-5.57494722e-01  5.00000000e+00  9.39168744e-01 -1.94332341e+00\n",
      "   3.52494364e-01 -2.36436952e-01  7.27813500e-01  5.15073614e-01\n",
      "  -2.78253447e+00  5.84646610e-01  3.24274243e-01]\n",
      " [ 2.18628366e-02  5.00000000e+00 -4.68673816e-01  8.53281222e-01\n",
      "  -4.13029310e-01  1.83471763e+00  5.64382855e-01  2.13782807e+00\n",
      "  -7.85533997e-01 -1.75592564e+00  7.14789597e-01]\n",
      " [ 8.52704062e-01  5.00000000e+00  3.53600971e-02 -1.53879325e+00\n",
      "  -4.47895185e-01  6.17985534e-01 -1.84176326e-01 -1.15985185e-01\n",
      "  -1.75458969e-01 -9.33914656e-01 -5.33020326e-01]\n",
      " [-1.42655542e+00  5.00000000e+00  1.76795995e+00 -4.75372875e-01\n",
      "   4.77610182e-01 -1.02188594e+00  7.94528240e-01 -1.87316098e+00\n",
      "   9.20615118e-01 -3.53679249e-02  2.11060505e+00]\n",
      " [-1.30653407e+00  5.00000000e+00  7.63804802e-02  3.67231814e-01\n",
      "   1.23289919e+00 -4.22856961e-01  8.64644065e-02 -2.14246673e+00\n",
      "  -8.30168864e-01  4.51615951e-01  1.10417433e+00]\n",
      " [-2.81736269e-01  5.00000000e+00  2.05635552e+00  1.76024923e+00\n",
      "  -6.06524918e-02 -2.41350300e+00 -1.77756638e+00 -7.77858827e-01\n",
      "   1.11584111e+00  3.10272288e-01 -2.09424782e+00]\n",
      " [-2.28765829e-01  5.00000000e+00  1.61336137e+00 -3.74804687e-01\n",
      "  -7.49969617e-01  2.05462410e+00  5.34095368e-02 -4.79157099e-01\n",
      "   3.50167159e-01  1.71647264e-02 -4.29142278e-01]\n",
      " [ 1.20845633e+00  5.00000000e+00  1.11570180e+00  8.40861558e-01\n",
      "  -1.02887218e-01  1.14690038e+00 -4.97025792e-02  4.66643267e-01\n",
      "   1.03368687e+00  8.08844360e-01  1.78975468e+00]\n",
      " [ 4.51284016e-01  5.00000000e+00 -1.68405999e+00 -1.16017010e+00\n",
      "   1.35010682e+00 -3.31283170e-01  3.86539145e-01 -8.51455657e-01\n",
      "   1.00088142e+00 -3.84832249e-01  1.45810824e+00]\n",
      " [-5.32234021e-01  5.00000000e+00  1.11813340e+00  6.74396105e-01\n",
      "  -7.22391905e-01  1.09899633e+00 -9.01634490e-01 -8.22467189e-01\n",
      "   7.21711292e-01 -6.25342001e-01 -5.93843067e-01]\n",
      " [-3.43900709e-01  5.00000000e+00 -1.00016919e+00  1.04499441e+00\n",
      "   6.08514698e-01 -6.93286967e-02 -1.08392067e-01  4.50155513e-01\n",
      "   1.76533510e+00  8.70969803e-01 -5.08457134e-01]\n",
      " [ 7.77419205e-01  5.00000000e+00 -1.18771172e-01 -1.98998184e-01\n",
      "   1.86647138e+00 -4.18937898e-01 -4.79184915e-01 -1.95210529e+00\n",
      "  -1.40232915e+00  4.51122939e-01 -6.94920901e-01]\n",
      " [ 5.15413802e-01  5.00000000e+00 -1.11487105e+00 -7.67309826e-01\n",
      "   6.74570707e-01  1.46089238e+00  5.92472801e-01  1.19783084e+00\n",
      "   1.70459417e+00  1.04008915e+00 -9.18440038e-01]\n",
      " [-1.05344713e-01  5.00000000e+00  6.30195671e-01 -4.14846901e-01\n",
      "   4.51946037e-01 -1.57915629e+00 -8.28627979e-01  5.28879746e-01\n",
      "  -2.23708651e+00 -1.10771250e+00 -1.77183179e-02]]\n"
     ]
    }
   ],
   "source": [
    "rand_insert_column = np.insert(rand, 1, 5, axis = 1)\n",
    "print(rand_insert_column)"
   ]
  },
  {
   "cell_type": "markdown",
   "metadata": {},
   "source": [
    "### Replace and Overwritting"
   ]
  },
  {
   "cell_type": "markdown",
   "metadata": {},
   "source": [
    "Overwrite row values in the first row, with new values generated."
   ]
  },
  {
   "cell_type": "code",
   "execution_count": 79,
   "metadata": {},
   "outputs": [
    {
     "name": "stdout",
     "output_type": "stream",
     "text": [
      "[[-8.59697237e+01  2.85604980e+00 -3.99773745e+01 -1.45797298e+01\n",
      "  -1.29491427e+01  9.46465988e+00 -2.81894367e+01  4.48432037e+00\n",
      "  -3.00578400e+01  2.78036755e+01]\n",
      " [ 1.46210794e+00 -2.06014071e+00 -3.22417204e-01 -3.84054355e-01\n",
      "   1.13376944e+00 -1.09989127e+00 -1.72428208e-01 -8.77858418e-01\n",
      "   4.22137467e-02  5.82815214e-01]\n",
      " [-1.10061918e+00  1.14472371e+00  9.01590721e-01  5.02494339e-01\n",
      "   9.00855949e-01 -6.83727859e-01 -1.22890226e-01 -9.35769434e-01\n",
      "  -2.67888080e-01  5.30355467e-01]\n",
      " [-6.91660752e-01 -3.96753527e-01 -6.87172700e-01 -8.45205641e-01\n",
      "  -6.71246131e-01 -1.26645989e-02 -1.11731035e+00  2.34415698e-01\n",
      "   1.65980218e+00  7.42044161e-01]\n",
      " [-1.91835552e-01 -8.87628964e-01 -7.47158294e-01  1.69245460e+00\n",
      "   5.08077548e-02 -6.36995647e-01  1.90915485e-01  2.10025514e+00\n",
      "   1.20158952e-01  6.17203110e-01]\n",
      " [ 3.00170320e-01 -3.52249846e-01 -1.14251820e+00 -3.49342722e-01\n",
      "  -2.08894233e-01  5.86623191e-01  8.38983414e-01  9.31102081e-01\n",
      "   2.85587325e-01  8.85141164e-01]\n",
      " [-7.54397941e-01  1.25286816e+00  5.12929820e-01 -2.98092835e-01\n",
      "   4.88518147e-01 -7.55717130e-02  1.13162939e+00  1.51981682e+00\n",
      "   2.18557541e+00 -1.39649634e+00]\n",
      " [-1.44411381e+00 -5.04465863e-01  1.60037069e-01  8.76168921e-01\n",
      "   3.15634947e-01 -2.02220122e+00 -3.06204013e-01  8.27974643e-01\n",
      "   2.30094735e-01  7.62011180e-01]\n",
      " [-2.22328143e-01 -2.00758069e-01  1.86561391e-01  4.10051647e-01\n",
      "   1.98299720e-01  1.19008646e-01 -6.70662286e-01  3.77563786e-01\n",
      "   1.21821271e-01  1.12948391e+00]\n",
      " [ 1.19891788e+00  1.85156417e-01 -3.75284950e-01 -6.38730407e-01\n",
      "   4.23494354e-01  7.73400683e-02 -3.43853676e-01  4.35968568e-02\n",
      "  -6.20000844e-01  6.98032034e-01]\n",
      " [-4.47128565e-01  1.22450770e+00  4.03491642e-01  5.93578523e-01\n",
      "  -1.09491185e+00  1.69382433e-01  7.40556451e-01 -9.53700602e-01\n",
      "  -2.66218506e-01  3.26145467e-02]\n",
      " [-1.37311732e+00  3.15159392e-01  8.46160648e-01 -8.59515941e-01\n",
      "   3.50545979e-01 -1.31228341e+00 -3.86955093e-02 -1.61577235e+00\n",
      "   1.12141771e+00  4.08900538e-01]\n",
      " [-2.46169559e-02 -7.75161619e-01  1.27375593e+00  1.96710175e+00\n",
      "  -1.85798186e+00  1.23616403e+00  1.62765075e+00  3.38011697e-01\n",
      "  -1.19926803e+00  8.63345318e-01]\n",
      " [-1.80920302e-01 -6.03920628e-01 -1.23005814e+00  5.50537496e-01\n",
      "   7.92806866e-01 -6.23530730e-01  5.20576337e-01 -1.14434139e+00\n",
      "   8.01861032e-01  4.65672984e-02]\n",
      " [-1.86569772e-01 -1.01745873e-01  8.68886157e-01  7.50411640e-01\n",
      "   5.29465324e-01  1.37701210e-01  7.78211279e-02  6.18380262e-01\n",
      "   2.32494559e-01  6.82551407e-01]\n",
      " [-3.10116774e-01 -2.43483776e+00  1.03882460e+00  2.18697965e+00\n",
      "   4.41364444e-01 -1.00155233e-01 -1.36444744e-01 -1.19054188e-01\n",
      "   1.74094083e-02 -1.12201873e+00]\n",
      " [-5.17094458e-01 -9.97026828e-01  2.48799161e-01 -2.96641152e-01\n",
      "   4.95211324e-01 -1.74703160e-01  9.86335188e-01  2.13533901e-01\n",
      "   2.19069973e+00 -1.89636092e+00]\n",
      " [-6.46916688e-01  9.01486892e-01  2.52832571e+00 -2.48634778e-01\n",
      "   4.36689932e-02 -2.26314243e-01  1.33145711e+00 -2.87307863e-01\n",
      "   6.80069840e-01 -3.19801599e-01]\n",
      " [-1.27255876e+00  3.13547720e-01  5.03184813e-01  1.29322588e+00\n",
      "  -1.10447026e-01 -6.17362064e-01  5.62761097e-01  2.40737092e-01\n",
      "   2.80665077e-01 -7.31127037e-02]\n",
      " [ 1.16033857e+00  3.69492716e-01  1.90465871e+00  1.11105670e+00\n",
      "   6.59049796e-01 -1.62743834e+00  6.02319280e-01  4.20282204e-01\n",
      "   8.10951673e-01  1.04444209e+00]\n",
      " [-4.00878192e-01  8.24005618e-01 -5.62305431e-01  1.95487808e+00\n",
      "  -1.33195167e+00 -1.76068856e+00 -1.65072127e+00 -8.90555584e-01\n",
      "  -1.11911540e+00  1.95607890e+00]\n",
      " [-3.26499498e-01 -1.34267579e+00  1.11438298e+00 -5.86523939e-01\n",
      "  -1.23685338e+00  8.75838928e-01  6.23362177e-01 -4.34956683e-01\n",
      "   1.40754000e+00  1.29101580e-01]\n",
      " [ 1.61694960e+00  5.02740882e-01  1.55880554e+00  1.09402696e-01\n",
      "  -1.21974440e+00  2.44936865e+00 -5.45774168e-01 -1.98837863e-01\n",
      "  -7.00398505e-01 -2.03394449e-01]\n",
      " [ 2.42669441e-01  2.01830179e-01  6.61020288e-01  1.79215821e+00\n",
      "  -1.20464572e-01 -1.23312074e+00 -1.18231813e+00 -6.65754518e-01\n",
      "  -1.67419581e+00  8.25029824e-01]\n",
      " [-4.98213564e-01 -3.10984978e-01 -1.89148284e-03 -1.39662042e+00\n",
      "  -8.61316361e-01  6.74711526e-01  6.18539131e-01 -4.43171931e-01\n",
      "   1.81053491e+00 -1.30572692e+00]\n",
      " [-3.44987210e-01 -2.30839743e-01 -2.79308500e+00  1.93752881e+00\n",
      "   3.66332015e-01 -1.04458938e+00  2.05117344e+00  5.85662000e-01\n",
      "   4.29526140e-01 -6.06998398e-01]\n",
      " [ 1.06222724e-01 -1.52568032e+00  7.95026094e-01 -3.74438319e-01\n",
      "   1.34048197e-01  1.20205486e+00  2.84748111e-01  2.62467445e-01\n",
      "   2.76499305e-01 -7.33271604e-01]\n",
      " [ 8.36004719e-01  1.54335911e+00  7.58805660e-01  8.84908814e-01\n",
      "  -8.77281519e-01 -8.67787223e-01 -1.44087602e+00  1.23225307e+00\n",
      "  -2.54179868e-01  1.39984394e+00]\n",
      " [-7.81911683e-01 -4.37508983e-01  9.54250872e-02  9.21450069e-01\n",
      "   6.07501958e-02  2.11124755e-01  1.65275673e-02  1.77187720e-01\n",
      "  -1.11647002e+00  8.09271010e-02]\n",
      " [-1.86578994e-01 -5.68244809e-02  4.92336556e-01 -6.80678141e-01\n",
      "  -8.45080274e-02 -2.97361883e-01  4.17302005e-01  7.84770651e-01\n",
      "  -9.55425262e-01  5.85910431e-01]\n",
      " [ 2.06578332e+00 -1.47115693e+00 -8.30171895e-01 -8.80577600e-01\n",
      "  -2.79097722e-01  1.62284909e+00  1.33526763e-02 -6.94693595e-01\n",
      "   6.21803504e-01 -5.99804531e-01]\n",
      " [ 1.12341216e+00  3.05267040e-01  1.38877940e+00 -6.61344243e-01\n",
      "   3.03085711e+00  8.24584625e-01  6.54580153e-01 -5.11884476e-02\n",
      "  -7.25597119e-01 -8.67768678e-01]\n",
      " [-1.35977326e-01 -7.97269785e-01  2.82675712e-01 -8.26097432e-01\n",
      "   6.21082701e-01  9.56121704e-01 -7.05840507e-01  1.19268607e+00\n",
      "  -2.37941936e-01  1.15528789e+00]\n",
      " [ 4.38166347e-01  1.12232832e+00 -9.97019796e-01 -1.06793987e-01\n",
      "   1.45142926e+00 -6.18036848e-01 -2.03720123e+00 -1.94258918e+00\n",
      "  -2.50644065e+00 -2.11416392e+00]\n",
      " [-4.11639163e-01  1.27852808e+00 -4.42229280e-01  3.23527354e-01\n",
      "  -1.09991490e-01  8.54894544e-03 -1.68198840e-01 -1.74180344e-01\n",
      "   4.61164100e-01 -1.17598267e+00]\n",
      " [ 1.01012718e+00  9.20017933e-01 -1.95057341e-01  8.05393424e-01\n",
      "  -7.01344426e-01 -5.37223024e-01  1.56263850e-01 -1.90221025e-01\n",
      "  -4.48738033e-01 -6.72448039e-01]\n",
      " [-5.57494722e-01  9.39168744e-01 -1.94332341e+00  3.52494364e-01\n",
      "  -2.36436952e-01  7.27813500e-01  5.15073614e-01 -2.78253447e+00\n",
      "   5.84646610e-01  3.24274243e-01]\n",
      " [ 2.18628366e-02 -4.68673816e-01  8.53281222e-01 -4.13029310e-01\n",
      "   1.83471763e+00  5.64382855e-01  2.13782807e+00 -7.85533997e-01\n",
      "  -1.75592564e+00  7.14789597e-01]\n",
      " [ 8.52704062e-01  3.53600971e-02 -1.53879325e+00 -4.47895185e-01\n",
      "   6.17985534e-01 -1.84176326e-01 -1.15985185e-01 -1.75458969e-01\n",
      "  -9.33914656e-01 -5.33020326e-01]\n",
      " [-1.42655542e+00  1.76795995e+00 -4.75372875e-01  4.77610182e-01\n",
      "  -1.02188594e+00  7.94528240e-01 -1.87316098e+00  9.20615118e-01\n",
      "  -3.53679249e-02  2.11060505e+00]\n",
      " [-1.30653407e+00  7.63804802e-02  3.67231814e-01  1.23289919e+00\n",
      "  -4.22856961e-01  8.64644065e-02 -2.14246673e+00 -8.30168864e-01\n",
      "   4.51615951e-01  1.10417433e+00]\n",
      " [-2.81736269e-01  2.05635552e+00  1.76024923e+00 -6.06524918e-02\n",
      "  -2.41350300e+00 -1.77756638e+00 -7.77858827e-01  1.11584111e+00\n",
      "   3.10272288e-01 -2.09424782e+00]\n",
      " [-2.28765829e-01  1.61336137e+00 -3.74804687e-01 -7.49969617e-01\n",
      "   2.05462410e+00  5.34095368e-02 -4.79157099e-01  3.50167159e-01\n",
      "   1.71647264e-02 -4.29142278e-01]\n",
      " [ 1.20845633e+00  1.11570180e+00  8.40861558e-01 -1.02887218e-01\n",
      "   1.14690038e+00 -4.97025792e-02  4.66643267e-01  1.03368687e+00\n",
      "   8.08844360e-01  1.78975468e+00]\n",
      " [ 4.51284016e-01 -1.68405999e+00 -1.16017010e+00  1.35010682e+00\n",
      "  -3.31283170e-01  3.86539145e-01 -8.51455657e-01  1.00088142e+00\n",
      "  -3.84832249e-01  1.45810824e+00]\n",
      " [-5.32234021e-01  1.11813340e+00  6.74396105e-01 -7.22391905e-01\n",
      "   1.09899633e+00 -9.01634490e-01 -8.22467189e-01  7.21711292e-01\n",
      "  -6.25342001e-01 -5.93843067e-01]\n",
      " [-3.43900709e-01 -1.00016919e+00  1.04499441e+00  6.08514698e-01\n",
      "  -6.93286967e-02 -1.08392067e-01  4.50155513e-01  1.76533510e+00\n",
      "   8.70969803e-01 -5.08457134e-01]\n",
      " [ 7.77419205e-01 -1.18771172e-01 -1.98998184e-01  1.86647138e+00\n",
      "  -4.18937898e-01 -4.79184915e-01 -1.95210529e+00 -1.40232915e+00\n",
      "   4.51122939e-01 -6.94920901e-01]\n",
      " [ 5.15413802e-01 -1.11487105e+00 -7.67309826e-01  6.74570707e-01\n",
      "   1.46089238e+00  5.92472801e-01  1.19783084e+00  1.70459417e+00\n",
      "   1.04008915e+00 -9.18440038e-01]\n",
      " [-1.05344713e-01  6.30195671e-01 -4.14846901e-01  4.51946037e-01\n",
      "  -1.57915629e+00 -8.28627979e-01  5.28879746e-01 -2.23708651e+00\n",
      "  -1.10771250e+00 -1.77183179e-02]]\n"
     ]
    }
   ],
   "source": [
    "New_Values_Row = np.random.normal(0,1, size=(1,10))*50 #pay close attention to the indices (1 x 10  matrix for row).\n",
    "rand[0] = New_Values_Row\n",
    "print(rand)"
   ]
  },
  {
   "cell_type": "markdown",
   "metadata": {},
   "source": [
    "Overwrite column values in the first row, with new values generated."
   ]
  },
  {
   "cell_type": "code",
   "execution_count": 80,
   "metadata": {},
   "outputs": [
    {
     "name": "stdout",
     "output_type": "stream",
     "text": [
      "[[ 8.46904557e+01  2.85604980e+00 -3.99773745e+01 -1.45797298e+01\n",
      "  -1.29491427e+01  9.46465988e+00 -2.81894367e+01  4.48432037e+00\n",
      "  -3.00578400e+01  2.78036755e+01]\n",
      " [ 9.84348896e+00 -2.06014071e+00 -3.22417204e-01 -3.84054355e-01\n",
      "   1.13376944e+00 -1.09989127e+00 -1.72428208e-01 -8.77858418e-01\n",
      "   4.22137467e-02  5.82815214e-01]\n",
      " [ 8.49346277e+00  1.14472371e+00  9.01590721e-01  5.02494339e-01\n",
      "   9.00855949e-01 -6.83727859e-01 -1.22890226e-01 -9.35769434e-01\n",
      "  -2.67888080e-01  5.30355467e-01]\n",
      " [-5.82003986e+01 -3.96753527e-01 -6.87172700e-01 -8.45205641e-01\n",
      "  -6.71246131e-01 -1.26645989e-02 -1.11731035e+00  2.34415698e-01\n",
      "   1.65980218e+00  7.42044161e-01]\n",
      " [ 3.46683113e+01 -8.87628964e-01 -7.47158294e-01  1.69245460e+00\n",
      "   5.08077548e-02 -6.36995647e-01  1.90915485e-01  2.10025514e+00\n",
      "   1.20158952e-01  6.17203110e-01]\n",
      " [-3.79033664e+01 -3.52249846e-01 -1.14251820e+00 -3.49342722e-01\n",
      "  -2.08894233e-01  5.86623191e-01  8.38983414e-01  9.31102081e-01\n",
      "   2.85587325e-01  8.85141164e-01]\n",
      " [-4.04423598e+01  1.25286816e+00  5.12929820e-01 -2.98092835e-01\n",
      "   4.88518147e-01 -7.55717130e-02  1.13162939e+00  1.51981682e+00\n",
      "   2.18557541e+00 -1.39649634e+00]\n",
      " [ 2.78719726e+01 -5.04465863e-01  1.60037069e-01  8.76168921e-01\n",
      "   3.15634947e-01 -2.02220122e+00 -3.06204013e-01  8.27974643e-01\n",
      "   2.30094735e-01  7.62011180e-01]\n",
      " [ 9.05193722e+00 -2.00758069e-01  1.86561391e-01  4.10051647e-01\n",
      "   1.98299720e-01  1.19008646e-01 -6.70662286e-01  3.77563786e-01\n",
      "   1.21821271e-01  1.12948391e+00]\n",
      " [ 5.53587725e+01  1.85156417e-01 -3.75284950e-01 -6.38730407e-01\n",
      "   4.23494354e-01  7.73400683e-02 -3.43853676e-01  4.35968568e-02\n",
      "  -6.20000844e-01  6.98032034e-01]\n",
      " [ 7.21438464e+01  1.22450770e+00  4.03491642e-01  5.93578523e-01\n",
      "  -1.09491185e+00  1.69382433e-01  7.40556451e-01 -9.53700602e-01\n",
      "  -2.66218506e-01  3.26145467e-02]\n",
      " [-2.69840781e+01  3.15159392e-01  8.46160648e-01 -8.59515941e-01\n",
      "   3.50545979e-01 -1.31228341e+00 -3.86955093e-02 -1.61577235e+00\n",
      "   1.12141771e+00  4.08900538e-01]\n",
      " [ 6.41884951e+00 -7.75161619e-01  1.27375593e+00  1.96710175e+00\n",
      "  -1.85798186e+00  1.23616403e+00  1.62765075e+00  3.38011697e-01\n",
      "  -1.19926803e+00  8.63345318e-01]\n",
      " [ 8.80207592e+01 -6.03920628e-01 -1.23005814e+00  5.50537496e-01\n",
      "   7.92806866e-01 -6.23530730e-01  5.20576337e-01 -1.14434139e+00\n",
      "   8.01861032e-01  4.65672984e-02]\n",
      " [ 4.83269625e+01 -1.01745873e-01  8.68886157e-01  7.50411640e-01\n",
      "   5.29465324e-01  1.37701210e-01  7.78211279e-02  6.18380262e-01\n",
      "   2.32494559e-01  6.82551407e-01]\n",
      " [ 3.56524525e+01 -2.43483776e+00  1.03882460e+00  2.18697965e+00\n",
      "   4.41364444e-01 -1.00155233e-01 -1.36444744e-01 -1.19054188e-01\n",
      "   1.74094083e-02 -1.12201873e+00]\n",
      " [ 6.53103033e+01 -9.97026828e-01  2.48799161e-01 -2.96641152e-01\n",
      "   4.95211324e-01 -1.74703160e-01  9.86335188e-01  2.13533901e-01\n",
      "   2.19069973e+00 -1.89636092e+00]\n",
      " [-3.02301485e+01  9.01486892e-01  2.52832571e+00 -2.48634778e-01\n",
      "   4.36689932e-02 -2.26314243e-01  1.33145711e+00 -2.87307863e-01\n",
      "   6.80069840e-01 -3.19801599e-01]\n",
      " [ 3.18291705e+01  3.13547720e-01  5.03184813e-01  1.29322588e+00\n",
      "  -1.10447026e-01 -6.17362064e-01  5.62761097e-01  2.40737092e-01\n",
      "   2.80665077e-01 -7.31127037e-02]\n",
      " [ 7.04626695e+01  3.69492716e-01  1.90465871e+00  1.11105670e+00\n",
      "   6.59049796e-01 -1.62743834e+00  6.02319280e-01  4.20282204e-01\n",
      "   8.10951673e-01  1.04444209e+00]\n",
      " [ 8.10456143e+01  8.24005618e-01 -5.62305431e-01  1.95487808e+00\n",
      "  -1.33195167e+00 -1.76068856e+00 -1.65072127e+00 -8.90555584e-01\n",
      "  -1.11911540e+00  1.95607890e+00]\n",
      " [-4.03092409e+01 -1.34267579e+00  1.11438298e+00 -5.86523939e-01\n",
      "  -1.23685338e+00  8.75838928e-01  6.23362177e-01 -4.34956683e-01\n",
      "   1.40754000e+00  1.29101580e-01]\n",
      " [-1.25837104e+01  5.02740882e-01  1.55880554e+00  1.09402696e-01\n",
      "  -1.21974440e+00  2.44936865e+00 -5.45774168e-01 -1.98837863e-01\n",
      "  -7.00398505e-01 -2.03394449e-01]\n",
      " [ 1.91357587e+01  2.01830179e-01  6.61020288e-01  1.79215821e+00\n",
      "  -1.20464572e-01 -1.23312074e+00 -1.18231813e+00 -6.65754518e-01\n",
      "  -1.67419581e+00  8.25029824e-01]\n",
      " [-1.44498672e+01 -3.10984978e-01 -1.89148284e-03 -1.39662042e+00\n",
      "  -8.61316361e-01  6.74711526e-01  6.18539131e-01 -4.43171931e-01\n",
      "   1.81053491e+00 -1.30572692e+00]\n",
      " [-1.95908120e+01 -2.30839743e-01 -2.79308500e+00  1.93752881e+00\n",
      "   3.66332015e-01 -1.04458938e+00  2.05117344e+00  5.85662000e-01\n",
      "   4.29526140e-01 -6.06998398e-01]\n",
      " [ 3.42000664e+01 -1.52568032e+00  7.95026094e-01 -3.74438319e-01\n",
      "   1.34048197e-01  1.20205486e+00  2.84748111e-01  2.62467445e-01\n",
      "   2.76499305e-01 -7.33271604e-01]\n",
      " [-1.76704991e+01  1.54335911e+00  7.58805660e-01  8.84908814e-01\n",
      "  -8.77281519e-01 -8.67787223e-01 -1.44087602e+00  1.23225307e+00\n",
      "  -2.54179868e-01  1.39984394e+00]\n",
      " [-8.93956446e+01 -4.37508983e-01  9.54250872e-02  9.21450069e-01\n",
      "   6.07501958e-02  2.11124755e-01  1.65275673e-02  1.77187720e-01\n",
      "  -1.11647002e+00  8.09271010e-02]\n",
      " [ 1.80923658e+01 -5.68244809e-02  4.92336556e-01 -6.80678141e-01\n",
      "  -8.45080274e-02 -2.97361883e-01  4.17302005e-01  7.84770651e-01\n",
      "  -9.55425262e-01  5.85910431e-01]\n",
      " [-2.12246395e+01 -1.47115693e+00 -8.30171895e-01 -8.80577600e-01\n",
      "  -2.79097722e-01  1.62284909e+00  1.33526763e-02 -6.94693595e-01\n",
      "   6.21803504e-01 -5.99804531e-01]\n",
      " [-3.65765491e+01  3.05267040e-01  1.38877940e+00 -6.61344243e-01\n",
      "   3.03085711e+00  8.24584625e-01  6.54580153e-01 -5.11884476e-02\n",
      "  -7.25597119e-01 -8.67768678e-01]\n",
      " [-7.82869075e+01 -7.97269785e-01  2.82675712e-01 -8.26097432e-01\n",
      "   6.21082701e-01  9.56121704e-01 -7.05840507e-01  1.19268607e+00\n",
      "  -2.37941936e-01  1.15528789e+00]\n",
      " [ 5.06911233e+01  1.12232832e+00 -9.97019796e-01 -1.06793987e-01\n",
      "   1.45142926e+00 -6.18036848e-01 -2.03720123e+00 -1.94258918e+00\n",
      "  -2.50644065e+00 -2.11416392e+00]\n",
      " [-1.11355632e+02  1.27852808e+00 -4.42229280e-01  3.23527354e-01\n",
      "  -1.09991490e-01  8.54894544e-03 -1.68198840e-01 -1.74180344e-01\n",
      "   4.61164100e-01 -1.17598267e+00]\n",
      " [-8.49666802e+01  9.20017933e-01 -1.95057341e-01  8.05393424e-01\n",
      "  -7.01344426e-01 -5.37223024e-01  1.56263850e-01 -1.90221025e-01\n",
      "  -4.48738033e-01 -6.72448039e-01]\n",
      " [-1.37923031e+01  9.39168744e-01 -1.94332341e+00  3.52494364e-01\n",
      "  -2.36436952e-01  7.27813500e-01  5.15073614e-01 -2.78253447e+00\n",
      "   5.84646610e-01  3.24274243e-01]\n",
      " [ 6.14477793e+01 -4.68673816e-01  8.53281222e-01 -4.13029310e-01\n",
      "   1.83471763e+00  5.64382855e-01  2.13782807e+00 -7.85533997e-01\n",
      "  -1.75592564e+00  7.14789597e-01]\n",
      " [ 6.54852953e+01  3.53600971e-02 -1.53879325e+00 -4.47895185e-01\n",
      "   6.17985534e-01 -1.84176326e-01 -1.15985185e-01 -1.75458969e-01\n",
      "  -9.33914656e-01 -5.33020326e-01]\n",
      " [-5.77491317e+01  1.76795995e+00 -4.75372875e-01  4.77610182e-01\n",
      "  -1.02188594e+00  7.94528240e-01 -1.87316098e+00  9.20615118e-01\n",
      "  -3.53679249e-02  2.11060505e+00]\n",
      " [-8.88160980e+00  7.63804802e-02  3.67231814e-01  1.23289919e+00\n",
      "  -4.22856961e-01  8.64644065e-02 -2.14246673e+00 -8.30168864e-01\n",
      "   4.51615951e-01  1.10417433e+00]\n",
      " [-7.55228188e+01  2.05635552e+00  1.76024923e+00 -6.06524918e-02\n",
      "  -2.41350300e+00 -1.77756638e+00 -7.77858827e-01  1.11584111e+00\n",
      "   3.10272288e-01 -2.09424782e+00]\n",
      " [ 5.05603532e+01  1.61336137e+00 -3.74804687e-01 -7.49969617e-01\n",
      "   2.05462410e+00  5.34095368e-02 -4.79157099e-01  3.50167159e-01\n",
      "   1.71647264e-02 -4.29142278e-01]\n",
      " [-7.38281330e+01  1.11570180e+00  8.40861558e-01 -1.02887218e-01\n",
      "   1.14690038e+00 -4.97025792e-02  4.66643267e-01  1.03368687e+00\n",
      "   8.08844360e-01  1.78975468e+00]\n",
      " [-7.15978725e+00 -1.68405999e+00 -1.16017010e+00  1.35010682e+00\n",
      "  -3.31283170e-01  3.86539145e-01 -8.51455657e-01  1.00088142e+00\n",
      "  -3.84832249e-01  1.45810824e+00]\n",
      " [ 5.16491889e+01  1.11813340e+00  6.74396105e-01 -7.22391905e-01\n",
      "   1.09899633e+00 -9.01634490e-01 -8.22467189e-01  7.21711292e-01\n",
      "  -6.25342001e-01 -5.93843067e-01]\n",
      " [-1.11207014e+01 -1.00016919e+00  1.04499441e+00  6.08514698e-01\n",
      "  -6.93286967e-02 -1.08392067e-01  4.50155513e-01  1.76533510e+00\n",
      "   8.70969803e-01 -5.08457134e-01]\n",
      " [ 7.35080172e+01 -1.18771172e-01 -1.98998184e-01  1.86647138e+00\n",
      "  -4.18937898e-01 -4.79184915e-01 -1.95210529e+00 -1.40232915e+00\n",
      "   4.51122939e-01 -6.94920901e-01]\n",
      " [-4.35004112e+01 -1.11487105e+00 -7.67309826e-01  6.74570707e-01\n",
      "   1.46089238e+00  5.92472801e-01  1.19783084e+00  1.70459417e+00\n",
      "   1.04008915e+00 -9.18440038e-01]\n",
      " [ 1.84595235e+01  6.30195671e-01 -4.14846901e-01  4.51946037e-01\n",
      "  -1.57915629e+00 -8.28627979e-01  5.28879746e-01 -2.23708651e+00\n",
      "  -1.10771250e+00 -1.77183179e-02]]\n"
     ]
    }
   ],
   "source": [
    "New_Values_Column = np.random.normal(0, 1, size = 50) * 50 #pay close attention to the indices (50 x 1 matrix for column).\n",
    "rand[:,0] = New_Values_Column\n",
    "print(rand)"
   ]
  },
  {
   "cell_type": "markdown",
   "metadata": {},
   "source": [
    "### Zero-padding"
   ]
  },
  {
   "cell_type": "code",
   "execution_count": 81,
   "metadata": {},
   "outputs": [],
   "source": [
    "np.random.seed(1) \n",
    "rand = np.random.normal(0,1, size = (50, 10))"
   ]
  },
  {
   "cell_type": "markdown",
   "metadata": {},
   "source": [
    "(1, 1): Pad-width: define how many rows and columns from the edge must be padded. "
   ]
  },
  {
   "cell_type": "code",
   "execution_count": 82,
   "metadata": {},
   "outputs": [
    {
     "name": "stdout",
     "output_type": "stream",
     "text": [
      "[[ 0.00000000e+00  0.00000000e+00  0.00000000e+00  0.00000000e+00\n",
      "   0.00000000e+00  0.00000000e+00  0.00000000e+00  0.00000000e+00\n",
      "   0.00000000e+00  0.00000000e+00  0.00000000e+00  0.00000000e+00]\n",
      " [ 0.00000000e+00  1.62434536e+00 -6.11756414e-01 -5.28171752e-01\n",
      "  -1.07296862e+00  8.65407629e-01 -2.30153870e+00  1.74481176e+00\n",
      "  -7.61206901e-01  3.19039096e-01 -2.49370375e-01  0.00000000e+00]\n",
      " [ 0.00000000e+00  1.46210794e+00 -2.06014071e+00 -3.22417204e-01\n",
      "  -3.84054355e-01  1.13376944e+00 -1.09989127e+00 -1.72428208e-01\n",
      "  -8.77858418e-01  4.22137467e-02  5.82815214e-01  0.00000000e+00]\n",
      " [ 0.00000000e+00 -1.10061918e+00  1.14472371e+00  9.01590721e-01\n",
      "   5.02494339e-01  9.00855949e-01 -6.83727859e-01 -1.22890226e-01\n",
      "  -9.35769434e-01 -2.67888080e-01  5.30355467e-01  0.00000000e+00]\n",
      " [ 0.00000000e+00 -6.91660752e-01 -3.96753527e-01 -6.87172700e-01\n",
      "  -8.45205641e-01 -6.71246131e-01 -1.26645989e-02 -1.11731035e+00\n",
      "   2.34415698e-01  1.65980218e+00  7.42044161e-01  0.00000000e+00]\n",
      " [ 0.00000000e+00 -1.91835552e-01 -8.87628964e-01 -7.47158294e-01\n",
      "   1.69245460e+00  5.08077548e-02 -6.36995647e-01  1.90915485e-01\n",
      "   2.10025514e+00  1.20158952e-01  6.17203110e-01  0.00000000e+00]\n",
      " [ 0.00000000e+00  3.00170320e-01 -3.52249846e-01 -1.14251820e+00\n",
      "  -3.49342722e-01 -2.08894233e-01  5.86623191e-01  8.38983414e-01\n",
      "   9.31102081e-01  2.85587325e-01  8.85141164e-01  0.00000000e+00]\n",
      " [ 0.00000000e+00 -7.54397941e-01  1.25286816e+00  5.12929820e-01\n",
      "  -2.98092835e-01  4.88518147e-01 -7.55717130e-02  1.13162939e+00\n",
      "   1.51981682e+00  2.18557541e+00 -1.39649634e+00  0.00000000e+00]\n",
      " [ 0.00000000e+00 -1.44411381e+00 -5.04465863e-01  1.60037069e-01\n",
      "   8.76168921e-01  3.15634947e-01 -2.02220122e+00 -3.06204013e-01\n",
      "   8.27974643e-01  2.30094735e-01  7.62011180e-01  0.00000000e+00]\n",
      " [ 0.00000000e+00 -2.22328143e-01 -2.00758069e-01  1.86561391e-01\n",
      "   4.10051647e-01  1.98299720e-01  1.19008646e-01 -6.70662286e-01\n",
      "   3.77563786e-01  1.21821271e-01  1.12948391e+00  0.00000000e+00]\n",
      " [ 0.00000000e+00  1.19891788e+00  1.85156417e-01 -3.75284950e-01\n",
      "  -6.38730407e-01  4.23494354e-01  7.73400683e-02 -3.43853676e-01\n",
      "   4.35968568e-02 -6.20000844e-01  6.98032034e-01  0.00000000e+00]\n",
      " [ 0.00000000e+00 -4.47128565e-01  1.22450770e+00  4.03491642e-01\n",
      "   5.93578523e-01 -1.09491185e+00  1.69382433e-01  7.40556451e-01\n",
      "  -9.53700602e-01 -2.66218506e-01  3.26145467e-02  0.00000000e+00]\n",
      " [ 0.00000000e+00 -1.37311732e+00  3.15159392e-01  8.46160648e-01\n",
      "  -8.59515941e-01  3.50545979e-01 -1.31228341e+00 -3.86955093e-02\n",
      "  -1.61577235e+00  1.12141771e+00  4.08900538e-01  0.00000000e+00]\n",
      " [ 0.00000000e+00 -2.46169559e-02 -7.75161619e-01  1.27375593e+00\n",
      "   1.96710175e+00 -1.85798186e+00  1.23616403e+00  1.62765075e+00\n",
      "   3.38011697e-01 -1.19926803e+00  8.63345318e-01  0.00000000e+00]\n",
      " [ 0.00000000e+00 -1.80920302e-01 -6.03920628e-01 -1.23005814e+00\n",
      "   5.50537496e-01  7.92806866e-01 -6.23530730e-01  5.20576337e-01\n",
      "  -1.14434139e+00  8.01861032e-01  4.65672984e-02  0.00000000e+00]\n",
      " [ 0.00000000e+00 -1.86569772e-01 -1.01745873e-01  8.68886157e-01\n",
      "   7.50411640e-01  5.29465324e-01  1.37701210e-01  7.78211279e-02\n",
      "   6.18380262e-01  2.32494559e-01  6.82551407e-01  0.00000000e+00]\n",
      " [ 0.00000000e+00 -3.10116774e-01 -2.43483776e+00  1.03882460e+00\n",
      "   2.18697965e+00  4.41364444e-01 -1.00155233e-01 -1.36444744e-01\n",
      "  -1.19054188e-01  1.74094083e-02 -1.12201873e+00  0.00000000e+00]\n",
      " [ 0.00000000e+00 -5.17094458e-01 -9.97026828e-01  2.48799161e-01\n",
      "  -2.96641152e-01  4.95211324e-01 -1.74703160e-01  9.86335188e-01\n",
      "   2.13533901e-01  2.19069973e+00 -1.89636092e+00  0.00000000e+00]\n",
      " [ 0.00000000e+00 -6.46916688e-01  9.01486892e-01  2.52832571e+00\n",
      "  -2.48634778e-01  4.36689932e-02 -2.26314243e-01  1.33145711e+00\n",
      "  -2.87307863e-01  6.80069840e-01 -3.19801599e-01  0.00000000e+00]\n",
      " [ 0.00000000e+00 -1.27255876e+00  3.13547720e-01  5.03184813e-01\n",
      "   1.29322588e+00 -1.10447026e-01 -6.17362064e-01  5.62761097e-01\n",
      "   2.40737092e-01  2.80665077e-01 -7.31127037e-02  0.00000000e+00]\n",
      " [ 0.00000000e+00  1.16033857e+00  3.69492716e-01  1.90465871e+00\n",
      "   1.11105670e+00  6.59049796e-01 -1.62743834e+00  6.02319280e-01\n",
      "   4.20282204e-01  8.10951673e-01  1.04444209e+00  0.00000000e+00]\n",
      " [ 0.00000000e+00 -4.00878192e-01  8.24005618e-01 -5.62305431e-01\n",
      "   1.95487808e+00 -1.33195167e+00 -1.76068856e+00 -1.65072127e+00\n",
      "  -8.90555584e-01 -1.11911540e+00  1.95607890e+00  0.00000000e+00]\n",
      " [ 0.00000000e+00 -3.26499498e-01 -1.34267579e+00  1.11438298e+00\n",
      "  -5.86523939e-01 -1.23685338e+00  8.75838928e-01  6.23362177e-01\n",
      "  -4.34956683e-01  1.40754000e+00  1.29101580e-01  0.00000000e+00]\n",
      " [ 0.00000000e+00  1.61694960e+00  5.02740882e-01  1.55880554e+00\n",
      "   1.09402696e-01 -1.21974440e+00  2.44936865e+00 -5.45774168e-01\n",
      "  -1.98837863e-01 -7.00398505e-01 -2.03394449e-01  0.00000000e+00]\n",
      " [ 0.00000000e+00  2.42669441e-01  2.01830179e-01  6.61020288e-01\n",
      "   1.79215821e+00 -1.20464572e-01 -1.23312074e+00 -1.18231813e+00\n",
      "  -6.65754518e-01 -1.67419581e+00  8.25029824e-01  0.00000000e+00]\n",
      " [ 0.00000000e+00 -4.98213564e-01 -3.10984978e-01 -1.89148284e-03\n",
      "  -1.39662042e+00 -8.61316361e-01  6.74711526e-01  6.18539131e-01\n",
      "  -4.43171931e-01  1.81053491e+00 -1.30572692e+00  0.00000000e+00]\n",
      " [ 0.00000000e+00 -3.44987210e-01 -2.30839743e-01 -2.79308500e+00\n",
      "   1.93752881e+00  3.66332015e-01 -1.04458938e+00  2.05117344e+00\n",
      "   5.85662000e-01  4.29526140e-01 -6.06998398e-01  0.00000000e+00]\n",
      " [ 0.00000000e+00  1.06222724e-01 -1.52568032e+00  7.95026094e-01\n",
      "  -3.74438319e-01  1.34048197e-01  1.20205486e+00  2.84748111e-01\n",
      "   2.62467445e-01  2.76499305e-01 -7.33271604e-01  0.00000000e+00]\n",
      " [ 0.00000000e+00  8.36004719e-01  1.54335911e+00  7.58805660e-01\n",
      "   8.84908814e-01 -8.77281519e-01 -8.67787223e-01 -1.44087602e+00\n",
      "   1.23225307e+00 -2.54179868e-01  1.39984394e+00  0.00000000e+00]\n",
      " [ 0.00000000e+00 -7.81911683e-01 -4.37508983e-01  9.54250872e-02\n",
      "   9.21450069e-01  6.07501958e-02  2.11124755e-01  1.65275673e-02\n",
      "   1.77187720e-01 -1.11647002e+00  8.09271010e-02  0.00000000e+00]\n",
      " [ 0.00000000e+00 -1.86578994e-01 -5.68244809e-02  4.92336556e-01\n",
      "  -6.80678141e-01 -8.45080274e-02 -2.97361883e-01  4.17302005e-01\n",
      "   7.84770651e-01 -9.55425262e-01  5.85910431e-01  0.00000000e+00]\n",
      " [ 0.00000000e+00  2.06578332e+00 -1.47115693e+00 -8.30171895e-01\n",
      "  -8.80577600e-01 -2.79097722e-01  1.62284909e+00  1.33526763e-02\n",
      "  -6.94693595e-01  6.21803504e-01 -5.99804531e-01  0.00000000e+00]\n",
      " [ 0.00000000e+00  1.12341216e+00  3.05267040e-01  1.38877940e+00\n",
      "  -6.61344243e-01  3.03085711e+00  8.24584625e-01  6.54580153e-01\n",
      "  -5.11884476e-02 -7.25597119e-01 -8.67768678e-01  0.00000000e+00]\n",
      " [ 0.00000000e+00 -1.35977326e-01 -7.97269785e-01  2.82675712e-01\n",
      "  -8.26097432e-01  6.21082701e-01  9.56121704e-01 -7.05840507e-01\n",
      "   1.19268607e+00 -2.37941936e-01  1.15528789e+00  0.00000000e+00]\n",
      " [ 0.00000000e+00  4.38166347e-01  1.12232832e+00 -9.97019796e-01\n",
      "  -1.06793987e-01  1.45142926e+00 -6.18036848e-01 -2.03720123e+00\n",
      "  -1.94258918e+00 -2.50644065e+00 -2.11416392e+00  0.00000000e+00]\n",
      " [ 0.00000000e+00 -4.11639163e-01  1.27852808e+00 -4.42229280e-01\n",
      "   3.23527354e-01 -1.09991490e-01  8.54894544e-03 -1.68198840e-01\n",
      "  -1.74180344e-01  4.61164100e-01 -1.17598267e+00  0.00000000e+00]\n",
      " [ 0.00000000e+00  1.01012718e+00  9.20017933e-01 -1.95057341e-01\n",
      "   8.05393424e-01 -7.01344426e-01 -5.37223024e-01  1.56263850e-01\n",
      "  -1.90221025e-01 -4.48738033e-01 -6.72448039e-01  0.00000000e+00]\n",
      " [ 0.00000000e+00 -5.57494722e-01  9.39168744e-01 -1.94332341e+00\n",
      "   3.52494364e-01 -2.36436952e-01  7.27813500e-01  5.15073614e-01\n",
      "  -2.78253447e+00  5.84646610e-01  3.24274243e-01  0.00000000e+00]\n",
      " [ 0.00000000e+00  2.18628366e-02 -4.68673816e-01  8.53281222e-01\n",
      "  -4.13029310e-01  1.83471763e+00  5.64382855e-01  2.13782807e+00\n",
      "  -7.85533997e-01 -1.75592564e+00  7.14789597e-01  0.00000000e+00]\n",
      " [ 0.00000000e+00  8.52704062e-01  3.53600971e-02 -1.53879325e+00\n",
      "  -4.47895185e-01  6.17985534e-01 -1.84176326e-01 -1.15985185e-01\n",
      "  -1.75458969e-01 -9.33914656e-01 -5.33020326e-01  0.00000000e+00]\n",
      " [ 0.00000000e+00 -1.42655542e+00  1.76795995e+00 -4.75372875e-01\n",
      "   4.77610182e-01 -1.02188594e+00  7.94528240e-01 -1.87316098e+00\n",
      "   9.20615118e-01 -3.53679249e-02  2.11060505e+00  0.00000000e+00]\n",
      " [ 0.00000000e+00 -1.30653407e+00  7.63804802e-02  3.67231814e-01\n",
      "   1.23289919e+00 -4.22856961e-01  8.64644065e-02 -2.14246673e+00\n",
      "  -8.30168864e-01  4.51615951e-01  1.10417433e+00  0.00000000e+00]\n",
      " [ 0.00000000e+00 -2.81736269e-01  2.05635552e+00  1.76024923e+00\n",
      "  -6.06524918e-02 -2.41350300e+00 -1.77756638e+00 -7.77858827e-01\n",
      "   1.11584111e+00  3.10272288e-01 -2.09424782e+00  0.00000000e+00]\n",
      " [ 0.00000000e+00 -2.28765829e-01  1.61336137e+00 -3.74804687e-01\n",
      "  -7.49969617e-01  2.05462410e+00  5.34095368e-02 -4.79157099e-01\n",
      "   3.50167159e-01  1.71647264e-02 -4.29142278e-01  0.00000000e+00]\n",
      " [ 0.00000000e+00  1.20845633e+00  1.11570180e+00  8.40861558e-01\n",
      "  -1.02887218e-01  1.14690038e+00 -4.97025792e-02  4.66643267e-01\n",
      "   1.03368687e+00  8.08844360e-01  1.78975468e+00  0.00000000e+00]\n",
      " [ 0.00000000e+00  4.51284016e-01 -1.68405999e+00 -1.16017010e+00\n",
      "   1.35010682e+00 -3.31283170e-01  3.86539145e-01 -8.51455657e-01\n",
      "   1.00088142e+00 -3.84832249e-01  1.45810824e+00  0.00000000e+00]\n",
      " [ 0.00000000e+00 -5.32234021e-01  1.11813340e+00  6.74396105e-01\n",
      "  -7.22391905e-01  1.09899633e+00 -9.01634490e-01 -8.22467189e-01\n",
      "   7.21711292e-01 -6.25342001e-01 -5.93843067e-01  0.00000000e+00]\n",
      " [ 0.00000000e+00 -3.43900709e-01 -1.00016919e+00  1.04499441e+00\n",
      "   6.08514698e-01 -6.93286967e-02 -1.08392067e-01  4.50155513e-01\n",
      "   1.76533510e+00  8.70969803e-01 -5.08457134e-01  0.00000000e+00]\n",
      " [ 0.00000000e+00  7.77419205e-01 -1.18771172e-01 -1.98998184e-01\n",
      "   1.86647138e+00 -4.18937898e-01 -4.79184915e-01 -1.95210529e+00\n",
      "  -1.40232915e+00  4.51122939e-01 -6.94920901e-01  0.00000000e+00]\n",
      " [ 0.00000000e+00  5.15413802e-01 -1.11487105e+00 -7.67309826e-01\n",
      "   6.74570707e-01  1.46089238e+00  5.92472801e-01  1.19783084e+00\n",
      "   1.70459417e+00  1.04008915e+00 -9.18440038e-01  0.00000000e+00]\n",
      " [ 0.00000000e+00 -1.05344713e-01  6.30195671e-01 -4.14846901e-01\n",
      "   4.51946037e-01 -1.57915629e+00 -8.28627979e-01  5.28879746e-01\n",
      "  -2.23708651e+00 -1.10771250e+00 -1.77183179e-02  0.00000000e+00]\n",
      " [ 0.00000000e+00  0.00000000e+00  0.00000000e+00  0.00000000e+00\n",
      "   0.00000000e+00  0.00000000e+00  0.00000000e+00  0.00000000e+00\n",
      "   0.00000000e+00  0.00000000e+00  0.00000000e+00  0.00000000e+00]]\n"
     ]
    }
   ],
   "source": [
    "Zero_Pad = np.pad(rand, (1, 1), 'constant', constant_values = 0) \n",
    "print(Zero_Pad)"
   ]
  },
  {
   "cell_type": "markdown",
   "metadata": {},
   "source": [
    "Mean Padding: Padding (1,1) with the mean values from each row and column."
   ]
  },
  {
   "cell_type": "code",
   "execution_count": 83,
   "metadata": {},
   "outputs": [
    {
     "name": "stdout",
     "output_type": "stream",
     "text": [
      "[[ 5.34368943e-02 -4.41781068e-03  2.54340918e-02  1.26746347e-01\n",
      "   2.93496714e-01  8.61618587e-02 -1.56908748e-01  1.66800288e-02\n",
      "   2.38514185e-03  7.41336499e-02  7.06576698e-02  5.34368943e-02]\n",
      " [-9.71408908e-02  1.62434536e+00 -6.11756414e-01 -5.28171752e-01\n",
      "  -1.07296862e+00  8.65407629e-01 -2.30153870e+00  1.74481176e+00\n",
      "  -7.61206901e-01  3.19039096e-01 -2.49370375e-01 -9.71408908e-02]\n",
      " [-1.69588382e-01  1.46210794e+00 -2.06014071e+00 -3.22417204e-01\n",
      "  -3.84054355e-01  1.13376944e+00 -1.09989127e+00 -1.72428208e-01\n",
      "  -8.77858418e-01  4.22137467e-02  5.82815214e-01 -1.69588382e-01]\n",
      " [ 8.69125410e-02 -1.10061918e+00  1.14472371e+00  9.01590721e-01\n",
      "   5.02494339e-01  9.00855949e-01 -6.83727859e-01 -1.22890226e-01\n",
      "  -9.35769434e-01 -2.67888080e-01  5.30355467e-01  8.69125410e-02]\n",
      " [-1.78575166e-01 -6.91660752e-01 -3.96753527e-01 -6.87172700e-01\n",
      "  -8.45205641e-01 -6.71246131e-01 -1.26645989e-02 -1.11731035e+00\n",
      "   2.34415698e-01  1.65980218e+00  7.42044161e-01 -1.78575166e-01]\n",
      " [ 2.30817658e-01 -1.91835552e-01 -8.87628964e-01 -7.47158294e-01\n",
      "   1.69245460e+00  5.08077548e-02 -6.36995647e-01  1.90915485e-01\n",
      "   2.10025514e+00  1.20158952e-01  6.17203110e-01  2.30817658e-01]\n",
      " [ 1.77460250e-01  3.00170320e-01 -3.52249846e-01 -1.14251820e+00\n",
      "  -3.49342722e-01 -2.08894233e-01  5.86623191e-01  8.38983414e-01\n",
      "   9.31102081e-01  2.85587325e-01  8.85141164e-01  1.77460250e-01]\n",
      " [ 4.56677891e-01 -7.54397941e-01  1.25286816e+00  5.12929820e-01\n",
      "  -2.98092835e-01  4.88518147e-01 -7.55717130e-02  1.13162939e+00\n",
      "   1.51981682e+00  2.18557541e+00 -1.39649634e+00  4.56677891e-01]\n",
      " [-1.10506340e-01 -1.44411381e+00 -5.04465863e-01  1.60037069e-01\n",
      "   8.76168921e-01  3.15634947e-01 -2.02220122e+00 -3.06204013e-01\n",
      "   8.27974643e-01  2.30094735e-01  7.62011180e-01 -1.10506340e-01]\n",
      " [ 1.44904187e-01 -2.22328143e-01 -2.00758069e-01  1.86561391e-01\n",
      "   4.10051647e-01  1.98299720e-01  1.19008646e-01 -6.70662286e-01\n",
      "   3.77563786e-01  1.21821271e-01  1.12948391e+00  1.44904187e-01]\n",
      " [ 6.48667734e-02  1.19891788e+00  1.85156417e-01 -3.75284950e-01\n",
      "  -6.38730407e-01  4.23494354e-01  7.73400683e-02 -3.43853676e-01\n",
      "   4.35968568e-02 -6.20000844e-01  6.98032034e-01  6.48667734e-02]\n",
      " [ 4.02171782e-02 -4.47128565e-01  1.22450770e+00  4.03491642e-01\n",
      "   5.93578523e-01 -1.09491185e+00  1.69382433e-01  7.40556451e-01\n",
      "  -9.53700602e-01 -2.66218506e-01  3.26145467e-02  4.02171782e-02]\n",
      " [-2.15720027e-01 -1.37311732e+00  3.15159392e-01  8.46160648e-01\n",
      "  -8.59515941e-01  3.50545979e-01 -1.31228341e+00 -3.86955093e-02\n",
      "  -1.61577235e+00  1.12141771e+00  4.08900538e-01 -2.15720027e-01]\n",
      " [ 3.44900101e-01 -2.46169559e-02 -7.75161619e-01  1.27375593e+00\n",
      "   1.96710175e+00 -1.85798186e+00  1.23616403e+00  1.62765075e+00\n",
      "   3.38011697e-01 -1.19926803e+00  8.63345318e-01  3.44900101e-01]\n",
      " [-1.07042216e-01 -1.80920302e-01 -6.03920628e-01 -1.23005814e+00\n",
      "   5.50537496e-01  7.92806866e-01 -6.23530730e-01  5.20576337e-01\n",
      "  -1.14434139e+00  8.01861032e-01  4.65672984e-02 -1.07042216e-01]\n",
      " [ 3.60939604e-01 -1.86569772e-01 -1.01745873e-01  8.68886157e-01\n",
      "   7.50411640e-01  5.29465324e-01  1.37701210e-01  7.78211279e-02\n",
      "   6.18380262e-01  2.32494559e-01  6.82551407e-01  3.60939604e-01]\n",
      " [-5.38049331e-02 -3.10116774e-01 -2.43483776e+00  1.03882460e+00\n",
      "   2.18697965e+00  4.41364444e-01 -1.00155233e-01 -1.36444744e-01\n",
      "  -1.19054188e-01  1.74094083e-02 -1.12201873e+00 -5.38049331e-02]\n",
      " [ 2.52752783e-02 -5.17094458e-01 -9.97026828e-01  2.48799161e-01\n",
      "  -2.96641152e-01  4.95211324e-01 -1.74703160e-01  9.86335188e-01\n",
      "   2.13533901e-01  2.19069973e+00 -1.89636092e+00  2.52752783e-02]\n",
      " [ 3.75603337e-01 -6.46916688e-01  9.01486892e-01  2.52832571e+00\n",
      "  -2.48634778e-01  4.36689932e-02 -2.26314243e-01  1.33145711e+00\n",
      "  -2.87307863e-01  6.80069840e-01 -3.19801599e-01  3.75603337e-01]\n",
      " [ 1.12064113e-01 -1.27255876e+00  3.13547720e-01  5.03184813e-01\n",
      "   1.29322588e+00 -1.10447026e-01 -6.17362064e-01  5.62761097e-01\n",
      "   2.40737092e-01  2.80665077e-01 -7.31127037e-02  1.12064113e-01]\n",
      " [ 6.45515340e-01  1.16033857e+00  3.69492716e-01  1.90465871e+00\n",
      "   1.11105670e+00  6.59049796e-01 -1.62743834e+00  6.02319280e-01\n",
      "   4.20282204e-01  8.10951673e-01  1.04444209e+00  6.45515340e-01]\n",
      " [-2.98125350e-01 -4.00878192e-01  8.24005618e-01 -5.62305431e-01\n",
      "   1.95487808e+00 -1.33195167e+00 -1.76068856e+00 -1.65072127e+00\n",
      "  -8.90555584e-01 -1.11911540e+00  1.95607890e+00 -2.98125350e-01]\n",
      " [ 2.22716375e-02 -3.26499498e-01 -1.34267579e+00  1.11438298e+00\n",
      "  -5.86523939e-01 -1.23685338e+00  8.75838928e-01  6.23362177e-01\n",
      "  -4.34956683e-01  1.40754000e+00  1.29101580e-01  2.22716375e-02]\n",
      " [ 3.36911799e-01  1.61694960e+00  5.02740882e-01  1.55880554e+00\n",
      "   1.09402696e-01 -1.21974440e+00  2.44936865e+00 -5.45774168e-01\n",
      "  -1.98837863e-01 -7.00398505e-01 -2.03394449e-01  3.36911799e-01]\n",
      " [-1.15314582e-01  2.42669441e-01  2.01830179e-01  6.61020288e-01\n",
      "   1.79215821e+00 -1.20464572e-01 -1.23312074e+00 -1.18231813e+00\n",
      "  -6.65754518e-01 -1.67419581e+00  8.25029824e-01 -1.15314582e-01]\n",
      " [-1.71414009e-01 -4.98213564e-01 -3.10984978e-01 -1.89148284e-03\n",
      "  -1.39662042e+00 -8.61316361e-01  6.74711526e-01  6.18539131e-01\n",
      "  -4.43171931e-01  1.81053491e+00 -1.30572692e+00 -1.71414009e-01]\n",
      " [ 3.49722678e-02 -3.44987210e-01 -2.30839743e-01 -2.79308500e+00\n",
      "   1.93752881e+00  3.66332015e-01 -1.04458938e+00  2.05117344e+00\n",
      "   5.85662000e-01  4.29526140e-01 -6.06998398e-01  3.49722678e-02]\n",
      " [ 4.27676499e-02  1.06222724e-01 -1.52568032e+00  7.95026094e-01\n",
      "  -3.74438319e-01  1.34048197e-01  1.20205486e+00  2.84748111e-01\n",
      "   2.62467445e-01  2.76499305e-01 -7.33271604e-01  4.27676499e-02]\n",
      " [ 3.21505068e-01  8.36004719e-01  1.54335911e+00  7.58805660e-01\n",
      "   8.84908814e-01 -8.77281519e-01 -8.67787223e-01 -1.44087602e+00\n",
      "   1.23225307e+00 -2.54179868e-01  1.39984394e+00  3.21505068e-01]\n",
      " [-7.72498188e-02 -7.81911683e-01 -4.37508983e-01  9.54250872e-02\n",
      "   9.21450069e-01  6.07501958e-02  2.11124755e-01  1.65275673e-02\n",
      "   1.77187720e-01 -1.11647002e+00  8.09271010e-02 -7.72498188e-02]\n",
      " [ 1.89428551e-03 -1.86578994e-01 -5.68244809e-02  4.92336556e-01\n",
      "  -6.80678141e-01 -8.45080274e-02 -2.97361883e-01  4.17302005e-01\n",
      "   7.84770651e-01 -9.55425262e-01  5.85910431e-01  1.89428551e-03]\n",
      " [-4.31713682e-02  2.06578332e+00 -1.47115693e+00 -8.30171895e-01\n",
      "  -8.80577600e-01 -2.79097722e-01  1.62284909e+00  1.33526763e-02\n",
      "  -6.94693595e-01  6.21803504e-01 -5.99804531e-01 -4.31713682e-02]\n",
      " [ 5.02158200e-01  1.12341216e+00  3.05267040e-01  1.38877940e+00\n",
      "  -6.61344243e-01  3.03085711e+00  8.24584625e-01  6.54580153e-01\n",
      "  -5.11884476e-02 -7.25597119e-01 -8.67768678e-01  5.02158200e-01]\n",
      " [ 1.50472708e-01 -1.35977326e-01 -7.97269785e-01  2.82675712e-01\n",
      "  -8.26097432e-01  6.21082701e-01  9.56121704e-01 -7.05840507e-01\n",
      "   1.19268607e+00 -2.37941936e-01  1.15528789e+00  1.50472708e-01]\n",
      " [-7.31032168e-01  4.38166347e-01  1.12232832e+00 -9.97019796e-01\n",
      "  -1.06793987e-01  1.45142926e+00 -6.18036848e-01 -2.03720123e+00\n",
      "  -1.94258918e+00 -2.50644065e+00 -2.11416392e+00 -7.31032168e-01]\n",
      " [-4.10453307e-02 -4.11639163e-01  1.27852808e+00 -4.42229280e-01\n",
      "   3.23527354e-01 -1.09991490e-01  8.54894544e-03 -1.68198840e-01\n",
      "  -1.74180344e-01  4.61164100e-01 -1.17598267e+00 -4.10453307e-02]\n",
      " [ 1.46770498e-02  1.01012718e+00  9.20017933e-01 -1.95057341e-01\n",
      "   8.05393424e-01 -7.01344426e-01 -5.37223024e-01  1.56263850e-01\n",
      "  -1.90221025e-01 -4.48738033e-01 -6.72448039e-01  1.46770498e-02]\n",
      " [-2.07631847e-01 -5.57494722e-01  9.39168744e-01 -1.94332341e+00\n",
      "   3.52494364e-01 -2.36436952e-01  7.27813500e-01  5.15073614e-01\n",
      "  -2.78253447e+00  5.84646610e-01  3.24274243e-01 -2.07631847e-01]\n",
      " [ 2.70369944e-01  2.18628366e-02 -4.68673816e-01  8.53281222e-01\n",
      "  -4.13029310e-01  1.83471763e+00  5.64382855e-01  2.13782807e+00\n",
      "  -7.85533997e-01 -1.75592564e+00  7.14789597e-01  2.70369944e-01]\n",
      " [-2.42319420e-01  8.52704062e-01  3.53600971e-02 -1.53879325e+00\n",
      "  -4.47895185e-01  6.17985534e-01 -1.84176326e-01 -1.15985185e-01\n",
      "  -1.75458969e-01 -9.33914656e-01 -5.33020326e-01 -2.42319420e-01]\n",
      " [ 1.23897540e-01 -1.42655542e+00  1.76795995e+00 -4.75372875e-01\n",
      "   4.77610182e-01 -1.02188594e+00  7.94528240e-01 -1.87316098e+00\n",
      "   9.20615118e-01 -3.53679249e-02  2.11060505e+00  1.23897540e-01]\n",
      " [-1.38326046e-01 -1.30653407e+00  7.63804802e-02  3.67231814e-01\n",
      "   1.23289919e+00 -4.22856961e-01  8.64644065e-02 -2.14246673e+00\n",
      "  -8.30168864e-01  4.51615951e-01  1.10417433e+00 -1.38326046e-01]\n",
      " [-2.16284664e-01 -2.81736269e-01  2.05635552e+00  1.76024923e+00\n",
      "  -6.06524918e-02 -2.41350300e+00 -1.77756638e+00 -7.77858827e-01\n",
      "   1.11584111e+00  3.10272288e-01 -2.09424782e+00 -2.16284664e-01]\n",
      " [ 1.82688739e-01 -2.28765829e-01  1.61336137e+00 -3.74804687e-01\n",
      "  -7.49969617e-01  2.05462410e+00  5.34095368e-02 -4.79157099e-01\n",
      "   3.50167159e-01  1.71647264e-02 -4.29142278e-01  1.82688739e-01]\n",
      " [ 8.25825945e-01  1.20845633e+00  1.11570180e+00  8.40861558e-01\n",
      "  -1.02887218e-01  1.14690038e+00 -4.97025792e-02  4.66643267e-01\n",
      "   1.03368687e+00  8.08844360e-01  1.78975468e+00  8.25825945e-01]\n",
      " [ 2.35118476e-02  4.51284016e-01 -1.68405999e+00 -1.16017010e+00\n",
      "   1.35010682e+00 -3.31283170e-01  3.86539145e-01 -8.51455657e-01\n",
      "   1.00088142e+00 -3.84832249e-01  1.45810824e+00  2.35118476e-02]\n",
      " [-5.84675548e-02 -5.32234021e-01  1.11813340e+00  6.74396105e-01\n",
      "  -7.22391905e-01  1.09899633e+00 -9.01634490e-01 -8.22467189e-01\n",
      "   7.21711292e-01 -6.25342001e-01 -5.93843067e-01 -5.84675548e-02]\n",
      " [ 2.70972173e-01 -3.43900709e-01 -1.00016919e+00  1.04499441e+00\n",
      "   6.08514698e-01 -6.93286967e-02 -1.08392067e-01  4.50155513e-01\n",
      "   1.76533510e+00  8.70969803e-01 -5.08457134e-01  2.70972173e-01]\n",
      " [-2.17023398e-01  7.77419205e-01 -1.18771172e-01 -1.98998184e-01\n",
      "   1.86647138e+00 -4.18937898e-01 -4.79184915e-01 -1.95210529e+00\n",
      "  -1.40232915e+00  4.51122939e-01 -6.94920901e-01 -2.17023398e-01]\n",
      " [ 4.38524294e-01  5.15413802e-01 -1.11487105e+00 -7.67309826e-01\n",
      "   6.74570707e-01  1.46089238e+00  5.92472801e-01  1.19783084e+00\n",
      "   1.70459417e+00  1.04008915e+00 -9.18440038e-01  4.38524294e-01]\n",
      " [-4.67947176e-01 -1.05344713e-01  6.30195671e-01 -4.14846901e-01\n",
      "   4.51946037e-01 -1.57915629e+00 -8.28627979e-01  5.28879746e-01\n",
      "  -2.23708651e+00 -1.10771250e+00 -1.77183179e-02 -4.67947176e-01]\n",
      " [ 5.34368943e-02 -4.41781068e-03  2.54340918e-02  1.26746347e-01\n",
      "   2.93496714e-01  8.61618587e-02 -1.56908748e-01  1.66800288e-02\n",
      "   2.38514185e-03  7.41336499e-02  7.06576698e-02  5.34368943e-02]]\n"
     ]
    }
   ],
   "source": [
    "Mean_Pad = np.pad(rand, (1, 1), 'mean') \n",
    "print(Mean_Pad)"
   ]
  },
  {
   "cell_type": "markdown",
   "metadata": {},
   "source": [
    "### np.delete() - Deleting Rows and Columns from a Matrix."
   ]
  },
  {
   "cell_type": "markdown",
   "metadata": {},
   "source": [
    "Delete a Row"
   ]
  },
  {
   "cell_type": "code",
   "execution_count": 84,
   "metadata": {},
   "outputs": [
    {
     "name": "stdout",
     "output_type": "stream",
     "text": [
      "[[ 1.62434536e+00 -6.11756414e-01 -5.28171752e-01 -1.07296862e+00\n",
      "   8.65407629e-01 -2.30153870e+00  1.74481176e+00 -7.61206901e-01\n",
      "   3.19039096e-01 -2.49370375e-01]\n",
      " [-1.10061918e+00  1.14472371e+00  9.01590721e-01  5.02494339e-01\n",
      "   9.00855949e-01 -6.83727859e-01 -1.22890226e-01 -9.35769434e-01\n",
      "  -2.67888080e-01  5.30355467e-01]\n",
      " [-6.91660752e-01 -3.96753527e-01 -6.87172700e-01 -8.45205641e-01\n",
      "  -6.71246131e-01 -1.26645989e-02 -1.11731035e+00  2.34415698e-01\n",
      "   1.65980218e+00  7.42044161e-01]\n",
      " [-1.91835552e-01 -8.87628964e-01 -7.47158294e-01  1.69245460e+00\n",
      "   5.08077548e-02 -6.36995647e-01  1.90915485e-01  2.10025514e+00\n",
      "   1.20158952e-01  6.17203110e-01]\n",
      " [ 3.00170320e-01 -3.52249846e-01 -1.14251820e+00 -3.49342722e-01\n",
      "  -2.08894233e-01  5.86623191e-01  8.38983414e-01  9.31102081e-01\n",
      "   2.85587325e-01  8.85141164e-01]\n",
      " [-7.54397941e-01  1.25286816e+00  5.12929820e-01 -2.98092835e-01\n",
      "   4.88518147e-01 -7.55717130e-02  1.13162939e+00  1.51981682e+00\n",
      "   2.18557541e+00 -1.39649634e+00]\n",
      " [-1.44411381e+00 -5.04465863e-01  1.60037069e-01  8.76168921e-01\n",
      "   3.15634947e-01 -2.02220122e+00 -3.06204013e-01  8.27974643e-01\n",
      "   2.30094735e-01  7.62011180e-01]\n",
      " [-2.22328143e-01 -2.00758069e-01  1.86561391e-01  4.10051647e-01\n",
      "   1.98299720e-01  1.19008646e-01 -6.70662286e-01  3.77563786e-01\n",
      "   1.21821271e-01  1.12948391e+00]\n",
      " [ 1.19891788e+00  1.85156417e-01 -3.75284950e-01 -6.38730407e-01\n",
      "   4.23494354e-01  7.73400683e-02 -3.43853676e-01  4.35968568e-02\n",
      "  -6.20000844e-01  6.98032034e-01]\n",
      " [-4.47128565e-01  1.22450770e+00  4.03491642e-01  5.93578523e-01\n",
      "  -1.09491185e+00  1.69382433e-01  7.40556451e-01 -9.53700602e-01\n",
      "  -2.66218506e-01  3.26145467e-02]\n",
      " [-1.37311732e+00  3.15159392e-01  8.46160648e-01 -8.59515941e-01\n",
      "   3.50545979e-01 -1.31228341e+00 -3.86955093e-02 -1.61577235e+00\n",
      "   1.12141771e+00  4.08900538e-01]\n",
      " [-2.46169559e-02 -7.75161619e-01  1.27375593e+00  1.96710175e+00\n",
      "  -1.85798186e+00  1.23616403e+00  1.62765075e+00  3.38011697e-01\n",
      "  -1.19926803e+00  8.63345318e-01]\n",
      " [-1.80920302e-01 -6.03920628e-01 -1.23005814e+00  5.50537496e-01\n",
      "   7.92806866e-01 -6.23530730e-01  5.20576337e-01 -1.14434139e+00\n",
      "   8.01861032e-01  4.65672984e-02]\n",
      " [-1.86569772e-01 -1.01745873e-01  8.68886157e-01  7.50411640e-01\n",
      "   5.29465324e-01  1.37701210e-01  7.78211279e-02  6.18380262e-01\n",
      "   2.32494559e-01  6.82551407e-01]\n",
      " [-3.10116774e-01 -2.43483776e+00  1.03882460e+00  2.18697965e+00\n",
      "   4.41364444e-01 -1.00155233e-01 -1.36444744e-01 -1.19054188e-01\n",
      "   1.74094083e-02 -1.12201873e+00]\n",
      " [-5.17094458e-01 -9.97026828e-01  2.48799161e-01 -2.96641152e-01\n",
      "   4.95211324e-01 -1.74703160e-01  9.86335188e-01  2.13533901e-01\n",
      "   2.19069973e+00 -1.89636092e+00]\n",
      " [-6.46916688e-01  9.01486892e-01  2.52832571e+00 -2.48634778e-01\n",
      "   4.36689932e-02 -2.26314243e-01  1.33145711e+00 -2.87307863e-01\n",
      "   6.80069840e-01 -3.19801599e-01]\n",
      " [-1.27255876e+00  3.13547720e-01  5.03184813e-01  1.29322588e+00\n",
      "  -1.10447026e-01 -6.17362064e-01  5.62761097e-01  2.40737092e-01\n",
      "   2.80665077e-01 -7.31127037e-02]\n",
      " [ 1.16033857e+00  3.69492716e-01  1.90465871e+00  1.11105670e+00\n",
      "   6.59049796e-01 -1.62743834e+00  6.02319280e-01  4.20282204e-01\n",
      "   8.10951673e-01  1.04444209e+00]\n",
      " [-4.00878192e-01  8.24005618e-01 -5.62305431e-01  1.95487808e+00\n",
      "  -1.33195167e+00 -1.76068856e+00 -1.65072127e+00 -8.90555584e-01\n",
      "  -1.11911540e+00  1.95607890e+00]\n",
      " [-3.26499498e-01 -1.34267579e+00  1.11438298e+00 -5.86523939e-01\n",
      "  -1.23685338e+00  8.75838928e-01  6.23362177e-01 -4.34956683e-01\n",
      "   1.40754000e+00  1.29101580e-01]\n",
      " [ 1.61694960e+00  5.02740882e-01  1.55880554e+00  1.09402696e-01\n",
      "  -1.21974440e+00  2.44936865e+00 -5.45774168e-01 -1.98837863e-01\n",
      "  -7.00398505e-01 -2.03394449e-01]\n",
      " [ 2.42669441e-01  2.01830179e-01  6.61020288e-01  1.79215821e+00\n",
      "  -1.20464572e-01 -1.23312074e+00 -1.18231813e+00 -6.65754518e-01\n",
      "  -1.67419581e+00  8.25029824e-01]\n",
      " [-4.98213564e-01 -3.10984978e-01 -1.89148284e-03 -1.39662042e+00\n",
      "  -8.61316361e-01  6.74711526e-01  6.18539131e-01 -4.43171931e-01\n",
      "   1.81053491e+00 -1.30572692e+00]\n",
      " [-3.44987210e-01 -2.30839743e-01 -2.79308500e+00  1.93752881e+00\n",
      "   3.66332015e-01 -1.04458938e+00  2.05117344e+00  5.85662000e-01\n",
      "   4.29526140e-01 -6.06998398e-01]\n",
      " [ 1.06222724e-01 -1.52568032e+00  7.95026094e-01 -3.74438319e-01\n",
      "   1.34048197e-01  1.20205486e+00  2.84748111e-01  2.62467445e-01\n",
      "   2.76499305e-01 -7.33271604e-01]\n",
      " [ 8.36004719e-01  1.54335911e+00  7.58805660e-01  8.84908814e-01\n",
      "  -8.77281519e-01 -8.67787223e-01 -1.44087602e+00  1.23225307e+00\n",
      "  -2.54179868e-01  1.39984394e+00]\n",
      " [-7.81911683e-01 -4.37508983e-01  9.54250872e-02  9.21450069e-01\n",
      "   6.07501958e-02  2.11124755e-01  1.65275673e-02  1.77187720e-01\n",
      "  -1.11647002e+00  8.09271010e-02]\n",
      " [-1.86578994e-01 -5.68244809e-02  4.92336556e-01 -6.80678141e-01\n",
      "  -8.45080274e-02 -2.97361883e-01  4.17302005e-01  7.84770651e-01\n",
      "  -9.55425262e-01  5.85910431e-01]\n",
      " [ 2.06578332e+00 -1.47115693e+00 -8.30171895e-01 -8.80577600e-01\n",
      "  -2.79097722e-01  1.62284909e+00  1.33526763e-02 -6.94693595e-01\n",
      "   6.21803504e-01 -5.99804531e-01]\n",
      " [ 1.12341216e+00  3.05267040e-01  1.38877940e+00 -6.61344243e-01\n",
      "   3.03085711e+00  8.24584625e-01  6.54580153e-01 -5.11884476e-02\n",
      "  -7.25597119e-01 -8.67768678e-01]\n",
      " [-1.35977326e-01 -7.97269785e-01  2.82675712e-01 -8.26097432e-01\n",
      "   6.21082701e-01  9.56121704e-01 -7.05840507e-01  1.19268607e+00\n",
      "  -2.37941936e-01  1.15528789e+00]\n",
      " [ 4.38166347e-01  1.12232832e+00 -9.97019796e-01 -1.06793987e-01\n",
      "   1.45142926e+00 -6.18036848e-01 -2.03720123e+00 -1.94258918e+00\n",
      "  -2.50644065e+00 -2.11416392e+00]\n",
      " [-4.11639163e-01  1.27852808e+00 -4.42229280e-01  3.23527354e-01\n",
      "  -1.09991490e-01  8.54894544e-03 -1.68198840e-01 -1.74180344e-01\n",
      "   4.61164100e-01 -1.17598267e+00]\n",
      " [ 1.01012718e+00  9.20017933e-01 -1.95057341e-01  8.05393424e-01\n",
      "  -7.01344426e-01 -5.37223024e-01  1.56263850e-01 -1.90221025e-01\n",
      "  -4.48738033e-01 -6.72448039e-01]\n",
      " [-5.57494722e-01  9.39168744e-01 -1.94332341e+00  3.52494364e-01\n",
      "  -2.36436952e-01  7.27813500e-01  5.15073614e-01 -2.78253447e+00\n",
      "   5.84646610e-01  3.24274243e-01]\n",
      " [ 2.18628366e-02 -4.68673816e-01  8.53281222e-01 -4.13029310e-01\n",
      "   1.83471763e+00  5.64382855e-01  2.13782807e+00 -7.85533997e-01\n",
      "  -1.75592564e+00  7.14789597e-01]\n",
      " [ 8.52704062e-01  3.53600971e-02 -1.53879325e+00 -4.47895185e-01\n",
      "   6.17985534e-01 -1.84176326e-01 -1.15985185e-01 -1.75458969e-01\n",
      "  -9.33914656e-01 -5.33020326e-01]\n",
      " [-1.42655542e+00  1.76795995e+00 -4.75372875e-01  4.77610182e-01\n",
      "  -1.02188594e+00  7.94528240e-01 -1.87316098e+00  9.20615118e-01\n",
      "  -3.53679249e-02  2.11060505e+00]\n",
      " [-1.30653407e+00  7.63804802e-02  3.67231814e-01  1.23289919e+00\n",
      "  -4.22856961e-01  8.64644065e-02 -2.14246673e+00 -8.30168864e-01\n",
      "   4.51615951e-01  1.10417433e+00]\n",
      " [-2.81736269e-01  2.05635552e+00  1.76024923e+00 -6.06524918e-02\n",
      "  -2.41350300e+00 -1.77756638e+00 -7.77858827e-01  1.11584111e+00\n",
      "   3.10272288e-01 -2.09424782e+00]\n",
      " [-2.28765829e-01  1.61336137e+00 -3.74804687e-01 -7.49969617e-01\n",
      "   2.05462410e+00  5.34095368e-02 -4.79157099e-01  3.50167159e-01\n",
      "   1.71647264e-02 -4.29142278e-01]\n",
      " [ 1.20845633e+00  1.11570180e+00  8.40861558e-01 -1.02887218e-01\n",
      "   1.14690038e+00 -4.97025792e-02  4.66643267e-01  1.03368687e+00\n",
      "   8.08844360e-01  1.78975468e+00]\n",
      " [ 4.51284016e-01 -1.68405999e+00 -1.16017010e+00  1.35010682e+00\n",
      "  -3.31283170e-01  3.86539145e-01 -8.51455657e-01  1.00088142e+00\n",
      "  -3.84832249e-01  1.45810824e+00]\n",
      " [-5.32234021e-01  1.11813340e+00  6.74396105e-01 -7.22391905e-01\n",
      "   1.09899633e+00 -9.01634490e-01 -8.22467189e-01  7.21711292e-01\n",
      "  -6.25342001e-01 -5.93843067e-01]\n",
      " [-3.43900709e-01 -1.00016919e+00  1.04499441e+00  6.08514698e-01\n",
      "  -6.93286967e-02 -1.08392067e-01  4.50155513e-01  1.76533510e+00\n",
      "   8.70969803e-01 -5.08457134e-01]\n",
      " [ 7.77419205e-01 -1.18771172e-01 -1.98998184e-01  1.86647138e+00\n",
      "  -4.18937898e-01 -4.79184915e-01 -1.95210529e+00 -1.40232915e+00\n",
      "   4.51122939e-01 -6.94920901e-01]\n",
      " [ 5.15413802e-01 -1.11487105e+00 -7.67309826e-01  6.74570707e-01\n",
      "   1.46089238e+00  5.92472801e-01  1.19783084e+00  1.70459417e+00\n",
      "   1.04008915e+00 -9.18440038e-01]\n",
      " [-1.05344713e-01  6.30195671e-01 -4.14846901e-01  4.51946037e-01\n",
      "  -1.57915629e+00 -8.28627979e-01  5.28879746e-01 -2.23708651e+00\n",
      "  -1.10771250e+00 -1.77183179e-02]]\n"
     ]
    }
   ],
   "source": [
    "Rand_del_row = np.delete(rand, 1, axis = 0)\n",
    "print(Rand_del_row)"
   ]
  },
  {
   "cell_type": "markdown",
   "metadata": {},
   "source": [
    "Delete a Column"
   ]
  },
  {
   "cell_type": "code",
   "execution_count": 85,
   "metadata": {},
   "outputs": [
    {
     "name": "stdout",
     "output_type": "stream",
     "text": [
      "[[ 1.62434536e+00 -5.28171752e-01 -1.07296862e+00  8.65407629e-01\n",
      "  -2.30153870e+00  1.74481176e+00 -7.61206901e-01  3.19039096e-01\n",
      "  -2.49370375e-01]\n",
      " [ 1.46210794e+00 -3.22417204e-01 -3.84054355e-01  1.13376944e+00\n",
      "  -1.09989127e+00 -1.72428208e-01 -8.77858418e-01  4.22137467e-02\n",
      "   5.82815214e-01]\n",
      " [-1.10061918e+00  9.01590721e-01  5.02494339e-01  9.00855949e-01\n",
      "  -6.83727859e-01 -1.22890226e-01 -9.35769434e-01 -2.67888080e-01\n",
      "   5.30355467e-01]\n",
      " [-6.91660752e-01 -6.87172700e-01 -8.45205641e-01 -6.71246131e-01\n",
      "  -1.26645989e-02 -1.11731035e+00  2.34415698e-01  1.65980218e+00\n",
      "   7.42044161e-01]\n",
      " [-1.91835552e-01 -7.47158294e-01  1.69245460e+00  5.08077548e-02\n",
      "  -6.36995647e-01  1.90915485e-01  2.10025514e+00  1.20158952e-01\n",
      "   6.17203110e-01]\n",
      " [ 3.00170320e-01 -1.14251820e+00 -3.49342722e-01 -2.08894233e-01\n",
      "   5.86623191e-01  8.38983414e-01  9.31102081e-01  2.85587325e-01\n",
      "   8.85141164e-01]\n",
      " [-7.54397941e-01  5.12929820e-01 -2.98092835e-01  4.88518147e-01\n",
      "  -7.55717130e-02  1.13162939e+00  1.51981682e+00  2.18557541e+00\n",
      "  -1.39649634e+00]\n",
      " [-1.44411381e+00  1.60037069e-01  8.76168921e-01  3.15634947e-01\n",
      "  -2.02220122e+00 -3.06204013e-01  8.27974643e-01  2.30094735e-01\n",
      "   7.62011180e-01]\n",
      " [-2.22328143e-01  1.86561391e-01  4.10051647e-01  1.98299720e-01\n",
      "   1.19008646e-01 -6.70662286e-01  3.77563786e-01  1.21821271e-01\n",
      "   1.12948391e+00]\n",
      " [ 1.19891788e+00 -3.75284950e-01 -6.38730407e-01  4.23494354e-01\n",
      "   7.73400683e-02 -3.43853676e-01  4.35968568e-02 -6.20000844e-01\n",
      "   6.98032034e-01]\n",
      " [-4.47128565e-01  4.03491642e-01  5.93578523e-01 -1.09491185e+00\n",
      "   1.69382433e-01  7.40556451e-01 -9.53700602e-01 -2.66218506e-01\n",
      "   3.26145467e-02]\n",
      " [-1.37311732e+00  8.46160648e-01 -8.59515941e-01  3.50545979e-01\n",
      "  -1.31228341e+00 -3.86955093e-02 -1.61577235e+00  1.12141771e+00\n",
      "   4.08900538e-01]\n",
      " [-2.46169559e-02  1.27375593e+00  1.96710175e+00 -1.85798186e+00\n",
      "   1.23616403e+00  1.62765075e+00  3.38011697e-01 -1.19926803e+00\n",
      "   8.63345318e-01]\n",
      " [-1.80920302e-01 -1.23005814e+00  5.50537496e-01  7.92806866e-01\n",
      "  -6.23530730e-01  5.20576337e-01 -1.14434139e+00  8.01861032e-01\n",
      "   4.65672984e-02]\n",
      " [-1.86569772e-01  8.68886157e-01  7.50411640e-01  5.29465324e-01\n",
      "   1.37701210e-01  7.78211279e-02  6.18380262e-01  2.32494559e-01\n",
      "   6.82551407e-01]\n",
      " [-3.10116774e-01  1.03882460e+00  2.18697965e+00  4.41364444e-01\n",
      "  -1.00155233e-01 -1.36444744e-01 -1.19054188e-01  1.74094083e-02\n",
      "  -1.12201873e+00]\n",
      " [-5.17094458e-01  2.48799161e-01 -2.96641152e-01  4.95211324e-01\n",
      "  -1.74703160e-01  9.86335188e-01  2.13533901e-01  2.19069973e+00\n",
      "  -1.89636092e+00]\n",
      " [-6.46916688e-01  2.52832571e+00 -2.48634778e-01  4.36689932e-02\n",
      "  -2.26314243e-01  1.33145711e+00 -2.87307863e-01  6.80069840e-01\n",
      "  -3.19801599e-01]\n",
      " [-1.27255876e+00  5.03184813e-01  1.29322588e+00 -1.10447026e-01\n",
      "  -6.17362064e-01  5.62761097e-01  2.40737092e-01  2.80665077e-01\n",
      "  -7.31127037e-02]\n",
      " [ 1.16033857e+00  1.90465871e+00  1.11105670e+00  6.59049796e-01\n",
      "  -1.62743834e+00  6.02319280e-01  4.20282204e-01  8.10951673e-01\n",
      "   1.04444209e+00]\n",
      " [-4.00878192e-01 -5.62305431e-01  1.95487808e+00 -1.33195167e+00\n",
      "  -1.76068856e+00 -1.65072127e+00 -8.90555584e-01 -1.11911540e+00\n",
      "   1.95607890e+00]\n",
      " [-3.26499498e-01  1.11438298e+00 -5.86523939e-01 -1.23685338e+00\n",
      "   8.75838928e-01  6.23362177e-01 -4.34956683e-01  1.40754000e+00\n",
      "   1.29101580e-01]\n",
      " [ 1.61694960e+00  1.55880554e+00  1.09402696e-01 -1.21974440e+00\n",
      "   2.44936865e+00 -5.45774168e-01 -1.98837863e-01 -7.00398505e-01\n",
      "  -2.03394449e-01]\n",
      " [ 2.42669441e-01  6.61020288e-01  1.79215821e+00 -1.20464572e-01\n",
      "  -1.23312074e+00 -1.18231813e+00 -6.65754518e-01 -1.67419581e+00\n",
      "   8.25029824e-01]\n",
      " [-4.98213564e-01 -1.89148284e-03 -1.39662042e+00 -8.61316361e-01\n",
      "   6.74711526e-01  6.18539131e-01 -4.43171931e-01  1.81053491e+00\n",
      "  -1.30572692e+00]\n",
      " [-3.44987210e-01 -2.79308500e+00  1.93752881e+00  3.66332015e-01\n",
      "  -1.04458938e+00  2.05117344e+00  5.85662000e-01  4.29526140e-01\n",
      "  -6.06998398e-01]\n",
      " [ 1.06222724e-01  7.95026094e-01 -3.74438319e-01  1.34048197e-01\n",
      "   1.20205486e+00  2.84748111e-01  2.62467445e-01  2.76499305e-01\n",
      "  -7.33271604e-01]\n",
      " [ 8.36004719e-01  7.58805660e-01  8.84908814e-01 -8.77281519e-01\n",
      "  -8.67787223e-01 -1.44087602e+00  1.23225307e+00 -2.54179868e-01\n",
      "   1.39984394e+00]\n",
      " [-7.81911683e-01  9.54250872e-02  9.21450069e-01  6.07501958e-02\n",
      "   2.11124755e-01  1.65275673e-02  1.77187720e-01 -1.11647002e+00\n",
      "   8.09271010e-02]\n",
      " [-1.86578994e-01  4.92336556e-01 -6.80678141e-01 -8.45080274e-02\n",
      "  -2.97361883e-01  4.17302005e-01  7.84770651e-01 -9.55425262e-01\n",
      "   5.85910431e-01]\n",
      " [ 2.06578332e+00 -8.30171895e-01 -8.80577600e-01 -2.79097722e-01\n",
      "   1.62284909e+00  1.33526763e-02 -6.94693595e-01  6.21803504e-01\n",
      "  -5.99804531e-01]\n",
      " [ 1.12341216e+00  1.38877940e+00 -6.61344243e-01  3.03085711e+00\n",
      "   8.24584625e-01  6.54580153e-01 -5.11884476e-02 -7.25597119e-01\n",
      "  -8.67768678e-01]\n",
      " [-1.35977326e-01  2.82675712e-01 -8.26097432e-01  6.21082701e-01\n",
      "   9.56121704e-01 -7.05840507e-01  1.19268607e+00 -2.37941936e-01\n",
      "   1.15528789e+00]\n",
      " [ 4.38166347e-01 -9.97019796e-01 -1.06793987e-01  1.45142926e+00\n",
      "  -6.18036848e-01 -2.03720123e+00 -1.94258918e+00 -2.50644065e+00\n",
      "  -2.11416392e+00]\n",
      " [-4.11639163e-01 -4.42229280e-01  3.23527354e-01 -1.09991490e-01\n",
      "   8.54894544e-03 -1.68198840e-01 -1.74180344e-01  4.61164100e-01\n",
      "  -1.17598267e+00]\n",
      " [ 1.01012718e+00 -1.95057341e-01  8.05393424e-01 -7.01344426e-01\n",
      "  -5.37223024e-01  1.56263850e-01 -1.90221025e-01 -4.48738033e-01\n",
      "  -6.72448039e-01]\n",
      " [-5.57494722e-01 -1.94332341e+00  3.52494364e-01 -2.36436952e-01\n",
      "   7.27813500e-01  5.15073614e-01 -2.78253447e+00  5.84646610e-01\n",
      "   3.24274243e-01]\n",
      " [ 2.18628366e-02  8.53281222e-01 -4.13029310e-01  1.83471763e+00\n",
      "   5.64382855e-01  2.13782807e+00 -7.85533997e-01 -1.75592564e+00\n",
      "   7.14789597e-01]\n",
      " [ 8.52704062e-01 -1.53879325e+00 -4.47895185e-01  6.17985534e-01\n",
      "  -1.84176326e-01 -1.15985185e-01 -1.75458969e-01 -9.33914656e-01\n",
      "  -5.33020326e-01]\n",
      " [-1.42655542e+00 -4.75372875e-01  4.77610182e-01 -1.02188594e+00\n",
      "   7.94528240e-01 -1.87316098e+00  9.20615118e-01 -3.53679249e-02\n",
      "   2.11060505e+00]\n",
      " [-1.30653407e+00  3.67231814e-01  1.23289919e+00 -4.22856961e-01\n",
      "   8.64644065e-02 -2.14246673e+00 -8.30168864e-01  4.51615951e-01\n",
      "   1.10417433e+00]\n",
      " [-2.81736269e-01  1.76024923e+00 -6.06524918e-02 -2.41350300e+00\n",
      "  -1.77756638e+00 -7.77858827e-01  1.11584111e+00  3.10272288e-01\n",
      "  -2.09424782e+00]\n",
      " [-2.28765829e-01 -3.74804687e-01 -7.49969617e-01  2.05462410e+00\n",
      "   5.34095368e-02 -4.79157099e-01  3.50167159e-01  1.71647264e-02\n",
      "  -4.29142278e-01]\n",
      " [ 1.20845633e+00  8.40861558e-01 -1.02887218e-01  1.14690038e+00\n",
      "  -4.97025792e-02  4.66643267e-01  1.03368687e+00  8.08844360e-01\n",
      "   1.78975468e+00]\n",
      " [ 4.51284016e-01 -1.16017010e+00  1.35010682e+00 -3.31283170e-01\n",
      "   3.86539145e-01 -8.51455657e-01  1.00088142e+00 -3.84832249e-01\n",
      "   1.45810824e+00]\n",
      " [-5.32234021e-01  6.74396105e-01 -7.22391905e-01  1.09899633e+00\n",
      "  -9.01634490e-01 -8.22467189e-01  7.21711292e-01 -6.25342001e-01\n",
      "  -5.93843067e-01]\n",
      " [-3.43900709e-01  1.04499441e+00  6.08514698e-01 -6.93286967e-02\n",
      "  -1.08392067e-01  4.50155513e-01  1.76533510e+00  8.70969803e-01\n",
      "  -5.08457134e-01]\n",
      " [ 7.77419205e-01 -1.98998184e-01  1.86647138e+00 -4.18937898e-01\n",
      "  -4.79184915e-01 -1.95210529e+00 -1.40232915e+00  4.51122939e-01\n",
      "  -6.94920901e-01]\n",
      " [ 5.15413802e-01 -7.67309826e-01  6.74570707e-01  1.46089238e+00\n",
      "   5.92472801e-01  1.19783084e+00  1.70459417e+00  1.04008915e+00\n",
      "  -9.18440038e-01]\n",
      " [-1.05344713e-01 -4.14846901e-01  4.51946037e-01 -1.57915629e+00\n",
      "  -8.28627979e-01  5.28879746e-01 -2.23708651e+00 -1.10771250e+00\n",
      "  -1.77183179e-02]]\n"
     ]
    }
   ],
   "source": [
    "Rand_del_column = np.delete(rand, 1, axis = 1)\n",
    "print(Rand_del_column)"
   ]
  }
 ],
 "metadata": {
  "kernelspec": {
   "display_name": "base",
   "language": "python",
   "name": "python3"
  },
  "language_info": {
   "codemirror_mode": {
    "name": "ipython",
    "version": 3
   },
   "file_extension": ".py",
   "mimetype": "text/x-python",
   "name": "python",
   "nbconvert_exporter": "python",
   "pygments_lexer": "ipython3",
   "version": "3.9.12"
  }
 },
 "nbformat": 4,
 "nbformat_minor": 2
}
