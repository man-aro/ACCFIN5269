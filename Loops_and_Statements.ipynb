{
 "cells": [
  {
   "cell_type": "markdown",
   "metadata": {},
   "source": [
    "# Loops and Statements "
   ]
  },
  {
   "cell_type": "markdown",
   "metadata": {},
   "source": []
  },
  {
   "cell_type": "markdown",
   "metadata": {},
   "source": [
    "#### For Loops\n",
    "\n",
    "For loops iterate through code in its body for a set number of times, until a predetermined condition is no longer met. \n",
    "\n",
    "It is useful for a large number of repetitive tasks over a sequence/list of variables.\n",
    "\n",
    "\n",
    "for item (each element) in list\n",
    "\n",
    "    for: defines the type of loop.\n",
    "    item: elements that will be called upon by the loop.\n",
    "    in: indicates from where the elements are called (in the above example, elements are called from List). \n",
    "\n",
    "Indentations are VERY important:\n",
    "\n",
    "    Indentations highlight the creation of a block, which comprises of code that will be run under the loop.\n",
    "    All components of the block require similar indentations. "
   ]
  },
  {
   "cell_type": "code",
   "execution_count": 1,
   "metadata": {},
   "outputs": [
    {
     "name": "stdout",
     "output_type": "stream",
     "text": [
      "Iteration1: 2\n",
      "Iteration2: 3\n",
      "Iteration3: 4\n",
      "Iteration4: 5\n",
      "Iteration5: 6\n",
      "Iteration6: 7\n"
     ]
    }
   ],
   "source": [
    "List = [1, 2, 3, 4, 5, 6] \n",
    "for item in List: \n",
    "    print(f'Iteration{item}: {item + 1}') #adds 1 to each item in List and prints it. "
   ]
  },
  {
   "cell_type": "markdown",
   "metadata": {},
   "source": [
    "Example: Use a For Loop to add 1 to each item in the list. \n",
    "\n",
    "    new_item: Variable that stores the operation of the loop on each item (gets updated after every iteration).\n",
    "    \n",
    "    Important to create a blank list to store these values. \n",
    "            New_List: starts of as a blank list.`"
   ]
  },
  {
   "cell_type": "code",
   "execution_count": 2,
   "metadata": {},
   "outputs": [
    {
     "name": "stdout",
     "output_type": "stream",
     "text": [
      "[2, 3, 4, 5, 6, 7]\n"
     ]
    }
   ],
   "source": [
    "List = [1, 2, 3, 4, 5, 6]\n",
    "New_List = [] \n",
    "for item in List:\n",
    "    new_item = item + 1  \n",
    "    New_List.append(new_item)  #append function adds the value of 'new_item' after every iteration to New_List.\n",
    "\n",
    "print(New_List)"
   ]
  },
  {
   "cell_type": "markdown",
   "metadata": {},
   "source": [
    "Example: Iterating through Index values\n",
    "\n",
    "        For Loop to add ‘10’ to each element in the Array, and store them in a new list, labelled ‘Array_Updated’.\n",
    "        Loop is iterating through the array index: ‘Array’ consists of 10 elements between the index range of 0 and 9.\n",
    "        Allow the loop to iterate through all ‘i’ values within the range of 0 and len(Array)\n",
    "        len(Array) gives the length of the array = 10, and range(len(Array)) returns values between 0 and 9.\n",
    "\n"
   ]
  },
  {
   "cell_type": "code",
   "execution_count": 3,
   "metadata": {},
   "outputs": [
    {
     "name": "stdout",
     "output_type": "stream",
     "text": [
      "Array: [ 2.34566873 -0.26754833  1.66828057  0.05297982  0.8403428   1.16182526\n",
      "  0.3832281   0.44528314 -0.45900724  1.02701563], Array_Updated: [12.345668733076167, 9.732451671657985, 11.668280565342481, 10.05297981894864, 10.840342796828207, 11.161825264375103, 10.38322809827313, 10.445283139489986, 9.540992756728581, 11.027015631331125]\n"
     ]
    }
   ],
   "source": [
    "import numpy as np\n",
    "Array = np.random.normal(0,1, size = 10)\n",
    "Array_Updated = []\n",
    "for i in range(len(Array)):         \n",
    "    Array_Updated.append(Array[i] + 10)\n",
    "\n",
    "print(f'Array: {Array}, Array_Updated: {Array_Updated}')\n"
   ]
  },
  {
   "cell_type": "markdown",
   "metadata": {},
   "source": [
    "Change in range of i: it ranges from 0, to len(Array), at increments of 2.\n",
    "\n",
    "Only element with indices correspodning to the range (increments of 2) are selected within the loop.\n",
    "\n",
    "Array_Updated will comprise of only 5 elements. "
   ]
  },
  {
   "cell_type": "code",
   "execution_count": 4,
   "metadata": {},
   "outputs": [
    {
     "name": "stdout",
     "output_type": "stream",
     "text": [
      "Array: [-0.25254921 -2.39101379 -0.51027207 -0.60587901 -0.67944528  1.43585066\n",
      " -0.35560254  1.04756207 -0.97724232  0.01343207], Array_Updated: [7.60898621349202, 9.39412098987632, 11.435850663421041, 11.047562065578624, 10.013432072284477]\n"
     ]
    }
   ],
   "source": [
    "import numpy as np\n",
    "Array = np.random.normal(0,1, size = 10)\n",
    "Array_Updated = []\n",
    "for i in range(1, len(Array), 2):\n",
    "    Array_Updated.append(Array[i] + 10)\n",
    "    \n",
    "print(f'Array: {Array}, Array_Updated: {Array_Updated}')"
   ]
  },
  {
   "cell_type": "markdown",
   "metadata": {},
   "source": [
    "Example: Cumulative Sum using a For Loop\n",
    "\n",
    "    Enumerate: Allows a loop to iterate by tracking the count (index, i) of each element in the array, and its corresponding value.\n",
    "\n",
    "    Good Practice: Create an array/matrix of zeros, to be overwritten from the output of each loop iterations (Extremely helpful when utilising nested loops).\n"
   ]
  },
  {
   "cell_type": "code",
   "execution_count": 5,
   "metadata": {},
   "outputs": [
    {
     "name": "stdout",
     "output_type": "stream",
     "text": [
      "Numpy: [ 0.71548554  0.66139068  0.2250574  -0.19191976 -0.19948063  1.86066944\n",
      "  1.44019396  1.74956801  1.83272755  4.06148333], Loop: [ 0.71548554  0.66139068  0.2250574  -0.19191976 -0.19948063  1.86066944\n",
      "  1.44019396  1.74956801  1.83272755  4.06148333]\n"
     ]
    }
   ],
   "source": [
    "import numpy as np\n",
    "Array = np.random.normal(0,1, size = 10)\n",
    "Cumulative_Sum = np.cumsum(Array) #Cumulative Sum at each index\n",
    "\n",
    "#Aim: Replicate np.cumsum using for loops. \n",
    "Cum_Sum = np.zeros(len(Array)) #create a zeros matrix to be overwritten \n",
    "cumsum = 0 #initialise the variable, such that at the first iteration, there is something to add to. \n",
    "for i, value in enumerate(Array):\n",
    "    cumsum += value\n",
    "    Cum_Sum[i] = cumsum\n",
    "\n",
    "print(f'Numpy: {Cumulative_Sum}, Loop: {Cum_Sum}')    "
   ]
  },
  {
   "cell_type": "markdown",
   "metadata": {},
   "source": [
    "#### Nested For Loops\n",
    "\n",
    "Example: Overwrite a zero matrix, by iterating through each element by location."
   ]
  },
  {
   "cell_type": "code",
   "execution_count": 6,
   "metadata": {},
   "outputs": [
    {
     "name": "stdout",
     "output_type": "stream",
     "text": [
      "[[ 0.  0.  0.  0.  0.]\n",
      " [ 0.  1.  2.  3.  4.]\n",
      " [ 0.  2.  4.  6.  8.]\n",
      " [ 0.  3.  6.  9. 12.]\n",
      " [ 0.  4.  8. 12. 16.]]\n"
     ]
    }
   ],
   "source": [
    "import numpy as np\n",
    "Matrix = np.zeros([5,5])\n",
    "size = Matrix.shape #store the size(number of rows and columns in a tuple)\n",
    "\n",
    "for i in range(size[0]): #iterate through rows\n",
    "    for j in range(size[1]): #iterate through columns within each row\n",
    "        Matrix[i,j] = i*j #Each element is the product of the index of rows and columns, corresponding to its location.\n",
    "        #Matrix is overwritten.\n",
    "print(Matrix)"
   ]
  },
  {
   "cell_type": "markdown",
   "metadata": {},
   "source": [
    "#### While Loops\n",
    "\n",
    "        While Loops execute a block of statements repeatedly, till a given condition is satisfied. \n",
    "\n",
    "        If false (once the condition is false), the loop is terminated. "
   ]
  },
  {
   "cell_type": "code",
   "execution_count": 7,
   "metadata": {},
   "outputs": [],
   "source": [
    "i = 0  #It is important to define an initial value for ‘i’, as a starting point for the loop.\n",
    "List = []\n",
    "while i < 20: \n",
    "    List.append(i**2)\n",
    "    i +=1   #After each iteration, 1 is added to i, such that ‘i < 20’ is revaluated on the updated ‘i’. \n",
    "#Loop is designed to conduct operations for values of ‘i’ that are less than 20.\n",
    "    #If the condition is met (i < 20), then the outcome of the operation ‘i**2’ will be appended to ‘List’. \n"
   ]
  },
  {
   "cell_type": "markdown",
   "metadata": {},
   "source": [
    "Possibility of an Infinite Loop (depends on the condition) [DO NOT RUN]"
   ]
  },
  {
   "cell_type": "code",
   "execution_count": null,
   "metadata": {},
   "outputs": [],
   "source": [
    "\"\"\"\n",
    "i = 21\n",
    "List = []\n",
    "while i > 20:\n",
    "    List.append(i**2)\n",
    "    i +=1\n",
    "\n",
    "#Condition has been altered (from the previous) to ‘i > 20’, with the initial value set at 21.\n",
    "\n",
    "#Given that 1 will be added to ‘i’ at the end of each iteration, this loop will never be automatically terminated.\n",
    "\"\"\""
   ]
  },
  {
   "cell_type": "markdown",
   "metadata": {},
   "source": [
    "#### Nested While Loops\n",
    "\n",
    "    Designed to perform the same task as seen with nested for loops. \n",
    "\n",
    "    Example: Overwrite a zero matrix, by iterating through each element by location."
   ]
  },
  {
   "cell_type": "code",
   "execution_count": 9,
   "metadata": {},
   "outputs": [
    {
     "name": "stdout",
     "output_type": "stream",
     "text": [
      "[[ 0.  0.  0.  0.  0.]\n",
      " [ 0.  1.  2.  3.  4.]\n",
      " [ 0.  2.  4.  6.  8.]\n",
      " [ 0.  3.  6.  9. 12.]\n",
      " [ 0.  4.  8. 12. 16.]]\n"
     ]
    }
   ],
   "source": [
    "import numpy as np \n",
    "Matrix = np.zeros([5, 5])\n",
    "Size = Matrix.shape\n",
    "i = 0\n",
    "while i < Size[0]: #‘i’- row index of ‘Matrix’, the loop terminates when i >= number of rows (final index value = no.of rows – 1).\n",
    "    j = 0 #Initial of ‘j’ defined before the start of the ‘j’ loop, within under the ‘i’ loop (pay attention to the indentation).\n",
    "    while j < Size[0]: #‘j’- column index of ‘Matrix’, the loop terminates when i >= number of columns.\n",
    "        Matrix[i,j] = i*j\n",
    "        j = j + 1 #j is updated within the i loop: While loop goes through every column, within each row.\n",
    "    i = i + 1\n",
    "\n",
    "print(Matrix)"
   ]
  },
  {
   "cell_type": "markdown",
   "metadata": {},
   "source": [
    "## Conditional Statements\n",
    "\n",
    "    - Allow to control the flow of a programme based on specified conditions. \n",
    "\n",
    "    - Incorporate decision making during the execution of codes. "
   ]
  },
  {
   "cell_type": "markdown",
   "metadata": {},
   "source": [
    "#### 1. if statements\n",
    "\n",
    "Execuete a block of code, given that a certain condition is satisfied. \n",
    "\n",
    "Example: Condition: 'if x = 5', Output: print('x = 5')\n",
    "        \n",
    "        - if true, 'x = 5' will be displayed.\n",
    "\n",
    "        - When stating an equality condition, use '==' (equality operator), not '=' (assignment operator).\n"
   ]
  },
  {
   "cell_type": "code",
   "execution_count": 10,
   "metadata": {},
   "outputs": [
    {
     "name": "stdout",
     "output_type": "stream",
     "text": [
      "x = 5\n"
     ]
    }
   ],
   "source": [
    "x = 5\n",
    "if x == 5:\n",
    "    print('x = 5')\n",
    "    "
   ]
  },
  {
   "cell_type": "markdown",
   "metadata": {},
   "source": [
    "#### 2. if-else statements\n",
    "\n",
    "Executes a block of codes if the statement is true, and another block of code, if false (else scenario). \n",
    "\n",
    "Example: ‘x’ is set to equal 5, and an if statement is presented with the condition: ‘if x == 5:’, then print: ‘x = 5’.\n",
    "    - if x does not equal to 5, then output will be ‘x does not equal 5’."
   ]
  },
  {
   "cell_type": "code",
   "execution_count": 11,
   "metadata": {},
   "outputs": [
    {
     "name": "stdout",
     "output_type": "stream",
     "text": [
      "x = 5\n"
     ]
    }
   ],
   "source": [
    "x = 5\n",
    "if x == 5:\n",
    "    print('x = 5')\n",
    "else: \n",
    "    print('x does not equal 5')"
   ]
  },
  {
   "cell_type": "markdown",
   "metadata": {},
   "source": [
    "#### 3. if-elif-else statements\n",
    "\n",
    "Execution over 2 conditions (or more), and an alternative (else-condition), during which neither hold true. \n",
    "\n",
    "Example: if x > 5: 'x > 5', elif if x < 5: 'x < 5', else (x == 5): 'x==5'\n",
    "\n",
    "        Condition 1: if-statement x > 5\n",
    "        Condition 2 elif-statement x < 5 \n",
    "        Alternative, else statement: x == 5 (condition 1 and 2 do not hold)."
   ]
  },
  {
   "cell_type": "code",
   "execution_count": 12,
   "metadata": {},
   "outputs": [
    {
     "name": "stdout",
     "output_type": "stream",
     "text": [
      "x == 5\n"
     ]
    }
   ],
   "source": [
    "x = 5\n",
    "if x > 5:  #Condition 1\n",
    "    print('x > 5')\n",
    "elif x < 5: #Condition 2 \n",
    "        print('x < 5')\n",
    "else:  #Alternative, else statement\n",
    "    print('x == 5')"
   ]
  },
  {
   "cell_type": "markdown",
   "metadata": {},
   "source": [
    "#### 'if-elif-else' statements and 'for' loops"
   ]
  },
  {
   "cell_type": "code",
   "execution_count": 13,
   "metadata": {},
   "outputs": [
    {
     "name": "stdout",
     "output_type": "stream",
     "text": [
      "[129, 244, 127]\n"
     ]
    }
   ],
   "source": [
    "import numpy as np \n",
    "Rand = np.random.rand(500) #500 uniformly distributed random values between 0 and 1.\n",
    "Rand_1 = []\n",
    "Rand_2 = []\n",
    "Rand_3 = []\n",
    "for i in range(len((Rand))):\n",
    "    if Rand[i] < 0.25: \n",
    "        Rand_1.append(Rand[i]) #if value < 0.25 append to Rand_1\n",
    "    elif (Rand[i] >= 0.25) and (Rand[i] < 0.75): #two conditions: write each condition within (), with 'and' between them\n",
    "        Rand_2.append(Rand[i]) #if 0.25 <= value < 0.75 append to Rand_2\n",
    "    else:\n",
    "        Rand_3.append(Rand[i]) #if value > 0.75 append to Rand_3\n",
    "\n",
    "#Number of variable in each list, based on conditions.\n",
    "Count = [len(Rand_1), len(Rand_2), len(Rand_3)]\n",
    "print(Count)"
   ]
  }
 ],
 "metadata": {
  "kernelspec": {
   "display_name": "base",
   "language": "python",
   "name": "python3"
  },
  "language_info": {
   "codemirror_mode": {
    "name": "ipython",
    "version": 3
   },
   "file_extension": ".py",
   "mimetype": "text/x-python",
   "name": "python",
   "nbconvert_exporter": "python",
   "pygments_lexer": "ipython3",
   "version": "3.9.12"
  }
 },
 "nbformat": 4,
 "nbformat_minor": 2
}
