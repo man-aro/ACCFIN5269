{
 "cells": [
  {
   "cell_type": "markdown",
   "metadata": {},
   "source": [
    "# Functions "
   ]
  },
  {
   "cell_type": "markdown",
   "metadata": {},
   "source": [
    "Functions are a block of code that only run when called upon, and return a result after receiving information (arguments).\n"
   ]
  },
  {
   "cell_type": "markdown",
   "metadata": {},
   "source": [
    "Components of the Function: \n",
    "\n",
    "def: Keyword used to define a function.\n",
    "    \n",
    "Add(x, y): ‘Add’ is the name of the function.\n",
    "    Careful while defining the function: the name will be used to recall the function.\n",
    "\n",
    "    (x, y): Parameters used to define the variable in the function operation.\n",
    "    \n",
    "    Arguments will be inserted in place of ‘x’ and ‘y’ as the values the respective     variable must take. \n",
    "        x = 5, y = 6 in the example.\n",
    "        \n",
    "return: keyword defined to return the desired outcome of the function."
   ]
  },
  {
   "cell_type": "code",
   "execution_count": 1,
   "metadata": {},
   "outputs": [
    {
     "name": "stdout",
     "output_type": "stream",
     "text": [
      "11\n"
     ]
    }
   ],
   "source": [
    "def Add(x, y):\n",
    "    result = x + y  #operation that the function is designed to conduct. \n",
    "    return result #indentations are important.\n",
    "\n",
    "print(Add(5, 6))"
   ]
  },
  {
   "cell_type": "markdown",
   "metadata": {},
   "source": [
    "Benefits of using Functions: Efficiency\n",
    "\n",
    "Blocks of code that can be used anywhere by just calling them: One line of code, instead of repeating n lines that are present in the function.\n",
    "\n",
    "Editing code is less time consuming: Only need to edit the code present in the function.\n",
    "\n",
    "Functions are easy to maintain, deliver, transport and document. "
   ]
  },
  {
   "cell_type": "markdown",
   "metadata": {},
   "source": [
    "Function with Multiple Outputs"
   ]
  },
  {
   "cell_type": "code",
   "execution_count": 2,
   "metadata": {},
   "outputs": [
    {
     "name": "stdout",
     "output_type": "stream",
     "text": [
      "15 50 5\n"
     ]
    }
   ],
   "source": [
    "def func(x, y):\n",
    "    Add = x + y\n",
    "    Product = x*y\n",
    "    Diff = x - y\n",
    "    return Add, Product, Diff\n",
    "\n",
    "Result = func(10, 5) #results of Add, Product, Diff are stored in a tuple (same order are listed in the function).\n",
    "Add, Product, Diff = Result[0], Result[1], Result[2] #Saving Results within Variables. \n",
    "\n",
    "print(Add, Product, Diff)\n"
   ]
  },
  {
   "cell_type": "markdown",
   "metadata": {},
   "source": [
    "For Loop within Function\n",
    "\n",
    "Benefit: No need to keep recreating a new zeros matrix. \n",
    "\n",
    "The dimensions of the matrix are easily mutable, only need to execute one line of code, if x and y change. "
   ]
  },
  {
   "cell_type": "code",
   "execution_count": 3,
   "metadata": {},
   "outputs": [
    {
     "name": "stdout",
     "output_type": "stream",
     "text": [
      "[[ 0.  0.  0.  0.  0.  0.  0.  0.  0.  0.]\n",
      " [ 0.  1.  2.  3.  4.  5.  6.  7.  8.  9.]\n",
      " [ 0.  2.  4.  6.  8. 10. 12. 14. 16. 18.]\n",
      " [ 0.  3.  6.  9. 12. 15. 18. 21. 24. 27.]\n",
      " [ 0.  4.  8. 12. 16. 20. 24. 28. 32. 36.]\n",
      " [ 0.  5. 10. 15. 20. 25. 30. 35. 40. 45.]\n",
      " [ 0.  6. 12. 18. 24. 30. 36. 42. 48. 54.]\n",
      " [ 0.  7. 14. 21. 28. 35. 42. 49. 56. 63.]\n",
      " [ 0.  8. 16. 24. 32. 40. 48. 56. 64. 72.]\n",
      " [ 0.  9. 18. 27. 36. 45. 54. 63. 72. 81.]]\n"
     ]
    }
   ],
   "source": [
    "def Func_Matrix(x,y):  #Function inputs: x = no. of rows, and y = no. of columns\n",
    "    import numpy as np #Each time the function is called, numpy gets imported\n",
    "    Matrix = np.zeros([x, y]) #Each time the function is called, a zeros matrix of x and y dimension is created. \n",
    "    Size = Matrix.shape\n",
    "    for i in range(Size[0]):\n",
    "        for j in range(Size[1]):\n",
    "            Matrix[i,j] = i*j\n",
    "    return Matrix\n",
    "\n",
    "Matrix = Func_Matrix(10, 10) \n",
    "print(Matrix)"
   ]
  },
  {
   "cell_type": "markdown",
   "metadata": {},
   "source": [
    "Running Function within a For Loop  "
   ]
  },
  {
   "cell_type": "code",
   "execution_count": 4,
   "metadata": {},
   "outputs": [
    {
     "name": "stdout",
     "output_type": "stream",
     "text": [
      "Add: [0, 2, 6, 12, 20, 30, 42, 56, 72, 90], Product: [0, 1, 8, 27, 64, 125, 216, 343, 512, 729]\n"
     ]
    }
   ],
   "source": [
    "def Func(x):\n",
    "    y = x**2\n",
    "    add = x + y\n",
    "    prod = x * y\n",
    "    return add, prod\n",
    "\n",
    "Add = []\n",
    "Product = []\n",
    "for x in range(10):\n",
    "    result = Func(x)\n",
    "    Add.append(result[0])\n",
    "    Product.append(result[1])\n",
    "\n",
    "print(f'Add: {Add}, Product: {Product}')\n",
    "\n",
    "#Even faster way to iterate through a range of function input values and collect outputs. "
   ]
  },
  {
   "cell_type": "markdown",
   "metadata": {},
   "source": [
    "Running a Function with conditons"
   ]
  },
  {
   "cell_type": "code",
   "execution_count": 5,
   "metadata": {},
   "outputs": [
    {
     "name": "stdout",
     "output_type": "stream",
     "text": [
      "Input is odd\n",
      "None\n"
     ]
    }
   ],
   "source": [
    "def oddeven(x):\n",
    "    if x%2 == 0:\n",
    "        output = 'Input is even'\n",
    "    else: \n",
    "        output = 'Input is odd'\n",
    "    return print(output) #will directly print output\n",
    "\n",
    "print(oddeven(15))"
   ]
  },
  {
   "cell_type": "markdown",
   "metadata": {},
   "source": [
    "Fibonacci Sequence: Function, combining while loops and if-statements. \n",
    "\n",
    "Sequence in which each number is the sum of the two preceding ones.\n",
    "\n",
    "    x represent the index of the sequence\n",
    "\n",
    "https://www.mathsisfun.com/numbers/fibonacci-sequence.html"
   ]
  },
  {
   "cell_type": "code",
   "execution_count": 6,
   "metadata": {},
   "outputs": [
    {
     "name": "stdout",
     "output_type": "stream",
     "text": [
      "8\n"
     ]
    }
   ],
   "source": [
    "def Fibonacci(x):\n",
    "    \n",
    "    if x < 0: \n",
    "        output = 'Invalid Input'\n",
    "    elif (x == 0) or (x == 1):\n",
    "        output = x\n",
    "    else: \n",
    "        a = 0 #index = x - 2\n",
    "        b = 1 #index = x - 1\n",
    "        i = 1 #i is at 1, so that the loop begins from x = 1, such that when x = 2, a = 0, b = 1, c = 1. \n",
    "        while i < x:\n",
    "            c = a + b    #for x > 1: a = 0 and b = 1, c = a + b\n",
    "            a = b   #for the next iteration, a = b = 1, and b = c = 1, then c = a+b = 1 + 1 = 2\n",
    "            b = c\n",
    "            i += 1\n",
    "        output = c #output c from the final iteration (index = x)\n",
    "    return output \n",
    "\n",
    "Fibonacci_Sequence = Fibonacci(6) #x = 6, which is the 7th value in the sequence. \n",
    "print(Fibonacci_Sequence)"
   ]
  },
  {
   "cell_type": "markdown",
   "metadata": {},
   "source": [
    "## Calling Functions from another Script.\n",
    "\n",
    "    Make Sure the script is saved in the same directory as the current script. \n",
    "    \n",
    "    Script: Session_Functions.py\n",
    "    \n",
    "    Saved all the functions above in Session_Functions.py (without notes and output).\n",
    "  "
   ]
  },
  {
   "cell_type": "code",
   "execution_count": 7,
   "metadata": {},
   "outputs": [],
   "source": [
    "\n",
    "import Session_Functions as myfunc  #Congratulations, you have imported your own script package!"
   ]
  },
  {
   "cell_type": "code",
   "execution_count": 8,
   "metadata": {},
   "outputs": [
    {
     "name": "stdout",
     "output_type": "stream",
     "text": [
      "Add: 11,\n",
      "\n",
      " func: (14, 40, 6),\n",
      "\n",
      " Matrix: [[ 0.  0.  0.  0.  0.  0.  0.  0.  0.]\n",
      " [ 0.  1.  2.  3.  4.  5.  6.  7.  8.]\n",
      " [ 0.  2.  4.  6.  8. 10. 12. 14. 16.]\n",
      " [ 0.  3.  6.  9. 12. 15. 18. 21. 24.]\n",
      " [ 0.  4.  8. 12. 16. 20. 24. 28. 32.]\n",
      " [ 0.  5. 10. 15. 20. 25. 30. 35. 40.]\n",
      " [ 0.  6. 12. 18. 24. 30. 36. 42. 48.]\n",
      " [ 0.  7. 14. 21. 28. 35. 42. 49. 56.]\n",
      " [ 0.  8. 16. 24. 32. 40. 48. 56. 64.]\n",
      " [ 0.  9. 18. 27. 36. 45. 54. 63. 72.]]\n"
     ]
    }
   ],
   "source": [
    "Add_Func = myfunc.Add(5, 6) #similar to previous instances, call package from myfunc, using myfunc. + name of function.\n",
    "func = myfunc.func(10, 4) #results of Add, Product, Diff are stored in a tuple (same order are listed in the function).\n",
    "Matrix = myfunc.Func_Matrix(10, 9) \n",
    "\n",
    "print(f'Add: {Add_Func},\\n\\n func: {func},\\n\\n Matrix: {Matrix}')"
   ]
  },
  {
   "cell_type": "code",
   "execution_count": 9,
   "metadata": {},
   "outputs": [
    {
     "name": "stdout",
     "output_type": "stream",
     "text": [
      "Add: [0, 2, 6, 12, 20, 30, 42, 56, 72, 90, 110, 132, 156, 182, 210, 240, 272, 306, 342, 380, 420, 462, 506, 552, 600, 650, 702, 756, 812, 870, 930, 992, 1056, 1122, 1190, 1260, 1332, 1406, 1482, 1560, 1640, 1722, 1806, 1892, 1980, 2070, 2162, 2256, 2352, 2450, 2550, 2652, 2756, 2862, 2970, 3080, 3192, 3306, 3422, 3540, 3660, 3782, 3906, 4032, 4160, 4290, 4422, 4556, 4692, 4830, 4970, 5112, 5256, 5402, 5550, 5700, 5852, 6006, 6162, 6320, 6480, 6642, 6806, 6972, 7140, 7310, 7482, 7656, 7832, 8010, 8190, 8372, 8556, 8742, 8930, 9120, 9312, 9506, 9702, 9900], \n",
      "\n",
      " Product: (14, 40, 6)\n"
     ]
    }
   ],
   "source": [
    "Add = []\n",
    "Product = []\n",
    "for x in range(100):\n",
    "    result = myfunc.Func(x) #calling function from myfunc, and obtaining output for a range of inputs.\n",
    "    Add.append(result[0])\n",
    "    Product.append(result[1])\n",
    "\n",
    "print(f'Add: {Add}, \\n\\n Product: {func}')"
   ]
  },
  {
   "cell_type": "code",
   "execution_count": 10,
   "metadata": {},
   "outputs": [
    {
     "name": "stdout",
     "output_type": "stream",
     "text": [
      "[0, 1, 1, 2, 3, 5, 8, 13, 21, 34, 55, 89, 144, 233, 377, 610, 987, 1597, 2584, 4181, 6765]\n"
     ]
    }
   ],
   "source": [
    "Fibonacci_Value = myfunc.Fibonacci(15)\n",
    "\n",
    "Fib_Seq = []\n",
    "for x in range(21): Fib_Seq.append(myfunc.Fibonacci(x)) \n",
    "\n",
    "print(Fib_Seq)"
   ]
  },
  {
   "cell_type": "markdown",
   "metadata": {},
   "source": [
    "## Interesting Examples"
   ]
  },
  {
   "cell_type": "markdown",
   "metadata": {},
   "source": [
    "1. Fibonacci Sequence\n",
    "https://www.mathsisfun.com/numbers/fibonacci-sequence.html"
   ]
  },
  {
   "cell_type": "code",
   "execution_count": 11,
   "metadata": {},
   "outputs": [
    {
     "name": "stdout",
     "output_type": "stream",
     "text": [
      "Sequence: [1, 1, 2, 3, 5, 8, 13, 21, 34, 55, 89, 144, 233, 377, 610, 987, 1597, 2584, 4181, 6765, 10946, 17711, 28657, 46368, 75025, 121393, 196418, 317811, 514229, 832040, 1346269, 2178309, 3524578, 5702887, 9227465, 14930352, 24157817, 39088169, 63245986, 102334155, 165580141, 267914296, 433494437, 701408733, 1134903170, 1836311903, 2971215073, 4807526976, 7778742049, 12586269025, 20365011074, 32951280099, 53316291173, 86267571272, 139583862445, 225851433717, 365435296162, 591286729879, 956722026041, 1548008755920, 2504730781961, 4052739537881, 6557470319842, 10610209857723, 17167680177565, 27777890035288, 44945570212853, 72723460248141, 117669030460994, 190392490709135, 308061521170129, 498454011879264, 806515533049393, 1304969544928657, 2111485077978050, 3416454622906707, 5527939700884757, 8944394323791464, 14472334024676221, 23416728348467685, 37889062373143906, 61305790721611591, 99194853094755497, 160500643816367088, 259695496911122585, 420196140727489673, 679891637638612258, 1100087778366101931, 1779979416004714189, 2880067194370816120, 4660046610375530309, 7540113804746346429, 12200160415121876738, 19740274219868223167, 31940434634990099905, 51680708854858323072, 83621143489848422977, 135301852344706746049], \n",
      "\n",
      "  Ratio: [1.0, 2.0, 1.5, 1.6666666666666667, 1.6, 1.625, 1.6153846153846154, 1.619047619047619, 1.6176470588235294, 1.6181818181818182, 1.6179775280898876, 1.6180555555555556, 1.6180257510729614, 1.6180371352785146, 1.618032786885246, 1.618034447821682, 1.6180338134001253, 1.618034055727554, 1.6180339631667064, 1.6180339985218033, 1.618033985017358, 1.6180339901755971, 1.618033988205325, 1.618033988957902, 1.6180339886704431, 1.6180339887802426, 1.618033988738303, 1.6180339887543225, 1.6180339887482036, 1.6180339887505408, 1.6180339887496482, 1.618033988749989, 1.618033988749859, 1.6180339887499087, 1.6180339887498896, 1.618033988749897, 1.618033988749894, 1.6180339887498951, 1.6180339887498947, 1.618033988749895, 1.618033988749895, 1.618033988749895, 1.618033988749895, 1.618033988749895, 1.618033988749895, 1.618033988749895, 1.618033988749895, 1.618033988749895, 1.618033988749895, 1.618033988749895, 1.618033988749895, 1.618033988749895, 1.618033988749895, 1.618033988749895, 1.618033988749895, 1.618033988749895, 1.618033988749895, 1.618033988749895, 1.618033988749895, 1.618033988749895, 1.618033988749895, 1.618033988749895, 1.618033988749895, 1.618033988749895, 1.618033988749895, 1.618033988749895, 1.618033988749895, 1.618033988749895, 1.618033988749895, 1.618033988749895, 1.618033988749895, 1.618033988749895, 1.618033988749895, 1.618033988749895, 1.618033988749895, 1.618033988749895, 1.618033988749895, 1.618033988749895, 1.618033988749895, 1.618033988749895, 1.618033988749895, 1.618033988749895, 1.618033988749895, 1.618033988749895, 1.618033988749895, 1.618033988749895, 1.618033988749895, 1.618033988749895, 1.618033988749895, 1.618033988749895, 1.618033988749895, 1.618033988749895, 1.618033988749895, 1.618033988749895, 1.618033988749895, 1.618033988749895, 1.618033988749895, 1.618033988749895]\n"
     ]
    }
   ],
   "source": [
    "import numpy as np\n",
    "\n",
    "def Fib(x):\n",
    "    q = np.arange(x)\n",
    "    if x == 0:\n",
    "        fib = 0\n",
    "    elif x == 1:\n",
    "        fib = 1\n",
    "    else: \n",
    "        y = [0,1]\n",
    "        for i in q[1:]:\n",
    "            y.append(y[-2] + y[-1])\n",
    "        fib = y[-1]\n",
    "    return fib \n",
    "\n",
    "a = 100\n",
    "c = np.arange(1,a)\n",
    "Fibonacci = []\n",
    "Fib_Ratio = []\n",
    "for i in range(len(c)-1):\n",
    "    Fibonacci.append(Fib(c[i]))\n",
    "    Fib_Ratio.append(Fib(c[i+1])/Fib(c[i]))\n",
    "\n",
    "\n",
    "print(f'Sequence: {Fibonacci}, \\n\\n  Ratio: {Fib_Ratio}')\n"
   ]
  },
  {
   "cell_type": "markdown",
   "metadata": {},
   "source": [
    "2. Prime Numbers\n",
    "https://www.cuemath.com/numbers/prime-numbers/"
   ]
  },
  {
   "cell_type": "code",
   "execution_count": 12,
   "metadata": {},
   "outputs": [
    {
     "name": "stdout",
     "output_type": "stream",
     "text": [
      "Prime Numbers till 200: [1, 2, 3, 5, 7, 11, 13, 17, 19, 23, 29, 31, 37, 41, 43, 47, 53, 59, 61, 67, 71, 73, 79, 83, 89, 97, 101, 103, 107, 109, 113, 127, 131, 137, 139, 149, 151, 157, 163, 167, 173, 179, 181, 191, 193, 197, 199] Number of Primes till 200: 47\n"
     ]
    }
   ],
   "source": [
    "\n",
    "def Prime_Numbers(x):\n",
    "    Prime = []\n",
    "    for i in range(1, x+1):\n",
    "        Factors = []\n",
    "        for j in range(1, i+1):\n",
    "            div = i/j\n",
    "            modu = i%j\n",
    "            if modu == 0:\n",
    "                f = j \n",
    "                Factors.append(f)\n",
    "        if len(Factors) == 1:\n",
    "            Prime.append(Factors[-1])\n",
    "        if len(Factors) == 2:\n",
    "            Prime.append(Factors[-1])\n",
    "        N_Prime = len(Prime)\n",
    "    return Prime, N_Prime\n",
    "\n",
    "\n",
    "X = 200\n",
    "print(f'Prime Numbers till {X}: ' + str(Prime_Numbers(X)[0]), f'Number of Primes till {X}: ' + str(Prime_Numbers(X)[1]))"
   ]
  },
  {
   "cell_type": "markdown",
   "metadata": {},
   "source": [
    "3. Pascal's Triangle\n",
    "https://www.mathsisfun.com/pascals-triangle.html"
   ]
  },
  {
   "cell_type": "code",
   "execution_count": 13,
   "metadata": {},
   "outputs": [
    {
     "name": "stdout",
     "output_type": "stream",
     "text": [
      "[[1], [1, 1], [1, 2, 1], [1, 3, 3, 1], [1, 4, 6, 4, 1], [1, 5, 10, 10, 5, 1], [1, 6, 15, 20, 15, 6, 1], [1, 7, 21, 35, 35, 21, 7, 1], [1, 8, 28, 56, 70, 56, 28, 8, 1], [1, 9, 36, 84, 126, 126, 84, 36, 9, 1]]\n"
     ]
    }
   ],
   "source": [
    "import numpy as np\n",
    "\n",
    "def Pascal_Triangle(x):\n",
    "    Pascal = []\n",
    "    for i in range(x):\n",
    "        if i == 0:\n",
    "            p = [1]\n",
    "            Pascal.append(p)\n",
    "        elif i == 1:\n",
    "            p = [1, 1]\n",
    "            Pascal.append(p)\n",
    "        else:\n",
    "            pascal = []\n",
    "            for j in range(1,len(Pascal[-1])):\n",
    "                q = Pascal[-1][j] + Pascal[-1][j-1]\n",
    "                pascal.append(q)\n",
    "            p = [1] + pascal + [1]\n",
    "            Pascal.append(p)\n",
    "    return Pascal\n",
    "\n",
    "print(Pascal_Triangle(10))\n"
   ]
  }
 ],
 "metadata": {
  "kernelspec": {
   "display_name": "Python_Sessions",
   "language": "python",
   "name": "python3"
  },
  "language_info": {
   "codemirror_mode": {
    "name": "ipython",
    "version": 3
   },
   "file_extension": ".py",
   "mimetype": "text/x-python",
   "name": "python",
   "nbconvert_exporter": "python",
   "pygments_lexer": "ipython3",
   "version": "3.9.19"
  }
 },
 "nbformat": 4,
 "nbformat_minor": 2
}
