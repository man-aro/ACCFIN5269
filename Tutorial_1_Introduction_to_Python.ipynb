{
 "cells": [
  {
   "cell_type": "markdown",
   "metadata": {},
   "source": [
    "# Tutorial 1:  Introduction to Python"
   ]
  },
  {
   "cell_type": "markdown",
   "metadata": {},
   "source": [
    "## Installation: Anaconda\n",
    "\n",
    "Anaconda Navigator is free to download from: https://repo.anaconda.com/archive\n",
    "\n",
    "Install the latest version and set Anaconda as the default for Python Installation. \n",
    "\n",
    "Updating Anaconda: \n",
    "\n",
    "    - Open Terminal and type 'conda update anaconda'.\n",
    "\n",
    "More Information: \n",
    "\n",
    "    - Windows: https://docs.anaconda.com/anaconda/install/windows/\n",
    "\n",
    "    - macOS: https://docs.anaconda.com/anaconda/install/mac-os/\n",
    "\n"
   ]
  },
  {
   "cell_type": "markdown",
   "metadata": {},
   "source": [
    "## Setting Up Environment"
   ]
  },
  {
   "cell_type": "markdown",
   "metadata": {},
   "source": [
    "More Information: https://conda.io/projects/conda/en/latest/user-guide/tasks/manage-environments.html\n",
    "\n",
    "base (root): Default Environment. \n",
    "\n",
    "Creating an Environment: \n",
    "\n",
    "    - Option 1: Environments (Anaconda Navigator) --> Create --> Label Environment. \n",
    "    \n",
    "        To activate environment: Home (Amaconda Navigator) --> Applications on --> Select Environment (will have to Launch VS Code IDE).\n",
    "\n",
    "\n",
    "    - Option 2: Using Terminal in VS Code.\n",
    "\n",
    "        1. Open VS Code --> Terminal --> New Terminal\n",
    "\n",
    "        2. conda create -n <enter environment name> python=3.9\n",
    "\n",
    "            (feel free to name to the environment as per your preference).\n",
    "\n",
    "\n",
    "\n",
    "Need to install ipykernel to run Jupyter Notebook Files. \n",
    "\n",
    "    - conda activate <enter environment name>\n",
    "\n",
    "    - conda install ipykernel\n",
    "\n"
   ]
  },
  {
   "cell_type": "markdown",
   "metadata": {},
   "source": [
    "## Working Directory"
   ]
  },
  {
   "cell_type": "markdown",
   "metadata": {},
   "source": [
    "Working Directory: A directory in which Python can operate and perform tasks. \n",
    "\n",
    "Benefits: Organises the process of import/exporting files. "
   ]
  },
  {
   "cell_type": "markdown",
   "metadata": {},
   "source": [
    "Check the Currrent Working Directory "
   ]
  },
  {
   "cell_type": "code",
   "execution_count": null,
   "metadata": {},
   "outputs": [],
   "source": [
    "import os\n",
    "cwd = os.getcwd()\n",
    "print(cwd) "
   ]
  },
  {
   "cell_type": "markdown",
   "metadata": {},
   "source": [
    "### Changing the Working Directory"
   ]
  },
  {
   "cell_type": "markdown",
   "metadata": {},
   "source": [
    "Option 1: File --> Open Folder --> Select Desired Folder"
   ]
  },
  {
   "cell_type": "markdown",
   "metadata": {},
   "source": [
    "Option 2: Use os.chdir() to change the current working directory.\n",
    "\n",
    "    - Windows user must make sure '\\' is swtiched to '/'"
   ]
  },
  {
   "cell_type": "code",
   "execution_count": 2,
   "metadata": {},
   "outputs": [],
   "source": [
    "import os \n",
    "os.chdir(<enter directory>)"
   ]
  },
  {
   "cell_type": "markdown",
   "metadata": {},
   "source": [
    "## Creating Variables\n",
    "\n",
    "Variables are containers for storing data, which can be edited. \n",
    "\n",
    "Variables are case sensitive and must be recalled, exactly as defined.\n"
   ]
  },
  {
   "cell_type": "code",
   "execution_count": 3,
   "metadata": {},
   "outputs": [
    {
     "name": "stdout",
     "output_type": "stream",
     "text": [
      "30 4\n"
     ]
    }
   ],
   "source": [
    "a = 30 \n",
    "b = 4\n",
    "\n",
    "print(a, b)"
   ]
  },
  {
   "cell_type": "markdown",
   "metadata": {},
   "source": [
    "To view created variables in VS Code, the 'Data Wrangler' Extension is required. \n",
    "\n",
    "Installation: Extensions (Ctrl + Shift + X) --> Search 'Data Wrangler' --> Install.\n",
    "\n",
    "To view Variables: Click Variables --> JUPYTER \n",
    "    Four Information Criteria about variables are revealed: Name, Type, Size, and Value. "
   ]
  },
  {
   "cell_type": "markdown",
   "metadata": {},
   "source": [
    "#### Basic Operation with Variables"
   ]
  },
  {
   "cell_type": "markdown",
   "metadata": {},
   "source": [
    "Operation: Addition"
   ]
  },
  {
   "cell_type": "code",
   "execution_count": 4,
   "metadata": {},
   "outputs": [
    {
     "name": "stdout",
     "output_type": "stream",
     "text": [
      "34\n"
     ]
    }
   ],
   "source": [
    "Add = a + b\n",
    "print(Add)"
   ]
  },
  {
   "cell_type": "markdown",
   "metadata": {},
   "source": [
    "Operation: Subtraction"
   ]
  },
  {
   "cell_type": "code",
   "execution_count": 5,
   "metadata": {},
   "outputs": [
    {
     "name": "stdout",
     "output_type": "stream",
     "text": [
      "26\n"
     ]
    }
   ],
   "source": [
    "Subtract = a - b\n",
    "print(Subtract)"
   ]
  },
  {
   "cell_type": "markdown",
   "metadata": {},
   "source": [
    "Operation: Multiplication"
   ]
  },
  {
   "cell_type": "code",
   "execution_count": 6,
   "metadata": {},
   "outputs": [
    {
     "name": "stdout",
     "output_type": "stream",
     "text": [
      "120\n"
     ]
    }
   ],
   "source": [
    "Multiply = a*b\n",
    "print(Multiply)"
   ]
  },
  {
   "cell_type": "markdown",
   "metadata": {},
   "source": [
    "Operation: Division"
   ]
  },
  {
   "cell_type": "code",
   "execution_count": 7,
   "metadata": {},
   "outputs": [
    {
     "name": "stdout",
     "output_type": "stream",
     "text": [
      "7.5\n"
     ]
    }
   ],
   "source": [
    "Divide = a/b\n",
    "print(Divide)"
   ]
  },
  {
   "cell_type": "markdown",
   "metadata": {},
   "source": [
    "Operation: Floor Division (Quotient)"
   ]
  },
  {
   "cell_type": "code",
   "execution_count": 8,
   "metadata": {},
   "outputs": [
    {
     "name": "stdout",
     "output_type": "stream",
     "text": [
      "7\n"
     ]
    }
   ],
   "source": [
    "Floor_Div = a//b\n",
    "print(Floor_Div)"
   ]
  },
  {
   "cell_type": "markdown",
   "metadata": {},
   "source": [
    "Operation: Modulo (Remainder)"
   ]
  },
  {
   "cell_type": "code",
   "execution_count": 9,
   "metadata": {},
   "outputs": [
    {
     "name": "stdout",
     "output_type": "stream",
     "text": [
      "2\n"
     ]
    }
   ],
   "source": [
    "Modulo = a % b\n",
    "print(Modulo)"
   ]
  },
  {
   "cell_type": "markdown",
   "metadata": {},
   "source": [
    "Operation: Power"
   ]
  },
  {
   "cell_type": "code",
   "execution_count": 10,
   "metadata": {},
   "outputs": [
    {
     "name": "stdout",
     "output_type": "stream",
     "text": [
      "810000\n"
     ]
    }
   ],
   "source": [
    "Power = a**b\n",
    "print(Power)"
   ]
  },
  {
   "cell_type": "markdown",
   "metadata": {},
   "source": [
    "## Data Types\n",
    "Focus on Numeric, String and Collection Types\n",
    "\n",
    "To Check data type, use type() or refer to information provide for the stored variable. "
   ]
  },
  {
   "cell_type": "markdown",
   "metadata": {},
   "source": [
    "### 1. Numeric"
   ]
  },
  {
   "cell_type": "code",
   "execution_count": 11,
   "metadata": {},
   "outputs": [
    {
     "name": "stdout",
     "output_type": "stream",
     "text": [
      "<class 'float'>\n"
     ]
    }
   ],
   "source": [
    "Float = 30.34623523\n",
    "print(type(Float))"
   ]
  },
  {
   "cell_type": "code",
   "execution_count": 12,
   "metadata": {},
   "outputs": [
    {
     "name": "stdout",
     "output_type": "stream",
     "text": [
      "<class 'int'>\n"
     ]
    }
   ],
   "source": [
    "int_variable = 30 \n",
    "print(type(int_variable))"
   ]
  },
  {
   "cell_type": "markdown",
   "metadata": {},
   "source": [
    "Convert Float to Interger"
   ]
  },
  {
   "cell_type": "code",
   "execution_count": 13,
   "metadata": {},
   "outputs": [
    {
     "name": "stdout",
     "output_type": "stream",
     "text": [
      "30 <class 'int'> <class 'float'>\n"
     ]
    }
   ],
   "source": [
    "int_var = int(Float)\n",
    "print(int_var, type(int_var), type(Float))"
   ]
  },
  {
   "cell_type": "markdown",
   "metadata": {},
   "source": [
    "### 2. Strings\n",
    "Strings are a sequence of characters enclosed in single ('') or double (\"\") quotes. \n",
    "\n",
    "Preferable to use \"\" as ' might be included within the string. "
   ]
  },
  {
   "cell_type": "code",
   "execution_count": 14,
   "metadata": {},
   "outputs": [
    {
     "name": "stdout",
     "output_type": "stream",
     "text": [
      "Hello <class 'str'>\n"
     ]
    }
   ],
   "source": [
    "String_1 = 'Hello'\n",
    "print(String_1, type(String_1))"
   ]
  },
  {
   "cell_type": "markdown",
   "metadata": {},
   "source": [
    "Combining Two Strings"
   ]
  },
  {
   "cell_type": "code",
   "execution_count": 15,
   "metadata": {},
   "outputs": [
    {
     "name": "stdout",
     "output_type": "stream",
     "text": [
      "HelloStudents <class 'str'>\n"
     ]
    }
   ],
   "source": [
    "String_2 = 'Students'\n",
    "String = String_1 + String_2\n",
    "print(String, type(String))"
   ]
  },
  {
   "cell_type": "markdown",
   "metadata": {},
   "source": [
    "Adding space (' ') between the two strings."
   ]
  },
  {
   "cell_type": "code",
   "execution_count": 16,
   "metadata": {},
   "outputs": [
    {
     "name": "stdout",
     "output_type": "stream",
     "text": [
      "Hello Students <class 'str'>\n"
     ]
    }
   ],
   "source": [
    "String = String_1 + ' ' + String_2\n",
    "print(String, type(String))"
   ]
  },
  {
   "cell_type": "markdown",
   "metadata": {},
   "source": [
    "Using Formatted Strings to Enhance the printing of output.\n",
    "\n",
    "\n",
    "Formatted Strings: Strings that are pre-fixed with f.\n",
    "   \n",
    "    - Extremely useful during labelling of plots.\n",
    "\n",
    "{} - replacement fields.\n",
    "Used to insert variable output within the string. "
   ]
  },
  {
   "cell_type": "code",
   "execution_count": 17,
   "metadata": {},
   "outputs": [
    {
     "name": "stdout",
     "output_type": "stream",
     "text": [
      "String = Hello Students, Data Type = <class 'str'>\n"
     ]
    }
   ],
   "source": [
    "print(f'String = {String}, Data Type = {type(String)}')"
   ]
  },
  {
   "cell_type": "markdown",
   "metadata": {},
   "source": [
    "#### Slicing and Indexing Strings\n",
    "\n",
    "Python Index: Begins at 0, and ends with 1 less than the total components.\n",
    "\n",
    "[ ] - For indexing and Slicing."
   ]
  },
  {
   "cell_type": "code",
   "execution_count": 18,
   "metadata": {},
   "outputs": [
    {
     "name": "stdout",
     "output_type": "stream",
     "text": [
      "String = Hello Students, Data Type = <class 'str'>\n"
     ]
    }
   ],
   "source": [
    "String = 'Hello Students'\n",
    "print(f'String = {String}, Data Type = {type(String)}')"
   ]
  },
  {
   "cell_type": "markdown",
   "metadata": {},
   "source": [
    "Return the Entire String (same as calling the variable).\n",
    "\n",
    ": - Indicates range, which starts from 0. \n",
    "<blank> after : - Indicates towards returnings all components after index 0. "
   ]
  },
  {
   "cell_type": "code",
   "execution_count": 19,
   "metadata": {},
   "outputs": [
    {
     "data": {
      "text/plain": [
       "'Hello Students'"
      ]
     },
     "execution_count": 19,
     "metadata": {},
     "output_type": "execute_result"
    }
   ],
   "source": [
    "String[0:] "
   ]
  },
  {
   "cell_type": "markdown",
   "metadata": {},
   "source": [
    "Return all Characters between index 0 and 3. \n",
    "\n",
    "Characters at index = 0, 1, 2 will be returned.\n",
    "\n",
    "    - Python does not return character corresponding to the upper bound of the range index."
   ]
  },
  {
   "cell_type": "code",
   "execution_count": 20,
   "metadata": {},
   "outputs": [
    {
     "data": {
      "text/plain": [
       "'Hel'"
      ]
     },
     "execution_count": 20,
     "metadata": {},
     "output_type": "execute_result"
    }
   ],
   "source": [
    "String[0:3]"
   ]
  },
  {
   "cell_type": "markdown",
   "metadata": {},
   "source": [
    "Return all Characters between 0:10, at intervals of 2."
   ]
  },
  {
   "cell_type": "code",
   "execution_count": 21,
   "metadata": {},
   "outputs": [
    {
     "data": {
      "text/plain": [
       "'HloSu'"
      ]
     },
     "execution_count": 21,
     "metadata": {},
     "output_type": "execute_result"
    }
   ],
   "source": [
    "String[0:10:2]"
   ]
  },
  {
   "cell_type": "markdown",
   "metadata": {},
   "source": [
    "Return all characters, except for the last 3."
   ]
  },
  {
   "cell_type": "code",
   "execution_count": 22,
   "metadata": {},
   "outputs": [
    {
     "data": {
      "text/plain": [
       "'Hello Stude'"
      ]
     },
     "execution_count": 22,
     "metadata": {},
     "output_type": "execute_result"
    }
   ],
   "source": [
    "String[0:-3]"
   ]
  },
  {
   "cell_type": "markdown",
   "metadata": {},
   "source": [
    "Return the last 3 characters"
   ]
  },
  {
   "cell_type": "code",
   "execution_count": 23,
   "metadata": {},
   "outputs": [
    {
     "data": {
      "text/plain": [
       "'nts'"
      ]
     },
     "execution_count": 23,
     "metadata": {},
     "output_type": "execute_result"
    }
   ],
   "source": [
    "String[-3:]"
   ]
  },
  {
   "cell_type": "markdown",
   "metadata": {},
   "source": [
    "Adding Sliced Strings"
   ]
  },
  {
   "cell_type": "code",
   "execution_count": 24,
   "metadata": {},
   "outputs": [
    {
     "name": "stdout",
     "output_type": "stream",
     "text": [
      " String_A = nts, String_B = Hello Stude, String_B + String_A = Hello Students\n"
     ]
    }
   ],
   "source": [
    "String_A = String[-3:]\n",
    "String_B = String[:-3]\n",
    "String_BA = String_B + String_A\n",
    "\n",
    "print(f' String_A = {String_A}, String_B = {String_B}, String_B + String_A = {String_BA}')"
   ]
  },
  {
   "cell_type": "markdown",
   "metadata": {},
   "source": [
    "### 3. Collective Data-Types (Range, List and Dictionaries)"
   ]
  },
  {
   "cell_type": "markdown",
   "metadata": {},
   "source": [
    "#### 3.1 Range"
   ]
  },
  {
   "cell_type": "markdown",
   "metadata": {},
   "source": [
    "range() function returns a sequence of integers within a pre-defined range.\n",
    "   \n",
    "By default the output starts at 0 (unless a starting point is provided).\n",
    "    \n",
    "Python does not return the upper bound of the range.   \n",
    "\n",
    "Output Type = 'range' (numbers within the range are not revealed).\n",
    "\n",
    "When starting point/intervals are provided, output type changes to a tuple.\n",
    "\n",
    "Tuple: A unmutuable sequence of values. "
   ]
  },
  {
   "cell_type": "code",
   "execution_count": 25,
   "metadata": {},
   "outputs": [
    {
     "name": "stdout",
     "output_type": "stream",
     "text": [
      "range(0, 5) <class 'range'>\n"
     ]
    }
   ],
   "source": [
    "Range = range(5) \n",
    "print(Range, type(Range)) "
   ]
  },
  {
   "cell_type": "markdown",
   "metadata": {},
   "source": [
    "Range Function with a defined starting point."
   ]
  },
  {
   "cell_type": "code",
   "execution_count": 26,
   "metadata": {},
   "outputs": [
    {
     "name": "stdout",
     "output_type": "stream",
     "text": [
      "(-2, 5) <class 'tuple'>\n"
     ]
    }
   ],
   "source": [
    "Range  = (-2, 5)\n",
    "print(Range, type(Range))"
   ]
  },
  {
   "cell_type": "markdown",
   "metadata": {},
   "source": [
    "Range Function with an interval. "
   ]
  },
  {
   "cell_type": "code",
   "execution_count": 27,
   "metadata": {},
   "outputs": [
    {
     "name": "stdout",
     "output_type": "stream",
     "text": [
      "range(-1, 50, 2) <class 'tuple'>\n"
     ]
    }
   ],
   "source": [
    "Range_1 = range(-1, 50, 2)\n",
    "print(Range_1, type(Range))"
   ]
  },
  {
   "cell_type": "markdown",
   "metadata": {},
   "source": [
    "#### 3.2 Lists\n",
    "\n",
    "Lists are a changable, ordered sequence of elements, defined within [ ]. \n",
    "\n",
    "Each Element is called an item, and can be of any data-type.\n",
    "\n",
    "Advantages:\n",
    "\n",
    "    1. Mutability and Dynamic Sizing.\n",
    "    2. Built-in Methods for operations such as adding or removing items.\n",
    "    3. Storage of different data-types.\n",
    "\n",
    "Disadvantages:\n",
    "\n",
    "    1. Inefficient for numerical operations: Requires loops.\n",
    "        - Vectorisation is not supported. \n",
    "    2. Excessive Computuational time required, especially for larger lists."
   ]
  },
  {
   "cell_type": "markdown",
   "metadata": {},
   "source": [
    "Creating a List comprising of 3 items of different data-types: int, string and range. "
   ]
  },
  {
   "cell_type": "code",
   "execution_count": 28,
   "metadata": {},
   "outputs": [
    {
     "name": "stdout",
     "output_type": "stream",
     "text": [
      "[1, 'string', range(0, 2)] <class 'list'>\n"
     ]
    }
   ],
   "source": [
    "List = [1, \"string\", range(2)]\n",
    "print(List, type(List))"
   ]
  },
  {
   "cell_type": "markdown",
   "metadata": {},
   "source": [
    "##### Indexing and Slicing"
   ]
  },
  {
   "cell_type": "code",
   "execution_count": 29,
   "metadata": {},
   "outputs": [
    {
     "name": "stdout",
     "output_type": "stream",
     "text": [
      "1 <class 'int'> string <class 'str'> range(0, 2) <class 'range'>\n"
     ]
    }
   ],
   "source": [
    "Item_0 = List[0]\n",
    "Item_1 = List[1]\n",
    "Item_2 = List[2]\n",
    "print(Item_0, type(Item_0), Item_1, type(Item_1), Item_2, type(Item_2))"
   ]
  },
  {
   "cell_type": "markdown",
   "metadata": {},
   "source": [
    "Slicing String: Indexed at 1, within the list."
   ]
  },
  {
   "cell_type": "code",
   "execution_count": 30,
   "metadata": {},
   "outputs": [
    {
     "name": "stdout",
     "output_type": "stream",
     "text": [
      "tri tri\n"
     ]
    }
   ],
   "source": [
    "Item_1_Slice = Item_1[1:4]\n",
    "List_Item_1_Slice = List[1][1:4]\n",
    "print(Item_1_Slice, List_Item_1_Slice)"
   ]
  },
  {
   "cell_type": "markdown",
   "metadata": {},
   "source": [
    "List of List"
   ]
  },
  {
   "cell_type": "code",
   "execution_count": 31,
   "metadata": {},
   "outputs": [
    {
     "name": "stdout",
     "output_type": "stream",
     "text": [
      "[[1, 'string', range(0, 2)], [12, 'List', range(0, 10)]]\n"
     ]
    }
   ],
   "source": [
    "List_1 = [12, \"List\", range(10)]\n",
    "List_List = [List, List_1]\n",
    "print(List_List)"
   ]
  },
  {
   "cell_type": "markdown",
   "metadata": {},
   "source": [
    "Slicing a List of Lists: Obtain 'i' from Item 1, within Item 0 of List_List."
   ]
  },
  {
   "cell_type": "code",
   "execution_count": 32,
   "metadata": {},
   "outputs": [
    {
     "name": "stdout",
     "output_type": "stream",
     "text": [
      "i\n"
     ]
    }
   ],
   "source": [
    "Slice = List_List[0][1][3]\n",
    "print(Slice)"
   ]
  },
  {
   "cell_type": "markdown",
   "metadata": {},
   "source": [
    "Adding to the List: Updating List_List"
   ]
  },
  {
   "cell_type": "code",
   "execution_count": 33,
   "metadata": {},
   "outputs": [
    {
     "name": "stdout",
     "output_type": "stream",
     "text": [
      "[[1, 'string', range(0, 2)], [12, 'List', range(0, 10)], 121]\n"
     ]
    }
   ],
   "source": [
    "List_2 = [121]\n",
    "List_List = List_List + List_2\n",
    "print(List_List)"
   ]
  },
  {
   "cell_type": "markdown",
   "metadata": {},
   "source": [
    "#### 3.3 Dictionaries \n",
    "\n",
    "Dictornaries store data in key:value pairs.\n",
    "\n",
    "    - Created using { } and require the definitin of key:value pairs, with each separated by ','.\n",
    "    \n",
    "        - Keys can be assigned values corresponding to any data-type.\n",
    "\n",
    "    - Size = number of key:value pairs.\n",
    "\n",
    "\n",
    "Advantages:\n",
    "1. Ordered and Mutable: Easy Data Organization and Retrieval.\n",
    "2. No Duplicate Keys\n",
    "3. Flexible and Dynamic: Storage of Different Data-Types as elements.\n",
    "\n",
    "Disadvantages:\n",
    "1. Slow Iterative Performances. \n",
    "2. No Duplicate Keys"
   ]
  },
  {
   "cell_type": "markdown",
   "metadata": {},
   "source": [
    "Creating a dictionary with the following keys: Key_1, Key_2, Key_3."
   ]
  },
  {
   "cell_type": "code",
   "execution_count": 34,
   "metadata": {},
   "outputs": [
    {
     "name": "stdout",
     "output_type": "stream",
     "text": [
      "{'Key_1': 'Hello', 'Key_2': [1, 2], 'Key_3': 3} <class 'dict'>\n"
     ]
    }
   ],
   "source": [
    "Dict_1 = {'Key_1': 'Hello', 'Key_2': [1, 2], 'Key_3':3}\n",
    "print(Dict_1, type(Dict_1))"
   ]
  },
  {
   "cell_type": "markdown",
   "metadata": {},
   "source": [
    "Calling Value assigned to a Key (use ' ')."
   ]
  },
  {
   "cell_type": "code",
   "execution_count": 35,
   "metadata": {},
   "outputs": [
    {
     "name": "stdout",
     "output_type": "stream",
     "text": [
      "Hello <class 'str'>\n"
     ]
    }
   ],
   "source": [
    "Key_1 = Dict_1['Key_1']\n",
    "print(Key_1, type(Key_1))"
   ]
  },
  {
   "cell_type": "code",
   "execution_count": 36,
   "metadata": {},
   "outputs": [
    {
     "name": "stdout",
     "output_type": "stream",
     "text": [
      "l\n"
     ]
    }
   ],
   "source": [
    "Key_1_Slice = Key_1[3]\n",
    "print(Key_1_Slice)"
   ]
  },
  {
   "cell_type": "markdown",
   "metadata": {},
   "source": [
    "Different Keys can have the same value, however, the same key cannot have two values, it will be overwritten."
   ]
  },
  {
   "cell_type": "code",
   "execution_count": 37,
   "metadata": {},
   "outputs": [
    {
     "name": "stdout",
     "output_type": "stream",
     "text": [
      "{'Key 1': 'Hello', 'Key 2': [1, 2], 'Key 3': 3, 'Key 4': 3}\n"
     ]
    }
   ],
   "source": [
    "Dict_2 = {'Key 1': 'Hello', 'Key 2': [1, 2], 'Key 3':3, 'Key 4': 3} \n",
    "print(Dict_2)"
   ]
  },
  {
   "cell_type": "code",
   "execution_count": 38,
   "metadata": {},
   "outputs": [
    {
     "name": "stdout",
     "output_type": "stream",
     "text": [
      "{'Key 1': 'Hello', 'Key 2': [1, 2], 'Key 3': 4}\n"
     ]
    }
   ],
   "source": [
    "Dict_2 = {'Key 1': 'Hello', 'Key 2': [1, 2], 'Key 3':3, 'Key 3': 4} \n",
    "print(Dict_2) #Value assigned to Key 3 gets overwritten to 4. "
   ]
  }
 ],
 "metadata": {
  "kernelspec": {
   "display_name": "base",
   "language": "python",
   "name": "python3"
  },
  "language_info": {
   "codemirror_mode": {
    "name": "ipython",
    "version": 3
   },
   "file_extension": ".py",
   "mimetype": "text/x-python",
   "name": "python",
   "nbconvert_exporter": "python",
   "pygments_lexer": "ipython3",
   "version": "3.9.12"
  }
 },
 "nbformat": 4,
 "nbformat_minor": 2
}
