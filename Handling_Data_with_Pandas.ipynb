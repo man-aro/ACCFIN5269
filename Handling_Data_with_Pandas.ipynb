{
 "cells": [
  {
   "cell_type": "markdown",
   "metadata": {},
   "source": [
    "# Handling Data with Pandas"
   ]
  },
  {
   "cell_type": "code",
   "execution_count": 2,
   "metadata": {},
   "outputs": [],
   "source": [
    "#pip install pandas\n",
    "import pandas as pd"
   ]
  },
  {
   "cell_type": "markdown",
   "metadata": {},
   "source": [
    "Creating a dataset and converting a dictionary to a dataframe: Term 1 and 2 GPAs of students across different subjects."
   ]
  },
  {
   "cell_type": "code",
   "execution_count": 3,
   "metadata": {},
   "outputs": [
    {
     "name": "stdout",
     "output_type": "stream",
     "text": [
      "   Student  Subject  GPA_1  GPA_2\n",
      "0        1        1    2.8    3.4\n",
      "1        1        2    2.9    3.8\n",
      "2        1        3    2.2    2.9\n",
      "3        2        1    2.0    3.2\n",
      "4        2        2    1.8    2.8\n",
      "5        2        3    1.9    2.4\n",
      "6        3        1    2.2    3.3\n",
      "7        3        2    2.3    3.4\n",
      "8        3        3    2.1    2.9\n"
     ]
    }
   ],
   "source": [
    "Dict = {'Student': [1, 1, 1, 2, 2, 2, 3, 3, 3],\n",
    "        'Subject': [1, 2, 3, 1, 2, 3, 1, 2, 3],\n",
    "        'GPA_1': [2.8, 2.9, 2.2, 2, 1.8, 1.9, 2.2, 2.3, 2.1],\n",
    "        'GPA_2': [3.4, 3.8, 2.9, 3.2, 2.8, 2.4, 3.3, 3.4, 2.9]}\n",
    "dataframe = pd.DataFrame(Dict) #Created a DataFrame: Columns: Student, Subject, GPA_1, GPA_2 (key names get defined as column names).\n",
    "print(dataframe)"
   ]
  },
  {
   "cell_type": "markdown",
   "metadata": {},
   "source": [
    "## Importing Data from FRED"
   ]
  },
  {
   "cell_type": "code",
   "execution_count": 4,
   "metadata": {},
   "outputs": [],
   "source": [
    "#pip install fredapi\n",
    "from fredapi import Fred"
   ]
  },
  {
   "cell_type": "markdown",
   "metadata": {},
   "source": [
    "Obtain Fred API from: https://fred.stlouisfed.org/docs/api/api_key.html by signing in with a valid email ID."
   ]
  },
  {
   "cell_type": "code",
   "execution_count": 5,
   "metadata": {},
   "outputs": [],
   "source": [
    "fred = Fred(api_key = 'f25d56f177657f66b90466014d2a469a')\n",
    "#Connect to the FRED database. "
   ]
  },
  {
   "cell_type": "markdown",
   "metadata": {},
   "source": [
    "Downloading S&P 500 data. "
   ]
  },
  {
   "cell_type": "code",
   "execution_count": 6,
   "metadata": {},
   "outputs": [
    {
     "name": "stdout",
     "output_type": "stream",
     "text": [
      "2023-11-01    4237.86\n",
      "2023-11-02    4317.78\n",
      "2023-11-03    4358.34\n",
      "2023-11-06    4365.98\n",
      "2023-11-07    4378.38\n",
      "2023-11-08    4382.78\n",
      "2023-11-09    4347.35\n",
      "2023-11-10    4415.24\n",
      "2023-11-13    4411.55\n",
      "2023-11-14    4495.70\n",
      "2023-11-15    4502.88\n",
      "2023-11-16    4508.24\n",
      "2023-11-17    4514.02\n",
      "2023-11-20    4547.38\n",
      "2023-11-21    4538.19\n",
      "2023-11-22    4556.62\n",
      "2023-11-23        NaN\n",
      "2023-11-24    4559.34\n",
      "2023-11-27    4550.43\n",
      "2023-11-28    4554.89\n",
      "2023-11-29    4550.58\n",
      "2023-11-30    4567.80\n",
      "2023-12-01    4594.63\n",
      "2023-12-04    4569.78\n",
      "2023-12-05    4567.18\n",
      "2023-12-06    4549.34\n",
      "2023-12-07    4585.59\n",
      "2023-12-08    4604.37\n",
      "2023-12-11    4622.44\n",
      "2023-12-12    4643.70\n",
      "2023-12-13    4707.09\n",
      "2023-12-14    4719.55\n",
      "2023-12-15    4719.19\n",
      "2023-12-18    4740.56\n",
      "2023-12-19    4768.37\n",
      "2023-12-20    4698.35\n",
      "2023-12-21    4746.75\n",
      "2023-12-22    4754.63\n",
      "2023-12-25        NaN\n",
      "2023-12-26    4774.75\n",
      "2023-12-27    4781.58\n",
      "2023-12-28    4783.35\n",
      "2023-12-29    4769.83\n",
      "dtype: float64\n"
     ]
    }
   ],
   "source": [
    "SP_500_data = fred.get_series('SP500', '11/1/2023', '12/31/2023')\n",
    "print(SP_500_data)\n",
    "#Data is downloaded as a series. "
   ]
  },
  {
   "cell_type": "markdown",
   "metadata": {},
   "source": [
    "Saving Data as a DataFrame and Calculating Returns. "
   ]
  },
  {
   "cell_type": "code",
   "execution_count": 7,
   "metadata": {},
   "outputs": [
    {
     "name": "stdout",
     "output_type": "stream",
     "text": [
      "         Date  Price_SP500  Returns_SP500\n",
      "1  2023-11-02      4317.78       0.018859\n",
      "2  2023-11-03      4358.34       0.009394\n",
      "3  2023-11-06      4365.98       0.001753\n",
      "4  2023-11-07      4378.38       0.002840\n",
      "5  2023-11-08      4382.78       0.001005\n",
      "6  2023-11-09      4347.35      -0.008084\n",
      "7  2023-11-10      4415.24       0.015616\n",
      "8  2023-11-13      4411.55      -0.000836\n",
      "9  2023-11-14      4495.70       0.019075\n",
      "10 2023-11-15      4502.88       0.001597\n",
      "11 2023-11-16      4508.24       0.001190\n",
      "12 2023-11-17      4514.02       0.001282\n",
      "13 2023-11-20      4547.38       0.007390\n",
      "14 2023-11-21      4538.19      -0.002021\n",
      "15 2023-11-22      4556.62       0.004061\n",
      "17 2023-11-24      4559.34       0.000597\n",
      "18 2023-11-27      4550.43      -0.001954\n",
      "19 2023-11-28      4554.89       0.000980\n",
      "20 2023-11-29      4550.58      -0.000946\n",
      "21 2023-11-30      4567.80       0.003784\n",
      "22 2023-12-01      4594.63       0.005874\n",
      "23 2023-12-04      4569.78      -0.005408\n",
      "24 2023-12-05      4567.18      -0.000569\n",
      "25 2023-12-06      4549.34      -0.003906\n",
      "26 2023-12-07      4585.59       0.007968\n",
      "27 2023-12-08      4604.37       0.004095\n",
      "28 2023-12-11      4622.44       0.003925\n",
      "29 2023-12-12      4643.70       0.004599\n",
      "30 2023-12-13      4707.09       0.013651\n",
      "31 2023-12-14      4719.55       0.002647\n",
      "32 2023-12-15      4719.19      -0.000076\n",
      "33 2023-12-18      4740.56       0.004528\n",
      "34 2023-12-19      4768.37       0.005866\n",
      "35 2023-12-20      4698.35      -0.014684\n",
      "36 2023-12-21      4746.75       0.010301\n",
      "37 2023-12-22      4754.63       0.001660\n",
      "39 2023-12-26      4774.75       0.004232\n",
      "40 2023-12-27      4781.58       0.001430\n",
      "41 2023-12-28      4783.35       0.000370\n",
      "42 2023-12-29      4769.83      -0.002826\n"
     ]
    }
   ],
   "source": [
    "import pandas as pd\n",
    "SP_500_df = pd.DataFrame(SP_500_data)\n",
    "\n",
    "SP_500_df.reset_index(inplace = True) #Date is the index, and we need to reset it.\n",
    "SP_500_df.rename(columns = {'index':'Date', 0:'Price_SP500'}, inplace = True) #renaming columns\n",
    "SP_500_df.dropna(inplace = True) #dropping NaNs\n",
    "SP_500_df['Returns_SP500'] = SP_500_df['Price_SP500'].pct_change() #Calculating daily returns using pct_change()\n",
    "SP_500_df.dropna(inplace  = True)\n",
    "print(SP_500_df)"
   ]
  },
  {
   "cell_type": "markdown",
   "metadata": {},
   "source": [
    "Creating an Indicator Variable: 'SP_500_Return_Indicator'\n",
    "\n",
    "        -if returns > 0, value = 1; if returns <= 0, value = 0.\n",
    "        -use np.select()\n",
    "        "
   ]
  },
  {
   "cell_type": "code",
   "execution_count": 8,
   "metadata": {},
   "outputs": [
    {
     "name": "stdout",
     "output_type": "stream",
     "text": [
      "         Date  Price_SP500  Returns_SP500  SP_500_Return_Indicator\n",
      "1  2023-11-02      4317.78       0.018859                        1\n",
      "2  2023-11-03      4358.34       0.009394                        1\n",
      "3  2023-11-06      4365.98       0.001753                        1\n",
      "4  2023-11-07      4378.38       0.002840                        1\n",
      "5  2023-11-08      4382.78       0.001005                        1\n",
      "6  2023-11-09      4347.35      -0.008084                        0\n",
      "7  2023-11-10      4415.24       0.015616                        1\n",
      "8  2023-11-13      4411.55      -0.000836                        0\n",
      "9  2023-11-14      4495.70       0.019075                        1\n",
      "10 2023-11-15      4502.88       0.001597                        1\n",
      "11 2023-11-16      4508.24       0.001190                        1\n",
      "12 2023-11-17      4514.02       0.001282                        1\n",
      "13 2023-11-20      4547.38       0.007390                        1\n",
      "14 2023-11-21      4538.19      -0.002021                        0\n",
      "15 2023-11-22      4556.62       0.004061                        1\n",
      "17 2023-11-24      4559.34       0.000597                        1\n",
      "18 2023-11-27      4550.43      -0.001954                        0\n",
      "19 2023-11-28      4554.89       0.000980                        1\n",
      "20 2023-11-29      4550.58      -0.000946                        0\n",
      "21 2023-11-30      4567.80       0.003784                        1\n",
      "22 2023-12-01      4594.63       0.005874                        1\n",
      "23 2023-12-04      4569.78      -0.005408                        0\n",
      "24 2023-12-05      4567.18      -0.000569                        0\n",
      "25 2023-12-06      4549.34      -0.003906                        0\n",
      "26 2023-12-07      4585.59       0.007968                        1\n",
      "27 2023-12-08      4604.37       0.004095                        1\n",
      "28 2023-12-11      4622.44       0.003925                        1\n",
      "29 2023-12-12      4643.70       0.004599                        1\n",
      "30 2023-12-13      4707.09       0.013651                        1\n",
      "31 2023-12-14      4719.55       0.002647                        1\n",
      "32 2023-12-15      4719.19      -0.000076                        0\n",
      "33 2023-12-18      4740.56       0.004528                        1\n",
      "34 2023-12-19      4768.37       0.005866                        1\n",
      "35 2023-12-20      4698.35      -0.014684                        0\n",
      "36 2023-12-21      4746.75       0.010301                        1\n",
      "37 2023-12-22      4754.63       0.001660                        1\n",
      "39 2023-12-26      4774.75       0.004232                        1\n",
      "40 2023-12-27      4781.58       0.001430                        1\n",
      "41 2023-12-28      4783.35       0.000370                        1\n",
      "42 2023-12-29      4769.83      -0.002826                        0\n"
     ]
    }
   ],
   "source": [
    "import numpy as np\n",
    "condition = [(SP_500_df['Returns_SP500'] > 0), (SP_500_df['Returns_SP500'] <= 0)] #Define Condition\n",
    "value = [1, 0] #Define Values for each condition\n",
    "SP_500_df['SP_500_Return_Indicator'] = np.select(condition, value) \n",
    "print(SP_500_df)"
   ]
  },
  {
   "cell_type": "markdown",
   "metadata": {},
   "source": [
    "Summary Statistics"
   ]
  },
  {
   "cell_type": "code",
   "execution_count": 9,
   "metadata": {},
   "outputs": [
    {
     "name": "stdout",
     "output_type": "stream",
     "text": [
      "                      Date  Price_SP500  Returns_SP500  \\\n",
      "count                   40    40.000000      40.000000   \n",
      "mean   2023-11-30 16:12:00  4578.112500       0.002981   \n",
      "min    2023-11-02 00:00:00  4317.780000      -0.014684   \n",
      "25%    2023-11-15 18:00:00  4506.900000      -0.000199   \n",
      "50%    2023-11-30 12:00:00  4563.260000       0.001707   \n",
      "75%    2023-12-14 06:00:00  4710.115000       0.004916   \n",
      "max    2023-12-29 00:00:00  4783.350000       0.019075   \n",
      "std                    NaN   137.191246       0.006548   \n",
      "\n",
      "       SP_500_Return_Indicator  \n",
      "count                40.000000  \n",
      "mean                  0.725000  \n",
      "min                   0.000000  \n",
      "25%                   0.000000  \n",
      "50%                   1.000000  \n",
      "75%                   1.000000  \n",
      "max                   1.000000  \n",
      "std                   0.452203  \n"
     ]
    }
   ],
   "source": [
    "SP_Summary_Statistics = SP_500_df.describe()\n",
    "print(SP_Summary_Statistics)"
   ]
  },
  {
   "cell_type": "markdown",
   "metadata": {},
   "source": [
    "Save (Export) file: Unless a path is not specified, the file will be saved in the directory.\n",
    "\n",
    "    - Defining a Path: Open the desired folder, and define the path using os.chdir()."
   ]
  },
  {
   "cell_type": "code",
   "execution_count": 10,
   "metadata": {},
   "outputs": [],
   "source": [
    "#pip install openpyxl\n",
    "#for importing/exporting .xlsx files. "
   ]
  },
  {
   "cell_type": "code",
   "execution_count": 11,
   "metadata": {},
   "outputs": [],
   "source": [
    "SP_500_df.to_csv('SP_500_Returns.csv') #saves as .csv file.\n",
    "SP_500_df.to_excel('SP_500_Returns.xlsx') #saves as .xlsx file (need to install openpyxl) \n",
    "SP_500_df.to_csv('SP_500_Returns.txt', sep = '\\t') #saves as txt file\n",
    "#sep = '\\t' ensures that the file is tab separated (can identify rows and columns)"
   ]
  },
  {
   "cell_type": "markdown",
   "metadata": {},
   "source": [
    "Importing Files: Need to define the path/directory."
   ]
  },
  {
   "cell_type": "code",
   "execution_count": 12,
   "metadata": {},
   "outputs": [],
   "source": [
    "import pandas as pd\n",
    "SP_500_csv = pd.read_csv('SP_500_Returns.csv')\n",
    "SP_500_xlsx = pd.read_excel('SP_500_Returns.xlsx')\n",
    "SP_500_txt  = pd.read_csv('SP_500_Returns.txt', sep = '\\t')  #sep = '\\t'nmake sure it is mentioned when calling the file."
   ]
  },
  {
   "cell_type": "markdown",
   "metadata": {},
   "source": [
    "Dropping the unnamed index column."
   ]
  },
  {
   "cell_type": "code",
   "execution_count": 13,
   "metadata": {},
   "outputs": [],
   "source": [
    "SP_500_df = SP_500_csv\n",
    "SP_500_df.drop('Unnamed: 0', axis = 1, inplace = True)\n",
    "SP_500_df['Date'] = pd.to_datetime(SP_500_df['Date'])"
   ]
  },
  {
   "cell_type": "markdown",
   "metadata": {},
   "source": [
    "Summary Statistcs: Grouped by returns being positive/negative."
   ]
  },
  {
   "cell_type": "code",
   "execution_count": 14,
   "metadata": {},
   "outputs": [
    {
     "name": "stdout",
     "output_type": "stream",
     "text": [
      "                                                 Date  Price_SP500  \\\n",
      "SP_500_Return_Indicator                                              \n",
      "0                       2023-12-02 13:05:27.272727296  4570.160909   \n",
      "1                       2023-11-29 23:10:20.689655296  4581.128621   \n",
      "\n",
      "                         Returns_SP500  \n",
      "SP_500_Return_Indicator                 \n",
      "0                            -0.003756  \n",
      "1                             0.005537                                                 Date  Price_SP500  Returns_SP500\n",
      "SP_500_Return_Indicator                                                       \n",
      "0                       15 days 03:24:07.582906925   124.719438       0.004338\n",
      "1                       18 days 00:32:47.228697069   143.617471       0.005331                               Date  Price_SP500  Returns_SP500\n",
      "SP_500_Return_Indicator                                       \n",
      "0                       2023-11-09      4347.35      -0.014684\n",
      "1                       2023-11-02      4317.78       0.000370                               Date  Price_SP500  Returns_SP500\n",
      "SP_500_Return_Indicator                                       \n",
      "0                       2023-12-29      4769.83      -0.000076\n",
      "1                       2023-12-28      4783.35       0.019075                          Date  Price_SP500  Returns_SP500\n",
      "SP_500_Return_Indicator                                  \n",
      "0                          11           11             11\n",
      "1                          29           29             29\n"
     ]
    }
   ],
   "source": [
    "SP_500_Returns = SP_500_df.groupby(['SP_500_Return_Indicator'])\n",
    "Group_Mean = SP_500_Returns.mean() \n",
    "Group_SD = SP_500_Returns.std()\n",
    "Group_min = SP_500_Returns.min()\n",
    "Group_max = SP_500_Returns.max()\n",
    "Group_Count = SP_500_Returns.count()\n",
    "Group_Describe = SP_500_Returns.describe() #Can get messy!\n",
    "\n",
    "\n",
    "print(Group_Mean, Group_SD, Group_min, Group_max, Group_Count)"
   ]
  },
  {
   "cell_type": "markdown",
   "metadata": {},
   "source": [
    "## Importing Data from YahooFinance\n",
    "more information: https://pypi.org/project/yfinance/\n"
   ]
  },
  {
   "cell_type": "code",
   "execution_count": 15,
   "metadata": {},
   "outputs": [],
   "source": [
    "#pip install yfinance \n",
    "#for installing yfinance API\n",
    "\n",
    "import pandas as pd  \n",
    "import yfinance as yf"
   ]
  },
  {
   "cell_type": "markdown",
   "metadata": {},
   "source": [
    "Download Microsoft (MSFT) Stock Market data from Nov 1, and Dec 31, 2023.  "
   ]
  },
  {
   "cell_type": "code",
   "execution_count": 16,
   "metadata": {},
   "outputs": [],
   "source": [
    "msft = yf.Ticker(\"MSFT\") #get and save ticker for stock\n",
    "MSFT_df = msft.history(start = '2023-11-01', end = '2023-12-31') #download historic data\n",
    "#By default saved as a DataFrame, with information on Open, High, Low and Close prices, dividends and Stock Spilts."
   ]
  },
  {
   "cell_type": "markdown",
   "metadata": {},
   "source": [
    "Dropping all Columns barring 'Date' and 'Close'"
   ]
  },
  {
   "cell_type": "code",
   "execution_count": 17,
   "metadata": {},
   "outputs": [
    {
     "data": {
      "text/plain": [
       "Index(['Open', 'High', 'Low', 'Close', 'Volume', 'Dividends', 'Stock Splits'], dtype='object')"
      ]
     },
     "execution_count": 17,
     "metadata": {},
     "output_type": "execute_result"
    }
   ],
   "source": [
    "MSFT_df.columns #to view columns"
   ]
  },
  {
   "cell_type": "code",
   "execution_count": 18,
   "metadata": {},
   "outputs": [
    {
     "name": "stdout",
     "output_type": "stream",
     "text": [
      "                        Date  Price_MSFT  Returns_MSFT\n",
      "1  2023-11-02 00:00:00-04:00  345.724976      0.006502\n",
      "2  2023-11-03 00:00:00-04:00  350.171570      0.012862\n",
      "3  2023-11-06 00:00:00-05:00  353.873810      0.010573\n",
      "4  2023-11-07 00:00:00-05:00  357.844025      0.011219\n",
      "5  2023-11-08 00:00:00-05:00  360.494110      0.007406\n",
      "6  2023-11-09 00:00:00-05:00  358.002808     -0.006911\n",
      "7  2023-11-10 00:00:00-05:00  366.915924      0.024897\n",
      "8  2023-11-13 00:00:00-05:00  363.948181     -0.008088\n",
      "9  2023-11-14 00:00:00-05:00  367.511383      0.009790\n",
      "10 2023-11-15 00:00:00-05:00  367.660645      0.000406\n",
      "11 2023-11-16 00:00:00-05:00  374.125336      0.017583\n",
      "12 2023-11-17 00:00:00-05:00  367.839661     -0.016801\n",
      "13 2023-11-20 00:00:00-05:00  375.388397      0.020522\n",
      "14 2023-11-21 00:00:00-05:00  371.042145     -0.011578\n",
      "15 2023-11-22 00:00:00-05:00  375.796173      0.012813\n",
      "16 2023-11-24 00:00:00-05:00  375.378418     -0.001112\n",
      "17 2023-11-27 00:00:00-05:00  376.552002      0.003126\n",
      "18 2023-11-28 00:00:00-05:00  380.619843      0.010803\n",
      "19 2023-11-29 00:00:00-05:00  376.790710     -0.010060\n",
      "20 2023-11-30 00:00:00-05:00  376.850403      0.000158\n",
      "21 2023-12-01 00:00:00-05:00  372.474304     -0.011612\n",
      "22 2023-12-04 00:00:00-05:00  367.133514     -0.014339\n",
      "23 2023-12-05 00:00:00-05:00  370.495117      0.009156\n",
      "24 2023-12-06 00:00:00-05:00  366.795349     -0.009986\n",
      "25 2023-12-07 00:00:00-05:00  368.933655      0.005830\n",
      "26 2023-12-08 00:00:00-05:00  372.195862      0.008842\n",
      "27 2023-12-11 00:00:00-05:00  369.281738     -0.007830\n",
      "28 2023-12-12 00:00:00-05:00  372.345032      0.008295\n",
      "29 2023-12-13 00:00:00-05:00  372.335052     -0.000027\n",
      "30 2023-12-14 00:00:00-05:00  363.940918     -0.022545\n",
      "31 2023-12-15 00:00:00-05:00  368.714874      0.013117\n",
      "32 2023-12-18 00:00:00-05:00  370.624390      0.005179\n",
      "33 2023-12-19 00:00:00-05:00  371.231140      0.001637\n",
      "34 2023-12-20 00:00:00-05:00  368.605438     -0.007073\n",
      "35 2023-12-21 00:00:00-05:00  371.509613      0.007879\n",
      "36 2023-12-22 00:00:00-05:00  372.543915      0.002784\n",
      "37 2023-12-26 00:00:00-05:00  372.623505      0.000214\n",
      "38 2023-12-27 00:00:00-05:00  372.036713     -0.001575\n",
      "39 2023-12-28 00:00:00-05:00  373.240112      0.003235\n",
      "40 2023-12-29 00:00:00-05:00  373.995972      0.002025\n"
     ]
    }
   ],
   "source": [
    "MSFT_df.drop(['Open', 'High', 'Low', 'Volume', 'Dividends', 'Stock Splits'], axis = 1, inplace = True)\n",
    "MSFT_df.reset_index(inplace = True)\n",
    "MSFT_df.rename(columns = {'index':'Date', 'Close':'Price_MSFT'}, inplace = True)\n",
    "MSFT_df.dropna(inplace = True)\n",
    "MSFT_df['Returns_MSFT'] = MSFT_df['Price_MSFT'].pct_change() #Compute Returns (create Returns column).\n",
    "MSFT_df.dropna(inplace  = True)\n",
    "print(MSFT_df)"
   ]
  },
  {
   "cell_type": "markdown",
   "metadata": {},
   "source": [
    "Getting rid of time, as it is not supported in excel.\n",
    "\n",
    "    - Convert date to string, and back. "
   ]
  },
  {
   "cell_type": "code",
   "execution_count": 19,
   "metadata": {},
   "outputs": [
    {
     "name": "stdout",
     "output_type": "stream",
     "text": [
      "         Date  Price_MSFT  Returns_MSFT\n",
      "1  2023-11-02  345.724976      0.006502\n",
      "2  2023-11-03  350.171570      0.012862\n",
      "3  2023-11-06  353.873810      0.010573\n",
      "4  2023-11-07  357.844025      0.011219\n",
      "5  2023-11-08  360.494110      0.007406\n",
      "6  2023-11-09  358.002808     -0.006911\n",
      "7  2023-11-10  366.915924      0.024897\n",
      "8  2023-11-13  363.948181     -0.008088\n",
      "9  2023-11-14  367.511383      0.009790\n",
      "10 2023-11-15  367.660645      0.000406\n",
      "11 2023-11-16  374.125336      0.017583\n",
      "12 2023-11-17  367.839661     -0.016801\n",
      "13 2023-11-20  375.388397      0.020522\n",
      "14 2023-11-21  371.042145     -0.011578\n",
      "15 2023-11-22  375.796173      0.012813\n",
      "16 2023-11-24  375.378418     -0.001112\n",
      "17 2023-11-27  376.552002      0.003126\n",
      "18 2023-11-28  380.619843      0.010803\n",
      "19 2023-11-29  376.790710     -0.010060\n",
      "20 2023-11-30  376.850403      0.000158\n",
      "21 2023-12-01  372.474304     -0.011612\n",
      "22 2023-12-04  367.133514     -0.014339\n",
      "23 2023-12-05  370.495117      0.009156\n",
      "24 2023-12-06  366.795349     -0.009986\n",
      "25 2023-12-07  368.933655      0.005830\n",
      "26 2023-12-08  372.195862      0.008842\n",
      "27 2023-12-11  369.281738     -0.007830\n",
      "28 2023-12-12  372.345032      0.008295\n",
      "29 2023-12-13  372.335052     -0.000027\n",
      "30 2023-12-14  363.940918     -0.022545\n",
      "31 2023-12-15  368.714874      0.013117\n",
      "32 2023-12-18  370.624390      0.005179\n",
      "33 2023-12-19  371.231140      0.001637\n",
      "34 2023-12-20  368.605438     -0.007073\n",
      "35 2023-12-21  371.509613      0.007879\n",
      "36 2023-12-22  372.543915      0.002784\n",
      "37 2023-12-26  372.623505      0.000214\n",
      "38 2023-12-27  372.036713     -0.001575\n",
      "39 2023-12-28  373.240112      0.003235\n",
      "40 2023-12-29  373.995972      0.002025\n"
     ]
    }
   ],
   "source": [
    "MSFT_df['Date'] = MSFT_df['Date'].dt.strftime('%Y/%m/%d')\n",
    "MSFT_df['Date'] = pd.to_datetime(MSFT_df['Date']) \n",
    "print(MSFT_df)"
   ]
  },
  {
   "cell_type": "markdown",
   "metadata": {},
   "source": [
    "Creating the Returns Indicator Variable"
   ]
  },
  {
   "cell_type": "code",
   "execution_count": 20,
   "metadata": {},
   "outputs": [
    {
     "name": "stdout",
     "output_type": "stream",
     "text": [
      "         Date  Price_MSFT  Returns_MSFT  MSFT_Return_Indicator\n",
      "1  2023-11-02  345.724976      0.006502                      1\n",
      "2  2023-11-03  350.171570      0.012862                      1\n",
      "3  2023-11-06  353.873810      0.010573                      1\n",
      "4  2023-11-07  357.844025      0.011219                      1\n",
      "5  2023-11-08  360.494110      0.007406                      1\n",
      "6  2023-11-09  358.002808     -0.006911                      0\n",
      "7  2023-11-10  366.915924      0.024897                      1\n",
      "8  2023-11-13  363.948181     -0.008088                      0\n",
      "9  2023-11-14  367.511383      0.009790                      1\n",
      "10 2023-11-15  367.660645      0.000406                      1\n",
      "11 2023-11-16  374.125336      0.017583                      1\n",
      "12 2023-11-17  367.839661     -0.016801                      0\n",
      "13 2023-11-20  375.388397      0.020522                      1\n",
      "14 2023-11-21  371.042145     -0.011578                      0\n",
      "15 2023-11-22  375.796173      0.012813                      1\n",
      "16 2023-11-24  375.378418     -0.001112                      0\n",
      "17 2023-11-27  376.552002      0.003126                      1\n",
      "18 2023-11-28  380.619843      0.010803                      1\n",
      "19 2023-11-29  376.790710     -0.010060                      0\n",
      "20 2023-11-30  376.850403      0.000158                      1\n",
      "21 2023-12-01  372.474304     -0.011612                      0\n",
      "22 2023-12-04  367.133514     -0.014339                      0\n",
      "23 2023-12-05  370.495117      0.009156                      1\n",
      "24 2023-12-06  366.795349     -0.009986                      0\n",
      "25 2023-12-07  368.933655      0.005830                      1\n",
      "26 2023-12-08  372.195862      0.008842                      1\n",
      "27 2023-12-11  369.281738     -0.007830                      0\n",
      "28 2023-12-12  372.345032      0.008295                      1\n",
      "29 2023-12-13  372.335052     -0.000027                      0\n",
      "30 2023-12-14  363.940918     -0.022545                      0\n",
      "31 2023-12-15  368.714874      0.013117                      1\n",
      "32 2023-12-18  370.624390      0.005179                      1\n",
      "33 2023-12-19  371.231140      0.001637                      1\n",
      "34 2023-12-20  368.605438     -0.007073                      0\n",
      "35 2023-12-21  371.509613      0.007879                      1\n",
      "36 2023-12-22  372.543915      0.002784                      1\n",
      "37 2023-12-26  372.623505      0.000214                      1\n",
      "38 2023-12-27  372.036713     -0.001575                      0\n",
      "39 2023-12-28  373.240112      0.003235                      1\n",
      "40 2023-12-29  373.995972      0.002025                      1\n"
     ]
    }
   ],
   "source": [
    "import numpy as np\n",
    "condition = [(MSFT_df['Returns_MSFT'] > 0), (MSFT_df['Returns_MSFT'] <= 0)]\n",
    "value = [1, 0]  #if returns > 0, value = 1; if returns <= 0, value = 0\n",
    "#use np.select to assign value based on condition.\n",
    "MSFT_df['MSFT_Return_Indicator'] = np.select(condition, value)\n",
    "print(MSFT_df)"
   ]
  },
  {
   "cell_type": "markdown",
   "metadata": {},
   "source": [
    "Summary Statistics "
   ]
  },
  {
   "cell_type": "code",
   "execution_count": 21,
   "metadata": {},
   "outputs": [],
   "source": [
    "MSFT_Summary_Statistics = MSFT_df.describe()"
   ]
  },
  {
   "cell_type": "markdown",
   "metadata": {},
   "source": [
    "Save (Export) Files."
   ]
  },
  {
   "cell_type": "code",
   "execution_count": 22,
   "metadata": {},
   "outputs": [],
   "source": [
    "MSFT_df.to_csv('MSFT_Returns.csv') #saves as .csv file.\n",
    "MSFT_df.to_excel('MSFT_Returns.xlsx') #saves as .xslx file\n",
    "MSFT_df.to_csv('MSFT_Returns.txt', sep = '\\t') #saves as txt file"
   ]
  },
  {
   "cell_type": "markdown",
   "metadata": {},
   "source": [
    "## Merging\n",
    "for more information on merging: https://pandas.pydata.org/docs/reference/api/pandas.DataFrame.merge.html"
   ]
  },
  {
   "cell_type": "markdown",
   "metadata": {},
   "source": [
    "Merge MSFT and SP500 files on Date."
   ]
  },
  {
   "cell_type": "code",
   "execution_count": 23,
   "metadata": {},
   "outputs": [],
   "source": [
    "import pandas as pd \n",
    "msft = pd.read_csv('MSFT_Returns.csv')\n",
    "sp_500 = pd.read_csv('SP_500_Returns.csv')"
   ]
  },
  {
   "cell_type": "markdown",
   "metadata": {},
   "source": [
    "Merging on Date: first convert string to date"
   ]
  },
  {
   "cell_type": "code",
   "execution_count": 24,
   "metadata": {},
   "outputs": [],
   "source": [
    "msft['Date'] = pd.to_datetime(msft['Date'])\n",
    "sp_500 ['Date'] = pd.to_datetime(sp_500 ['Date'])"
   ]
  },
  {
   "cell_type": "markdown",
   "metadata": {},
   "source": [
    "Define dataframe on the right, and left, and then the column to merge on."
   ]
  },
  {
   "cell_type": "code",
   "execution_count": 25,
   "metadata": {},
   "outputs": [],
   "source": [
    "Dataset = pd.merge(left = msft, right = sp_500, left_on = 'Date', right_on = 'Date')\n",
    "Dataset_Summary = Dataset.describe()\n"
   ]
  },
  {
   "cell_type": "markdown",
   "metadata": {},
   "source": [
    "Drop Unnamed: 0 columns that have the same name in the two separate dataframes.\n",
    "\n",
    "Upon merging these columns are labelled as Unnamed: 0_x, and Unnamed: 0_y"
   ]
  },
  {
   "cell_type": "code",
   "execution_count": 26,
   "metadata": {},
   "outputs": [
    {
     "name": "stdout",
     "output_type": "stream",
     "text": [
      "         Date  Price_MSFT  Returns_MSFT  MSFT_Return_Indicator  Price_SP500  \\\n",
      "0  2023-11-02  345.724976      0.006502                      1      4317.78   \n",
      "1  2023-11-03  350.171570      0.012862                      1      4358.34   \n",
      "2  2023-11-06  353.873810      0.010573                      1      4365.98   \n",
      "3  2023-11-07  357.844025      0.011219                      1      4378.38   \n",
      "4  2023-11-08  360.494110      0.007406                      1      4382.78   \n",
      "5  2023-11-09  358.002808     -0.006911                      0      4347.35   \n",
      "6  2023-11-10  366.915924      0.024897                      1      4415.24   \n",
      "7  2023-11-13  363.948181     -0.008088                      0      4411.55   \n",
      "8  2023-11-14  367.511383      0.009790                      1      4495.70   \n",
      "9  2023-11-15  367.660645      0.000406                      1      4502.88   \n",
      "10 2023-11-16  374.125336      0.017583                      1      4508.24   \n",
      "11 2023-11-17  367.839661     -0.016801                      0      4514.02   \n",
      "12 2023-11-20  375.388397      0.020522                      1      4547.38   \n",
      "13 2023-11-21  371.042145     -0.011578                      0      4538.19   \n",
      "14 2023-11-22  375.796173      0.012813                      1      4556.62   \n",
      "15 2023-11-24  375.378418     -0.001112                      0      4559.34   \n",
      "16 2023-11-27  376.552002      0.003126                      1      4550.43   \n",
      "17 2023-11-28  380.619843      0.010803                      1      4554.89   \n",
      "18 2023-11-29  376.790710     -0.010060                      0      4550.58   \n",
      "19 2023-11-30  376.850403      0.000158                      1      4567.80   \n",
      "20 2023-12-01  372.474304     -0.011612                      0      4594.63   \n",
      "21 2023-12-04  367.133514     -0.014339                      0      4569.78   \n",
      "22 2023-12-05  370.495117      0.009156                      1      4567.18   \n",
      "23 2023-12-06  366.795349     -0.009986                      0      4549.34   \n",
      "24 2023-12-07  368.933655      0.005830                      1      4585.59   \n",
      "25 2023-12-08  372.195862      0.008842                      1      4604.37   \n",
      "26 2023-12-11  369.281738     -0.007830                      0      4622.44   \n",
      "27 2023-12-12  372.345032      0.008295                      1      4643.70   \n",
      "28 2023-12-13  372.335052     -0.000027                      0      4707.09   \n",
      "29 2023-12-14  363.940918     -0.022545                      0      4719.55   \n",
      "30 2023-12-15  368.714874      0.013117                      1      4719.19   \n",
      "31 2023-12-18  370.624390      0.005179                      1      4740.56   \n",
      "32 2023-12-19  371.231140      0.001637                      1      4768.37   \n",
      "33 2023-12-20  368.605438     -0.007073                      0      4698.35   \n",
      "34 2023-12-21  371.509613      0.007879                      1      4746.75   \n",
      "35 2023-12-22  372.543915      0.002784                      1      4754.63   \n",
      "36 2023-12-26  372.623505      0.000214                      1      4774.75   \n",
      "37 2023-12-27  372.036713     -0.001575                      0      4781.58   \n",
      "38 2023-12-28  373.240112      0.003235                      1      4783.35   \n",
      "39 2023-12-29  373.995972      0.002025                      1      4769.83   \n",
      "\n",
      "    Returns_SP500  SP_500_Return_Indicator  \n",
      "0        0.018859                        1  \n",
      "1        0.009394                        1  \n",
      "2        0.001753                        1  \n",
      "3        0.002840                        1  \n",
      "4        0.001005                        1  \n",
      "5       -0.008084                        0  \n",
      "6        0.015616                        1  \n",
      "7       -0.000836                        0  \n",
      "8        0.019075                        1  \n",
      "9        0.001597                        1  \n",
      "10       0.001190                        1  \n",
      "11       0.001282                        1  \n",
      "12       0.007390                        1  \n",
      "13      -0.002021                        0  \n",
      "14       0.004061                        1  \n",
      "15       0.000597                        1  \n",
      "16      -0.001954                        0  \n",
      "17       0.000980                        1  \n",
      "18      -0.000946                        0  \n",
      "19       0.003784                        1  \n",
      "20       0.005874                        1  \n",
      "21      -0.005408                        0  \n",
      "22      -0.000569                        0  \n",
      "23      -0.003906                        0  \n",
      "24       0.007968                        1  \n",
      "25       0.004095                        1  \n",
      "26       0.003925                        1  \n",
      "27       0.004599                        1  \n",
      "28       0.013651                        1  \n",
      "29       0.002647                        1  \n",
      "30      -0.000076                        0  \n",
      "31       0.004528                        1  \n",
      "32       0.005866                        1  \n",
      "33      -0.014684                        0  \n",
      "34       0.010301                        1  \n",
      "35       0.001660                        1  \n",
      "36       0.004232                        1  \n",
      "37       0.001430                        1  \n",
      "38       0.000370                        1  \n",
      "39      -0.002826                        0  \n"
     ]
    }
   ],
   "source": [
    "Dataset.drop(['Unnamed: 0_x', 'Unnamed: 0_y'], axis = 1, inplace = True)\n",
    "print(Dataset)"
   ]
  },
  {
   "cell_type": "markdown",
   "metadata": {},
   "source": []
  }
 ],
 "metadata": {
  "kernelspec": {
   "display_name": "Python 3",
   "language": "python",
   "name": "python3"
  },
  "language_info": {
   "codemirror_mode": {
    "name": "ipython",
    "version": 3
   },
   "file_extension": ".py",
   "mimetype": "text/x-python",
   "name": "python",
   "nbconvert_exporter": "python",
   "pygments_lexer": "ipython3",
   "version": "3.9.19"
  }
 },
 "nbformat": 4,
 "nbformat_minor": 2
}
