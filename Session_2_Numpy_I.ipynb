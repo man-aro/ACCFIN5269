{
 "cells": [
  {
   "cell_type": "markdown",
   "metadata": {},
   "source": [
    "# Session 2: Introduction to NumPy \n",
    "\n",
    "NumPy is a Numerical Computing Python Library used for conducting mathematical operations of large, multidimensional arrays. \n",
    "\n",
    "    - Arrays and Operations are vectorised: No explicit Looping or Indexing is required, making it readable and similar to standard mathematical notation. \n",
    "\n",
    "    - Arrays can be created in any dimensioms: Allows for mathematical, and statistical operations, that are frequently used in scientific computing. \n",
    "\n",
    "    - Operations are performed much faster and more efficiently using NumPy: Less Memory and Storage space is occupied. \n",
    "\n",
    "NumPy is designed to work seamlessly with other scientific computing libraries in Python,  allowing for a wider range of advanced computations and data visualisation.\n",
    "\n",
    "Applications of NumPy: Data Analysis and Manipulation, Scientific Computing and Simulations, Machine Learning and AI, etc.\n",
    "\n",
    "For more information: https://numpy.org/doc/stable/user/index.html\t\n",
    "\n",
    "\n"
   ]
  },
  {
   "cell_type": "code",
   "execution_count": 44,
   "metadata": {},
   "outputs": [],
   "source": [
    "\n",
    "#pip install numpy\n",
    "import numpy as np\n"
   ]
  },
  {
   "cell_type": "markdown",
   "metadata": {},
   "source": [
    "## Basic Array Operations\n",
    "\n",
    "Array is a contrainer that stores more than one item.\n",
    "\n",
    "    - Very similar to Lists, however, arrays behave very differently when part of NumPy. \n",
    "\n",
    "\n",
    "Vectorised Operations are supported by NumPy arrays, but NOT by Lists. \n",
    "\n",
    "    - NumPy arrays makes calculations highly efficient.\n",
    "\n",
    "\n",
    "Arrays are not mutuable, and can only comprise of ONE type of element.\n",
    "\n",
    "Suggestion: Use lists for mutable operations, convert them to NumPy arrays for calculations. \n"
   ]
  },
  {
   "cell_type": "markdown",
   "metadata": {},
   "source": [
    "### Creating Arrays\n"
   ]
  },
  {
   "cell_type": "markdown",
   "metadata": {},
   "source": [
    "#### Step I: Create a List\n",
    "In the example below, two lists (A and B) are created."
   ]
  },
  {
   "cell_type": "code",
   "execution_count": 45,
   "metadata": {},
   "outputs": [
    {
     "name": "stdout",
     "output_type": "stream",
     "text": [
      "A = [4, 5, 6]\n",
      "B = [1, 2, 3]\n"
     ]
    }
   ],
   "source": [
    "A = [4, 5, 6]\n",
    "B = [1, 2, 3]\n",
    "print(f'A = {A}\\nB = {B}')"
   ]
  },
  {
   "cell_type": "markdown",
   "metadata": {},
   "source": [
    "Lists do not support vectorised operations, placing the '+' operator would join them, rather than conducting an additive operation."
   ]
  },
  {
   "cell_type": "code",
   "execution_count": 46,
   "metadata": {},
   "outputs": [
    {
     "name": "stdout",
     "output_type": "stream",
     "text": [
      "C = [4, 5, 6, 1, 2, 3]\n"
     ]
    }
   ],
   "source": [
    "C = A + B\n",
    "print (f'C = {C}')"
   ]
  },
  {
   "cell_type": "markdown",
   "metadata": {},
   "source": [
    "#### Step 2: Call the 'array' function from Numpy using np.array()"
   ]
  },
  {
   "cell_type": "markdown",
   "metadata": {},
   "source": [
    "Convert both Lists into Arrays"
   ]
  },
  {
   "cell_type": "code",
   "execution_count": 47,
   "metadata": {},
   "outputs": [
    {
     "name": "stdout",
     "output_type": "stream",
     "text": [
      "Array_A = [4 5 6]\n",
      "Array_B = [1 2 3]\n"
     ]
    }
   ],
   "source": [
    "Array_A = np.array(A)  #call 'array' function from numpy \n",
    "Array_B = np.array(B)\n",
    "\n",
    "print(f'Array_A = {Array_A}\\nArray_B = {Array_B}')"
   ]
  },
  {
   "cell_type": "markdown",
   "metadata": {},
   "source": [
    "#### Step 3: Conduct Operation of Choice"
   ]
  },
  {
   "cell_type": "markdown",
   "metadata": {},
   "source": [
    "Operation: Addition "
   ]
  },
  {
   "cell_type": "code",
   "execution_count": 48,
   "metadata": {},
   "outputs": [
    {
     "name": "stdout",
     "output_type": "stream",
     "text": [
      "Add = [5 7 9]\n"
     ]
    }
   ],
   "source": [
    "Add = Array_A + Array_B\n",
    "\n",
    "print(f'Add = {Add}')"
   ]
  },
  {
   "cell_type": "markdown",
   "metadata": {},
   "source": [
    "Operation: Subtraction"
   ]
  },
  {
   "cell_type": "code",
   "execution_count": 49,
   "metadata": {},
   "outputs": [
    {
     "name": "stdout",
     "output_type": "stream",
     "text": [
      "Subtract = [3 3 3]\n"
     ]
    }
   ],
   "source": [
    "Subtract = Array_A - Array_B \n",
    "print(f'Subtract = {Subtract}')"
   ]
  },
  {
   "cell_type": "markdown",
   "metadata": {},
   "source": [
    "Operation: Multiplication"
   ]
  },
  {
   "cell_type": "code",
   "execution_count": 50,
   "metadata": {},
   "outputs": [
    {
     "name": "stdout",
     "output_type": "stream",
     "text": [
      "Multiply = [ 4 10 18]\n"
     ]
    }
   ],
   "source": [
    "Multiply = Array_A * Array_B\n",
    "print(f'Multiply = {Multiply}')"
   ]
  },
  {
   "cell_type": "markdown",
   "metadata": {},
   "source": [
    "Operation: Division"
   ]
  },
  {
   "cell_type": "code",
   "execution_count": 51,
   "metadata": {},
   "outputs": [
    {
     "name": "stdout",
     "output_type": "stream",
     "text": [
      "Divide = [4.  2.5 2. ]\n"
     ]
    }
   ],
   "source": [
    "Divide = Array_A / Array_B\n",
    "print(f'Divide = {Divide}')"
   ]
  },
  {
   "cell_type": "markdown",
   "metadata": {},
   "source": [
    "Operation: Floor Division"
   ]
  },
  {
   "cell_type": "code",
   "execution_count": 52,
   "metadata": {},
   "outputs": [
    {
     "name": "stdout",
     "output_type": "stream",
     "text": [
      "Floor_Div = [4 2 2]\n"
     ]
    }
   ],
   "source": [
    "Floor_Div = Array_A//Array_B\n",
    "print(f'Floor_Div = {Floor_Div}')"
   ]
  },
  {
   "cell_type": "markdown",
   "metadata": {},
   "source": [
    "Operation: Modulo"
   ]
  },
  {
   "cell_type": "code",
   "execution_count": 53,
   "metadata": {},
   "outputs": [
    {
     "name": "stdout",
     "output_type": "stream",
     "text": [
      "Modulo = [0 1 0]\n"
     ]
    }
   ],
   "source": [
    "Modulo = Array_A % Array_B\n",
    "print(f'Modulo = {Modulo}')"
   ]
  },
  {
   "cell_type": "markdown",
   "metadata": {},
   "source": [
    "Operation: Power"
   ]
  },
  {
   "cell_type": "code",
   "execution_count": 54,
   "metadata": {},
   "outputs": [
    {
     "name": "stdout",
     "output_type": "stream",
     "text": [
      "Power = [  4  25 216]\n"
     ]
    }
   ],
   "source": [
    "Power = Array_A ** Array_B\n",
    "print(f'Power = {Power}')"
   ]
  },
  {
   "cell_type": "markdown",
   "metadata": {},
   "source": [
    "## Indexing and Slicing Arrays"
   ]
  },
  {
   "cell_type": "markdown",
   "metadata": {},
   "source": [
    "Create an Array using the arange function: Similar to  np.array(range(n)), for n being an integer."
   ]
  },
  {
   "cell_type": "code",
   "execution_count": 55,
   "metadata": {},
   "outputs": [
    {
     "name": "stdout",
     "output_type": "stream",
     "text": [
      "Array = [ 0  1  2  3  4  5  6  7  8  9 10 11 12 13 14 15 16 17 18 19 20 21 22 23\n",
      " 24 25 26 27 28 29 30 31 32 33 34 35 36 37 38 39 40 41 42 43 44 45 46 47\n",
      " 48 49 50 51 52 53 54 55 56 57 58 59 60 61 62 63 64 65 66 67 68 69 70 71\n",
      " 72 73 74 75 76 77 78 79 80 81 82 83 84 85 86 87 88 89 90 91 92 93 94 95\n",
      " 96 97 98 99]\n"
     ]
    }
   ],
   "source": [
    "Array = np.arange(0,100)\n",
    "print(f'Array = {Array}')"
   ]
  },
  {
   "cell_type": "markdown",
   "metadata": {},
   "source": [
    "Elements corresponding with index 1 to 10."
   ]
  },
  {
   "cell_type": "code",
   "execution_count": 56,
   "metadata": {},
   "outputs": [
    {
     "data": {
      "text/plain": [
       "array([1, 2, 3, 4, 5, 6, 7, 8, 9])"
      ]
     },
     "execution_count": 56,
     "metadata": {},
     "output_type": "execute_result"
    }
   ],
   "source": [
    "Array[1:10]"
   ]
  },
  {
   "cell_type": "markdown",
   "metadata": {},
   "source": [
    "Elements corresponding with index 1 to 50, at increments of 10."
   ]
  },
  {
   "cell_type": "code",
   "execution_count": 57,
   "metadata": {},
   "outputs": [
    {
     "data": {
      "text/plain": [
       "array([ 1, 11, 21, 31, 41])"
      ]
     },
     "execution_count": 57,
     "metadata": {},
     "output_type": "execute_result"
    }
   ],
   "source": [
    "Array[1:50:10]"
   ]
  },
  {
   "cell_type": "markdown",
   "metadata": {},
   "source": [
    "Addition (or any basic operation) with Slicing: Make sure both arrays have the same dimensions (check using .shape)."
   ]
  },
  {
   "cell_type": "code",
   "execution_count": 58,
   "metadata": {},
   "outputs": [
    {
     "name": "stdout",
     "output_type": "stream",
     "text": [
      " Array_1 = [ 1  2  3  4  5  6  7  8  9 10 11 12 13 14 15 16 17 18 19 20 21 22 23 24\n",
      " 25 26 27 28 29 30 31 32 33 34 35 36 37 38 39], Shape = (39,)\n",
      "\n",
      " Array_2  = [41 42 43 44 45 46 47 48 49 50 51 52 53 54 55 56 57 58 59 60 61 62 63 64\n",
      " 65 66 67 68 69 70 71 72 73 74 75 76 77 78 79], Shape = (39,)\n"
     ]
    }
   ],
   "source": [
    "Array_1 = Array[1:40]\n",
    "Array_2 = Array[41:80]\n",
    "\n",
    "Shape_1 = Array_1.shape\n",
    "Shape_2 = Array_2.shape\n",
    "\n",
    "print(f' Array_1 = {Array_1}, Shape = {Shape_1}\\n\\n Array_2  = {Array_2}, Shape = {Shape_2}')"
   ]
  },
  {
   "cell_type": "code",
   "execution_count": 59,
   "metadata": {},
   "outputs": [
    {
     "name": "stdout",
     "output_type": "stream",
     "text": [
      " Array_sum = [ 42  44  46  48  50  52  54  56  58  60  62  64  66  68  70  72  74  76\n",
      "  78  80  82  84  86  88  90  92  94  96  98 100 102 104 106 108 110 112\n",
      " 114 116 118], Shape = (39,)\n"
     ]
    }
   ],
   "source": [
    "Array_sum = Array_1 + Array_2\n",
    "Array_sum_shape = Array_sum.shape\n",
    "\n",
    "print(f' Array_sum = {Array_sum}, Shape = {Array_sum_shape}')"
   ]
  },
  {
   "cell_type": "markdown",
   "metadata": {},
   "source": [
    "## Creating a Matrix (2D-Array)"
   ]
  },
  {
   "cell_type": "markdown",
   "metadata": {},
   "source": [
    "#### Step I: Define each row as a List.\n",
    "The current example aims to create a 3 x 6 Matrix."
   ]
  },
  {
   "cell_type": "code",
   "execution_count": 60,
   "metadata": {},
   "outputs": [
    {
     "name": "stdout",
     "output_type": "stream",
     "text": [
      " row_1 = [2, 4, 5, 4, 3, 2]\n",
      " row_2 = [4, 6, 7, 8, 7, 3]\n",
      " row_3 = [8, 3, 2, 1, 4, 7]\n"
     ]
    }
   ],
   "source": [
    "row_1 = [2, 4, 5, 4, 3, 2]\n",
    "row_2 = [4, 6, 7, 8, 7, 3]\n",
    "row_3 = [8, 3, 2, 1, 4, 7 ]\n",
    "\n",
    "print(f' row_1 = {row_1}\\n row_2 = {row_2}\\n row_3 = {row_3}')"
   ]
  },
  {
   "cell_type": "markdown",
   "metadata": {},
   "source": [
    "#### Step 2: Create an Array"
   ]
  },
  {
   "cell_type": "code",
   "execution_count": 61,
   "metadata": {},
   "outputs": [
    {
     "name": "stdout",
     "output_type": "stream",
     "text": [
      " Matrix_1 = [[2 4 5 4 3 2]\n",
      " [4 6 7 8 7 3]\n",
      " [8 3 2 1 4 7]], Shape = (3, 6)\n"
     ]
    }
   ],
   "source": [
    "Matrix_1 = np.array([row_1, row_2, row_3])\n",
    "Matrix_1_Shape = Matrix_1.shape\n",
    "\n",
    "print(f' Matrix_1 = {Matrix_1}, Shape = {Matrix_1_Shape}')"
   ]
  },
  {
   "cell_type": "markdown",
   "metadata": {},
   "source": [
    "## Basic Matrix Operations"
   ]
  },
  {
   "cell_type": "markdown",
   "metadata": {},
   "source": [
    "Create another 3 x 6 matrix"
   ]
  },
  {
   "cell_type": "code",
   "execution_count": 62,
   "metadata": {},
   "outputs": [
    {
     "name": "stdout",
     "output_type": "stream",
     "text": [
      " Matrix_2 = [[1 2 4 2 5 8]\n",
      " [3 5 7 6 9 8]\n",
      " [4 6 7 7 8 7]], Shape = (3, 6)\n"
     ]
    }
   ],
   "source": [
    "Matrix_2 = np.array([[1, 2, 4, 2, 5, 8], [3, 5, 7, 6, 9, 8], [4, 6, 7, 7, 8,7]])\n",
    "Matrix_2_Shape = Matrix_2.shape \n",
    "\n",
    "\n",
    "print(f' Matrix_2 = {Matrix_2}, Shape = {Matrix_2_Shape}')"
   ]
  },
  {
   "cell_type": "markdown",
   "metadata": {},
   "source": [
    "Operation: Addition"
   ]
  },
  {
   "cell_type": "code",
   "execution_count": 63,
   "metadata": {},
   "outputs": [
    {
     "name": "stdout",
     "output_type": "stream",
     "text": [
      " Add_Matrix = [[ 3  6  9  6  8 10]\n",
      " [ 7 11 14 14 16 11]\n",
      " [12  9  9  8 12 14]]\n"
     ]
    }
   ],
   "source": [
    "Add_Matrix = Matrix_1 + Matrix_2\n",
    "print(f' Add_Matrix = {Add_Matrix}')"
   ]
  },
  {
   "cell_type": "markdown",
   "metadata": {},
   "source": [
    "Operation: Subtraction"
   ]
  },
  {
   "cell_type": "code",
   "execution_count": 64,
   "metadata": {},
   "outputs": [
    {
     "name": "stdout",
     "output_type": "stream",
     "text": [
      " Subtract_Matrix = [[ 1  2  1  2 -2 -6]\n",
      " [ 1  1  0  2 -2 -5]\n",
      " [ 4 -3 -5 -6 -4  0]]\n"
     ]
    }
   ],
   "source": [
    "Subtract_Matrix = Matrix_1 - Matrix_2\n",
    "print(f' Subtract_Matrix = {Subtract_Matrix}')"
   ]
  },
  {
   "cell_type": "markdown",
   "metadata": {},
   "source": [
    "Operation: Multiplication (Element by Element)"
   ]
  },
  {
   "cell_type": "code",
   "execution_count": 65,
   "metadata": {},
   "outputs": [
    {
     "name": "stdout",
     "output_type": "stream",
     "text": [
      " Multiplication_Matrix = [[ 2  8 20  8 15 16]\n",
      " [12 30 49 48 63 24]\n",
      " [32 18 14  7 32 49]]\n"
     ]
    }
   ],
   "source": [
    "Multiplication_Matrix = Matrix_1 * Matrix_2 \n",
    "print(f' Multiplication_Matrix = {Multiplication_Matrix}')"
   ]
  },
  {
   "cell_type": "markdown",
   "metadata": {},
   "source": [
    "Operation: Division (Elemnet by Element)"
   ]
  },
  {
   "cell_type": "code",
   "execution_count": 66,
   "metadata": {},
   "outputs": [
    {
     "name": "stdout",
     "output_type": "stream",
     "text": [
      " Division_Matrix = [[2.         2.         1.25       2.         0.6        0.25      ]\n",
      " [1.33333333 1.2        1.         1.33333333 0.77777778 0.375     ]\n",
      " [2.         0.5        0.28571429 0.14285714 0.5        1.        ]]\n"
     ]
    }
   ],
   "source": [
    "Division_Matrix = Matrix_1/Matrix_2\n",
    "print(f' Division_Matrix = {Division_Matrix}')"
   ]
  },
  {
   "cell_type": "markdown",
   "metadata": {},
   "source": [
    "Operation: Matrix Multiplication \n",
    "Ensure the dimensions of the matrices are valid for multiplication.\n",
    "\n",
    "Step I: Transpose Matrix_2 to Matrix_2T\n",
    "\n",
    "Step II: Matrix_1 (3 x 6) x Matrix_2T (6 x 3)"
   ]
  },
  {
   "cell_type": "code",
   "execution_count": 67,
   "metadata": {},
   "outputs": [
    {
     "name": "stdout",
     "output_type": "stream",
     "text": [
      "Matrix_2_Transpose = [[1 3 4]\n",
      " [2 5 6]\n",
      " [4 7 7]\n",
      " [2 6 7]\n",
      " [5 9 8]\n",
      " [8 8 7]]\n",
      "\n",
      "Mat_Mul = [[ 69 128 133]\n",
      " [119 226 234]\n",
      " [100 151 152]]\n"
     ]
    }
   ],
   "source": [
    "Matrix_2T = np.transpose(Matrix_2)\n",
    "Mat_Mul = np.matmul(Matrix_1, Matrix_2T)\n",
    "\n",
    "print(f'Matrix_2_Transpose = {Matrix_2T}\\n\\nMat_Mul = {Mat_Mul}')"
   ]
  },
  {
   "cell_type": "markdown",
   "metadata": {},
   "source": [
    "## Slicing and Indexing Matrices"
   ]
  },
  {
   "cell_type": "markdown",
   "metadata": {},
   "source": [
    "All elements in the first row (index = 0) of Matrix_1"
   ]
  },
  {
   "cell_type": "code",
   "execution_count": 68,
   "metadata": {},
   "outputs": [
    {
     "data": {
      "text/plain": [
       "array([2, 4, 5, 4, 3, 2])"
      ]
     },
     "execution_count": 68,
     "metadata": {},
     "output_type": "execute_result"
    }
   ],
   "source": [
    "Matrix_1[0]"
   ]
  },
  {
   "cell_type": "markdown",
   "metadata": {},
   "source": [
    "All elements in all the row, corresponding to the first column (index = 0)"
   ]
  },
  {
   "cell_type": "code",
   "execution_count": 69,
   "metadata": {},
   "outputs": [
    {
     "data": {
      "text/plain": [
       "array([2, 4, 8])"
      ]
     },
     "execution_count": 69,
     "metadata": {},
     "output_type": "execute_result"
    }
   ],
   "source": [
    "Matrix_1[:,0]"
   ]
  },
  {
   "cell_type": "markdown",
   "metadata": {},
   "source": [
    "Element corresponding to row index 1, and column index 2"
   ]
  },
  {
   "cell_type": "code",
   "execution_count": 70,
   "metadata": {},
   "outputs": [
    {
     "data": {
      "text/plain": [
       "7"
      ]
     },
     "execution_count": 70,
     "metadata": {},
     "output_type": "execute_result"
    }
   ],
   "source": [
    "Matrix_1[1, 2]"
   ]
  },
  {
   "cell_type": "markdown",
   "metadata": {},
   "source": [
    "Element indexed at 2, within row indexed at 1"
   ]
  },
  {
   "cell_type": "code",
   "execution_count": 71,
   "metadata": {},
   "outputs": [
    {
     "data": {
      "text/plain": [
       "7"
      ]
     },
     "execution_count": 71,
     "metadata": {},
     "output_type": "execute_result"
    }
   ],
   "source": [
    "Matrix_1[1][2]"
   ]
  },
  {
   "cell_type": "markdown",
   "metadata": {},
   "source": [
    "Element within rows at index 0 to 2 (excluding 2), and columns 4 to 6 (excluding 6)"
   ]
  },
  {
   "cell_type": "code",
   "execution_count": 72,
   "metadata": {},
   "outputs": [
    {
     "data": {
      "text/plain": [
       "array([[3, 2],\n",
       "       [7, 3]])"
      ]
     },
     "execution_count": 72,
     "metadata": {},
     "output_type": "execute_result"
    }
   ],
   "source": [
    "Matrix_1[0:2, 4:6]"
   ]
  },
  {
   "cell_type": "markdown",
   "metadata": {},
   "source": [
    "From Matrix_1, includes only variables that are greater than 4"
   ]
  },
  {
   "cell_type": "code",
   "execution_count": 73,
   "metadata": {},
   "outputs": [
    {
     "data": {
      "text/plain": [
       "array([5, 6, 7, 8, 7, 8, 7])"
      ]
     },
     "execution_count": 73,
     "metadata": {},
     "output_type": "execute_result"
    }
   ],
   "source": [
    "Matrix_1[Matrix_1>4]"
   ]
  },
  {
   "cell_type": "markdown",
   "metadata": {},
   "source": [
    "From Matrix_1, includes only variables that are greater than 3, and less than equal to 6"
   ]
  },
  {
   "cell_type": "code",
   "execution_count": 74,
   "metadata": {},
   "outputs": [
    {
     "data": {
      "text/plain": [
       "array([4, 5, 4, 4, 6, 4])"
      ]
     },
     "execution_count": 74,
     "metadata": {},
     "output_type": "execute_result"
    }
   ],
   "source": [
    "Matrix_1[(Matrix_1 > 3) & (Matrix_1 <= 6)] "
   ]
  },
  {
   "cell_type": "markdown",
   "metadata": {},
   "source": [
    "## Linear Algebra"
   ]
  },
  {
   "cell_type": "markdown",
   "metadata": {},
   "source": [
    "#### np.linalg(): Designed to allow efficient implementation of basic linear algebra algorithms."
   ]
  },
  {
   "cell_type": "markdown",
   "metadata": {},
   "source": [
    "Create two (3 x 3) Matrices: Matrix_A and Matrix_B"
   ]
  },
  {
   "cell_type": "code",
   "execution_count": 75,
   "metadata": {},
   "outputs": [],
   "source": [
    "Matrix_1 = np.array([[2, 4, 5], [4, 6, 7], [8, 3, 2]]) \n",
    "Matrix_2 = np.array([[1, 2, 4], [3, 5, 7], [4, 6, 7]]) "
   ]
  },
  {
   "cell_type": "markdown",
   "metadata": {},
   "source": [
    "Operation: Transpose"
   ]
  },
  {
   "cell_type": "code",
   "execution_count": 76,
   "metadata": {},
   "outputs": [
    {
     "name": "stdout",
     "output_type": "stream",
     "text": [
      " Matrix_1T = [[2 4 8]\n",
      " [4 6 3]\n",
      " [5 7 2]]\n"
     ]
    }
   ],
   "source": [
    "Matrix_1T = np.transpose(Matrix_1)\n",
    "print(f' Matrix_1T = {Matrix_1T}')"
   ]
  },
  {
   "cell_type": "markdown",
   "metadata": {},
   "source": [
    "Operation: Eigen Value"
   ]
  },
  {
   "cell_type": "code",
   "execution_count": 77,
   "metadata": {},
   "outputs": [
    {
     "name": "stdout",
     "output_type": "stream",
     "text": [
      " Eigen_Value = [13.57659974 -3.69616603  0.11956629]\n"
     ]
    }
   ],
   "source": [
    "Eigen_Value = np.linalg.eigvals(Matrix_1)\n",
    "print(f' Eigen_Value = {Eigen_Value}')"
   ]
  },
  {
   "cell_type": "markdown",
   "metadata": {},
   "source": [
    "Operation: Rank"
   ]
  },
  {
   "cell_type": "code",
   "execution_count": 78,
   "metadata": {},
   "outputs": [
    {
     "name": "stdout",
     "output_type": "stream",
     "text": [
      " Rank  = 3\n"
     ]
    }
   ],
   "source": [
    "Rank = np.linalg.matrix_rank(Matrix_1) \n",
    "print(f' Rank  = {Rank}')"
   ]
  },
  {
   "cell_type": "markdown",
   "metadata": {},
   "source": [
    "Operation: Trace (sum of diagonal)"
   ]
  },
  {
   "cell_type": "code",
   "execution_count": 79,
   "metadata": {},
   "outputs": [
    {
     "name": "stdout",
     "output_type": "stream",
     "text": [
      " Trace = 10\n"
     ]
    }
   ],
   "source": [
    "Trace = np.trace(Matrix_1)\n",
    "print(f' Trace = {Trace}')"
   ]
  },
  {
   "cell_type": "markdown",
   "metadata": {},
   "source": [
    "Operation: Determinant"
   ]
  },
  {
   "cell_type": "code",
   "execution_count": 80,
   "metadata": {},
   "outputs": [
    {
     "name": "stdout",
     "output_type": "stream",
     "text": [
      " Det = -6.000000000000011\n"
     ]
    }
   ],
   "source": [
    "Det = np.linalg.det(Matrix_1)\n",
    "print(f' Det = {Det}')"
   ]
  },
  {
   "cell_type": "markdown",
   "metadata": {},
   "source": [
    "Operation: Inverse"
   ]
  },
  {
   "cell_type": "code",
   "execution_count": 81,
   "metadata": {},
   "outputs": [
    {
     "name": "stdout",
     "output_type": "stream",
     "text": [
      " Inv = [[ 1.5        -1.16666667  0.33333333]\n",
      " [-8.          6.         -1.        ]\n",
      " [ 6.         -4.33333333  0.66666667]]\n"
     ]
    }
   ],
   "source": [
    "Inv = np.linalg.inv(Matrix_1)\n",
    "print (f' Inv = {Inv}')"
   ]
  },
  {
   "cell_type": "markdown",
   "metadata": {},
   "source": [
    "Operation: Identity Matrix (Checking Inverse Output)"
   ]
  },
  {
   "cell_type": "code",
   "execution_count": 82,
   "metadata": {},
   "outputs": [
    {
     "name": "stdout",
     "output_type": "stream",
     "text": [
      " Iden_Matrix_1 = [[ 1.00000000e+00  2.66453526e-15 -2.22044605e-16]\n",
      " [-3.55271368e-15  1.00000000e+00 -2.22044605e-16]\n",
      " [ 0.00000000e+00 -1.77635684e-15  1.00000000e+00]]\n"
     ]
    }
   ],
   "source": [
    "Iden_Matrix_1 = np.matmul(Matrix_1, Inv)\n",
    "print(f' Iden_Matrix_1 = {Iden_Matrix_1}')"
   ]
  },
  {
   "cell_type": "markdown",
   "metadata": {},
   "source": [
    "Solve for A * X = B, where A = Matrix_1, B = Matrix_2, hence X = B * Inverse (A) "
   ]
  },
  {
   "cell_type": "code",
   "execution_count": 83,
   "metadata": {},
   "outputs": [
    {
     "name": "stdout",
     "output_type": "stream",
     "text": [
      " Solve = [[-0.66666667 -0.83333333  0.16666667]\n",
      " [ 6.          8.          3.        ]\n",
      " [-4.33333333 -5.66666667 -1.66666667]]\n"
     ]
    }
   ],
   "source": [
    "Solve = np.linalg.solve(Matrix_1, Matrix_2)\n",
    "print(f' Solve = {Solve}')"
   ]
  },
  {
   "cell_type": "markdown",
   "metadata": {},
   "source": [
    "Use Solve to obtain Matrix_2, from previous solution and Matrix_1"
   ]
  },
  {
   "cell_type": "code",
   "execution_count": 84,
   "metadata": {},
   "outputs": [
    {
     "name": "stdout",
     "output_type": "stream",
     "text": [
      " Matrix_2_Solve = [[1. 2. 4.]\n",
      " [3. 5. 7.]\n",
      " [4. 6. 7.]]\n"
     ]
    }
   ],
   "source": [
    "Matrix_2_Solve = np.matmul(Matrix_1, Solve)\n",
    "print(f' Matrix_2_Solve = {Matrix_2_Solve}')"
   ]
  },
  {
   "cell_type": "markdown",
   "metadata": {},
   "source": [
    "Operation: Inner Product "
   ]
  },
  {
   "cell_type": "code",
   "execution_count": 85,
   "metadata": {},
   "outputs": [
    {
     "name": "stdout",
     "output_type": "stream",
     "text": [
      " Inner_Product = [[ 30  61  67]\n",
      " [ 44  91 101]\n",
      " [ 22  53  64]]\n"
     ]
    }
   ],
   "source": [
    "Inner_Product = np.inner(Matrix_1, Matrix_2)\n",
    "print(f' Inner_Product = {Inner_Product}')"
   ]
  },
  {
   "cell_type": "markdown",
   "metadata": {},
   "source": [
    "Operation: Outer Product"
   ]
  },
  {
   "cell_type": "code",
   "execution_count": 86,
   "metadata": {},
   "outputs": [
    {
     "name": "stdout",
     "output_type": "stream",
     "text": [
      " Outer_Product = [[ 2  4  8  6 10 14  8 12 14]\n",
      " [ 4  8 16 12 20 28 16 24 28]\n",
      " [ 5 10 20 15 25 35 20 30 35]\n",
      " [ 4  8 16 12 20 28 16 24 28]\n",
      " [ 6 12 24 18 30 42 24 36 42]\n",
      " [ 7 14 28 21 35 49 28 42 49]\n",
      " [ 8 16 32 24 40 56 32 48 56]\n",
      " [ 3  6 12  9 15 21 12 18 21]\n",
      " [ 2  4  8  6 10 14  8 12 14]]\n"
     ]
    }
   ],
   "source": [
    "Outer_Product = np.outer(Matrix_1, Matrix_2)\n",
    "print(f' Outer_Product = {Outer_Product}')"
   ]
  }
 ],
 "metadata": {
  "kernelspec": {
   "display_name": "TF-GPU",
   "language": "python",
   "name": "python3"
  },
  "language_info": {
   "codemirror_mode": {
    "name": "ipython",
    "version": 3
   },
   "file_extension": ".py",
   "mimetype": "text/x-python",
   "name": "python",
   "nbconvert_exporter": "python",
   "pygments_lexer": "ipython3",
   "version": "3.9.12"
  }
 },
 "nbformat": 4,
 "nbformat_minor": 2
}
