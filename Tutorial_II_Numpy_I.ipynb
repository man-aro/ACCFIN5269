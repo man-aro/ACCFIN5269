{
 "cells": [
  {
   "cell_type": "code",
   "execution_count": 303,
   "metadata": {},
   "outputs": [],
   "source": [
    "\n",
    "import numpy as np\n"
   ]
  },
  {
   "cell_type": "markdown",
   "metadata": {},
   "source": [
    "## Basic Array Operations\n",
    "Basic operations using Lists are non-efficient (require loops), as vectorised operations are not supported.\n",
    "Arrays allow for vectorised operations, however, they are not mutuable. "
   ]
  },
  {
   "cell_type": "markdown",
   "metadata": {},
   "source": [
    "### Creating Arrays\n"
   ]
  },
  {
   "cell_type": "markdown",
   "metadata": {},
   "source": [
    "#### Step I: Create a List\n",
    "In the example below, two lists (A and B) are created."
   ]
  },
  {
   "cell_type": "code",
   "execution_count": 304,
   "metadata": {},
   "outputs": [
    {
     "name": "stdout",
     "output_type": "stream",
     "text": [
      "A = [4, 5, 6]\n",
      "B = [1, 2, 3]\n"
     ]
    }
   ],
   "source": [
    "A = [4, 5, 6]\n",
    "B = [1, 2, 3]\n",
    "print(f'A = {A}\\nB = {B}')"
   ]
  },
  {
   "cell_type": "markdown",
   "metadata": {},
   "source": [
    "Lists do not support vectorised operations, placing the '+' operator would join them, rather than conducting an additive operation."
   ]
  },
  {
   "cell_type": "code",
   "execution_count": 305,
   "metadata": {},
   "outputs": [
    {
     "name": "stdout",
     "output_type": "stream",
     "text": [
      "C = [4, 5, 6, 1, 2, 3]\n"
     ]
    }
   ],
   "source": [
    "C = A + B\n",
    "print (f'C = {C}')"
   ]
  },
  {
   "cell_type": "markdown",
   "metadata": {},
   "source": [
    "#### Step 2: Call the 'array' function from Numpy using np.array()"
   ]
  },
  {
   "cell_type": "markdown",
   "metadata": {},
   "source": [
    "Convert both Lists into Arrays"
   ]
  },
  {
   "cell_type": "code",
   "execution_count": 306,
   "metadata": {},
   "outputs": [
    {
     "name": "stdout",
     "output_type": "stream",
     "text": [
      "Array_A = [4 5 6]\n",
      "Array_B = [1 2 3]\n"
     ]
    }
   ],
   "source": [
    "Array_A = np.array(A)  #call 'array' function from numpy \n",
    "Array_B = np.array(B)\n",
    "\n",
    "print(f'Array_A = {Array_A}\\nArray_B = {Array_B}')"
   ]
  },
  {
   "cell_type": "markdown",
   "metadata": {},
   "source": [
    "#### Step 3: Conduct Operation of Choice"
   ]
  },
  {
   "cell_type": "markdown",
   "metadata": {},
   "source": [
    "Operation: Addition "
   ]
  },
  {
   "cell_type": "code",
   "execution_count": 307,
   "metadata": {},
   "outputs": [
    {
     "name": "stdout",
     "output_type": "stream",
     "text": [
      "Add = [5 7 9]\n"
     ]
    }
   ],
   "source": [
    "Add = Array_A + Array_B\n",
    "\n",
    "print(f'Add = {Add}')"
   ]
  },
  {
   "cell_type": "markdown",
   "metadata": {},
   "source": [
    "Operation: Subtraction"
   ]
  },
  {
   "cell_type": "code",
   "execution_count": 308,
   "metadata": {},
   "outputs": [
    {
     "name": "stdout",
     "output_type": "stream",
     "text": [
      "Subtract = [3 3 3]\n"
     ]
    }
   ],
   "source": [
    "Subtract = Array_A - Array_B \n",
    "print(f'Subtract = {Subtract}')"
   ]
  },
  {
   "cell_type": "markdown",
   "metadata": {},
   "source": [
    "Operation: Multiplication"
   ]
  },
  {
   "cell_type": "code",
   "execution_count": 309,
   "metadata": {},
   "outputs": [
    {
     "name": "stdout",
     "output_type": "stream",
     "text": [
      "Multiply = [ 4 10 18]\n"
     ]
    }
   ],
   "source": [
    "Multiply = Array_A * Array_B\n",
    "print(f'Multiply = {Multiply}')"
   ]
  },
  {
   "cell_type": "markdown",
   "metadata": {},
   "source": [
    "Operation: Division"
   ]
  },
  {
   "cell_type": "code",
   "execution_count": 310,
   "metadata": {},
   "outputs": [
    {
     "name": "stdout",
     "output_type": "stream",
     "text": [
      "Divide = [4.  2.5 2. ]\n"
     ]
    }
   ],
   "source": [
    "Divide = Array_A / Array_B\n",
    "print(f'Divide = {Divide}')"
   ]
  },
  {
   "cell_type": "markdown",
   "metadata": {},
   "source": [
    "Operation: Floor Division"
   ]
  },
  {
   "cell_type": "code",
   "execution_count": 311,
   "metadata": {},
   "outputs": [
    {
     "name": "stdout",
     "output_type": "stream",
     "text": [
      "Floor_Div = [4 2 2]\n"
     ]
    }
   ],
   "source": [
    "Floor_Div = Array_A//Array_B\n",
    "print(f'Floor_Div = {Floor_Div}')"
   ]
  },
  {
   "cell_type": "markdown",
   "metadata": {},
   "source": [
    "Operation: Modulo"
   ]
  },
  {
   "cell_type": "code",
   "execution_count": 312,
   "metadata": {},
   "outputs": [
    {
     "name": "stdout",
     "output_type": "stream",
     "text": [
      "Modulo = [0 1 0]\n"
     ]
    }
   ],
   "source": [
    "Modulo = Array_A % Array_B\n",
    "print(f'Modulo = {Modulo}')"
   ]
  },
  {
   "cell_type": "markdown",
   "metadata": {},
   "source": [
    "Operation: Power"
   ]
  },
  {
   "cell_type": "code",
   "execution_count": 313,
   "metadata": {},
   "outputs": [
    {
     "name": "stdout",
     "output_type": "stream",
     "text": [
      "Power = [  4  25 216]\n"
     ]
    }
   ],
   "source": [
    "Power = Array_A ** Array_B\n",
    "print(f'Power = {Power}')"
   ]
  },
  {
   "cell_type": "markdown",
   "metadata": {},
   "source": [
    "## Indexing and Slicing Arrays"
   ]
  },
  {
   "cell_type": "markdown",
   "metadata": {},
   "source": [
    "Create an Array using the arange function: Similar to  np.array(range(n)), for n being an integer."
   ]
  },
  {
   "cell_type": "code",
   "execution_count": 314,
   "metadata": {},
   "outputs": [
    {
     "name": "stdout",
     "output_type": "stream",
     "text": [
      "Array = [ 0  1  2  3  4  5  6  7  8  9 10 11 12 13 14 15 16 17 18 19 20 21 22 23\n",
      " 24 25 26 27 28 29 30 31 32 33 34 35 36 37 38 39 40 41 42 43 44 45 46 47\n",
      " 48 49 50 51 52 53 54 55 56 57 58 59 60 61 62 63 64 65 66 67 68 69 70 71\n",
      " 72 73 74 75 76 77 78 79 80 81 82 83 84 85 86 87 88 89 90 91 92 93 94 95\n",
      " 96 97 98 99]\n"
     ]
    }
   ],
   "source": [
    "Array = np.arange(0,100)\n",
    "print(f'Array = {Array}')"
   ]
  },
  {
   "cell_type": "markdown",
   "metadata": {},
   "source": [
    "Elements corresponding with index 1 to 10."
   ]
  },
  {
   "cell_type": "code",
   "execution_count": 315,
   "metadata": {},
   "outputs": [
    {
     "data": {
      "text/plain": [
       "array([1, 2, 3, 4, 5, 6, 7, 8, 9])"
      ]
     },
     "execution_count": 315,
     "metadata": {},
     "output_type": "execute_result"
    }
   ],
   "source": [
    "Array[1:10]"
   ]
  },
  {
   "cell_type": "markdown",
   "metadata": {},
   "source": [
    "Elements corresponding with index 1 to 50, at increments of 10."
   ]
  },
  {
   "cell_type": "code",
   "execution_count": 316,
   "metadata": {},
   "outputs": [
    {
     "data": {
      "text/plain": [
       "array([ 1, 11, 21, 31, 41])"
      ]
     },
     "execution_count": 316,
     "metadata": {},
     "output_type": "execute_result"
    }
   ],
   "source": [
    "Array[1:50:10]"
   ]
  },
  {
   "cell_type": "markdown",
   "metadata": {},
   "source": [
    "Addition (or any basic operation) with Slicing: Make sure both arrays have the same dimensions (check using .shape)."
   ]
  },
  {
   "cell_type": "code",
   "execution_count": 317,
   "metadata": {},
   "outputs": [
    {
     "name": "stdout",
     "output_type": "stream",
     "text": [
      " Array_1 = [ 1  2  3  4  5  6  7  8  9 10 11 12 13 14 15 16 17 18 19 20 21 22 23 24\n",
      " 25 26 27 28 29 30 31 32 33 34 35 36 37 38 39], Shape = (39,)\n",
      "\n",
      " Array_2  = [41 42 43 44 45 46 47 48 49 50 51 52 53 54 55 56 57 58 59 60 61 62 63 64\n",
      " 65 66 67 68 69 70 71 72 73 74 75 76 77 78 79], Shape = (39,)\n"
     ]
    }
   ],
   "source": [
    "Array_1 = Array[1:40]\n",
    "Array_2 = Array[41:80]\n",
    "\n",
    "Shape_1 = Array_1.shape\n",
    "Shape_2 = Array_2.shape\n",
    "\n",
    "print(f' Array_1 = {Array_1}, Shape = {Shape_1}\\n\\n Array_2  = {Array_2}, Shape = {Shape_2}')"
   ]
  },
  {
   "cell_type": "code",
   "execution_count": 318,
   "metadata": {},
   "outputs": [
    {
     "name": "stdout",
     "output_type": "stream",
     "text": [
      " Array_sum = [ 42  44  46  48  50  52  54  56  58  60  62  64  66  68  70  72  74  76\n",
      "  78  80  82  84  86  88  90  92  94  96  98 100 102 104 106 108 110 112\n",
      " 114 116 118], Shape = (39,)\n"
     ]
    }
   ],
   "source": [
    "Array_sum = Array_1 + Array_2\n",
    "Array_sum_shape = Array_sum.shape\n",
    "\n",
    "print(f' Array_sum = {Array_sum}, Shape = {Array_sum_shape}')"
   ]
  }
 ],
 "metadata": {
  "kernelspec": {
   "display_name": "TF-GPU",
   "language": "python",
   "name": "python3"
  },
  "language_info": {
   "codemirror_mode": {
    "name": "ipython",
    "version": 3
   },
   "file_extension": ".py",
   "mimetype": "text/x-python",
   "name": "python",
   "nbconvert_exporter": "python",
   "pygments_lexer": "ipython3",
   "version": "3.9.12"
  }
 },
 "nbformat": 4,
 "nbformat_minor": 2
}
